{
 "cells": [
  {
   "cell_type": "markdown",
   "metadata": {},
   "source": [
    "#### Import"
   ]
  },
  {
   "cell_type": "code",
   "execution_count": 1,
   "metadata": {
    "ExecuteTime": {
     "end_time": "2021-03-08T20:02:13.792349Z",
     "start_time": "2021-03-08T20:02:13.492597Z"
    }
   },
   "outputs": [],
   "source": [
    "import numpy as np\n",
    "import matplotlib.pyplot as plt"
   ]
  },
  {
   "cell_type": "code",
   "execution_count": 2,
   "metadata": {
    "ExecuteTime": {
     "end_time": "2021-03-08T20:02:16.057996Z",
     "start_time": "2021-03-08T20:02:14.202706Z"
    }
   },
   "outputs": [
    {
     "name": "stderr",
     "output_type": "stream",
     "text": [
      "Using TensorFlow backend.\n",
      "/opt/anaconda3/envs/shared_env/lib/python3.6/site-packages/tensorflow/python/framework/dtypes.py:523: FutureWarning: Passing (type, 1) or '1type' as a synonym of type is deprecated; in a future version of numpy, it will be understood as (type, (1,)) / '(1,)type'.\n",
      "  _np_qint8 = np.dtype([(\"qint8\", np.int8, 1)])\n",
      "/opt/anaconda3/envs/shared_env/lib/python3.6/site-packages/tensorflow/python/framework/dtypes.py:524: FutureWarning: Passing (type, 1) or '1type' as a synonym of type is deprecated; in a future version of numpy, it will be understood as (type, (1,)) / '(1,)type'.\n",
      "  _np_quint8 = np.dtype([(\"quint8\", np.uint8, 1)])\n",
      "/opt/anaconda3/envs/shared_env/lib/python3.6/site-packages/tensorflow/python/framework/dtypes.py:525: FutureWarning: Passing (type, 1) or '1type' as a synonym of type is deprecated; in a future version of numpy, it will be understood as (type, (1,)) / '(1,)type'.\n",
      "  _np_qint16 = np.dtype([(\"qint16\", np.int16, 1)])\n",
      "/opt/anaconda3/envs/shared_env/lib/python3.6/site-packages/tensorflow/python/framework/dtypes.py:526: FutureWarning: Passing (type, 1) or '1type' as a synonym of type is deprecated; in a future version of numpy, it will be understood as (type, (1,)) / '(1,)type'.\n",
      "  _np_quint16 = np.dtype([(\"quint16\", np.uint16, 1)])\n",
      "/opt/anaconda3/envs/shared_env/lib/python3.6/site-packages/tensorflow/python/framework/dtypes.py:527: FutureWarning: Passing (type, 1) or '1type' as a synonym of type is deprecated; in a future version of numpy, it will be understood as (type, (1,)) / '(1,)type'.\n",
      "  _np_qint32 = np.dtype([(\"qint32\", np.int32, 1)])\n",
      "/opt/anaconda3/envs/shared_env/lib/python3.6/site-packages/tensorflow/python/framework/dtypes.py:532: FutureWarning: Passing (type, 1) or '1type' as a synonym of type is deprecated; in a future version of numpy, it will be understood as (type, (1,)) / '(1,)type'.\n",
      "  np_resource = np.dtype([(\"resource\", np.ubyte, 1)])\n"
     ]
    }
   ],
   "source": [
    "import energyflow as ef\n",
    "from energyflow.archs import PFN\n",
    "from energyflow.datasets import qg_jets\n",
    "from energyflow.utils import data_split, remap_pids, to_categorical\n",
    "from sklearn.metrics import roc_auc_score, roc_curve, accuracy_score\n"
   ]
  },
  {
   "cell_type": "code",
   "execution_count": 16,
   "metadata": {
    "ExecuteTime": {
     "end_time": "2021-03-08T20:08:20.825019Z",
     "start_time": "2021-03-08T20:08:20.821045Z"
    }
   },
   "outputs": [],
   "source": [
    "from sklearn.utils import shuffle\n",
    "import math\n",
    "import sklearn"
   ]
  },
  {
   "cell_type": "markdown",
   "metadata": {},
   "source": [
    "#### Data preprocessing and mixing"
   ]
  },
  {
   "cell_type": "code",
   "execution_count": 4,
   "metadata": {
    "ExecuteTime": {
     "end_time": "2021-03-08T20:03:07.962345Z",
     "start_time": "2021-03-08T20:02:58.223954Z"
    }
   },
   "outputs": [],
   "source": [
    "\"\"\"\n",
    "Load Data\n",
    "\"\"\"\n",
    "X_sig_path = \"special/X_sg.npy\"\n",
    "X_bg_path = \"special/X_bg_noZ.npy\"\n",
    "X_sig = np.load(X_sig_path)\n",
    "X_bg = np.load(X_bg_path)"
   ]
  },
  {
   "cell_type": "code",
   "execution_count": 5,
   "metadata": {
    "ExecuteTime": {
     "end_time": "2021-03-08T20:05:32.334803Z",
     "start_time": "2021-03-08T20:05:32.329461Z"
    }
   },
   "outputs": [
    {
     "name": "stdout",
     "output_type": "stream",
     "text": [
      "(98390, 282, 4)\n",
      "(607969, 282, 4)\n"
     ]
    }
   ],
   "source": [
    "print(X_sig.shape)\n",
    "print(X_bg.shape)"
   ]
  },
  {
   "cell_type": "code",
   "execution_count": 6,
   "metadata": {
    "ExecuteTime": {
     "end_time": "2021-03-08T20:06:37.005183Z",
     "start_time": "2021-03-08T20:06:30.755565Z"
    }
   },
   "outputs": [
    {
     "data": {
      "text/plain": [
       "(706359, 282, 4)"
      ]
     },
     "execution_count": 6,
     "metadata": {},
     "output_type": "execute_result"
    }
   ],
   "source": [
    "np.vstack((X_bg, X_sig)).shape"
   ]
  },
  {
   "cell_type": "code",
   "execution_count": 29,
   "metadata": {
    "ExecuteTime": {
     "end_time": "2021-03-08T20:47:22.269236Z",
     "start_time": "2021-03-08T20:47:22.237978Z"
    },
    "code_folding": []
   },
   "outputs": [],
   "source": [
    "def prep_and_shufflesplit_data_modified(X_bg, X_sig, ratio, shuffle_seed = 69,\n",
    "                                val = 0.3, test = 0.2, \n",
    "                               use_pid = True, normalize_all = True):\n",
    "    \n",
    "    \"\"\"\n",
    "    Pre-Data Selection\n",
    "    \"\"\"\n",
    "        \n",
    "    size = X_bg.shape[0]\n",
    "    \n",
    "        \n",
    "    \"\"\"\n",
    "    Data Selection\n",
    "    \"\"\"\n",
    "    \n",
    "    # Shuffle before anything else\n",
    "    this_X_bg = shuffle(X_bg, random_state = shuffle_seed)\n",
    "    this_X_sig = shuffle(X_sig, random_state = shuffle_seed)[:size]\n",
    "    \n",
    "    # Split between training(incl val) and test\n",
    "    \n",
    "    val_num = int(math.floor(size * val))\n",
    "    test_num = int(math.floor(size * test))\n",
    "    train_num = size - val_num - test_num\n",
    "    \n",
    "    X_bg_tr, X_bg_v, X_bg_te = data_split(this_X_bg, val = val, test = test)\n",
    "    X_sig_tr, X_sig_v, X_sig_te = data_split(this_X_sig, val = val, test = test)\n",
    "    \n",
    " \n",
    "    \n",
    "    # select 'positive' half\n",
    "        #training\n",
    "    \n",
    "    num_allpos = int(X_bg_tr.shape[0]/2)\n",
    "    num_realpos = int(math.floor(num_allpos * ratio))\n",
    "    num_fakepos = num_allpos - num_realpos\n",
    "    print('training')\n",
    "    print(num_realpos)\n",
    "    print(num_fakepos)\n",
    "    \n",
    "    pos_X_tr = np.vstack((X_bg_tr[:num_fakepos], X_sig_tr[:num_realpos]))\n",
    "    pos_y_tr = np.ones(pos_X_tr.shape[0])\n",
    "    # select 'negative' half\n",
    "    #training\n",
    "    neg_X_tr = X_bg_tr[num_allpos:]\n",
    "    neg_y_tr = np.zeros(neg_X_tr.shape[0])\n",
    "    \n",
    "    #mix the training set\n",
    "    X_tr = np.vstack((pos_X_tr, neg_X_tr))\n",
    "    y_tr = np.hstack((pos_y_tr, neg_y_tr))\n",
    "    X_tr, y_tr = shuffle(X_tr, y_tr, random_state = shuffle_seed)\n",
    "    \n",
    "    \n",
    "    \n",
    "     # select 'positive' half\n",
    "        #validation\n",
    "    num_allpos = int(X_bg_v.shape[0]/2)\n",
    "    num_realpos = int(math.floor(num_allpos * ratio))\n",
    "    num_fakepos = num_allpos - num_realpos\n",
    "    print('validation')\n",
    "    print(num_realpos)\n",
    "    print(num_fakepos)\n",
    "    \n",
    "    pos_X_v = np.vstack((X_bg_v[:num_fakepos], X_sig_v[:num_realpos]))\n",
    "    pos_y_v = np.ones(pos_X_v.shape[0])\n",
    "    \n",
    "    # select 'negative' half\n",
    "    # validation\n",
    "    neg_X_v = X_bg_v[num_allpos:]\n",
    "    neg_y_v = np.zeros(neg_X_v.shape[0])\n",
    "\n",
    "        #mix the validation set\n",
    "    X_v = np.vstack((pos_X_v, neg_X_v))\n",
    "    y_v = np.hstack((pos_y_v, neg_y_v))\n",
    "    X_v, y_v = shuffle(X_v, y_v, random_state = shuffle_seed)\n",
    "    \n",
    "    #create and mix the test set\n",
    "    \n",
    "    test_each_len = min([X_bg_te.shape[0], X_sig_te.shape[0]])\n",
    "    X_te = np.vstack((X_bg_te[:test_each_len], X_sig_te[:test_each_len]))\n",
    "    y_te = np.hstack((np.zeros(test_each_len), np.ones(test_each_len)))\n",
    "    X_te, y_te = shuffle(X_te, y_te, random_state = shuffle_seed)\n",
    "    \n",
    "    print('test')\n",
    "    print(test_each_len)\n",
    "    \n",
    "    X_train, X_val, X_test, y_train, y_val, y_test \\\n",
    "    = X_tr, X_v, X_te, y_tr, y_v, y_te\n",
    "    \n",
    "    \"\"\"\n",
    "    Data processing\n",
    "    \"\"\"\n",
    "    \n",
    "    \n",
    "    # Centre and normalize all the Xs\n",
    "    for x in X_train:\n",
    "        mask = x[:,0] > 0\n",
    "        yphi_avg = np.average(x[mask,1:3], weights=x[mask,0], axis=0)\n",
    "        x[mask,1:3] -= yphi_avg\n",
    "        x[mask,0] /= x[:,0].sum()\n",
    "        if normalize_all:\n",
    "            x /= np.sum(x)\n",
    "        \n",
    "    for x in X_val:\n",
    "        mask = x[:,0] > 0\n",
    "        yphi_avg = np.average(x[mask,1:3], weights=x[mask,0], axis=0)\n",
    "        x[mask,1:3] -= yphi_avg\n",
    "        x[mask,0] /= x[:,0].sum()\n",
    "        if normalize_all:\n",
    "            x /= np.sum(x)\n",
    "        \n",
    "    for x in X_test:\n",
    "        mask = x[:,0] > 0\n",
    "        yphi_avg = np.average(x[mask,1:3], weights=x[mask,0], axis=0)\n",
    "        x[mask,1:3] -= yphi_avg\n",
    "        x[mask,0] /= x[:,0].sum()\n",
    "        if normalize_all:\n",
    "            x /= np.sum(x)\n",
    "        \n",
    "    \n",
    "    if use_pid:\n",
    "        # remap PIDs for all the Xs\n",
    "        remap_pids(X_train, pid_i=3)\n",
    "        remap_pids(X_val, pid_i=3)\n",
    "        remap_pids(X_test, pid_i=3)\n",
    "    else:\n",
    "        X_train = X_train[:,:,:3]\n",
    "        X_val = X_val[:,:,:3]\n",
    "        X_test = X_test[:,:,:3]\n",
    "    \n",
    "    # change Y to categorical Matrix\n",
    "    Y_train = to_categorical(y_train, num_classes=2)\n",
    "    Y_val = to_categorical(y_val, num_classes=2)\n",
    "    Y_test = to_categorical(y_test, num_classes=2)\n",
    "    \n",
    "    print('Training set size, distribution:')\n",
    "    print(X_train.shape)\n",
    "    print(np.unique(y_train,return_counts = True))\n",
    "    print('Validations set size, distribution:')\n",
    "    print(X_val.shape)\n",
    "    print(np.unique(y_val,return_counts = True))\n",
    "    print('Test set size, distribution:')\n",
    "    print(X_test.shape)\n",
    "    print(np.unique(y_test,return_counts = True))\n",
    "    \n",
    "    return X_train, X_val, X_test, Y_train,Y_val,Y_test"
   ]
  },
  {
   "cell_type": "markdown",
   "metadata": {
    "heading_collapsed": true
   },
   "source": [
    "#### Model definition"
   ]
  },
  {
   "cell_type": "code",
   "execution_count": 8,
   "metadata": {
    "ExecuteTime": {
     "end_time": "2021-03-08T20:07:27.992562Z",
     "start_time": "2021-03-08T20:07:27.987670Z"
    },
    "hidden": true
   },
   "outputs": [],
   "source": [
    "Phi_sizes, F_sizes = (20, 20, 20), (20,20,20)\n",
    "num_epoch = 3\n",
    "num_cycles = 3\n",
    "batch_size = 100"
   ]
  },
  {
   "cell_type": "code",
   "execution_count": 9,
   "metadata": {
    "ExecuteTime": {
     "end_time": "2021-03-08T20:07:30.960595Z",
     "start_time": "2021-03-08T20:07:30.956909Z"
    },
    "hidden": true
   },
   "outputs": [],
   "source": [
    "import keras"
   ]
  },
  {
   "cell_type": "code",
   "execution_count": 10,
   "metadata": {
    "ExecuteTime": {
     "end_time": "2021-03-08T20:07:31.653161Z",
     "start_time": "2021-03-08T20:07:31.649491Z"
    },
    "hidden": true
   },
   "outputs": [],
   "source": [
    "import tensorflow as tf"
   ]
  },
  {
   "cell_type": "code",
   "execution_count": 11,
   "metadata": {
    "ExecuteTime": {
     "end_time": "2021-03-08T20:07:45.843410Z",
     "start_time": "2021-03-08T20:07:45.827396Z"
    },
    "hidden": true
   },
   "outputs": [],
   "source": [
    "def train_model(X_train, X_val, X_test, Y_train,Y_val,Y_test):\n",
    "    model = PFN(input_dim=X_train.shape[-1], Phi_sizes=Phi_sizes, F_sizes=F_sizes)\n",
    "    histories = []\n",
    "    Y_predicts = []\n",
    "    for cycle in range(num_cycles):\n",
    "        print('----')\n",
    "        print('Beginning cycle ' + str(cycle))\n",
    "        history = model.fit(X_train, Y_train,\n",
    "              epochs=num_epoch,\n",
    "              batch_size=batch_size,\n",
    "              validation_data=(X_val, Y_val),\n",
    "              verbose=1)\n",
    "        Y_predict = model.predict(X_test)\n",
    "        histories.append(history)\n",
    "        Y_predicts.append(Y_predict)\n",
    "    \n",
    "    return (histories, Y_test, Y_predicts, model)\n",
    "\n",
    "def train_model_rate(X_train, X_val, X_test, Y_train,Y_val,Y_test, rate):\n",
    "    model = PFN(input_dim=X_train.shape[-1], Phi_sizes=Phi_sizes, F_sizes=F_sizes, optimizer=keras.optimizers.Adam(lr=rate))\n",
    "    histories = []\n",
    "    Y_predicts = []\n",
    "    for cycle in range(num_cycles):\n",
    "        print('----')\n",
    "        print('Beginning cycle ' + str(cycle))\n",
    "        history = model.fit(X_train, Y_train,\n",
    "              epochs=num_epoch,\n",
    "              batch_size=batch_size,\n",
    "              validation_data=(X_val, Y_val),\n",
    "              verbose=1)\n",
    "        Y_predict = model.predict(X_test)\n",
    "        histories.append(history)\n",
    "        Y_predicts.append(Y_predict)\n",
    "    \n",
    "    return (histories, Y_test, Y_predicts, model)"
   ]
  },
  {
   "cell_type": "code",
   "execution_count": 12,
   "metadata": {
    "ExecuteTime": {
     "end_time": "2021-03-08T20:07:46.183882Z",
     "start_time": "2021-03-08T20:07:46.172868Z"
    },
    "code_folding": [],
    "hidden": true
   },
   "outputs": [],
   "source": [
    "def evaluate_model(histories, Y_test, Y_predicts):\n",
    "    fine_index = list(range(num_epoch * num_cycles))\n",
    "    rough_index = list(range(num_epoch - 1, num_epoch * num_cycles, num_epoch))\n",
    "    train_acc = []\n",
    "    val_acc = []\n",
    "    for h in histories:\n",
    "        curr_train_acc = h.history['acc']\n",
    "        curr_val_acc = h.history['val_acc']\n",
    "        train_acc.extend(curr_train_acc)\n",
    "        val_acc.extend(curr_val_acc)\n",
    "\n",
    "\n",
    "    medians = []\n",
    "    test_acc = []\n",
    "    for Y_pred in Y_predicts:\n",
    "        medians.append(np.median(Y_pred[:,1:]))\n",
    "        curr_acc = accuracy_score(Y_test[:,1:], (Y_pred[:,1:]*2).astype(int))\n",
    "        test_acc.append(curr_acc)\n",
    "\n",
    "    fig = plt.figure(figsize = (8,6))\n",
    "    ax = fig.add_subplot(1, 1, 1)\n",
    "    ax.plot(fine_index, train_acc, label = 'train_acc', color='tab:blue')\n",
    "    ax.plot(fine_index, val_acc, label = 'val_acc', color='tab:orange')\n",
    "    #ax.plot(rough_index, medians, marker = '.', label = 'median', color = 'green')\n",
    "    ax.plot(rough_index, test_acc, marker = '.',linestyle = ':',label = 'test_acc', color = 'red')\n",
    "    ax.legend()\n",
    "    ax.set_xlim([0, num_epoch * num_cycles])\n",
    "\n",
    "    ax.set_title('line plot with data points')\n",
    "\n",
    "    # display the plot\n",
    "    plt.show()"
   ]
  },
  {
   "cell_type": "code",
   "execution_count": 13,
   "metadata": {
    "ExecuteTime": {
     "end_time": "2021-03-08T20:07:46.619529Z",
     "start_time": "2021-03-08T20:07:46.610261Z"
    },
    "hidden": true
   },
   "outputs": [],
   "source": [
    "def final_evaluation(Y_test, Y_predicts):\n",
    "    cyc = 0\n",
    "    for Y_predict in Y_predicts:\n",
    "#         print('cycle: ' + str(cyc))\n",
    "        roc_curve = sklearn.metrics.roc_curve(Y_test[:,1:], Y_predict[:,1:])\n",
    "        plt.figure(figsize=(6,4))\n",
    "        plt.plot(roc_curve[0],roc_curve[1])\n",
    "#         print(roc_curve)\n",
    "\n",
    "        plt.xlabel('fpr')\n",
    "        plt.ylabel('tpr')\n",
    "        plt.title('ROC curve')\n",
    "        plt.show()\n",
    "        \n",
    "        plt.figure(figsize=(6,4))\n",
    "        plt.plot(roc_curve[1],roc_curve[1]/roc_curve[0]**0.5)\n",
    "#         print(roc_curve[1])\n",
    "        plt.xlabel('tpr')\n",
    "        plt.ylabel('tpr/fpr**0.5')\n",
    "        plt.title('Other curve thing')\n",
    "        plt.show()\n",
    "        cyc += 1"
   ]
  },
  {
   "cell_type": "markdown",
   "metadata": {},
   "source": [
    "### Execution"
   ]
  },
  {
   "cell_type": "markdown",
   "metadata": {
    "heading_collapsed": true
   },
   "source": [
    "#### zero sig"
   ]
  },
  {
   "cell_type": "code",
   "execution_count": 24,
   "metadata": {
    "ExecuteTime": {
     "end_time": "2021-01-29T09:52:35.011011Z",
     "start_time": "2021-01-29T09:52:22.358455Z"
    },
    "hidden": true
   },
   "outputs": [
    {
     "name": "stdout",
     "output_type": "stream",
     "text": [
      "training\n",
      "0\n",
      "10333\n",
      "validation\n",
      "0\n",
      "6199\n",
      "Training set size, distribution:\n",
      "(20666, 282, 4)\n",
      "(array([0., 1.]), array([10333, 10333]))\n",
      "Validations set size, distribution:\n",
      "(12398, 282, 4)\n",
      "(array([0., 1.]), array([6199, 6199]))\n",
      "Test set size, distribution:\n",
      "(8265, 282, 4)\n",
      "(array([0., 1.]), array([8183,   82]))\n"
     ]
    }
   ],
   "source": [
    "X_train, X_val, X_test, Y_train,Y_val,Y_test = prep_and_shufflesplit_data_modified(X_bg, X_sig, 0)"
   ]
  },
  {
   "cell_type": "code",
   "execution_count": 25,
   "metadata": {
    "ExecuteTime": {
     "end_time": "2021-01-29T09:54:43.903200Z",
     "start_time": "2021-01-29T09:53:36.107117Z"
    },
    "hidden": true
   },
   "outputs": [
    {
     "name": "stdout",
     "output_type": "stream",
     "text": [
      "__________________________________________________________________________________________________\n",
      "Layer (type)                    Output Shape         Param #     Connected to                     \n",
      "==================================================================================================\n",
      "input (InputLayer)              (None, None, 4)      0                                            \n",
      "__________________________________________________________________________________________________\n",
      "tdist_0 (TimeDistributed)       (None, None, 80)     400         input[0][0]                      \n",
      "__________________________________________________________________________________________________\n",
      "activation_1 (Activation)       (None, None, 80)     0           tdist_0[0][0]                    \n",
      "__________________________________________________________________________________________________\n",
      "tdist_1 (TimeDistributed)       (None, None, 40)     3240        activation_1[0][0]               \n",
      "__________________________________________________________________________________________________\n",
      "activation_2 (Activation)       (None, None, 40)     0           tdist_1[0][0]                    \n",
      "__________________________________________________________________________________________________\n",
      "tdist_2 (TimeDistributed)       (None, None, 20)     820         activation_2[0][0]               \n",
      "__________________________________________________________________________________________________\n",
      "mask (Lambda)                   (None, None)         0           input[0][0]                      \n",
      "__________________________________________________________________________________________________\n",
      "activation_3 (Activation)       (None, None, 20)     0           tdist_2[0][0]                    \n",
      "__________________________________________________________________________________________________\n",
      "sum (Dot)                       (None, 20)           0           mask[0][0]                       \n",
      "                                                                 activation_3[0][0]               \n",
      "__________________________________________________________________________________________________\n",
      "dense_0 (Dense)                 (None, 20)           420         sum[0][0]                        \n",
      "__________________________________________________________________________________________________\n",
      "activation_4 (Activation)       (None, 20)           0           dense_0[0][0]                    \n",
      "__________________________________________________________________________________________________\n",
      "dense_1 (Dense)                 (None, 20)           420         activation_4[0][0]               \n",
      "__________________________________________________________________________________________________\n",
      "activation_5 (Activation)       (None, 20)           0           dense_1[0][0]                    \n",
      "__________________________________________________________________________________________________\n",
      "dense_2 (Dense)                 (None, 20)           420         activation_5[0][0]               \n",
      "__________________________________________________________________________________________________\n",
      "activation_6 (Activation)       (None, 20)           0           dense_2[0][0]                    \n",
      "__________________________________________________________________________________________________\n",
      "output (Dense)                  (None, 2)            42          activation_6[0][0]               \n",
      "__________________________________________________________________________________________________\n",
      "activation_7 (Activation)       (None, 2)            0           output[0][0]                     \n",
      "==================================================================================================\n",
      "Total params: 5,762\n",
      "Trainable params: 5,762\n",
      "Non-trainable params: 0\n",
      "__________________________________________________________________________________________________\n",
      "----\n",
      "Beginning cycle 0\n",
      "Train on 20666 samples, validate on 12398 samples\n",
      "Epoch 1/3\n",
      "20666/20666 [==============================] - 9s 448us/step - loss: 0.6936 - acc: 0.5005 - val_loss: 0.6933 - val_acc: 0.5000\n",
      "Epoch 2/3\n",
      "20666/20666 [==============================] - 7s 341us/step - loss: 0.6933 - acc: 0.5003 - val_loss: 0.6931 - val_acc: 0.5001\n",
      "Epoch 3/3\n",
      "20666/20666 [==============================] - 7s 341us/step - loss: 0.6934 - acc: 0.4976 - val_loss: 0.6933 - val_acc: 0.5000\n",
      "----\n",
      "Beginning cycle 1\n",
      "Train on 20666 samples, validate on 12398 samples\n",
      "Epoch 1/3\n",
      "20666/20666 [==============================] - 7s 340us/step - loss: 0.6933 - acc: 0.4964 - val_loss: 0.6932 - val_acc: 0.5000\n",
      "Epoch 2/3\n",
      "20666/20666 [==============================] - 7s 340us/step - loss: 0.6932 - acc: 0.5011 - val_loss: 0.6932 - val_acc: 0.5001\n",
      "Epoch 3/3\n",
      "20666/20666 [==============================] - 7s 339us/step - loss: 0.6932 - acc: 0.4987 - val_loss: 0.6932 - val_acc: 0.5001\n",
      "----\n",
      "Beginning cycle 2\n",
      "Train on 20666 samples, validate on 12398 samples\n",
      "Epoch 1/3\n",
      "20666/20666 [==============================] - 7s 341us/step - loss: 0.6931 - acc: 0.5010 - val_loss: 0.6931 - val_acc: 0.5001\n",
      "Epoch 2/3\n",
      "20666/20666 [==============================] - 7s 343us/step - loss: 0.6932 - acc: 0.4962 - val_loss: 0.6932 - val_acc: 0.5000\n",
      "Epoch 3/3\n",
      "20666/20666 [==============================] - 7s 341us/step - loss: 0.6932 - acc: 0.4931 - val_loss: 0.6931 - val_acc: 0.5000\n"
     ]
    }
   ],
   "source": [
    "Phi_sizes, F_sizes = (80, 40, 20), (20,20,20)\n",
    "num_epoch = 3\n",
    "num_cycles = 3\n",
    "batch_size = 20\n",
    "histories_000, Y_test_000, Y_predicts_000, model_000 = train_model(X_train, X_val, X_test, Y_train,Y_val,Y_test)"
   ]
  },
  {
   "cell_type": "code",
   "execution_count": 26,
   "metadata": {
    "ExecuteTime": {
     "end_time": "2021-01-29T09:58:05.355880Z",
     "start_time": "2021-01-29T09:58:05.029698Z"
    },
    "hidden": true
   },
   "outputs": [
    {
     "data": {
      "image/png": "[encoded data removed]",
      "text/plain": [
       "<Figure size 576x432 with 1 Axes>"
      ]
     },
     "metadata": {
      "needs_background": "light"
     },
     "output_type": "display_data"
    }
   ],
   "source": [
    "evaluate_model(histories_000, Y_test_000, Y_predicts_000)"
   ]
  },
  {
   "cell_type": "code",
   "execution_count": 43,
   "metadata": {
    "ExecuteTime": {
     "end_time": "2021-01-29T10:04:33.544035Z",
     "start_time": "2021-01-29T10:04:32.680295Z"
    },
    "hidden": true
   },
   "outputs": [
    {
     "name": "stdout",
     "output_type": "stream",
     "text": [
      "cycle: 0\n"
     ]
    },
    {
     "data": {
      "image/png": "[encoded data removed]",
      "text/plain": [
       "<Figure size 288x144 with 1 Axes>"
      ]
     },
     "metadata": {
      "needs_background": "light"
     },
     "output_type": "display_data"
    },
    {
     "name": "stderr",
     "output_type": "stream",
     "text": [
      "/opt/anaconda3/envs/shared_env/lib/python3.6/site-packages/ipykernel_launcher.py:16: RuntimeWarning: invalid value encountered in true_divide\n",
      "  app.launch_new_instance()\n"
     ]
    },
    {
     "data": {
      "image/png": "[encoded data removed]",
      "text/plain": [
       "<Figure size 288x144 with 1 Axes>"
      ]
     },
     "metadata": {
      "needs_background": "light"
     },
     "output_type": "display_data"
    },
    {
     "name": "stdout",
     "output_type": "stream",
     "text": [
      "cycle: 1\n"
     ]
    },
    {
     "data": {
      "image/png": "[encoded data removed]",
      "text/plain": [
       "<Figure size 288x144 with 1 Axes>"
      ]
     },
     "metadata": {
      "needs_background": "light"
     },
     "output_type": "display_data"
    },
    {
     "data": {
      "image/png": "[encoded data removed]",
      "text/plain": [
       "<Figure size 288x144 with 1 Axes>"
      ]
     },
     "metadata": {
      "needs_background": "light"
     },
     "output_type": "display_data"
    },
    {
     "name": "stdout",
     "output_type": "stream",
     "text": [
      "cycle: 2\n"
     ]
    },
    {
     "data": {
      "image/png": "[encoded data removed]",
      "text/plain": [
       "<Figure size 288x144 with 1 Axes>"
      ]
     },
     "metadata": {
      "needs_background": "light"
     },
     "output_type": "display_data"
    },
    {
     "data": {
      "image/png": "[encoded data removed]",
      "text/plain": [
       "<Figure size 288x144 with 1 Axes>"
      ]
     },
     "metadata": {
      "needs_background": "light"
     },
     "output_type": "display_data"
    }
   ],
   "source": [
    "final_evaluation(Y_test_000, Y_predicts_000)"
   ]
  },
  {
   "cell_type": "markdown",
   "metadata": {},
   "source": [
    "#### fifteen percent siggy"
   ]
  },
  {
   "cell_type": "code",
   "execution_count": 19,
   "metadata": {
    "ExecuteTime": {
     "end_time": "2021-03-08T20:10:27.692592Z",
     "start_time": "2021-03-08T20:10:27.687860Z"
    }
   },
   "outputs": [],
   "source": [
    "Phi_sizes, F_sizes = (80, 60, 60), (60,40,40)\n",
    "num_epoch = 12\n",
    "num_cycles = 3\n",
    "batch_size = 100"
   ]
  },
  {
   "cell_type": "code",
   "execution_count": 22,
   "metadata": {
    "ExecuteTime": {
     "end_time": "2021-03-08T20:19:46.584180Z",
     "start_time": "2021-03-08T20:17:28.888367Z"
    }
   },
   "outputs": [
    {
     "name": "stdout",
     "output_type": "stream",
     "text": [
      "training\n",
      "22798\n",
      "129195\n",
      "validation\n",
      "13679\n",
      "77516\n",
      "Training set size, distribution:\n",
      "(303986, 282, 4)\n",
      "(array([0., 1.]), array([151993, 151993]))\n",
      "Validations set size, distribution:\n",
      "(182390, 282, 4)\n",
      "(array([0., 1.]), array([91195, 91195]))\n",
      "Test set size, distribution:\n",
      "(39356, 282, 4)\n",
      "(array([0., 1.]), array([19678, 19678]))\n"
     ]
    }
   ],
   "source": [
    "X_train, X_val, X_test, Y_train,Y_val,Y_test = prep_and_shufflesplit_data_modified(X_bg, X_sig, 0.15)"
   ]
  },
  {
   "cell_type": "code",
   "execution_count": 23,
   "metadata": {
    "ExecuteTime": {
     "end_time": "2021-03-08T20:34:14.130327Z",
     "start_time": "2021-03-08T20:19:55.720051Z"
    },
    "scrolled": false
   },
   "outputs": [
    {
     "name": "stdout",
     "output_type": "stream",
     "text": [
      "__________________________________________________________________________________________________\n",
      "Layer (type)                    Output Shape         Param #     Connected to                     \n",
      "==================================================================================================\n",
      "input (InputLayer)              (None, None, 4)      0                                            \n",
      "__________________________________________________________________________________________________\n",
      "tdist_0 (TimeDistributed)       (None, None, 80)     400         input[0][0]                      \n",
      "__________________________________________________________________________________________________\n",
      "activation_1 (Activation)       (None, None, 80)     0           tdist_0[0][0]                    \n",
      "__________________________________________________________________________________________________\n",
      "tdist_1 (TimeDistributed)       (None, None, 60)     4860        activation_1[0][0]               \n",
      "__________________________________________________________________________________________________\n",
      "activation_2 (Activation)       (None, None, 60)     0           tdist_1[0][0]                    \n",
      "__________________________________________________________________________________________________\n",
      "tdist_2 (TimeDistributed)       (None, None, 60)     3660        activation_2[0][0]               \n",
      "__________________________________________________________________________________________________\n",
      "mask (Lambda)                   (None, None)         0           input[0][0]                      \n",
      "__________________________________________________________________________________________________\n",
      "activation_3 (Activation)       (None, None, 60)     0           tdist_2[0][0]                    \n",
      "__________________________________________________________________________________________________\n",
      "sum (Dot)                       (None, 60)           0           mask[0][0]                       \n",
      "                                                                 activation_3[0][0]               \n",
      "__________________________________________________________________________________________________\n",
      "dense_0 (Dense)                 (None, 60)           3660        sum[0][0]                        \n",
      "__________________________________________________________________________________________________\n",
      "activation_4 (Activation)       (None, 60)           0           dense_0[0][0]                    \n",
      "__________________________________________________________________________________________________\n",
      "dense_1 (Dense)                 (None, 40)           2440        activation_4[0][0]               \n",
      "__________________________________________________________________________________________________\n",
      "activation_5 (Activation)       (None, 40)           0           dense_1[0][0]                    \n",
      "__________________________________________________________________________________________________\n",
      "dense_2 (Dense)                 (None, 40)           1640        activation_5[0][0]               \n",
      "__________________________________________________________________________________________________\n",
      "activation_6 (Activation)       (None, 40)           0           dense_2[0][0]                    \n",
      "__________________________________________________________________________________________________\n",
      "output (Dense)                  (None, 2)            82          activation_6[0][0]               \n",
      "__________________________________________________________________________________________________\n",
      "activation_7 (Activation)       (None, 2)            0           output[0][0]                     \n",
      "==================================================================================================\n",
      "Total params: 16,742\n",
      "Trainable params: 16,742\n",
      "Non-trainable params: 0\n",
      "__________________________________________________________________________________________________\n",
      "----\n",
      "Beginning cycle 0\n",
      "Train on 303986 samples, validate on 182390 samples\n",
      "Epoch 1/12\n",
      "303986/303986 [==============================] - 26s 84us/step - loss: 0.6924 - acc: 0.5191 - val_loss: 0.6917 - val_acc: 0.5277\n",
      "Epoch 2/12\n",
      "303986/303986 [==============================] - 24s 78us/step - loss: 0.6919 - acc: 0.5240 - val_loss: 0.6919 - val_acc: 0.5201\n",
      "Epoch 3/12\n",
      "303986/303986 [==============================] - 24s 78us/step - loss: 0.6916 - acc: 0.5256 - val_loss: 0.6914 - val_acc: 0.5276\n",
      "Epoch 4/12\n",
      "303986/303986 [==============================] - 24s 78us/step - loss: 0.6915 - acc: 0.5260 - val_loss: 0.6919 - val_acc: 0.5231\n",
      "Epoch 5/12\n",
      "303986/303986 [==============================] - 24s 78us/step - loss: 0.6915 - acc: 0.5256 - val_loss: 0.6917 - val_acc: 0.5243\n",
      "Epoch 6/12\n",
      "303986/303986 [==============================] - 24s 78us/step - loss: 0.6916 - acc: 0.5264 - val_loss: 0.6915 - val_acc: 0.5260\n",
      "Epoch 7/12\n",
      "303986/303986 [==============================] - 24s 78us/step - loss: 0.6914 - acc: 0.5276 - val_loss: 0.6914 - val_acc: 0.5281\n",
      "Epoch 8/12\n",
      "303986/303986 [==============================] - 24s 78us/step - loss: 0.6914 - acc: 0.5268 - val_loss: 0.6915 - val_acc: 0.5272\n",
      "Epoch 9/12\n",
      "303986/303986 [==============================] - 24s 78us/step - loss: 0.6914 - acc: 0.5267 - val_loss: 0.6918 - val_acc: 0.5268\n",
      "Epoch 10/12\n",
      "303986/303986 [==============================] - 24s 78us/step - loss: 0.6914 - acc: 0.5277 - val_loss: 0.6915 - val_acc: 0.5281\n",
      "Epoch 11/12\n",
      "303986/303986 [==============================] - 24s 79us/step - loss: 0.6913 - acc: 0.5276 - val_loss: 0.6916 - val_acc: 0.5278\n",
      "Epoch 12/12\n",
      "303986/303986 [==============================] - 24s 78us/step - loss: 0.6914 - acc: 0.5275 - val_loss: 0.6913 - val_acc: 0.5276\n",
      "----\n",
      "Beginning cycle 1\n",
      "Train on 303986 samples, validate on 182390 samples\n",
      "Epoch 1/12\n",
      "303986/303986 [==============================] - 24s 77us/step - loss: 0.6913 - acc: 0.5271 - val_loss: 0.6914 - val_acc: 0.5280\n",
      "Epoch 2/12\n",
      "303986/303986 [==============================] - 24s 78us/step - loss: 0.6913 - acc: 0.5276 - val_loss: 0.6916 - val_acc: 0.5265\n",
      "Epoch 3/12\n",
      "303986/303986 [==============================] - 23s 77us/step - loss: 0.6913 - acc: 0.5280 - val_loss: 0.6915 - val_acc: 0.5273\n",
      "Epoch 4/12\n",
      "303986/303986 [==============================] - 24s 78us/step - loss: 0.6913 - acc: 0.5274 - val_loss: 0.6925 - val_acc: 0.5171\n",
      "Epoch 5/12\n",
      "303986/303986 [==============================] - 24s 78us/step - loss: 0.6913 - acc: 0.5271 - val_loss: 0.6914 - val_acc: 0.5285\n",
      "Epoch 6/12\n",
      "303986/303986 [==============================] - 24s 78us/step - loss: 0.6913 - acc: 0.5278 - val_loss: 0.6914 - val_acc: 0.5276\n",
      "Epoch 7/12\n",
      "303986/303986 [==============================] - 24s 78us/step - loss: 0.6913 - acc: 0.5269 - val_loss: 0.6913 - val_acc: 0.5278\n",
      "Epoch 8/12\n",
      "303986/303986 [==============================] - 24s 78us/step - loss: 0.6913 - acc: 0.5269 - val_loss: 0.6913 - val_acc: 0.5281\n",
      "Epoch 9/12\n",
      "303986/303986 [==============================] - 23s 77us/step - loss: 0.6913 - acc: 0.5280 - val_loss: 0.6913 - val_acc: 0.5278\n",
      "Epoch 10/12\n",
      "303986/303986 [==============================] - 23s 77us/step - loss: 0.6913 - acc: 0.5275 - val_loss: 0.6914 - val_acc: 0.5280\n",
      "Epoch 11/12\n",
      "303986/303986 [==============================] - 24s 77us/step - loss: 0.6913 - acc: 0.5283 - val_loss: 0.6914 - val_acc: 0.5280\n",
      "Epoch 12/12\n",
      "303986/303986 [==============================] - 24s 77us/step - loss: 0.6913 - acc: 0.5275 - val_loss: 0.6914 - val_acc: 0.5283\n",
      "----\n",
      "Beginning cycle 2\n",
      "Train on 303986 samples, validate on 182390 samples\n",
      "Epoch 1/12\n",
      "303986/303986 [==============================] - 23s 77us/step - loss: 0.6913 - acc: 0.5277 - val_loss: 0.6915 - val_acc: 0.5273\n",
      "Epoch 2/12\n",
      "303986/303986 [==============================] - 24s 77us/step - loss: 0.6913 - acc: 0.5278 - val_loss: 0.6915 - val_acc: 0.5273\n",
      "Epoch 3/12\n",
      "303986/303986 [==============================] - 24s 78us/step - loss: 0.6913 - acc: 0.5278 - val_loss: 0.6914 - val_acc: 0.5280\n",
      "Epoch 4/12\n",
      "303986/303986 [==============================] - 24s 79us/step - loss: 0.6913 - acc: 0.5280 - val_loss: 0.6914 - val_acc: 0.5280\n",
      "Epoch 5/12\n",
      "303986/303986 [==============================] - 24s 78us/step - loss: 0.6912 - acc: 0.5278 - val_loss: 0.6913 - val_acc: 0.5276\n"
     ]
    },
    {
     "name": "stdout",
     "output_type": "stream",
     "text": [
      "Epoch 6/12\n",
      "303986/303986 [==============================] - 24s 77us/step - loss: 0.6913 - acc: 0.5283 - val_loss: 0.6913 - val_acc: 0.5277\n",
      "Epoch 7/12\n",
      "303986/303986 [==============================] - 24s 78us/step - loss: 0.6912 - acc: 0.5278 - val_loss: 0.6913 - val_acc: 0.5280\n",
      "Epoch 8/12\n",
      "303986/303986 [==============================] - 24s 78us/step - loss: 0.6913 - acc: 0.5282 - val_loss: 0.6913 - val_acc: 0.5277\n",
      "Epoch 9/12\n",
      "303986/303986 [==============================] - 24s 78us/step - loss: 0.6913 - acc: 0.5279 - val_loss: 0.6917 - val_acc: 0.5260\n",
      "Epoch 10/12\n",
      "303986/303986 [==============================] - 24s 78us/step - loss: 0.6913 - acc: 0.5280 - val_loss: 0.6913 - val_acc: 0.5278\n",
      "Epoch 11/12\n",
      "303986/303986 [==============================] - 24s 78us/step - loss: 0.6913 - acc: 0.5279 - val_loss: 0.6914 - val_acc: 0.5283\n",
      "Epoch 12/12\n",
      "303986/303986 [==============================] - 24s 78us/step - loss: 0.6913 - acc: 0.5278 - val_loss: 0.6914 - val_acc: 0.5282\n"
     ]
    }
   ],
   "source": [
    "histories_015, Y_test_015, Y_predicts_015, model_015 = train_model(X_train, X_val, X_test, Y_train,Y_val,Y_test)"
   ]
  },
  {
   "cell_type": "code",
   "execution_count": 24,
   "metadata": {
    "ExecuteTime": {
     "end_time": "2021-03-08T20:34:33.873756Z",
     "start_time": "2021-03-08T20:34:33.572945Z"
    }
   },
   "outputs": [
    {
     "data": {
      "image/png": "[encoded data removed]",
      "text/plain": [
       "<Figure size 576x432 with 1 Axes>"
      ]
     },
     "metadata": {
      "needs_background": "light"
     },
     "output_type": "display_data"
    }
   ],
   "source": [
    "evaluate_model(histories_015, Y_test_015, Y_predicts_015)"
   ]
  },
  {
   "cell_type": "code",
   "execution_count": 25,
   "metadata": {
    "ExecuteTime": {
     "end_time": "2021-03-08T20:34:40.139178Z",
     "start_time": "2021-03-08T20:34:39.835475Z"
    }
   },
   "outputs": [
    {
     "data": {
      "image/png": "[encoded data removed]",
      "text/plain": [
       "<Figure size 432x288 with 1 Axes>"
      ]
     },
     "metadata": {
      "needs_background": "light"
     },
     "output_type": "display_data"
    },
    {
     "name": "stderr",
     "output_type": "stream",
     "text": [
      "/opt/anaconda3/envs/shared_env/lib/python3.6/site-packages/ipykernel_launcher.py:16: RuntimeWarning: invalid value encountered in true_divide\n",
      "  app.launch_new_instance()\n"
     ]
    },
    {
     "data": {
      "image/png": "[encoded data removed]",
      "text/plain": [
       "<Figure size 432x288 with 1 Axes>"
      ]
     },
     "metadata": {
      "needs_background": "light"
     },
     "output_type": "display_data"
    }
   ],
   "source": [
    "final_evaluation(Y_test_015, Y_predicts_015[-1:])"
   ]
  },
  {
   "cell_type": "markdown",
   "metadata": {},
   "source": [
    "#### 5 percent signal\n",
    "\n"
   ]
  },
  {
   "cell_type": "markdown",
   "metadata": {},
   "source": [
    "##### Training and stuff"
   ]
  },
  {
   "cell_type": "code",
   "execution_count": 36,
   "metadata": {
    "ExecuteTime": {
     "end_time": "2021-03-08T20:55:31.510170Z",
     "start_time": "2021-03-08T20:55:31.507088Z"
    }
   },
   "outputs": [],
   "source": [
    "Phi_sizes, F_sizes =  (80, 60, 60), (60,40,40)\n",
    "num_epoch = 3\n",
    "num_cycles = 3\n",
    "batch_size = 10\n"
   ]
  },
  {
   "cell_type": "code",
   "execution_count": 35,
   "metadata": {
    "ExecuteTime": {
     "end_time": "2021-03-08T20:55:31.505264Z",
     "start_time": "2021-03-08T20:53:44.207392Z"
    }
   },
   "outputs": [
    {
     "name": "stdout",
     "output_type": "stream",
     "text": [
      "training\n",
      "7599\n",
      "144394\n",
      "validation\n",
      "4559\n",
      "86636\n",
      "test\n",
      "19678\n",
      "Training set size, distribution:\n",
      "(303986, 282, 4)\n",
      "(array([0., 1.]), array([151993, 151993]))\n",
      "Validations set size, distribution:\n",
      "(182390, 282, 4)\n",
      "(array([0., 1.]), array([91195, 91195]))\n",
      "Test set size, distribution:\n",
      "(39356, 282, 4)\n",
      "(array([0., 1.]), array([19678, 19678]))\n"
     ]
    }
   ],
   "source": [
    "X_train, X_val, X_test, Y_train,Y_val,Y_test = prep_and_shufflesplit_data_modified(X_bg, X_sig, 0.05)"
   ]
  },
  {
   "cell_type": "code",
   "execution_count": 37,
   "metadata": {
    "ExecuteTime": {
     "end_time": "2021-03-08T21:27:48.332601Z",
     "start_time": "2021-03-08T20:55:31.511807Z"
    },
    "scrolled": false
   },
   "outputs": [
    {
     "name": "stdout",
     "output_type": "stream",
     "text": [
      "__________________________________________________________________________________________________\n",
      "Layer (type)                    Output Shape         Param #     Connected to                     \n",
      "==================================================================================================\n",
      "input (InputLayer)              (None, None, 4)      0                                            \n",
      "__________________________________________________________________________________________________\n",
      "tdist_0 (TimeDistributed)       (None, None, 80)     400         input[0][0]                      \n",
      "__________________________________________________________________________________________________\n",
      "activation_22 (Activation)      (None, None, 80)     0           tdist_0[0][0]                    \n",
      "__________________________________________________________________________________________________\n",
      "tdist_1 (TimeDistributed)       (None, None, 60)     4860        activation_22[0][0]              \n",
      "__________________________________________________________________________________________________\n",
      "activation_23 (Activation)      (None, None, 60)     0           tdist_1[0][0]                    \n",
      "__________________________________________________________________________________________________\n",
      "tdist_2 (TimeDistributed)       (None, None, 60)     3660        activation_23[0][0]              \n",
      "__________________________________________________________________________________________________\n",
      "mask (Lambda)                   (None, None)         0           input[0][0]                      \n",
      "__________________________________________________________________________________________________\n",
      "activation_24 (Activation)      (None, None, 60)     0           tdist_2[0][0]                    \n",
      "__________________________________________________________________________________________________\n",
      "sum (Dot)                       (None, 60)           0           mask[0][0]                       \n",
      "                                                                 activation_24[0][0]              \n",
      "__________________________________________________________________________________________________\n",
      "dense_0 (Dense)                 (None, 60)           3660        sum[0][0]                        \n",
      "__________________________________________________________________________________________________\n",
      "activation_25 (Activation)      (None, 60)           0           dense_0[0][0]                    \n",
      "__________________________________________________________________________________________________\n",
      "dense_1 (Dense)                 (None, 40)           2440        activation_25[0][0]              \n",
      "__________________________________________________________________________________________________\n",
      "activation_26 (Activation)      (None, 40)           0           dense_1[0][0]                    \n",
      "__________________________________________________________________________________________________\n",
      "dense_2 (Dense)                 (None, 40)           1640        activation_26[0][0]              \n",
      "__________________________________________________________________________________________________\n",
      "activation_27 (Activation)      (None, 40)           0           dense_2[0][0]                    \n",
      "__________________________________________________________________________________________________\n",
      "output (Dense)                  (None, 2)            82          activation_27[0][0]              \n",
      "__________________________________________________________________________________________________\n",
      "activation_28 (Activation)      (None, 2)            0           output[0][0]                     \n",
      "==================================================================================================\n",
      "Total params: 16,742\n",
      "Trainable params: 16,742\n",
      "Non-trainable params: 0\n",
      "__________________________________________________________________________________________________\n",
      "----\n",
      "Beginning cycle 0\n",
      "Train on 303986 samples, validate on 182390 samples\n",
      "Epoch 1/3\n",
      "303986/303986 [==============================] - 215s 707us/step - loss: 0.6934 - acc: 0.5013 - val_loss: 0.6932 - val_acc: 0.5000\n",
      "Epoch 2/3\n",
      "303986/303986 [==============================] - 214s 704us/step - loss: 0.6932 - acc: 0.4997 - val_loss: 0.6932 - val_acc: 0.5000\n",
      "Epoch 3/3\n",
      "303986/303986 [==============================] - 214s 705us/step - loss: 0.6932 - acc: 0.5011 - val_loss: 0.6932 - val_acc: 0.5000\n",
      "----\n",
      "Beginning cycle 1\n",
      "Train on 303986 samples, validate on 182390 samples\n",
      "Epoch 1/3\n",
      "303986/303986 [==============================] - 214s 704us/step - loss: 0.6932 - acc: 0.5002 - val_loss: 0.6931 - val_acc: 0.5000\n",
      "Epoch 2/3\n",
      "303986/303986 [==============================] - 214s 706us/step - loss: 0.6932 - acc: 0.5016 - val_loss: 0.6932 - val_acc: 0.5000\n",
      "Epoch 3/3\n",
      "303986/303986 [==============================] - 214s 705us/step - loss: 0.6932 - acc: 0.4982 - val_loss: 0.6931 - val_acc: 0.5000\n",
      "----\n",
      "Beginning cycle 2\n",
      "Train on 303986 samples, validate on 182390 samples\n",
      "Epoch 1/3\n",
      "303986/303986 [==============================] - 214s 705us/step - loss: 0.6932 - acc: 0.4998 - val_loss: 0.6932 - val_acc: 0.5000\n",
      "Epoch 2/3\n",
      "303986/303986 [==============================] - 215s 707us/step - loss: 0.6932 - acc: 0.4992 - val_loss: 0.6933 - val_acc: 0.5000\n",
      "Epoch 3/3\n",
      "303986/303986 [==============================] - 215s 706us/step - loss: 0.6933 - acc: 0.4995 - val_loss: 0.6931 - val_acc: 0.5000\n"
     ]
    }
   ],
   "source": [
    "histories_005, Y_test_005, Y_predicts_005, model_005 = train_model(X_train, X_val, X_test, Y_train,Y_val,Y_test)"
   ]
  },
  {
   "cell_type": "markdown",
   "metadata": {},
   "source": [
    "##### output"
   ]
  },
  {
   "cell_type": "code",
   "execution_count": 38,
   "metadata": {
    "ExecuteTime": {
     "end_time": "2021-03-08T21:32:39.511632Z",
     "start_time": "2021-03-08T21:32:39.259056Z"
    }
   },
   "outputs": [
    {
     "data": {
      "image/png": "[encoded data removed]",
      "text/plain": [
       "<Figure size 576x432 with 1 Axes>"
      ]
     },
     "metadata": {
      "needs_background": "light"
     },
     "output_type": "display_data"
    }
   ],
   "source": [
    "evaluate_model(histories_005, Y_test_005, Y_predicts_005)"
   ]
  },
  {
   "cell_type": "code",
   "execution_count": 39,
   "metadata": {
    "ExecuteTime": {
     "end_time": "2021-03-08T21:32:40.913880Z",
     "start_time": "2021-03-08T21:32:40.593853Z"
    }
   },
   "outputs": [
    {
     "data": {
      "image/png": "[encoded data removed]",
      "text/plain": [
       "<Figure size 432x288 with 1 Axes>"
      ]
     },
     "metadata": {
      "needs_background": "light"
     },
     "output_type": "display_data"
    },
    {
     "name": "stderr",
     "output_type": "stream",
     "text": [
      "/opt/anaconda3/envs/shared_env/lib/python3.6/site-packages/ipykernel_launcher.py:16: RuntimeWarning: invalid value encountered in true_divide\n",
      "  app.launch_new_instance()\n"
     ]
    },
    {
     "data": {
      "image/png": "[encoded data removed]",
      "text/plain": [
       "<Figure size 432x288 with 1 Axes>"
      ]
     },
     "metadata": {
      "needs_background": "light"
     },
     "output_type": "display_data"
    }
   ],
   "source": [
    "final_evaluation(Y_test_005, Y_predicts_005[-1:])"
   ]
  },
  {
   "cell_type": "markdown",
   "metadata": {
    "heading_collapsed": true
   },
   "source": [
    "#### 6 percent?"
   ]
  },
  {
   "cell_type": "markdown",
   "metadata": {
    "hidden": true
   },
   "source": [
    "##### training and stuff"
   ]
  },
  {
   "cell_type": "code",
   "execution_count": 118,
   "metadata": {
    "ExecuteTime": {
     "end_time": "2021-01-29T11:36:09.152599Z",
     "start_time": "2021-01-29T11:35:46.854192Z"
    },
    "hidden": true
   },
   "outputs": [
    {
     "name": "stdout",
     "output_type": "stream",
     "text": [
      "training\n",
      "516\n",
      "9817\n",
      "validation\n",
      "309\n",
      "5890\n",
      "Training set size, distribution:\n",
      "(20666, 282, 4)\n",
      "(array([0., 1.]), array([10333, 10333]))\n",
      "Validations set size, distribution:\n",
      "(12398, 282, 4)\n",
      "(array([0., 1.]), array([6199, 6199]))\n",
      "Test set size, distribution:\n",
      "(8265, 282, 4)\n",
      "(array([0., 1.]), array([4133, 4132]))\n"
     ]
    }
   ],
   "source": [
    "X_train, X_val, X_test, Y_train,Y_val,Y_test = prep_and_shufflesplit_data_modified(X_bg, X_sig, 0.05, normalize_all=False)"
   ]
  },
  {
   "cell_type": "code",
   "execution_count": 119,
   "metadata": {
    "ExecuteTime": {
     "end_time": "2021-01-29T11:37:25.620314Z",
     "start_time": "2021-01-29T11:36:16.852316Z"
    },
    "hidden": true
   },
   "outputs": [
    {
     "name": "stdout",
     "output_type": "stream",
     "text": [
      "__________________________________________________________________________________________________\n",
      "Layer (type)                    Output Shape         Param #     Connected to                     \n",
      "==================================================================================================\n",
      "input (InputLayer)              (None, None, 4)      0                                            \n",
      "__________________________________________________________________________________________________\n",
      "tdist_0 (TimeDistributed)       (None, None, 80)     400         input[0][0]                      \n",
      "__________________________________________________________________________________________________\n",
      "activation_93 (Activation)      (None, None, 80)     0           tdist_0[0][0]                    \n",
      "__________________________________________________________________________________________________\n",
      "tdist_1 (TimeDistributed)       (None, None, 40)     3240        activation_93[0][0]              \n",
      "__________________________________________________________________________________________________\n",
      "activation_94 (Activation)      (None, None, 40)     0           tdist_1[0][0]                    \n",
      "__________________________________________________________________________________________________\n",
      "tdist_2 (TimeDistributed)       (None, None, 20)     820         activation_94[0][0]              \n",
      "__________________________________________________________________________________________________\n",
      "mask (Lambda)                   (None, None)         0           input[0][0]                      \n",
      "__________________________________________________________________________________________________\n",
      "activation_95 (Activation)      (None, None, 20)     0           tdist_2[0][0]                    \n",
      "__________________________________________________________________________________________________\n",
      "sum (Dot)                       (None, 20)           0           mask[0][0]                       \n",
      "                                                                 activation_95[0][0]              \n",
      "__________________________________________________________________________________________________\n",
      "dense_0 (Dense)                 (None, 50)           1050        sum[0][0]                        \n",
      "__________________________________________________________________________________________________\n",
      "activation_96 (Activation)      (None, 50)           0           dense_0[0][0]                    \n",
      "__________________________________________________________________________________________________\n",
      "dense_1 (Dense)                 (None, 40)           2040        activation_96[0][0]              \n",
      "__________________________________________________________________________________________________\n",
      "activation_97 (Activation)      (None, 40)           0           dense_1[0][0]                    \n",
      "__________________________________________________________________________________________________\n",
      "dense_2 (Dense)                 (None, 40)           1640        activation_97[0][0]              \n",
      "__________________________________________________________________________________________________\n",
      "activation_98 (Activation)      (None, 40)           0           dense_2[0][0]                    \n",
      "__________________________________________________________________________________________________\n",
      "output (Dense)                  (None, 2)            82          activation_98[0][0]              \n",
      "__________________________________________________________________________________________________\n",
      "activation_99 (Activation)      (None, 2)            0           output[0][0]                     \n",
      "==================================================================================================\n",
      "Total params: 9,272\n",
      "Trainable params: 9,272\n",
      "Non-trainable params: 0\n",
      "__________________________________________________________________________________________________\n",
      "----\n",
      "Beginning cycle 0\n",
      "Train on 20666 samples, validate on 12398 samples\n",
      "Epoch 1/12\n",
      "20666/20666 [==============================] - 3s 160us/step - loss: 1.3086 - acc: 0.5036 - val_loss: 0.7232 - val_acc: 0.5032\n",
      "Epoch 2/12\n",
      "20666/20666 [==============================] - 2s 86us/step - loss: 0.7359 - acc: 0.4993 - val_loss: 0.7514 - val_acc: 0.4989\n",
      "Epoch 3/12\n",
      "20666/20666 [==============================] - 2s 86us/step - loss: 0.7226 - acc: 0.4969 - val_loss: 0.6963 - val_acc: 0.5025\n",
      "Epoch 4/12\n",
      "20666/20666 [==============================] - 2s 86us/step - loss: 0.7078 - acc: 0.5052 - val_loss: 0.7031 - val_acc: 0.4974\n",
      "Epoch 5/12\n",
      "20666/20666 [==============================] - 2s 87us/step - loss: 0.7059 - acc: 0.5033 - val_loss: 0.6950 - val_acc: 0.5066\n",
      "Epoch 6/12\n",
      "20666/20666 [==============================] - 2s 86us/step - loss: 0.7010 - acc: 0.5066 - val_loss: 0.6981 - val_acc: 0.4981\n",
      "Epoch 7/12\n",
      "20666/20666 [==============================] - 2s 87us/step - loss: 0.6983 - acc: 0.5039 - val_loss: 0.7006 - val_acc: 0.5052\n",
      "Epoch 8/12\n",
      "20666/20666 [==============================] - 2s 86us/step - loss: 0.6962 - acc: 0.5100 - val_loss: 0.6941 - val_acc: 0.5002\n",
      "Epoch 9/12\n",
      "20666/20666 [==============================] - 2s 85us/step - loss: 0.6935 - acc: 0.5013 - val_loss: 0.6937 - val_acc: 0.5059\n",
      "Epoch 10/12\n",
      "20666/20666 [==============================] - 2s 86us/step - loss: 0.6935 - acc: 0.4976 - val_loss: 0.6931 - val_acc: 0.5033\n",
      "Epoch 11/12\n",
      "20666/20666 [==============================] - 2s 86us/step - loss: 0.6932 - acc: 0.4980 - val_loss: 0.6933 - val_acc: 0.5014\n",
      "Epoch 12/12\n",
      "20666/20666 [==============================] - 2s 86us/step - loss: 0.6931 - acc: 0.4989 - val_loss: 0.6932 - val_acc: 0.5052\n",
      "----\n",
      "Beginning cycle 1\n",
      "Train on 20666 samples, validate on 12398 samples\n",
      "Epoch 1/12\n",
      "20666/20666 [==============================] - 2s 87us/step - loss: 0.6932 - acc: 0.4987 - val_loss: 0.6932 - val_acc: 0.5030\n",
      "Epoch 2/12\n",
      "20666/20666 [==============================] - 2s 86us/step - loss: 0.6932 - acc: 0.5013 - val_loss: 0.6931 - val_acc: 0.5049\n",
      "Epoch 3/12\n",
      "20666/20666 [==============================] - 2s 84us/step - loss: 0.6930 - acc: 0.5043 - val_loss: 0.6989 - val_acc: 0.5002\n",
      "Epoch 4/12\n",
      "20666/20666 [==============================] - 2s 85us/step - loss: 0.6934 - acc: 0.5011 - val_loss: 0.6931 - val_acc: 0.5030\n",
      "Epoch 5/12\n",
      "20666/20666 [==============================] - 2s 86us/step - loss: 0.6932 - acc: 0.5004 - val_loss: 0.6931 - val_acc: 0.5049\n",
      "Epoch 6/12\n",
      "20666/20666 [==============================] - 2s 87us/step - loss: 0.6931 - acc: 0.5082 - val_loss: 0.6932 - val_acc: 0.4954\n",
      "Epoch 7/12\n",
      "20666/20666 [==============================] - 2s 87us/step - loss: 0.6933 - acc: 0.5010 - val_loss: 0.6931 - val_acc: 0.5066\n",
      "Epoch 8/12\n",
      "20666/20666 [==============================] - 2s 85us/step - loss: 0.6934 - acc: 0.5009 - val_loss: 0.6930 - val_acc: 0.5096\n",
      "Epoch 9/12\n",
      "20666/20666 [==============================] - 2s 85us/step - loss: 0.6930 - acc: 0.5045 - val_loss: 0.6936 - val_acc: 0.5019\n",
      "Epoch 10/12\n",
      "20666/20666 [==============================] - 2s 85us/step - loss: 0.6932 - acc: 0.5040 - val_loss: 0.6931 - val_acc: 0.5028\n",
      "Epoch 11/12\n",
      "20666/20666 [==============================] - 2s 86us/step - loss: 0.6930 - acc: 0.5073 - val_loss: 0.6933 - val_acc: 0.4999\n",
      "Epoch 12/12\n",
      "20666/20666 [==============================] - 2s 85us/step - loss: 0.6935 - acc: 0.4995 - val_loss: 0.6932 - val_acc: 0.5040\n",
      "----\n",
      "Beginning cycle 2\n",
      "Train on 20666 samples, validate on 12398 samples\n",
      "Epoch 1/12\n",
      "20666/20666 [==============================] - 2s 84us/step - loss: 0.6933 - acc: 0.5020 - val_loss: 0.6934 - val_acc: 0.4977\n",
      "Epoch 2/12\n",
      "20666/20666 [==============================] - 2s 87us/step - loss: 0.6931 - acc: 0.5065 - val_loss: 0.6932 - val_acc: 0.5022\n",
      "Epoch 3/12\n",
      "20666/20666 [==============================] - 2s 86us/step - loss: 0.6933 - acc: 0.5040 - val_loss: 0.6933 - val_acc: 0.5035\n",
      "Epoch 4/12\n",
      "20666/20666 [==============================] - 2s 86us/step - loss: 0.6933 - acc: 0.5028 - val_loss: 0.6933 - val_acc: 0.4990\n",
      "Epoch 5/12\n",
      "20666/20666 [==============================] - 2s 88us/step - loss: 0.6932 - acc: 0.4967 - val_loss: 0.6934 - val_acc: 0.4987\n",
      "Epoch 6/12\n",
      "20666/20666 [==============================] - 2s 86us/step - loss: 0.6933 - acc: 0.4950 - val_loss: 0.6933 - val_acc: 0.5015\n",
      "Epoch 7/12\n",
      "20666/20666 [==============================] - 2s 85us/step - loss: 0.6932 - acc: 0.5017 - val_loss: 0.6931 - val_acc: 0.5051\n",
      "Epoch 8/12\n",
      "20666/20666 [==============================] - 2s 86us/step - loss: 0.6931 - acc: 0.5045 - val_loss: 0.6934 - val_acc: 0.4962\n",
      "Epoch 9/12\n",
      "20666/20666 [==============================] - 2s 86us/step - loss: 0.6931 - acc: 0.5048 - val_loss: 0.6932 - val_acc: 0.5013\n",
      "Epoch 10/12\n",
      "20666/20666 [==============================] - 2s 85us/step - loss: 0.6933 - acc: 0.4981 - val_loss: 0.6932 - val_acc: 0.5004\n",
      "Epoch 11/12\n",
      "20666/20666 [==============================] - 2s 87us/step - loss: 0.6933 - acc: 0.5023 - val_loss: 0.6936 - val_acc: 0.5012\n",
      "Epoch 12/12\n",
      "20666/20666 [==============================] - 2s 84us/step - loss: 0.6933 - acc: 0.4993 - val_loss: 0.6932 - val_acc: 0.4986\n"
     ]
    }
   ],
   "source": [
    "histories_006, Y_test_006, Y_predicts_006, model_006 = train_model(X_train, X_val, X_test, Y_train,Y_val,Y_test)"
   ]
  },
  {
   "cell_type": "markdown",
   "metadata": {
    "hidden": true
   },
   "source": [
    "##### output"
   ]
  },
  {
   "cell_type": "code",
   "execution_count": 120,
   "metadata": {
    "ExecuteTime": {
     "end_time": "2021-01-29T11:37:43.882558Z",
     "start_time": "2021-01-29T11:37:43.642619Z"
    },
    "hidden": true
   },
   "outputs": [
    {
     "data": {
      "image/png": "[encoded data removed]",
      "text/plain": [
       "<Figure size 576x432 with 1 Axes>"
      ]
     },
     "metadata": {
      "needs_background": "light"
     },
     "output_type": "display_data"
    }
   ],
   "source": [
    "evaluate_model(histories_006, Y_test_006, Y_predicts_006)"
   ]
  },
  {
   "cell_type": "markdown",
   "metadata": {},
   "source": [
    "#### 14 percent?"
   ]
  },
  {
   "cell_type": "code",
   "execution_count": 138,
   "metadata": {
    "ExecuteTime": {
     "end_time": "2021-01-29T18:26:01.806657Z",
     "start_time": "2021-01-29T18:26:01.801557Z"
    }
   },
   "outputs": [],
   "source": [
    "Phi_sizes, F_sizes = (40, 20, 20), (20,20,20)\n",
    "num_epoch = 8\n",
    "num_cycles = 3\n",
    "batch_size = 20\n"
   ]
  },
  {
   "cell_type": "code",
   "execution_count": 139,
   "metadata": {
    "ExecuteTime": {
     "end_time": "2021-01-29T18:26:22.260364Z",
     "start_time": "2021-01-29T18:26:12.740519Z"
    }
   },
   "outputs": [
    {
     "name": "stdout",
     "output_type": "stream",
     "text": [
      "training\n",
      "1446\n",
      "8887\n",
      "validation\n",
      "867\n",
      "5332\n",
      "Training set size, distribution:\n",
      "(20666, 282, 4)\n",
      "(array([0., 1.]), array([10333, 10333]))\n",
      "Validations set size, distribution:\n",
      "(12398, 282, 4)\n",
      "(array([0., 1.]), array([6199, 6199]))\n",
      "Test set size, distribution:\n",
      "(8265, 282, 4)\n",
      "(array([0., 1.]), array([4133, 4132]))\n"
     ]
    }
   ],
   "source": [
    "X_train, X_val, X_test, Y_train,Y_val,Y_test = prep_and_shufflesplit_data_modified(X_bg, X_sig, 0.14)"
   ]
  },
  {
   "cell_type": "code",
   "execution_count": 140,
   "metadata": {
    "ExecuteTime": {
     "end_time": "2021-01-29T18:29:57.700063Z",
     "start_time": "2021-01-29T18:26:35.395444Z"
    }
   },
   "outputs": [
    {
     "name": "stdout",
     "output_type": "stream",
     "text": [
      "__________________________________________________________________________________________________\n",
      "Layer (type)                    Output Shape         Param #     Connected to                     \n",
      "==================================================================================================\n",
      "input (InputLayer)              (None, None, 4)      0                                            \n",
      "__________________________________________________________________________________________________\n",
      "tdist_0 (TimeDistributed)       (None, None, 40)     200         input[0][0]                      \n",
      "__________________________________________________________________________________________________\n",
      "activation_114 (Activation)     (None, None, 40)     0           tdist_0[0][0]                    \n",
      "__________________________________________________________________________________________________\n",
      "tdist_1 (TimeDistributed)       (None, None, 20)     820         activation_114[0][0]             \n",
      "__________________________________________________________________________________________________\n",
      "activation_115 (Activation)     (None, None, 20)     0           tdist_1[0][0]                    \n",
      "__________________________________________________________________________________________________\n",
      "tdist_2 (TimeDistributed)       (None, None, 20)     420         activation_115[0][0]             \n",
      "__________________________________________________________________________________________________\n",
      "mask (Lambda)                   (None, None)         0           input[0][0]                      \n",
      "__________________________________________________________________________________________________\n",
      "activation_116 (Activation)     (None, None, 20)     0           tdist_2[0][0]                    \n",
      "__________________________________________________________________________________________________\n",
      "sum (Dot)                       (None, 20)           0           mask[0][0]                       \n",
      "                                                                 activation_116[0][0]             \n",
      "__________________________________________________________________________________________________\n",
      "dense_0 (Dense)                 (None, 20)           420         sum[0][0]                        \n",
      "__________________________________________________________________________________________________\n",
      "activation_117 (Activation)     (None, 20)           0           dense_0[0][0]                    \n",
      "__________________________________________________________________________________________________\n",
      "dense_1 (Dense)                 (None, 20)           420         activation_117[0][0]             \n",
      "__________________________________________________________________________________________________\n",
      "activation_118 (Activation)     (None, 20)           0           dense_1[0][0]                    \n",
      "__________________________________________________________________________________________________\n",
      "dense_2 (Dense)                 (None, 20)           420         activation_118[0][0]             \n",
      "__________________________________________________________________________________________________\n",
      "activation_119 (Activation)     (None, 20)           0           dense_2[0][0]                    \n",
      "__________________________________________________________________________________________________\n",
      "output (Dense)                  (None, 2)            42          activation_119[0][0]             \n",
      "__________________________________________________________________________________________________\n",
      "activation_120 (Activation)     (None, 2)            0           output[0][0]                     \n",
      "==================================================================================================\n",
      "Total params: 2,742\n",
      "Trainable params: 2,742\n",
      "Non-trainable params: 0\n",
      "__________________________________________________________________________________________________\n",
      "----\n",
      "Beginning cycle 0\n",
      "Train on 20666 samples, validate on 12398 samples\n",
      "Epoch 1/8\n",
      "20666/20666 [==============================] - 10s 479us/step - loss: 0.6937 - acc: 0.5027 - val_loss: 0.6928 - val_acc: 0.5116\n",
      "Epoch 2/8\n",
      "20666/20666 [==============================] - 8s 400us/step - loss: 0.6931 - acc: 0.5110 - val_loss: 0.6928 - val_acc: 0.5136\n",
      "Epoch 3/8\n",
      "20666/20666 [==============================] - 8s 397us/step - loss: 0.6930 - acc: 0.5063 - val_loss: 0.6927 - val_acc: 0.5182\n",
      "Epoch 4/8\n",
      "20666/20666 [==============================] - 8s 398us/step - loss: 0.6929 - acc: 0.5120 - val_loss: 0.6927 - val_acc: 0.5117\n",
      "Epoch 5/8\n",
      "20666/20666 [==============================] - 8s 395us/step - loss: 0.6926 - acc: 0.5176 - val_loss: 0.6926 - val_acc: 0.5117\n",
      "Epoch 6/8\n",
      "20666/20666 [==============================] - 8s 397us/step - loss: 0.6933 - acc: 0.5088 - val_loss: 0.6931 - val_acc: 0.5009\n",
      "Epoch 7/8\n",
      "20666/20666 [==============================] - 8s 395us/step - loss: 0.6927 - acc: 0.5177 - val_loss: 0.6926 - val_acc: 0.5196\n",
      "Epoch 8/8\n",
      "20666/20666 [==============================] - 8s 397us/step - loss: 0.6925 - acc: 0.5187 - val_loss: 0.6932 - val_acc: 0.5006\n",
      "----\n",
      "Beginning cycle 1\n",
      "Train on 20666 samples, validate on 12398 samples\n",
      "Epoch 1/8\n",
      "20666/20666 [==============================] - 8s 395us/step - loss: 0.6927 - acc: 0.5082 - val_loss: 0.6929 - val_acc: 0.5105\n",
      "Epoch 2/8\n",
      "20666/20666 [==============================] - 8s 401us/step - loss: 0.6924 - acc: 0.5175 - val_loss: 0.6937 - val_acc: 0.5107\n",
      "Epoch 3/8\n",
      "20666/20666 [==============================] - 8s 397us/step - loss: 0.6925 - acc: 0.5151 - val_loss: 0.6926 - val_acc: 0.5190\n",
      "Epoch 4/8\n",
      "20666/20666 [==============================] - 8s 399us/step - loss: 0.6923 - acc: 0.5187 - val_loss: 0.6927 - val_acc: 0.5115\n",
      "Epoch 5/8\n",
      "20666/20666 [==============================] - 8s 397us/step - loss: 0.6925 - acc: 0.5185 - val_loss: 0.6932 - val_acc: 0.5148\n",
      "Epoch 6/8\n",
      "20666/20666 [==============================] - 8s 395us/step - loss: 0.6924 - acc: 0.5171 - val_loss: 0.6926 - val_acc: 0.5195\n",
      "Epoch 7/8\n",
      "20666/20666 [==============================] - 8s 395us/step - loss: 0.6925 - acc: 0.5183 - val_loss: 0.6926 - val_acc: 0.5118\n",
      "Epoch 8/8\n",
      "20666/20666 [==============================] - 8s 399us/step - loss: 0.6921 - acc: 0.5194 - val_loss: 0.6945 - val_acc: 0.5107\n",
      "----\n",
      "Beginning cycle 2\n",
      "Train on 20666 samples, validate on 12398 samples\n",
      "Epoch 1/8\n",
      "20666/20666 [==============================] - 8s 394us/step - loss: 0.6923 - acc: 0.5175 - val_loss: 0.6939 - val_acc: 0.5135\n",
      "Epoch 2/8\n",
      "20666/20666 [==============================] - 8s 402us/step - loss: 0.6925 - acc: 0.5199 - val_loss: 0.6926 - val_acc: 0.5098\n",
      "Epoch 3/8\n",
      "20666/20666 [==============================] - 8s 400us/step - loss: 0.6925 - acc: 0.5196 - val_loss: 0.6928 - val_acc: 0.5200\n",
      "Epoch 4/8\n",
      "20666/20666 [==============================] - 8s 396us/step - loss: 0.6923 - acc: 0.5217 - val_loss: 0.6927 - val_acc: 0.5194\n",
      "Epoch 5/8\n",
      "20666/20666 [==============================] - 8s 398us/step - loss: 0.6922 - acc: 0.5217 - val_loss: 0.6929 - val_acc: 0.5118\n",
      "Epoch 6/8\n",
      "20666/20666 [==============================] - 8s 398us/step - loss: 0.6922 - acc: 0.5207 - val_loss: 0.6932 - val_acc: 0.5100\n",
      "Epoch 7/8\n",
      "20666/20666 [==============================] - 8s 397us/step - loss: 0.6922 - acc: 0.5186 - val_loss: 0.6927 - val_acc: 0.5204\n",
      "Epoch 8/8\n",
      "20666/20666 [==============================] - 8s 398us/step - loss: 0.6922 - acc: 0.5215 - val_loss: 0.6929 - val_acc: 0.5118\n"
     ]
    }
   ],
   "source": [
    "histories_014, Y_test_014, Y_predicts_014, model_014 = train_model(X_train, X_val, X_test, Y_train,Y_val,Y_test)"
   ]
  },
  {
   "cell_type": "code",
   "execution_count": null,
   "metadata": {},
   "outputs": [],
   "source": []
  },
  {
   "cell_type": "markdown",
   "metadata": {
    "heading_collapsed": true
   },
   "source": [
    "#### 4.1"
   ]
  },
  {
   "cell_type": "code",
   "execution_count": 17,
   "metadata": {
    "ExecuteTime": {
     "end_time": "2021-01-22T18:11:13.156486Z",
     "start_time": "2021-01-22T18:09:42.195765Z"
    },
    "hidden": true
   },
   "outputs": [
    {
     "name": "stdout",
     "output_type": "stream",
     "text": [
      "__________________________________________________________________________________________________\n",
      "Layer (type)                    Output Shape         Param #     Connected to                     \n",
      "==================================================================================================\n",
      "input (InputLayer)              (None, None, 4)      0                                            \n",
      "__________________________________________________________________________________________________\n",
      "tdist_0 (TimeDistributed)       (None, None, 80)     400         input[0][0]                      \n",
      "__________________________________________________________________________________________________\n",
      "activation_15 (Activation)      (None, None, 80)     0           tdist_0[0][0]                    \n",
      "__________________________________________________________________________________________________\n",
      "tdist_1 (TimeDistributed)       (None, None, 40)     3240        activation_15[0][0]              \n",
      "__________________________________________________________________________________________________\n",
      "activation_16 (Activation)      (None, None, 40)     0           tdist_1[0][0]                    \n",
      "__________________________________________________________________________________________________\n",
      "tdist_2 (TimeDistributed)       (None, None, 20)     820         activation_16[0][0]              \n",
      "__________________________________________________________________________________________________\n",
      "mask (Lambda)                   (None, None)         0           input[0][0]                      \n",
      "__________________________________________________________________________________________________\n",
      "activation_17 (Activation)      (None, None, 20)     0           tdist_2[0][0]                    \n",
      "__________________________________________________________________________________________________\n",
      "sum (Dot)                       (None, 20)           0           mask[0][0]                       \n",
      "                                                                 activation_17[0][0]              \n",
      "__________________________________________________________________________________________________\n",
      "dense_0 (Dense)                 (None, 50)           1050        sum[0][0]                        \n",
      "__________________________________________________________________________________________________\n",
      "activation_18 (Activation)      (None, 50)           0           dense_0[0][0]                    \n",
      "__________________________________________________________________________________________________\n",
      "dense_1 (Dense)                 (None, 40)           2040        activation_18[0][0]              \n",
      "__________________________________________________________________________________________________\n",
      "activation_19 (Activation)      (None, 40)           0           dense_1[0][0]                    \n",
      "__________________________________________________________________________________________________\n",
      "dense_2 (Dense)                 (None, 40)           1640        activation_19[0][0]              \n",
      "__________________________________________________________________________________________________\n",
      "activation_20 (Activation)      (None, 40)           0           dense_2[0][0]                    \n",
      "__________________________________________________________________________________________________\n",
      "output (Dense)                  (None, 2)            82          activation_20[0][0]              \n",
      "__________________________________________________________________________________________________\n",
      "activation_21 (Activation)      (None, 2)            0           output[0][0]                     \n",
      "==================================================================================================\n",
      "Total params: 9,272\n",
      "Trainable params: 9,272\n",
      "Non-trainable params: 0\n",
      "__________________________________________________________________________________________________\n",
      "----\n",
      "Beginning cycle 0\n",
      "Train on 121600 samples, validate on 30400 samples\n",
      "Epoch 1/3\n",
      "121600/121600 [==============================] - 10s 84us/step - loss: 0.6908 - acc: 0.5299 - val_loss: 0.6884 - val_acc: 0.5479\n",
      "Epoch 2/3\n",
      "121600/121600 [==============================] - 10s 80us/step - loss: 0.6890 - acc: 0.5397 - val_loss: 0.6887 - val_acc: 0.5409\n",
      "Epoch 3/3\n",
      "121600/121600 [==============================] - 10s 81us/step - loss: 0.6886 - acc: 0.5396 - val_loss: 0.6894 - val_acc: 0.5393\n",
      "----\n",
      "Beginning cycle 1\n",
      "Train on 121600 samples, validate on 30400 samples\n",
      "Epoch 1/3\n",
      "121600/121600 [==============================] - 10s 80us/step - loss: 0.6883 - acc: 0.5402 - val_loss: 0.6877 - val_acc: 0.5454\n",
      "Epoch 2/3\n",
      "121600/121600 [==============================] - 10s 81us/step - loss: 0.6880 - acc: 0.5425 - val_loss: 0.6897 - val_acc: 0.5387\n",
      "Epoch 3/3\n",
      "121600/121600 [==============================] - 10s 80us/step - loss: 0.6879 - acc: 0.5417 - val_loss: 0.6874 - val_acc: 0.5458\n",
      "----\n",
      "Beginning cycle 2\n",
      "Train on 121600 samples, validate on 30400 samples\n",
      "Epoch 1/3\n",
      "121600/121600 [==============================] - 10s 80us/step - loss: 0.6878 - acc: 0.5426 - val_loss: 0.6886 - val_acc: 0.5376\n",
      "Epoch 2/3\n",
      "121600/121600 [==============================] - 10s 80us/step - loss: 0.6876 - acc: 0.5443 - val_loss: 0.6892 - val_acc: 0.5386\n",
      "Epoch 3/3\n",
      "121600/121600 [==============================] - 10s 81us/step - loss: 0.6875 - acc: 0.5450 - val_loss: 0.6929 - val_acc: 0.5292\n"
     ]
    }
   ],
   "source": [
    "Phi_sizes, F_sizes = (80, 40, 20), (50,40,40)\n",
    "num_epoch = 3\n",
    "num_cycles = 3\n",
    "batch_size = 100\n",
    "histories_42, Y_test_42, Y_predicts_42, model_42 = train_model(X_train, X_val, X_test, Y_train,Y_val,Y_test)"
   ]
  },
  {
   "cell_type": "code",
   "execution_count": 18,
   "metadata": {
    "ExecuteTime": {
     "end_time": "2021-01-22T18:11:17.796550Z",
     "start_time": "2021-01-22T18:11:17.536928Z"
    },
    "hidden": true
   },
   "outputs": [
    {
     "data": {
      "image/png": "[encoded data removed]",
      "text/plain": [
       "<Figure size 576x432 with 1 Axes>"
      ]
     },
     "metadata": {
      "needs_background": "light"
     },
     "output_type": "display_data"
    }
   ],
   "source": [
    "evaluate_model(histories_42, Y_test_42, Y_predicts_42)"
   ]
  },
  {
   "cell_type": "code",
   "execution_count": 19,
   "metadata": {
    "ExecuteTime": {
     "end_time": "2021-01-22T18:11:21.950536Z",
     "start_time": "2021-01-22T18:11:21.754527Z"
    },
    "hidden": true
   },
   "outputs": [
    {
     "data": {
      "text/plain": [
       "Text(0.5, 1.0, 'ROC curve')"
      ]
     },
     "execution_count": 19,
     "metadata": {},
     "output_type": "execute_result"
    },
    {
     "data": {
      "image/png": "[encoded data removed]",
      "text/plain": [
       "<Figure size 432x288 with 1 Axes>"
      ]
     },
     "metadata": {
      "needs_background": "light"
     },
     "output_type": "display_data"
    }
   ],
   "source": [
    "import sklearn\n",
    "roc_curve = sklearn.metrics.roc_curve(Y_test_42[:,1:], Y_predicts_42[-1][:,1:])\n",
    "\n",
    "plt.plot(roc_curve[0],roc_curve[1])\n",
    "plt.xlabel('fpr')\n",
    "plt.ylabel('tpr')\n",
    "plt.title('ROC curve')"
   ]
  },
  {
   "cell_type": "code",
   "execution_count": 20,
   "metadata": {
    "ExecuteTime": {
     "end_time": "2021-01-22T18:11:25.291524Z",
     "start_time": "2021-01-22T18:11:25.118616Z"
    },
    "hidden": true
   },
   "outputs": [
    {
     "name": "stderr",
     "output_type": "stream",
     "text": [
      "/opt/anaconda3/envs/shared_env/lib/python3.6/site-packages/ipykernel_launcher.py:1: RuntimeWarning: divide by zero encountered in true_divide\n",
      "  \"\"\"Entry point for launching an IPython kernel.\n",
      "/opt/anaconda3/envs/shared_env/lib/python3.6/site-packages/ipykernel_launcher.py:1: RuntimeWarning: invalid value encountered in true_divide\n",
      "  \"\"\"Entry point for launching an IPython kernel.\n"
     ]
    },
    {
     "data": {
      "text/plain": [
       "Text(0.5, 1.0, 'ROC curve')"
      ]
     },
     "execution_count": 20,
     "metadata": {},
     "output_type": "execute_result"
    },
    {
     "data": {
      "image/png": "[encoded data removed]",
      "text/plain": [
       "<Figure size 432x288 with 1 Axes>"
      ]
     },
     "metadata": {
      "needs_background": "light"
     },
     "output_type": "display_data"
    }
   ],
   "source": [
    "plt.plot(roc_curve[1],roc_curve[1]/roc_curve[0]**0.5)\n",
    "plt.xlabel('tpr')\n",
    "plt.ylabel('tpr/fpr**0.5')\n",
    "plt.title('ROC curve')"
   ]
  },
  {
   "cell_type": "code",
   "execution_count": null,
   "metadata": {
    "hidden": true
   },
   "outputs": [],
   "source": [
    "Phi_sizes, F_sizes = (120, 60, 60), (120,60,60)\n",
    "num_epoch = 8\n",
    "num_cycles = 3\n",
    "batch_size = 100\n",
    "histories_42, Y_test_42, Y_predicts_42, model_42 = train_model(X_train, X_val, X_test, Y_train,Y_val,Y_test)"
   ]
  },
  {
   "cell_type": "markdown",
   "metadata": {},
   "source": [
    "#### Attempt 6: 1 percent siggggg"
   ]
  },
  {
   "cell_type": "code",
   "execution_count": 20,
   "metadata": {
    "ExecuteTime": {
     "end_time": "2020-12-04T09:18:36.020101Z",
     "start_time": "2020-12-04T09:17:48.433480Z"
    }
   },
   "outputs": [
    {
     "name": "stdout",
     "output_type": "stream",
     "text": [
      "Size of sb:\n",
      "(76000, 282, 4)\n",
      "Size of bgsig:\n",
      "(72200, 282, 4)\n",
      "Size of sig:\n",
      "(3800, 282, 4)\n",
      "Training set size, distribution:\n",
      "(121600, 282, 4)\n",
      "(array([0., 1.]), array([60706, 60894]))\n",
      "Validations set size, distribution:\n",
      "(30400, 282, 4)\n",
      "(array([0., 1.]), array([15294, 15106]))\n",
      "Test set size, distribution:\n",
      "(10000, 282, 4)\n",
      "(array([0., 1.]), array([5000, 5000]))\n"
     ]
    }
   ],
   "source": [
    "X_train, X_val, X_test, Y_train,Y_val,Y_test = prep_and_shufflesplit_data(0.05, use_pid=True, normalize_all=True)"
   ]
  },
  {
   "cell_type": "code",
   "execution_count": 21,
   "metadata": {
    "ExecuteTime": {
     "end_time": "2020-12-04T09:30:21.969663Z",
     "start_time": "2020-12-04T09:18:36.021892Z"
    }
   },
   "outputs": [
    {
     "name": "stdout",
     "output_type": "stream",
     "text": [
      "__________________________________________________________________________________________________\n",
      "Layer (type)                    Output Shape         Param #     Connected to                     \n",
      "==================================================================================================\n",
      "input (InputLayer)              (None, None, 4)      0                                            \n",
      "__________________________________________________________________________________________________\n",
      "tdist_0 (TimeDistributed)       (None, None, 80)     400         input[0][0]                      \n",
      "__________________________________________________________________________________________________\n",
      "activation_15 (Activation)      (None, None, 80)     0           tdist_0[0][0]                    \n",
      "__________________________________________________________________________________________________\n",
      "tdist_1 (TimeDistributed)       (None, None, 40)     3240        activation_15[0][0]              \n",
      "__________________________________________________________________________________________________\n",
      "activation_16 (Activation)      (None, None, 40)     0           tdist_1[0][0]                    \n",
      "__________________________________________________________________________________________________\n",
      "tdist_2 (TimeDistributed)       (None, None, 40)     1640        activation_16[0][0]              \n",
      "__________________________________________________________________________________________________\n",
      "mask (Lambda)                   (None, None)         0           input[0][0]                      \n",
      "__________________________________________________________________________________________________\n",
      "activation_17 (Activation)      (None, None, 40)     0           tdist_2[0][0]                    \n",
      "__________________________________________________________________________________________________\n",
      "sum (Dot)                       (None, 40)           0           mask[0][0]                       \n",
      "                                                                 activation_17[0][0]              \n",
      "__________________________________________________________________________________________________\n",
      "dense_0 (Dense)                 (None, 80)           3280        sum[0][0]                        \n",
      "__________________________________________________________________________________________________\n",
      "activation_18 (Activation)      (None, 80)           0           dense_0[0][0]                    \n",
      "__________________________________________________________________________________________________\n",
      "dense_1 (Dense)                 (None, 60)           4860        activation_18[0][0]              \n",
      "__________________________________________________________________________________________________\n",
      "activation_19 (Activation)      (None, 60)           0           dense_1[0][0]                    \n",
      "__________________________________________________________________________________________________\n",
      "dense_2 (Dense)                 (None, 60)           3660        activation_19[0][0]              \n",
      "__________________________________________________________________________________________________\n",
      "activation_20 (Activation)      (None, 60)           0           dense_2[0][0]                    \n",
      "__________________________________________________________________________________________________\n",
      "output (Dense)                  (None, 2)            122         activation_20[0][0]              \n",
      "__________________________________________________________________________________________________\n",
      "activation_21 (Activation)      (None, 2)            0           output[0][0]                     \n",
      "==================================================================================================\n",
      "Total params: 17,202\n",
      "Trainable params: 17,202\n",
      "Non-trainable params: 0\n",
      "__________________________________________________________________________________________________\n",
      "----\n",
      "Beginning cycle 0\n",
      "Train on 121600 samples, validate on 30400 samples\n",
      "Epoch 1/3\n",
      "121600/121600 [==============================] - 79s 649us/step - loss: 0.6905 - acc: 0.5334 - val_loss: 0.6885 - val_acc: 0.5398\n",
      "Epoch 2/3\n",
      "121600/121600 [==============================] - 78s 641us/step - loss: 0.6884 - acc: 0.5419 - val_loss: 0.6906 - val_acc: 0.5364\n",
      "Epoch 3/3\n",
      "121600/121600 [==============================] - 78s 641us/step - loss: 0.6880 - acc: 0.5436 - val_loss: 0.6885 - val_acc: 0.5438\n",
      "----\n",
      "Beginning cycle 1\n",
      "Train on 121600 samples, validate on 30400 samples\n",
      "Epoch 1/3\n",
      "121600/121600 [==============================] - 78s 642us/step - loss: 0.6878 - acc: 0.5439 - val_loss: 0.6876 - val_acc: 0.5432\n",
      "Epoch 2/3\n",
      "121600/121600 [==============================] - 78s 642us/step - loss: 0.6878 - acc: 0.5441 - val_loss: 0.6926 - val_acc: 0.5266\n",
      "Epoch 3/3\n",
      "121600/121600 [==============================] - 78s 643us/step - loss: 0.6875 - acc: 0.5445 - val_loss: 0.6887 - val_acc: 0.5422\n",
      "----\n",
      "Beginning cycle 2\n",
      "Train on 121600 samples, validate on 30400 samples\n",
      "Epoch 1/3\n",
      "121600/121600 [==============================] - 78s 641us/step - loss: 0.6876 - acc: 0.5446 - val_loss: 0.6877 - val_acc: 0.5412\n",
      "Epoch 2/3\n",
      "121600/121600 [==============================] - 78s 641us/step - loss: 0.6875 - acc: 0.5455 - val_loss: 0.6881 - val_acc: 0.5428\n",
      "Epoch 3/3\n",
      "121600/121600 [==============================] - 78s 643us/step - loss: 0.6873 - acc: 0.5459 - val_loss: 0.6875 - val_acc: 0.5455\n"
     ]
    }
   ],
   "source": [
    "Phi_sizes, F_sizes = (80, 40, 40), (80,60,60)\n",
    "num_epoch = 3\n",
    "num_cycles = 3\n",
    "batch_size = 10\n",
    "histories_61, Y_test_61, Y_predicts_61, model_61 = train_model(X_train, X_val, X_test, Y_train,Y_val,Y_test)"
   ]
  },
  {
   "cell_type": "code",
   "execution_count": 23,
   "metadata": {
    "ExecuteTime": {
     "end_time": "2020-12-04T09:49:16.986606Z",
     "start_time": "2020-12-04T09:49:16.686209Z"
    }
   },
   "outputs": [
    {
     "data": {
      "image/png": "[encoded data removed]",
      "text/plain": [
       "<Figure size 576x432 with 1 Axes>"
      ]
     },
     "metadata": {
      "needs_background": "light"
     },
     "output_type": "display_data"
    }
   ],
   "source": [
    "evaluate_model(histories_61, Y_test_61, Y_predicts_61)"
   ]
  },
  {
   "cell_type": "code",
   "execution_count": 24,
   "metadata": {
    "ExecuteTime": {
     "end_time": "2020-12-04T18:07:44.567712Z",
     "start_time": "2020-12-04T18:07:44.412316Z"
    }
   },
   "outputs": [
    {
     "data": {
      "text/plain": [
       "Text(0.5, 1.0, 'ROC curve')"
      ]
     },
     "execution_count": 24,
     "metadata": {},
     "output_type": "execute_result"
    },
    {
     "data": {
      "image/png": "[encoded data removed]",
      "text/plain": [
       "<Figure size 432x288 with 1 Axes>"
      ]
     },
     "metadata": {
      "needs_background": "light"
     },
     "output_type": "display_data"
    }
   ],
   "source": [
    "roc_curve = sklearn.metrics.roc_curve(Y_test_61[:,1:], Y_predicts_61[-1][:,1:])\n",
    "\n",
    "plt.plot(roc_curve[0],roc_curve[1])\n",
    "plt.xlabel('fpr')\n",
    "plt.ylabel('tpr')\n",
    "plt.title('ROC curve')"
   ]
  },
  {
   "cell_type": "code",
   "execution_count": 25,
   "metadata": {
    "ExecuteTime": {
     "end_time": "2020-12-04T18:07:45.782537Z",
     "start_time": "2020-12-04T18:07:45.636672Z"
    }
   },
   "outputs": [
    {
     "name": "stderr",
     "output_type": "stream",
     "text": [
      "/opt/anaconda3/envs/shared_env/lib/python3.6/site-packages/ipykernel_launcher.py:1: RuntimeWarning: invalid value encountered in true_divide\n",
      "  \"\"\"Entry point for launching an IPython kernel.\n"
     ]
    },
    {
     "data": {
      "text/plain": [
       "Text(0.5, 1.0, 'ROC curve')"
      ]
     },
     "execution_count": 25,
     "metadata": {},
     "output_type": "execute_result"
    },
    {
     "data": {
      "image/png": "[encoded data removed]",
      "text/plain": [
       "<Figure size 432x288 with 1 Axes>"
      ]
     },
     "metadata": {
      "needs_background": "light"
     },
     "output_type": "display_data"
    }
   ],
   "source": [
    "plt.plot(roc_curve[1],roc_curve[1]/roc_curve[0]**0.5)\n",
    "plt.xlabel('tpr')\n",
    "plt.ylabel('tpr/fpr**0.5')\n",
    "plt.title('ROC curve')"
   ]
  },
  {
   "cell_type": "markdown",
   "metadata": {},
   "source": [
    "#### Attempt 5: 90 signal"
   ]
  },
  {
   "cell_type": "code",
   "execution_count": 16,
   "metadata": {
    "ExecuteTime": {
     "end_time": "2020-11-30T23:08:53.738089Z",
     "start_time": "2020-11-30T23:08:17.364261Z"
    }
   },
   "outputs": [
    {
     "name": "stdout",
     "output_type": "stream",
     "text": [
      "Size of sb:\n",
      "(76000, 282, 4)\n",
      "Size of bgsig:\n",
      "(7600, 282, 4)\n",
      "Size of sig:\n",
      "(68400, 282, 4)\n",
      "Training set size, distribution:\n",
      "(121600, 282, 4)\n",
      "(array([0., 1.]), array([60931, 60669]))\n",
      "Validations set size, distribution:\n",
      "(30400, 282, 4)\n",
      "(array([0., 1.]), array([15069, 15331]))\n",
      "Test set size, distribution:\n",
      "(10000, 282, 4)\n",
      "(array([0., 1.]), array([5000, 5000]))\n"
     ]
    }
   ],
   "source": [
    "X_train, X_val, X_test, Y_train,Y_val,Y_test = prep_and_shufflesplit_data(0.9, use_pid = True, normalize_all=True)"
   ]
  },
  {
   "cell_type": "code",
   "execution_count": 17,
   "metadata": {
    "ExecuteTime": {
     "end_time": "2020-11-30T23:14:26.174201Z",
     "start_time": "2020-11-30T23:08:53.740045Z"
    }
   },
   "outputs": [
    {
     "name": "stdout",
     "output_type": "stream",
     "text": [
      "__________________________________________________________________________________________________\n",
      "Layer (type)                    Output Shape         Param #     Connected to                     \n",
      "==================================================================================================\n",
      "input (InputLayer)              (None, None, 4)      0                                            \n",
      "__________________________________________________________________________________________________\n",
      "tdist_0 (TimeDistributed)       (None, None, 40)     200         input[0][0]                      \n",
      "__________________________________________________________________________________________________\n",
      "activation_7 (Activation)       (None, None, 40)     0           tdist_0[0][0]                    \n",
      "__________________________________________________________________________________________________\n",
      "tdist_1 (TimeDistributed)       (None, None, 20)     820         activation_7[0][0]               \n",
      "__________________________________________________________________________________________________\n",
      "activation_8 (Activation)       (None, None, 20)     0           tdist_1[0][0]                    \n",
      "__________________________________________________________________________________________________\n",
      "tdist_2 (TimeDistributed)       (None, None, 12)     252         activation_8[0][0]               \n",
      "__________________________________________________________________________________________________\n",
      "mask (Lambda)                   (None, None)         0           input[0][0]                      \n",
      "__________________________________________________________________________________________________\n",
      "activation_9 (Activation)       (None, None, 12)     0           tdist_2[0][0]                    \n",
      "__________________________________________________________________________________________________\n",
      "sum (Dot)                       (None, 12)           0           mask[0][0]                       \n",
      "                                                                 activation_9[0][0]               \n",
      "__________________________________________________________________________________________________\n",
      "dense_0 (Dense)                 (None, 40)           520         sum[0][0]                        \n",
      "__________________________________________________________________________________________________\n",
      "activation_10 (Activation)      (None, 40)           0           dense_0[0][0]                    \n",
      "__________________________________________________________________________________________________\n",
      "dense_1 (Dense)                 (None, 20)           820         activation_10[0][0]              \n",
      "__________________________________________________________________________________________________\n",
      "activation_11 (Activation)      (None, 20)           0           dense_1[0][0]                    \n",
      "__________________________________________________________________________________________________\n",
      "output (Dense)                  (None, 2)            42          activation_11[0][0]              \n",
      "__________________________________________________________________________________________________\n",
      "activation_12 (Activation)      (None, 2)            0           output[0][0]                     \n",
      "==================================================================================================\n",
      "Total params: 2,654\n",
      "Trainable params: 2,654\n",
      "Non-trainable params: 0\n",
      "__________________________________________________________________________________________________\n",
      "----\n",
      "Beginning cycle 0\n",
      "Train on 121600 samples, validate on 30400 samples\n",
      "Epoch 1/3\n",
      "121600/121600 [==============================] - 37s 306us/step - loss: 0.6058 - acc: 0.6856 - val_loss: 0.5835 - val_acc: 0.7052\n",
      "Epoch 2/3\n",
      "121600/121600 [==============================] - 37s 302us/step - loss: 0.5802 - acc: 0.7013 - val_loss: 0.5840 - val_acc: 0.6912\n",
      "Epoch 3/3\n",
      "121600/121600 [==============================] - 37s 302us/step - loss: 0.5773 - acc: 0.7016 - val_loss: 0.5725 - val_acc: 0.7060\n",
      "----\n",
      "Beginning cycle 1\n",
      "Train on 121600 samples, validate on 30400 samples\n",
      "Epoch 1/3\n",
      "121600/121600 [==============================] - 37s 301us/step - loss: 0.5766 - acc: 0.7030 - val_loss: 0.5745 - val_acc: 0.7058\n",
      "Epoch 2/3\n",
      "121600/121600 [==============================] - 37s 302us/step - loss: 0.5765 - acc: 0.7031 - val_loss: 0.5729 - val_acc: 0.7070\n",
      "Epoch 3/3\n",
      "121600/121600 [==============================] - 36s 300us/step - loss: 0.5763 - acc: 0.7028 - val_loss: 0.5744 - val_acc: 0.7057\n",
      "----\n",
      "Beginning cycle 2\n",
      "Train on 121600 samples, validate on 30400 samples\n",
      "Epoch 1/3\n",
      "121600/121600 [==============================] - 36s 300us/step - loss: 0.5760 - acc: 0.7043 - val_loss: 0.5714 - val_acc: 0.7081\n",
      "Epoch 2/3\n",
      "121600/121600 [==============================] - 37s 301us/step - loss: 0.5761 - acc: 0.7042 - val_loss: 0.5719 - val_acc: 0.7072\n",
      "Epoch 3/3\n",
      "121600/121600 [==============================] - 37s 301us/step - loss: 0.5757 - acc: 0.7032 - val_loss: 0.5720 - val_acc: 0.7072\n"
     ]
    }
   ],
   "source": [
    "histories_5, Y_test_5, Y_predicts_5, model_5 = train_model(X_train, X_val, X_test, Y_train,Y_val,Y_test)"
   ]
  },
  {
   "cell_type": "code",
   "execution_count": 18,
   "metadata": {
    "ExecuteTime": {
     "end_time": "2020-11-30T23:14:26.403964Z",
     "start_time": "2020-11-30T23:14:26.176954Z"
    }
   },
   "outputs": [
    {
     "data": {
      "image/png": "[encoded data removed]",
      "text/plain": [
       "<Figure size 576x432 with 1 Axes>"
      ]
     },
     "metadata": {
      "needs_background": "light"
     },
     "output_type": "display_data"
    }
   ],
   "source": [
    "evaluate_model(histories_5, Y_test_5, Y_predicts_5)"
   ]
  },
  {
   "cell_type": "code",
   "execution_count": null,
   "metadata": {},
   "outputs": [],
   "source": []
  }
 ],
 "metadata": {
  "kernelspec": {
   "display_name": "Python 3",
   "language": "python",
   "name": "python3"
  },
  "language_info": {
   "codemirror_mode": {
    "name": "ipython",
    "version": 3
   },
   "file_extension": ".py",
   "mimetype": "text/x-python",
   "name": "python",
   "nbconvert_exporter": "python",
   "pygments_lexer": "ipython3",
   "version": "3.6.5"
  }
 },
 "nbformat": 4,
 "nbformat_minor": 4
}

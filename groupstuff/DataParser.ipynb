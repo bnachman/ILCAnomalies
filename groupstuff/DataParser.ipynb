{
 "cells": [
  {
   "cell_type": "code",
   "execution_count": 1,
   "metadata": {
    "ExecuteTime": {
     "end_time": "2020-10-23T07:15:26.280440Z",
     "start_time": "2020-10-23T07:15:25.824749Z"
    }
   },
   "outputs": [],
   "source": [
    "import numpy as np\n",
    "import matplotlib.pyplot as plt"
   ]
  },
  {
   "cell_type": "code",
   "execution_count": 2,
   "metadata": {
    "ExecuteTime": {
     "end_time": "2020-10-23T07:15:26.784102Z",
     "start_time": "2020-10-23T07:15:26.781303Z"
    }
   },
   "outputs": [],
   "source": [
    "import glob"
   ]
  },
  {
   "cell_type": "code",
   "execution_count": 3,
   "metadata": {
    "ExecuteTime": {
     "end_time": "2020-10-23T07:15:27.601343Z",
     "start_time": "2020-10-23T07:15:27.596043Z"
    }
   },
   "outputs": [],
   "source": [
    "bg_file_list = glob.glob(\"/data0/users/bpnachman/anomaly/bigger/processed_lhe*background.txt\")\n",
    "signal_file_list = glob.glob(\"/data0/users/bpnachman/anomaly/bigger/processed_lhe*signal.txt\")"
   ]
  },
  {
   "cell_type": "code",
   "execution_count": 8,
   "metadata": {
    "ExecuteTime": {
     "end_time": "2020-10-23T07:17:21.666966Z",
     "start_time": "2020-10-23T07:17:21.663122Z"
    }
   },
   "outputs": [],
   "source": [
    "big_bg_path = \"/data0/users/bpnachman/anomaly/bigger/processed_background.txt\""
   ]
  },
  {
   "cell_type": "code",
   "execution_count": 4,
   "metadata": {
    "ExecuteTime": {
     "end_time": "2020-10-23T07:15:28.804029Z",
     "start_time": "2020-10-23T07:15:28.796900Z"
    }
   },
   "outputs": [
    {
     "data": {
      "text/plain": [
       "['/data0/users/bpnachman/anomaly/bigger/processed_lhe005_background.txt',\n",
       " '/data0/users/bpnachman/anomaly/bigger/processed_lhe004_background.txt',\n",
       " '/data0/users/bpnachman/anomaly/bigger/processed_lhe001_background.txt',\n",
       " '/data0/users/bpnachman/anomaly/bigger/processed_lhe006_background.txt',\n",
       " '/data0/users/bpnachman/anomaly/bigger/processed_lhe007_background.txt',\n",
       " '/data0/users/bpnachman/anomaly/bigger/processed_lhe002_background.txt',\n",
       " '/data0/users/bpnachman/anomaly/bigger/processed_lhe008_background.txt',\n",
       " '/data0/users/bpnachman/anomaly/bigger/processed_lhe003_background.txt']"
      ]
     },
     "execution_count": 4,
     "metadata": {},
     "output_type": "execute_result"
    }
   ],
   "source": [
    "bg_file_list"
   ]
  },
  {
   "cell_type": "code",
   "execution_count": 11,
   "metadata": {
    "ExecuteTime": {
     "end_time": "2020-10-23T07:22:29.738623Z",
     "start_time": "2020-10-23T07:22:29.733887Z"
    }
   },
   "outputs": [
    {
     "data": {
      "text/plain": [
       "['/data0/users/bpnachman/anomaly/bigger/processed_lhe004_signal.txt',\n",
       " '/data0/users/bpnachman/anomaly/bigger/processed_lhe005_signal.txt',\n",
       " '/data0/users/bpnachman/anomaly/bigger/processed_lhe003_signal.txt',\n",
       " '/data0/users/bpnachman/anomaly/bigger/processed_lhe002_signal.txt',\n",
       " '/data0/users/bpnachman/anomaly/bigger/processed_lhe006_signal.txt',\n",
       " '/data0/users/bpnachman/anomaly/bigger/processed_lhe009_signal.txt',\n",
       " '/data0/users/bpnachman/anomaly/bigger/processed_lhe007_signal.txt',\n",
       " '/data0/users/bpnachman/anomaly/bigger/processed_lhe001_signal.txt',\n",
       " '/data0/users/bpnachman/anomaly/bigger/processed_lhe010_signal.txt',\n",
       " '/data0/users/bpnachman/anomaly/bigger/processed_lhe008_signal.txt']"
      ]
     },
     "execution_count": 11,
     "metadata": {},
     "output_type": "execute_result"
    }
   ],
   "source": [
    "signal_file_list"
   ]
  },
  {
   "cell_type": "code",
   "execution_count": 5,
   "metadata": {
    "ExecuteTime": {
     "end_time": "2020-10-23T07:15:36.185771Z",
     "start_time": "2020-10-23T07:15:36.165831Z"
    }
   },
   "outputs": [],
   "source": [
    "#\"Background only\" i.e. no anomalies in this dataset\n",
    "#myfile = open(\"/data0/users/bpnachman/anomaly/processed_lhe001_background.txt\")\n",
    "\n",
    "#Want to make new particles with a given mass.  E = mc^2\n",
    "#Instead electron + electron -> new particle -> stuff we sift through\n",
    "#electron + electron -> photon + new particle -> stuff\n",
    "\n",
    "\n",
    "\n",
    "def parse_file(file_object):\n",
    "    all_records = []\n",
    "    mymeasuredenergy = []\n",
    "\n",
    "    count = 0\n",
    "    for line in file_object:\n",
    "\n",
    "        metadata = line.split(\"J\")[0]\n",
    "        eventinfo = line.split(\"J\")[1]\n",
    "        jets = eventinfo.split(\"P\")[0]\n",
    "        particles = eventinfo.split(\"P\")[1]\n",
    "\n",
    "        this_record = {}\n",
    "        this_record['label'] = count\n",
    "        count += 1\n",
    "        eventweight = float(metadata.split()[0])\n",
    "        this_record['eventweight'] = eventweight #this is the event \"weight\".  Let's ignoreit for now (we will need it later).\n",
    "        njets = int(len(jets.split())/11) #number of \"jets\"\n",
    "\n",
    "        nparticles  = int(len(particles.split())/5) #number of particles\n",
    "\n",
    "\n",
    "\n",
    "\n",
    "        #True collision quantities\n",
    "        this_record['truthcenterofmassenergy'] = float(metadata.split()[1]) #true total energy - should be delta function at 1000 GeV\n",
    "        this_record['truthsqrtshat'] = float(metadata.split()[2]) #energy available for making new particles (electron energy - photon)\n",
    "        this_record['truthphotonpT'] = float(metadata.split()[3]) #photon momentum |p| in units of GeV\n",
    "        this_record['truthphotoneta'] = float(metadata.split()[4]) #photon pseudorapidity (~polar angle - see e.g. https://en.wikipedia.org/wiki/Pseudorapidity)\n",
    "        this_record['truthphotonphi'] = float(metadata.split()[5]) #photon azimuthal angle\n",
    "\n",
    "        #Measured collision quantities\n",
    "        measuredcenterofmassenergy  = float(metadata.split()[6]) #true measured energy - should be noisy version of truthcenterofmassenergy\n",
    "        this_record['measuredcenterofmassenergy'] = measuredcenterofmassenergy\n",
    "        this_record['measuredsqrtshat'] = float(metadata.split()[7]) #energy available for making new particles (electron energy - photon)\n",
    "        this_record['measuredphotonpT'] = float(metadata.split()[8]) #photon momentum |p| in units of GeV\n",
    "        this_record['measuredphotoneta'] = float(metadata.split()[9]) #photon pseudorapidity (~polar angle - see e.g. https://en.wikipedia.org/wiki/Pseudorapidity)\n",
    "        this_record['measuredphotonphi'] = float(metadata.split()[10]) #photon azimuthal angle\n",
    "        this_record['metadata'] = metadata.split()\n",
    "\n",
    "        mymeasuredenergy+=[measuredcenterofmassenergy]\n",
    "\n",
    "        this_record['njets'] = njets\n",
    "        jets = jets.split()\n",
    "        jets_vec = []\n",
    "        for i in range(njets):\n",
    "            jet = np.zeros(11)\n",
    "            #order:\n",
    "            # - index\n",
    "            # - magnitude of momentum |p| (units of GeV)\n",
    "            # - pseudorapidity (~polar angle - see e.g. https://en.wikipedia.org/wiki/Pseudorapidity)\n",
    "            # - azimuthal angle\n",
    "            # - mass (units of GeV/c^2)\n",
    "            # - bit encoding of the jet \"flavor\" (not totally sure what the bit means, but will look it up)\n",
    "            # - 0th angular moment of jet radiation\n",
    "            # - 1th angular moment of jet radiation\n",
    "            # - 2th angular moment of jet radiation\n",
    "            # - 3th angular moment of jet radiation\n",
    "            # - 4th angular moment of jet radiation\n",
    "            jet = jets[i*11:i*11+11]\n",
    "            jets_vec+=[jet]\n",
    "\n",
    "        this_record['jets']=jets_vec\n",
    "\n",
    "        this_record['nparticles'] = nparticles\n",
    "\n",
    "        particles = particles.split()\n",
    "        particles_vec = []\n",
    "        for i in range(nparticles):\n",
    "            particle = np.zeros(5)\n",
    "            #order:\n",
    "            # - index\n",
    "            # - magnitude of momentum |p| (units of GeV)\n",
    "            # - pseudorapidity (~polar angle - see e.g. https://en.wikipedia.org/wiki/Pseudorapidity)\n",
    "            # - azimuthal angle\n",
    "            # - particle identifier (https://pdg.lbl.gov/2006/reviews/pdf-files/montecarlo-web.pdf)\n",
    "            particle = particles[i*5:i*5+5]\n",
    "            particles_vec+=[particle]\n",
    "            #print(particles[i*5],particles[i*5+1],particles[i*5+2],particles[i*5+3],particles[i*5+4])\n",
    "        this_record['particles'] = particles_vec\n",
    "\n",
    "        all_records.append(this_record)\n",
    "    return all_records"
   ]
  },
  {
   "cell_type": "code",
   "execution_count": 9,
   "metadata": {
    "ExecuteTime": {
     "end_time": "2020-10-23T07:21:58.967846Z",
     "start_time": "2020-10-23T07:17:43.212630Z"
    }
   },
   "outputs": [],
   "source": [
    "file = open(big_bg_path)\n",
    "bg_records = parse_file(file)"
   ]
  },
  {
   "cell_type": "code",
   "execution_count": 10,
   "metadata": {
    "ExecuteTime": {
     "end_time": "2020-10-23T07:21:58.974697Z",
     "start_time": "2020-10-23T07:21:58.970314Z"
    }
   },
   "outputs": [
    {
     "data": {
      "text/plain": [
       "1270000"
      ]
     },
     "execution_count": 10,
     "metadata": {},
     "output_type": "execute_result"
    }
   ],
   "source": [
    "len(bg_records)"
   ]
  },
  {
   "cell_type": "code",
   "execution_count": 12,
   "metadata": {
    "ExecuteTime": {
     "end_time": "2020-10-23T07:23:19.127033Z",
     "start_time": "2020-10-23T07:22:38.454263Z"
    }
   },
   "outputs": [],
   "source": [
    "sig_records = []\n",
    "for filename in signal_file_list:\n",
    "    file = open(filename)\n",
    "    sig_records += parse_file(file)"
   ]
  },
  {
   "cell_type": "code",
   "execution_count": 36,
   "metadata": {
    "ExecuteTime": {
     "end_time": "2020-10-23T07:44:53.587159Z",
     "start_time": "2020-10-23T07:44:53.582535Z"
    }
   },
   "outputs": [
    {
     "data": {
      "text/plain": [
       "100000"
      ]
     },
     "execution_count": 36,
     "metadata": {},
     "output_type": "execute_result"
    }
   ],
   "source": [
    "len(sig_records)"
   ]
  },
  {
   "cell_type": "code",
   "execution_count": 18,
   "metadata": {
    "ExecuteTime": {
     "end_time": "2020-10-19T22:36:20.284881Z",
     "start_time": "2020-10-19T22:36:20.257579Z"
    }
   },
   "outputs": [],
   "source": [
    "# for i in sig_records:\n",
    "#     i['from_anomaly_data'] = True"
   ]
  },
  {
   "cell_type": "code",
   "execution_count": 19,
   "metadata": {
    "ExecuteTime": {
     "end_time": "2020-10-19T22:36:34.790070Z",
     "start_time": "2020-10-19T22:36:34.767508Z"
    }
   },
   "outputs": [],
   "source": [
    "# for i in bg_records:\n",
    "#     i['from_anomaly_data'] = False"
   ]
  },
  {
   "cell_type": "code",
   "execution_count": 47,
   "metadata": {
    "ExecuteTime": {
     "end_time": "2020-10-19T22:49:24.633992Z",
     "start_time": "2020-10-19T22:49:24.625909Z"
    }
   },
   "outputs": [],
   "source": [
    "# all_records = sig_records[:10000] + bg_records"
   ]
  },
  {
   "cell_type": "code",
   "execution_count": 29,
   "metadata": {
    "ExecuteTime": {
     "end_time": "2020-10-23T07:42:29.862270Z",
     "start_time": "2020-10-23T07:42:28.577431Z"
    }
   },
   "outputs": [
    {
     "data": {
      "image/png": "[encoded data removed]",
      "text/plain": [
       "<Figure size 1440x720 with 1 Axes>"
      ]
     },
     "metadata": {
      "needs_background": "light"
     },
     "output_type": "display_data"
    }
   ],
   "source": [
    "plt.figure(figsize=(20,10))\n",
    "this_arr = np.array([i['truthsqrtshat'] for i in bg_records])\n",
    "plt.hist(this_arr, bins=100)\n",
    "#plt.hist(this_arr, bins=np.logspace(1.5,3,30))\n",
    "#plt.xscale('log')\n",
    "plt.xticks(range(0,1000,20))\n",
    "plt.xlabel(\"truthsqrtshat\")\n",
    "plt.ylabel(\"Number of Events / bin\")\n",
    "np.save('training_data/bg_truthsqrtshat', this_arr)"
   ]
  },
  {
   "cell_type": "markdown",
   "metadata": {},
   "source": [
    "## EFN experimenting"
   ]
  },
  {
   "cell_type": "markdown",
   "metadata": {},
   "source": [
    "### imports and settings"
   ]
  },
  {
   "cell_type": "code",
   "execution_count": 91,
   "metadata": {
    "ExecuteTime": {
     "end_time": "2020-10-23T09:29:04.116286Z",
     "start_time": "2020-10-23T09:29:01.304366Z"
    }
   },
   "outputs": [
    {
     "name": "stderr",
     "output_type": "stream",
     "text": [
      "Using TensorFlow backend.\n",
      "/opt/anaconda3/envs/shared_env/lib/python3.6/site-packages/tensorflow/python/framework/dtypes.py:523: FutureWarning: Passing (type, 1) or '1type' as a synonym of type is deprecated; in a future version of numpy, it will be understood as (type, (1,)) / '(1,)type'.\n",
      "  _np_qint8 = np.dtype([(\"qint8\", np.int8, 1)])\n",
      "/opt/anaconda3/envs/shared_env/lib/python3.6/site-packages/tensorflow/python/framework/dtypes.py:524: FutureWarning: Passing (type, 1) or '1type' as a synonym of type is deprecated; in a future version of numpy, it will be understood as (type, (1,)) / '(1,)type'.\n",
      "  _np_quint8 = np.dtype([(\"quint8\", np.uint8, 1)])\n",
      "/opt/anaconda3/envs/shared_env/lib/python3.6/site-packages/tensorflow/python/framework/dtypes.py:525: FutureWarning: Passing (type, 1) or '1type' as a synonym of type is deprecated; in a future version of numpy, it will be understood as (type, (1,)) / '(1,)type'.\n",
      "  _np_qint16 = np.dtype([(\"qint16\", np.int16, 1)])\n",
      "/opt/anaconda3/envs/shared_env/lib/python3.6/site-packages/tensorflow/python/framework/dtypes.py:526: FutureWarning: Passing (type, 1) or '1type' as a synonym of type is deprecated; in a future version of numpy, it will be understood as (type, (1,)) / '(1,)type'.\n",
      "  _np_quint16 = np.dtype([(\"quint16\", np.uint16, 1)])\n",
      "/opt/anaconda3/envs/shared_env/lib/python3.6/site-packages/tensorflow/python/framework/dtypes.py:527: FutureWarning: Passing (type, 1) or '1type' as a synonym of type is deprecated; in a future version of numpy, it will be understood as (type, (1,)) / '(1,)type'.\n",
      "  _np_qint32 = np.dtype([(\"qint32\", np.int32, 1)])\n",
      "/opt/anaconda3/envs/shared_env/lib/python3.6/site-packages/tensorflow/python/framework/dtypes.py:532: FutureWarning: Passing (type, 1) or '1type' as a synonym of type is deprecated; in a future version of numpy, it will be understood as (type, (1,)) / '(1,)type'.\n",
      "  np_resource = np.dtype([(\"resource\", np.ubyte, 1)])\n"
     ]
    }
   ],
   "source": [
    "import energyflow as ef\n",
    "from energyflow.archs import PFN\n",
    "from energyflow.datasets import qg_jets\n",
    "from energyflow.utils import data_split, remap_pids, to_categorical\n",
    "from sklearn.metrics import roc_auc_score, roc_curve\n"
   ]
  },
  {
   "cell_type": "code",
   "execution_count": 92,
   "metadata": {
    "ExecuteTime": {
     "end_time": "2020-10-23T09:29:06.927684Z",
     "start_time": "2020-10-23T09:29:06.923911Z"
    }
   },
   "outputs": [],
   "source": [
    "from sklearn.utils import shuffle"
   ]
  },
  {
   "cell_type": "markdown",
   "metadata": {
    "ExecuteTime": {
     "end_time": "2020-10-05T21:28:46.206312Z",
     "start_time": "2020-10-05T21:28:46.200487Z"
    }
   },
   "source": [
    "### Divide up the data"
   ]
  },
  {
   "cell_type": "code",
   "execution_count": 99,
   "metadata": {
    "ExecuteTime": {
     "end_time": "2020-10-20T00:03:08.272858Z",
     "start_time": "2020-10-20T00:03:07.987125Z"
    }
   },
   "outputs": [
    {
     "data": {
      "text/plain": [
       "(array([7.0800e+02, 1.1924e+04, 3.4707e+04, 3.1045e+04, 1.5564e+04,\n",
       "        4.6450e+03, 1.1000e+03, 2.5000e+02, 5.2000e+01, 5.0000e+00]),\n",
       " array([ 36. ,  51.7,  67.4,  83.1,  98.8, 114.5, 130.2, 145.9, 161.6,\n",
       "        177.3, 193. ]),\n",
       " <a list of 10 Patch objects>)"
      ]
     },
     "execution_count": 99,
     "metadata": {},
     "output_type": "execute_result"
    },
    {
     "data": {
      "image/png": "[encoded data removed]",
      "text/plain": [
       "<Figure size 432x288 with 1 Axes>"
      ]
     },
     "metadata": {
      "needs_background": "light"
     },
     "output_type": "display_data"
    }
   ],
   "source": [
    "plt.hist([i['nparticles'] for i in sig_records])"
   ]
  },
  {
   "cell_type": "code",
   "execution_count": 100,
   "metadata": {
    "ExecuteTime": {
     "end_time": "2020-10-20T00:03:12.397256Z",
     "start_time": "2020-10-20T00:03:12.110644Z"
    }
   },
   "outputs": [
    {
     "data": {
      "text/plain": [
       "(array([1.360e+02, 2.501e+03, 4.060e+03, 2.907e+03, 1.131e+03, 4.240e+02,\n",
       "        1.510e+02, 4.600e+01, 3.000e+00, 3.000e+00]),\n",
       " array([  8. ,  28.3,  48.6,  68.9,  89.2, 109.5, 129.8, 150.1, 170.4,\n",
       "        190.7, 211. ]),\n",
       " <a list of 10 Patch objects>)"
      ]
     },
     "execution_count": 100,
     "metadata": {},
     "output_type": "execute_result"
    },
    {
     "data": {
      "image/png": "[encoded data removed]",
      "text/plain": [
       "<Figure size 432x288 with 1 Axes>"
      ]
     },
     "metadata": {
      "needs_background": "light"
     },
     "output_type": "display_data"
    }
   ],
   "source": [
    "plt.hist([i['nparticles'] for i in bg_records if (i['truthsqrtshat'] > 140 and i['truthsqrtshat'] < 560)])"
   ]
  },
  {
   "cell_type": "markdown",
   "metadata": {},
   "source": [
    "### Save particles only as X"
   ]
  },
  {
   "cell_type": "markdown",
   "metadata": {},
   "source": [
    "Save all particles in 3d array. dim 0 = datapoints; dim 1 = particles; dim 2 = particle features.\n",
    "\n",
    "Particle features have original index 0 omitted. new index 0, 1, 2 are numerical. index 3 is PID"
   ]
  },
  {
   "cell_type": "code",
   "execution_count": 14,
   "metadata": {
    "ExecuteTime": {
     "end_time": "2020-10-23T07:25:00.237321Z",
     "start_time": "2020-10-23T07:24:59.881948Z"
    }
   },
   "outputs": [],
   "source": [
    "max_bg = max([i['nparticles'] for i in bg_records])"
   ]
  },
  {
   "cell_type": "code",
   "execution_count": 16,
   "metadata": {
    "ExecuteTime": {
     "end_time": "2020-10-23T07:25:30.532448Z",
     "start_time": "2020-10-23T07:25:30.492151Z"
    }
   },
   "outputs": [],
   "source": [
    "max_sig = max([i['nparticles'] for i in sig_records])"
   ]
  },
  {
   "cell_type": "code",
   "execution_count": 19,
   "metadata": {
    "ExecuteTime": {
     "end_time": "2020-10-23T07:25:53.786940Z",
     "start_time": "2020-10-23T07:25:53.783694Z"
    }
   },
   "outputs": [],
   "source": [
    "max_nparticles = max((max_bg, max_sig))"
   ]
  },
  {
   "cell_type": "code",
   "execution_count": 21,
   "metadata": {
    "ExecuteTime": {
     "end_time": "2020-10-23T07:35:05.578695Z",
     "start_time": "2020-10-23T07:27:52.902970Z"
    }
   },
   "outputs": [],
   "source": [
    "\"\"\"\n",
    "Run this cell to save bg particles as X_bg\n",
    "\"\"\"\n",
    "padded_part_arrays =[]\n",
    "for record in bg_records:\n",
    "    # convert to np array\n",
    "    these_particles = np.array(record['particles']).astype('float')\n",
    "    # omit index 0\n",
    "    these_particles = these_particles[:,1:]\n",
    "    # determine how many zero values to pad\n",
    "    pad_length = max_nparticles - these_particles.shape[0]\n",
    "    #pad\n",
    "    padded_particles = np.pad(these_particles, ((0,pad_length),(0,0)))\n",
    "    # check padding\n",
    "    assert padded_particles.shape == (max_nparticles, 4)\n",
    "    # add to list\n",
    "    padded_part_arrays.append(padded_particles)\n",
    "    \n",
    "all_particle_array = np.array(padded_part_arrays)\n",
    "X_bg = all_particle_array"
   ]
  },
  {
   "cell_type": "code",
   "execution_count": 22,
   "metadata": {
    "ExecuteTime": {
     "end_time": "2020-10-23T07:35:31.140025Z",
     "start_time": "2020-10-23T07:35:31.133386Z"
    }
   },
   "outputs": [
    {
     "data": {
      "text/plain": [
       "(1270000, 267, 4)"
      ]
     },
     "execution_count": 22,
     "metadata": {},
     "output_type": "execute_result"
    }
   ],
   "source": [
    "X_bg.shape"
   ]
  },
  {
   "cell_type": "code",
   "execution_count": 24,
   "metadata": {
    "ExecuteTime": {
     "end_time": "2020-10-23T07:39:08.656770Z",
     "start_time": "2020-10-23T07:38:35.429452Z"
    }
   },
   "outputs": [],
   "source": [
    "\"\"\"\n",
    "Run this cell to save X_bg to disk\n",
    "\"\"\"\n",
    "\n",
    "path = \"training_data/X_bg\"\n",
    "np.save(path, X_bg)"
   ]
  },
  {
   "cell_type": "code",
   "execution_count": null,
   "metadata": {},
   "outputs": [],
   "source": [
    "y_bg = np.array([i['truthsqrtshat'] for i in bg_records])"
   ]
  },
  {
   "cell_type": "code",
   "execution_count": 32,
   "metadata": {
    "ExecuteTime": {
     "end_time": "2020-10-23T07:44:13.236901Z",
     "start_time": "2020-10-23T07:44:12.723755Z"
    }
   },
   "outputs": [],
   "source": [
    "\"\"\"\n",
    "Run this cell to save y_bg to disk\n",
    "\"\"\"\n",
    "path = \"training_data/y_bg\"\n",
    "\n",
    "np.save(path, y_bg)"
   ]
  },
  {
   "cell_type": "code",
   "execution_count": 35,
   "metadata": {
    "ExecuteTime": {
     "end_time": "2020-10-23T07:44:46.447954Z",
     "start_time": "2020-10-23T07:44:46.442021Z"
    }
   },
   "outputs": [
    {
     "data": {
      "text/plain": [
       "(1270000,)"
      ]
     },
     "execution_count": 35,
     "metadata": {},
     "output_type": "execute_result"
    }
   ],
   "source": [
    "y_bg.shape"
   ]
  },
  {
   "cell_type": "code",
   "execution_count": 37,
   "metadata": {
    "ExecuteTime": {
     "end_time": "2020-10-23T07:46:49.388662Z",
     "start_time": "2020-10-23T07:45:55.958831Z"
    }
   },
   "outputs": [],
   "source": [
    "\"\"\"\n",
    "Get X_sig and y_sig\n",
    "\"\"\"\n",
    "padded_part_arrays =[]\n",
    "for record in sig_records:\n",
    "    # convert to np array\n",
    "    these_particles = np.array(record['particles']).astype('float')\n",
    "    # omit index 0\n",
    "    these_particles = these_particles[:,1:]\n",
    "    # determine how many zero values to pad\n",
    "    pad_length = max_nparticles - these_particles.shape[0]\n",
    "    #pad\n",
    "    padded_particles = np.pad(these_particles, ((0,pad_length),(0,0)))\n",
    "    # check padding\n",
    "    assert padded_particles.shape == (max_nparticles, 4)\n",
    "    # add to list\n",
    "    padded_part_arrays.append(padded_particles)\n",
    "    \n",
    "all_particle_array = np.array(padded_part_arrays)\n",
    "X_sig = all_particle_array\n",
    "y_sig = np.array([i['truthsqrtshat'] for i in sig_records])"
   ]
  },
  {
   "cell_type": "code",
   "execution_count": 39,
   "metadata": {
    "ExecuteTime": {
     "end_time": "2020-10-23T08:20:23.847572Z",
     "start_time": "2020-10-23T08:20:20.695747Z"
    }
   },
   "outputs": [],
   "source": [
    "\"\"\"\n",
    "Run this cell to save X_sig and y_sig to disk\n",
    "\"\"\"\n",
    "\n",
    "X_sig_path = \"training_data/X_sig\"\n",
    "y_sig_path = \"training_data/y_sig\"\n",
    "np.save(X_sig_path, X_sig)\n",
    "np.save(y_sig_path, y_sig)"
   ]
  },
  {
   "cell_type": "code",
   "execution_count": 80,
   "metadata": {
    "ExecuteTime": {
     "end_time": "2020-10-23T09:13:49.943602Z",
     "start_time": "2020-10-23T09:13:49.938437Z"
    }
   },
   "outputs": [
    {
     "data": {
      "text/plain": [
       "(100000,)"
      ]
     },
     "execution_count": 80,
     "metadata": {},
     "output_type": "execute_result"
    }
   ],
   "source": [
    "y_sig.shape"
   ]
  },
  {
   "cell_type": "code",
   "execution_count": 52,
   "metadata": {
    "ExecuteTime": {
     "end_time": "2020-10-19T22:50:08.526792Z",
     "start_time": "2020-10-19T22:50:08.521916Z"
    }
   },
   "outputs": [
    {
     "data": {
      "text/plain": [
       "(89999, 260, 4)"
      ]
     },
     "execution_count": 52,
     "metadata": {},
     "output_type": "execute_result"
    }
   ],
   "source": [
    "X.shape"
   ]
  },
  {
   "cell_type": "markdown",
   "metadata": {
    "heading_collapsed": true
   },
   "source": [
    "### Save jets as Z"
   ]
  },
  {
   "cell_type": "code",
   "execution_count": 58,
   "metadata": {
    "ExecuteTime": {
     "end_time": "2020-10-05T23:31:04.279952Z",
     "start_time": "2020-10-05T23:31:04.274824Z"
    },
    "hidden": true
   },
   "outputs": [
    {
     "data": {
      "text/plain": [
       "[['0',\n",
       "  '189.98',\n",
       "  '-1.62299',\n",
       "  '1.02308',\n",
       "  '89.4432',\n",
       "  '0',\n",
       "  '0.429496',\n",
       "  '0.0397034',\n",
       "  '0.0308161',\n",
       "  '0.0261881',\n",
       "  '0.0196577']]"
      ]
     },
     "execution_count": 58,
     "metadata": {},
     "output_type": "execute_result"
    }
   ],
   "source": [
    "all_records[0]['jets']"
   ]
  },
  {
   "cell_type": "code",
   "execution_count": 55,
   "metadata": {
    "ExecuteTime": {
     "end_time": "2020-10-05T23:29:59.152338Z",
     "start_time": "2020-10-05T23:29:59.122995Z"
    },
    "hidden": true
   },
   "outputs": [],
   "source": [
    "max_njets = max([i['njets'] for i in all_records])"
   ]
  },
  {
   "cell_type": "code",
   "execution_count": 71,
   "metadata": {
    "ExecuteTime": {
     "end_time": "2020-10-05T23:37:22.063108Z",
     "start_time": "2020-10-05T23:37:12.111218Z"
    },
    "hidden": true
   },
   "outputs": [],
   "source": [
    "padded_jet_arrays =[]\n",
    "for record in all_records:\n",
    "    # convert to np array\n",
    "    these_jets = np.array(record['jets']).astype('float')\n",
    "    # omit index 0\n",
    "    if len(these_jets) == 0:\n",
    "        these_jets = np.zeros(11).reshape([1,11])\n",
    "    these_jets = these_jets[:,1:]\n",
    "        \n",
    "    # determine how many zero values to pad\n",
    "    pad_length = max_njets - these_jets.shape[0]\n",
    "    #pad\n",
    "    padded_jets = np.pad(these_jets, ((0,pad_length),(0,0)))\n",
    "    # check padding\n",
    "    assert padded_jets.shape == (max_njets, 10)\n",
    "    # add to list\n",
    "    padded_jet_arrays.append(padded_jets)\n",
    "    \n",
    "all_jet_array = np.array(padded_jet_arrays)\n",
    "Z = all_jet_array"
   ]
  },
  {
   "cell_type": "code",
   "execution_count": 72,
   "metadata": {
    "ExecuteTime": {
     "end_time": "2020-10-05T23:37:26.282084Z",
     "start_time": "2020-10-05T23:37:26.276248Z"
    },
    "hidden": true
   },
   "outputs": [
    {
     "data": {
      "text/plain": [
       "(79999, 8, 10)"
      ]
     },
     "execution_count": 72,
     "metadata": {},
     "output_type": "execute_result"
    }
   ],
   "source": [
    "Z.shape"
   ]
  },
  {
   "cell_type": "markdown",
   "metadata": {},
   "source": [
    "### Save measured truthsqrtshat as y"
   ]
  },
  {
   "cell_type": "code",
   "execution_count": 53,
   "metadata": {
    "ExecuteTime": {
     "end_time": "2020-10-19T22:50:08.578134Z",
     "start_time": "2020-10-19T22:50:08.530068Z"
    }
   },
   "outputs": [],
   "source": [
    "# y = np.array([i['truthsqrtshat'] for i in all_records])"
   ]
  },
  {
   "cell_type": "code",
   "execution_count": 54,
   "metadata": {
    "ExecuteTime": {
     "end_time": "2020-10-19T22:50:08.586529Z",
     "start_time": "2020-10-19T22:50:08.580560Z"
    }
   },
   "outputs": [
    {
     "data": {
      "text/plain": [
       "(89999,)"
      ]
     },
     "execution_count": 54,
     "metadata": {},
     "output_type": "execute_result"
    }
   ],
   "source": [
    "# y.shape"
   ]
  },
  {
   "cell_type": "markdown",
   "metadata": {},
   "source": [
    "### Identify signal & side band"
   ]
  },
  {
   "cell_type": "code",
   "execution_count": 58,
   "metadata": {
    "ExecuteTime": {
     "end_time": "2020-10-23T08:41:24.335381Z",
     "start_time": "2020-10-23T08:41:24.328791Z"
    }
   },
   "outputs": [],
   "source": [
    "side_band_left = 160\n",
    "side_band_right = 540\n",
    "signal_left = 300\n",
    "signal_right = 400\n",
    "def binary_side_band(y_thing):\n",
    "    if y_thing >= signal_left and y_thing < signal_right:\n",
    "        return 1\n",
    "    elif y_thing >= side_band_left and y_thing < side_band_right:\n",
    "        return 0\n",
    "    else:\n",
    "        return -1\n"
   ]
  },
  {
   "cell_type": "code",
   "execution_count": 59,
   "metadata": {
    "ExecuteTime": {
     "end_time": "2020-10-23T08:41:25.449560Z",
     "start_time": "2020-10-23T08:41:24.867994Z"
    }
   },
   "outputs": [],
   "source": [
    "y_binary = np.vectorize(binary_side_band)(y_bg)"
   ]
  },
  {
   "cell_type": "code",
   "execution_count": 118,
   "metadata": {
    "ExecuteTime": {
     "end_time": "2020-10-23T10:14:44.818130Z",
     "start_time": "2020-10-23T10:14:44.809139Z"
    }
   },
   "outputs": [
    {
     "data": {
      "text/plain": [
       "(array([0]), array([51562]))"
      ]
     },
     "execution_count": 118,
     "metadata": {},
     "output_type": "execute_result"
    }
   ],
   "source": [
    "np.unique(y_sideband,return_counts = True)"
   ]
  },
  {
   "cell_type": "code",
   "execution_count": 61,
   "metadata": {
    "ExecuteTime": {
     "end_time": "2020-10-23T08:42:20.045919Z",
     "start_time": "2020-10-23T08:42:20.040212Z"
    }
   },
   "outputs": [],
   "source": [
    "side_band_indicator = (y_binary == 0)"
   ]
  },
  {
   "cell_type": "code",
   "execution_count": 63,
   "metadata": {
    "ExecuteTime": {
     "end_time": "2020-10-23T08:43:13.144047Z",
     "start_time": "2020-10-23T08:43:13.033667Z"
    }
   },
   "outputs": [],
   "source": [
    "X_sideband = X_bg[side_band_indicator]\n",
    "y_sideband = y_binary[side_band_indicator]"
   ]
  },
  {
   "cell_type": "code",
   "execution_count": 64,
   "metadata": {
    "ExecuteTime": {
     "end_time": "2020-10-23T08:44:14.946070Z",
     "start_time": "2020-10-23T08:44:14.940242Z"
    }
   },
   "outputs": [],
   "source": [
    "bg_signal_indicator = (y_binary == 1)"
   ]
  },
  {
   "cell_type": "code",
   "execution_count": 65,
   "metadata": {
    "ExecuteTime": {
     "end_time": "2020-10-23T08:44:34.318899Z",
     "start_time": "2020-10-23T08:44:34.285388Z"
    }
   },
   "outputs": [],
   "source": [
    "X_bgsignal = X_bg[bg_signal_indicator]\n",
    "y_bgsignal = y_binary[bg_signal_indicator]"
   ]
  },
  {
   "cell_type": "markdown",
   "metadata": {},
   "source": [
    "### Select signal & side band data points"
   ]
  },
  {
   "cell_type": "code",
   "execution_count": 60,
   "metadata": {
    "ExecuteTime": {
     "end_time": "2020-10-19T22:50:45.930328Z",
     "start_time": "2020-10-19T22:50:45.875628Z"
    }
   },
   "outputs": [],
   "source": [
    "X_selected = X[within_bounds_indicator]\n",
    "y_selected = y_binary[within_bounds_indicator]"
   ]
  },
  {
   "cell_type": "markdown",
   "metadata": {},
   "source": [
    "### Preprocessing"
   ]
  },
  {
   "cell_type": "code",
   "execution_count": 69,
   "metadata": {
    "ExecuteTime": {
     "end_time": "2020-10-23T09:03:25.812075Z",
     "start_time": "2020-10-23T09:03:25.805361Z"
    }
   },
   "outputs": [
    {
     "data": {
      "text/plain": [
       "(11049, 267, 4)"
      ]
     },
     "execution_count": 69,
     "metadata": {},
     "output_type": "execute_result"
    }
   ],
   "source": [
    "X_bgsignal[:50000].shape"
   ]
  },
  {
   "cell_type": "code",
   "execution_count": 66,
   "metadata": {
    "ExecuteTime": {
     "end_time": "2020-10-23T08:56:59.337671Z",
     "start_time": "2020-10-23T08:56:59.331391Z"
    }
   },
   "outputs": [
    {
     "data": {
      "text/plain": [
       "(51562, 267, 4)"
      ]
     },
     "execution_count": 66,
     "metadata": {},
     "output_type": "execute_result"
    }
   ],
   "source": [
    "X_sideband.shape"
   ]
  },
  {
   "cell_type": "code",
   "execution_count": 70,
   "metadata": {
    "ExecuteTime": {
     "end_time": "2020-10-23T09:05:46.391518Z",
     "start_time": "2020-10-23T09:05:46.347641Z"
    }
   },
   "outputs": [
    {
     "data": {
      "text/plain": [
       "(33147, 267, 4)"
      ]
     },
     "execution_count": 70,
     "metadata": {},
     "output_type": "execute_result"
    }
   ],
   "source": [
    "np.concatenate([X_bgsignal]*3).shape"
   ]
  },
  {
   "cell_type": "code",
   "execution_count": 68,
   "metadata": {
    "ExecuteTime": {
     "end_time": "2020-10-23T08:57:55.749807Z",
     "start_time": "2020-10-23T08:57:55.743906Z"
    }
   },
   "outputs": [
    {
     "data": {
      "text/plain": [
       "(62611,)"
      ]
     },
     "execution_count": 68,
     "metadata": {},
     "output_type": "execute_result"
    }
   ],
   "source": [
    "np.concatenate([y_sideband, y_bgsignal]).shape"
   ]
  },
  {
   "cell_type": "code",
   "execution_count": 82,
   "metadata": {
    "ExecuteTime": {
     "end_time": "2020-10-23T09:17:36.918546Z",
     "start_time": "2020-10-23T09:17:36.713742Z"
    }
   },
   "outputs": [],
   "source": [
    "import math\n",
    "from sklearn.utils import shuffle"
   ]
  },
  {
   "cell_type": "code",
   "execution_count": 79,
   "metadata": {
    "ExecuteTime": {
     "end_time": "2020-10-23T09:09:28.121723Z",
     "start_time": "2020-10-23T09:09:28.115931Z"
    }
   },
   "outputs": [
    {
     "data": {
      "text/plain": [
       "3"
      ]
     },
     "execution_count": 79,
     "metadata": {},
     "output_type": "execute_result"
    }
   ],
   "source": [
    "round(2.500000001)"
   ]
  },
  {
   "cell_type": "code",
   "execution_count": 122,
   "metadata": {
    "ExecuteTime": {
     "end_time": "2020-10-23T10:15:14.561136Z",
     "start_time": "2020-10-23T10:15:14.531048Z"
    }
   },
   "outputs": [],
   "source": [
    "def prep_and_shufflesplit_data(anomaly_ratio, size_each = 50000, shuffle_seed = 69, train = 0.7, val = 0.2, test = 0.1):\n",
    "    \n",
    "    assert (size_each <= min(X_sideband.shape[0], X_sig.shape[0]))\n",
    "    \n",
    "    #how much bg and signal data to take?\n",
    "    anom_size = round(anomaly_ratio * size_each)\n",
    "    bg_sig_size = size_each - anom_size\n",
    "    \n",
    "    # select sideband datapoints\n",
    "    this_X_sideband = X_sideband[:size_each]\n",
    "    this_y_sideband = y_sideband[:size_each]\n",
    "    \n",
    "    # duplicate bgsignal datapoints\n",
    "    this_X_bgsignal = np.copy(X_bgsignal)\n",
    "    this_y_bgsignal = np.copy(y_bgsignal)\n",
    "        \n",
    "    (this_X_bgsignal, this_X_bgsignal_v, this_X_bgsignal_t,\n",
    "     this_y_bgsignal, this_y_bgsignal_v, this_y_bgsignal_t) = data_split(this_X_bgsignal, this_y_bgsignal, val=val, test=test)\n",
    "    \n",
    "    bg_sig_size_tr = round(bg_sig_size * train)\n",
    "    \n",
    "    if this_X_bgsignal.shape[0] < bg_sig_size_tr:\n",
    "        \n",
    "        multiplier = math.ceil(bg_sig_size_tr/this_X_bgsignal.shape[0])\n",
    "        \n",
    "        this_X_bgsignal = np.concatenate([this_X_bgsignal] * multiplier)\n",
    "        this_y_bgsignal = np.concatenate([this_y_bgsignal] * multiplier)\n",
    "        \n",
    "        this_X_bgsignal_v = np.concatenate([this_X_bgsignal_v] * multiplier)\n",
    "        this_y_bgsignal_v = np.concatenate([this_y_bgsignal_v] * multiplier)\n",
    "        \n",
    "        this_X_bgsignal_t = np.concatenate([this_X_bgsignal_t] * multiplier)\n",
    "        this_y_bgsignal_t = np.concatenate([this_y_bgsignal_t] * multiplier)\n",
    "        \n",
    "        \n",
    "        \n",
    "    assert this_X_bgsignal.shape[0] == this_y_bgsignal.shape[0]\n",
    "    \n",
    "    #select bgsignal datapoints\n",
    "    this_X_bgsignal = this_X_bgsignal[:bg_sig_size_tr]\n",
    "    this_y_bgsignal = this_y_bgsignal[:bg_sig_size_tr]\n",
    "    \n",
    "    this_X_bgsignal_v = this_X_bgsignal_v[:round(bg_sig_size * val)]\n",
    "    this_y_bgsignal_v = this_y_bgsignal_v[:round(bg_sig_size * val)]\n",
    "    \n",
    "    this_X_bgsignal_t = this_X_bgsignal_t[:round(bg_sig_size * test)]\n",
    "    this_y_bgsignal_t = this_y_bgsignal_t[:round(bg_sig_size * test)]\n",
    "    \n",
    "    #select anomaly datapoints\n",
    "    this_X_anom = X_sig[:anom_size]\n",
    "    this_y_anom = np.ones(anom_size)\n",
    "    \n",
    "    \n",
    "    \n",
    "    # only bg_sig has been split. Now, we have to shuffle then split the others.\n",
    "    this_X = np.concatenate([this_X_sideband, this_X_anom])\n",
    "    this_y = np.concatenate([this_y_sideband, this_y_anom])\n",
    "    \n",
    "    assert this_X.shape[0] == this_y.shape[0]\n",
    "    this_X, this_y = shuffle(this_X, this_y, random_state = shuffle_seed)\n",
    "    \n",
    "    (this_X_train, this_X_val, this_X_test,\n",
    "     this_y_train, this_y_val, this_y_test) = data_split(this_X, this_y, val=val, test=test)\n",
    "    \n",
    "    # now, we can add the bg_sig to the rest of the data and shuffle again\n",
    "    X_train, y_train = shuffle(np.concatenate([this_X_train, this_X_bgsignal]),\n",
    "                               np.concatenate([this_y_train, this_y_bgsignal]),\n",
    "                              random_state = shuffle_seed)\n",
    "    X_val, y_val = shuffle(np.concatenate([this_X_val, this_X_bgsignal_v]),\n",
    "                               np.concatenate([this_y_val, this_y_bgsignal_v]),\n",
    "                              random_state = shuffle_seed)\n",
    "    X_test, y_test = shuffle(np.concatenate([this_X_test, this_X_bgsignal_t]),\n",
    "                               np.concatenate([this_y_test, this_y_bgsignal_t]),\n",
    "                              random_state = shuffle_seed)\n",
    "    \n",
    "    \n",
    "    # Centre and normalize all the Xs\n",
    "    for x in X_train:\n",
    "        mask = x[:,0] > 0\n",
    "        yphi_avg = np.average(x[mask,1:3], weights=x[mask,0], axis=0)\n",
    "        x[mask,1:3] -= yphi_avg\n",
    "        x[mask,0] /= x[:,0].sum()\n",
    "    for x in X_val:\n",
    "        mask = x[:,0] > 0\n",
    "        yphi_avg = np.average(x[mask,1:3], weights=x[mask,0], axis=0)\n",
    "        x[mask,1:3] -= yphi_avg\n",
    "        x[mask,0] /= x[:,0].sum()\n",
    "    for x in X_test:\n",
    "        mask = x[:,0] > 0\n",
    "        yphi_avg = np.average(x[mask,1:3], weights=x[mask,0], axis=0)\n",
    "        x[mask,1:3] -= yphi_avg\n",
    "        x[mask,0] /= x[:,0].sum()\n",
    "    \n",
    "    # remap PIDs for all the Xs\n",
    "    remap_pids(X_train, pid_i=3)\n",
    "    remap_pids(X_val, pid_i=3)\n",
    "    remap_pids(X_test, pid_i=3)\n",
    "    \n",
    "    # change Y to categorical Matrix\n",
    "    Y_train = to_categorical(y_train, num_classes=2)\n",
    "    Y_val = to_categorical(y_val, num_classes=2)\n",
    "    Y_test = to_categorical(y_test, num_classes=2)\n",
    "\n",
    "    \n",
    "    return X_train, X_val, X_test, Y_train,Y_val,Y_test\n",
    "    "
   ]
  },
  {
   "cell_type": "code",
   "execution_count": 123,
   "metadata": {
    "ExecuteTime": {
     "end_time": "2020-10-23T10:15:46.146241Z",
     "start_time": "2020-10-23T10:15:17.362758Z"
    }
   },
   "outputs": [],
   "source": [
    "X_train, X_val, X_test, Y_train,Y_val,Y_test = prep_and_shufflesplit_data(0.1)"
   ]
  },
  {
   "cell_type": "code",
   "execution_count": null,
   "metadata": {},
   "outputs": [],
   "source": []
  },
  {
   "cell_type": "code",
   "execution_count": 66,
   "metadata": {
    "ExecuteTime": {
     "end_time": "2020-10-19T22:54:11.450746Z",
     "start_time": "2020-10-19T22:54:11.445437Z"
    }
   },
   "outputs": [],
   "source": [
    "# train, val, test = 18000, 2000, 1186\n",
    "# use_pids = True\n"
   ]
  },
  {
   "cell_type": "code",
   "execution_count": 67,
   "metadata": {
    "ExecuteTime": {
     "end_time": "2020-10-19T22:54:18.815630Z",
     "start_time": "2020-10-19T22:54:16.071749Z"
    }
   },
   "outputs": [],
   "source": [
    "# # center and normalize\n",
    "# X_normalized = np.copy(X_shuffled)\n",
    "# for x in X_normalized:\n",
    "#     mask = x[:,0] > 0\n",
    "#     yphi_avg = np.average(x[mask,1:3], weights=x[mask,0], axis=0)\n",
    "#     x[mask,1:3] -= yphi_avg\n",
    "#     x[mask,0] /= x[:,0].sum()\n"
   ]
  },
  {
   "cell_type": "code",
   "execution_count": 68,
   "metadata": {
    "ExecuteTime": {
     "end_time": "2020-10-19T22:54:26.022173Z",
     "start_time": "2020-10-19T22:54:22.694592Z"
    }
   },
   "outputs": [],
   "source": [
    "# # handle particle id channel\n",
    "# if use_pids:\n",
    "#     remap_pids(X_normalized, pid_i=3)\n",
    "# else:\n",
    "#     X_normalized = X_normalized[:,:,:3]"
   ]
  },
  {
   "cell_type": "code",
   "execution_count": 69,
   "metadata": {
    "ExecuteTime": {
     "end_time": "2020-10-19T22:54:30.881932Z",
     "start_time": "2020-10-19T22:54:30.878065Z"
    }
   },
   "outputs": [],
   "source": [
    "# categorize y\n",
    "# Y = to_categorical(y_shuffled, num_classes=2)"
   ]
  },
  {
   "cell_type": "code",
   "execution_count": 70,
   "metadata": {
    "ExecuteTime": {
     "end_time": "2020-10-19T22:54:37.480452Z",
     "start_time": "2020-10-19T22:54:37.424330Z"
    },
    "scrolled": true
   },
   "outputs": [],
   "source": [
    "# # do train/val/test split \n",
    "# (X_train, X_val, X_test,\n",
    "#  Y_train, Y_val, Y_test) = data_split(X_normalized, Y, val=val, test=test)"
   ]
  },
  {
   "cell_type": "markdown",
   "metadata": {},
   "source": [
    "### Building the model"
   ]
  },
  {
   "cell_type": "code",
   "execution_count": 136,
   "metadata": {
    "ExecuteTime": {
     "end_time": "2020-10-23T10:25:43.575030Z",
     "start_time": "2020-10-23T10:25:43.569475Z"
    }
   },
   "outputs": [],
   "source": [
    "Phi_sizes, F_sizes = (10, 10, 16), (40, 20)\n",
    "num_epoch = 5\n",
    "batch_size = 10"
   ]
  },
  {
   "cell_type": "code",
   "execution_count": 137,
   "metadata": {
    "ExecuteTime": {
     "end_time": "2020-10-23T10:25:43.906214Z",
     "start_time": "2020-10-23T10:25:43.900478Z"
    }
   },
   "outputs": [],
   "source": [
    "def train_models(X_train, X_val, X_test, Y_train,Y_val,Y_test):\n",
    "    model = PFN(input_dim=X_train.shape[-1], Phi_sizes=Phi_sizes, F_sizes=F_sizes)\n",
    "    history = model.fit(X_train, Y_train,\n",
    "          epochs=num_epoch,\n",
    "          batch_size=batch_size,\n",
    "          validation_data=(X_val, Y_val),\n",
    "          verbose=1)\n",
    "    Y_predict = model.predict(X_test)\n",
    "    \n",
    "    return (history, Y_test, Y_predict)\n",
    "    "
   ]
  },
  {
   "cell_type": "code",
   "execution_count": 138,
   "metadata": {
    "ExecuteTime": {
     "end_time": "2020-10-23T10:25:44.456509Z",
     "start_time": "2020-10-23T10:25:44.453580Z"
    }
   },
   "outputs": [],
   "source": [
    "all_results = []"
   ]
  },
  {
   "cell_type": "code",
   "execution_count": 139,
   "metadata": {
    "ExecuteTime": {
     "end_time": "2020-10-23T10:29:59.445346Z",
     "start_time": "2020-10-23T10:25:45.401817Z"
    }
   },
   "outputs": [
    {
     "name": "stdout",
     "output_type": "stream",
     "text": [
      "__________________________________________________________________________________________________\n",
      "Layer (type)                    Output Shape         Param #     Connected to                     \n",
      "==================================================================================================\n",
      "input (InputLayer)              (None, None, 4)      0                                            \n",
      "__________________________________________________________________________________________________\n",
      "tdist_0 (TimeDistributed)       (None, None, 10)     50          input[0][0]                      \n",
      "__________________________________________________________________________________________________\n",
      "activation_13 (Activation)      (None, None, 10)     0           tdist_0[0][0]                    \n",
      "__________________________________________________________________________________________________\n",
      "tdist_1 (TimeDistributed)       (None, None, 10)     110         activation_13[0][0]              \n",
      "__________________________________________________________________________________________________\n",
      "activation_14 (Activation)      (None, None, 10)     0           tdist_1[0][0]                    \n",
      "__________________________________________________________________________________________________\n",
      "tdist_2 (TimeDistributed)       (None, None, 16)     176         activation_14[0][0]              \n",
      "__________________________________________________________________________________________________\n",
      "mask (Lambda)                   (None, None)         0           input[0][0]                      \n",
      "__________________________________________________________________________________________________\n",
      "activation_15 (Activation)      (None, None, 16)     0           tdist_2[0][0]                    \n",
      "__________________________________________________________________________________________________\n",
      "sum (Dot)                       (None, 16)           0           mask[0][0]                       \n",
      "                                                                 activation_15[0][0]              \n",
      "__________________________________________________________________________________________________\n",
      "dense_0 (Dense)                 (None, 40)           680         sum[0][0]                        \n",
      "__________________________________________________________________________________________________\n",
      "activation_16 (Activation)      (None, 40)           0           dense_0[0][0]                    \n",
      "__________________________________________________________________________________________________\n",
      "dense_1 (Dense)                 (None, 20)           820         activation_16[0][0]              \n",
      "__________________________________________________________________________________________________\n",
      "activation_17 (Activation)      (None, 20)           0           dense_1[0][0]                    \n",
      "__________________________________________________________________________________________________\n",
      "output (Dense)                  (None, 2)            42          activation_17[0][0]              \n",
      "__________________________________________________________________________________________________\n",
      "activation_18 (Activation)      (None, 2)            0           output[0][0]                     \n",
      "==================================================================================================\n",
      "Total params: 1,878\n",
      "Trainable params: 1,878\n",
      "Non-trainable params: 0\n",
      "__________________________________________________________________________________________________\n",
      "Train on 70000 samples, validate on 20000 samples\n",
      "Epoch 1/5\n",
      "70000/70000 [==============================] - 45s 642us/step - loss: 0.5807 - acc: 0.7403 - val_loss: 0.4090 - val_acc: 0.8436\n",
      "Epoch 2/5\n",
      "70000/70000 [==============================] - 44s 629us/step - loss: 0.3727 - acc: 0.8497 - val_loss: 0.2843 - val_acc: 0.9116\n",
      "Epoch 3/5\n",
      "70000/70000 [==============================] - 44s 626us/step - loss: 0.2804 - acc: 0.9032 - val_loss: 0.2305 - val_acc: 0.9245\n",
      "Epoch 4/5\n",
      "70000/70000 [==============================] - 44s 629us/step - loss: 0.2265 - acc: 0.9285 - val_loss: 0.1700 - val_acc: 0.9496\n",
      "Epoch 5/5\n",
      "70000/70000 [==============================] - 44s 629us/step - loss: 0.1881 - acc: 0.9465 - val_loss: 0.1265 - val_acc: 0.9710\n"
     ]
    }
   ],
   "source": [
    "X_train, X_val, X_test, Y_train,Y_val,Y_test = prep_and_shufflesplit_data(0.05)\n",
    "all_results.append(train_models(X_train, X_val, X_test, Y_train,Y_val,Y_test))"
   ]
  },
  {
   "cell_type": "code",
   "execution_count": 140,
   "metadata": {
    "ExecuteTime": {
     "end_time": "2020-10-23T10:34:16.027426Z",
     "start_time": "2020-10-23T10:29:59.448422Z"
    }
   },
   "outputs": [
    {
     "name": "stdout",
     "output_type": "stream",
     "text": [
      "__________________________________________________________________________________________________\n",
      "Layer (type)                    Output Shape         Param #     Connected to                     \n",
      "==================================================================================================\n",
      "input (InputLayer)              (None, None, 4)      0                                            \n",
      "__________________________________________________________________________________________________\n",
      "tdist_0 (TimeDistributed)       (None, None, 10)     50          input[0][0]                      \n",
      "__________________________________________________________________________________________________\n",
      "activation_19 (Activation)      (None, None, 10)     0           tdist_0[0][0]                    \n",
      "__________________________________________________________________________________________________\n",
      "tdist_1 (TimeDistributed)       (None, None, 10)     110         activation_19[0][0]              \n",
      "__________________________________________________________________________________________________\n",
      "activation_20 (Activation)      (None, None, 10)     0           tdist_1[0][0]                    \n",
      "__________________________________________________________________________________________________\n",
      "tdist_2 (TimeDistributed)       (None, None, 16)     176         activation_20[0][0]              \n",
      "__________________________________________________________________________________________________\n",
      "mask (Lambda)                   (None, None)         0           input[0][0]                      \n",
      "__________________________________________________________________________________________________\n",
      "activation_21 (Activation)      (None, None, 16)     0           tdist_2[0][0]                    \n",
      "__________________________________________________________________________________________________\n",
      "sum (Dot)                       (None, 16)           0           mask[0][0]                       \n",
      "                                                                 activation_21[0][0]              \n",
      "__________________________________________________________________________________________________\n",
      "dense_0 (Dense)                 (None, 40)           680         sum[0][0]                        \n",
      "__________________________________________________________________________________________________\n",
      "activation_22 (Activation)      (None, 40)           0           dense_0[0][0]                    \n",
      "__________________________________________________________________________________________________\n",
      "dense_1 (Dense)                 (None, 20)           820         activation_22[0][0]              \n",
      "__________________________________________________________________________________________________\n",
      "activation_23 (Activation)      (None, 20)           0           dense_1[0][0]                    \n",
      "__________________________________________________________________________________________________\n",
      "output (Dense)                  (None, 2)            42          activation_23[0][0]              \n",
      "__________________________________________________________________________________________________\n",
      "activation_24 (Activation)      (None, 2)            0           output[0][0]                     \n",
      "==================================================================================================\n",
      "Total params: 1,878\n",
      "Trainable params: 1,878\n",
      "Non-trainable params: 0\n",
      "__________________________________________________________________________________________________\n",
      "Train on 70000 samples, validate on 20000 samples\n",
      "Epoch 1/5\n",
      "70000/70000 [==============================] - 46s 653us/step - loss: 8.0563 - acc: 0.5002 - val_loss: 8.0695 - val_acc: 0.4994\n",
      "Epoch 2/5\n",
      "70000/70000 [==============================] - 44s 635us/step - loss: 8.0563 - acc: 0.5002 - val_loss: 8.0695 - val_acc: 0.4994\n",
      "Epoch 3/5\n",
      "70000/70000 [==============================] - 44s 633us/step - loss: 8.0563 - acc: 0.5002 - val_loss: 8.0695 - val_acc: 0.4994\n",
      "Epoch 4/5\n",
      "70000/70000 [==============================] - 44s 631us/step - loss: 8.0563 - acc: 0.5002 - val_loss: 8.0695 - val_acc: 0.4994\n",
      "Epoch 5/5\n",
      "70000/70000 [==============================] - 44s 635us/step - loss: 8.0563 - acc: 0.5002 - val_loss: 8.0695 - val_acc: 0.4994\n"
     ]
    }
   ],
   "source": [
    "X_train, X_val, X_test, Y_train,Y_val,Y_test = prep_and_shufflesplit_data(0.005)\n",
    "all_results.append(train_models(X_train, X_val, X_test, Y_train,Y_val,Y_test))"
   ]
  },
  {
   "cell_type": "code",
   "execution_count": 141,
   "metadata": {
    "ExecuteTime": {
     "end_time": "2020-10-23T10:38:32.251305Z",
     "start_time": "2020-10-23T10:34:16.032440Z"
    }
   },
   "outputs": [
    {
     "name": "stdout",
     "output_type": "stream",
     "text": [
      "__________________________________________________________________________________________________\n",
      "Layer (type)                    Output Shape         Param #     Connected to                     \n",
      "==================================================================================================\n",
      "input (InputLayer)              (None, None, 4)      0                                            \n",
      "__________________________________________________________________________________________________\n",
      "tdist_0 (TimeDistributed)       (None, None, 10)     50          input[0][0]                      \n",
      "__________________________________________________________________________________________________\n",
      "activation_25 (Activation)      (None, None, 10)     0           tdist_0[0][0]                    \n",
      "__________________________________________________________________________________________________\n",
      "tdist_1 (TimeDistributed)       (None, None, 10)     110         activation_25[0][0]              \n",
      "__________________________________________________________________________________________________\n",
      "activation_26 (Activation)      (None, None, 10)     0           tdist_1[0][0]                    \n",
      "__________________________________________________________________________________________________\n",
      "tdist_2 (TimeDistributed)       (None, None, 16)     176         activation_26[0][0]              \n",
      "__________________________________________________________________________________________________\n",
      "mask (Lambda)                   (None, None)         0           input[0][0]                      \n",
      "__________________________________________________________________________________________________\n",
      "activation_27 (Activation)      (None, None, 16)     0           tdist_2[0][0]                    \n",
      "__________________________________________________________________________________________________\n",
      "sum (Dot)                       (None, 16)           0           mask[0][0]                       \n",
      "                                                                 activation_27[0][0]              \n",
      "__________________________________________________________________________________________________\n",
      "dense_0 (Dense)                 (None, 40)           680         sum[0][0]                        \n",
      "__________________________________________________________________________________________________\n",
      "activation_28 (Activation)      (None, 40)           0           dense_0[0][0]                    \n",
      "__________________________________________________________________________________________________\n",
      "dense_1 (Dense)                 (None, 20)           820         activation_28[0][0]              \n",
      "__________________________________________________________________________________________________\n",
      "activation_29 (Activation)      (None, 20)           0           dense_1[0][0]                    \n",
      "__________________________________________________________________________________________________\n",
      "output (Dense)                  (None, 2)            42          activation_29[0][0]              \n",
      "__________________________________________________________________________________________________\n",
      "activation_30 (Activation)      (None, 2)            0           output[0][0]                     \n",
      "==================================================================================================\n",
      "Total params: 1,878\n",
      "Trainable params: 1,878\n",
      "Non-trainable params: 0\n",
      "__________________________________________________________________________________________________\n",
      "Train on 70000 samples, validate on 20000 samples\n",
      "Epoch 1/5\n",
      "70000/70000 [==============================] - 46s 657us/step - loss: 0.9152 - acc: 0.7041 - val_loss: 0.4398 - val_acc: 0.7842\n",
      "Epoch 2/5\n",
      "70000/70000 [==============================] - 45s 637us/step - loss: 0.3731 - acc: 0.8345 - val_loss: 0.2541 - val_acc: 0.8965\n",
      "Epoch 3/5\n",
      "70000/70000 [==============================] - 45s 640us/step - loss: 0.2139 - acc: 0.9179 - val_loss: 0.1585 - val_acc: 0.9394\n",
      "Epoch 4/5\n",
      "70000/70000 [==============================] - 45s 638us/step - loss: 0.1232 - acc: 0.9568 - val_loss: 0.1119 - val_acc: 0.9621\n",
      "Epoch 5/5\n",
      "70000/70000 [==============================] - 45s 636us/step - loss: 0.0860 - acc: 0.9727 - val_loss: 0.0775 - val_acc: 0.9732\n"
     ]
    }
   ],
   "source": [
    "X_train, X_val, X_test, Y_train,Y_val,Y_test = prep_and_shufflesplit_data(0.0005)\n",
    "all_results.append(train_models(X_train, X_val, X_test, Y_train,Y_val,Y_test))"
   ]
  },
  {
   "cell_type": "code",
   "execution_count": 142,
   "metadata": {
    "ExecuteTime": {
     "end_time": "2020-10-23T10:42:52.974718Z",
     "start_time": "2020-10-23T10:38:32.253232Z"
    }
   },
   "outputs": [
    {
     "name": "stdout",
     "output_type": "stream",
     "text": [
      "__________________________________________________________________________________________________\n",
      "Layer (type)                    Output Shape         Param #     Connected to                     \n",
      "==================================================================================================\n",
      "input (InputLayer)              (None, None, 4)      0                                            \n",
      "__________________________________________________________________________________________________\n",
      "tdist_0 (TimeDistributed)       (None, None, 10)     50          input[0][0]                      \n",
      "__________________________________________________________________________________________________\n",
      "activation_31 (Activation)      (None, None, 10)     0           tdist_0[0][0]                    \n",
      "__________________________________________________________________________________________________\n",
      "tdist_1 (TimeDistributed)       (None, None, 10)     110         activation_31[0][0]              \n",
      "__________________________________________________________________________________________________\n",
      "activation_32 (Activation)      (None, None, 10)     0           tdist_1[0][0]                    \n",
      "__________________________________________________________________________________________________\n",
      "tdist_2 (TimeDistributed)       (None, None, 16)     176         activation_32[0][0]              \n",
      "__________________________________________________________________________________________________\n",
      "mask (Lambda)                   (None, None)         0           input[0][0]                      \n",
      "__________________________________________________________________________________________________\n",
      "activation_33 (Activation)      (None, None, 16)     0           tdist_2[0][0]                    \n",
      "__________________________________________________________________________________________________\n",
      "sum (Dot)                       (None, 16)           0           mask[0][0]                       \n",
      "                                                                 activation_33[0][0]              \n",
      "__________________________________________________________________________________________________\n",
      "dense_0 (Dense)                 (None, 40)           680         sum[0][0]                        \n",
      "__________________________________________________________________________________________________\n",
      "activation_34 (Activation)      (None, 40)           0           dense_0[0][0]                    \n",
      "__________________________________________________________________________________________________\n",
      "dense_1 (Dense)                 (None, 20)           820         activation_34[0][0]              \n",
      "__________________________________________________________________________________________________\n",
      "activation_35 (Activation)      (None, 20)           0           dense_1[0][0]                    \n",
      "__________________________________________________________________________________________________\n",
      "output (Dense)                  (None, 2)            42          activation_35[0][0]              \n",
      "__________________________________________________________________________________________________\n",
      "activation_36 (Activation)      (None, 2)            0           output[0][0]                     \n",
      "==================================================================================================\n",
      "Total params: 1,878\n",
      "Trainable params: 1,878\n",
      "Non-trainable params: 0\n",
      "__________________________________________________________________________________________________\n",
      "Train on 70001 samples, validate on 20000 samples\n",
      "Epoch 1/5\n",
      "70001/70001 [==============================] - 46s 664us/step - loss: 0.5931 - acc: 0.7202 - val_loss: 0.3680 - val_acc: 0.8195\n",
      "Epoch 2/5\n",
      "70001/70001 [==============================] - 45s 640us/step - loss: 0.3042 - acc: 0.8606 - val_loss: 0.1878 - val_acc: 0.9244\n",
      "Epoch 3/5\n",
      "70001/70001 [==============================] - 45s 646us/step - loss: 0.1791 - acc: 0.9282 - val_loss: 0.2072 - val_acc: 0.9319\n",
      "Epoch 4/5\n",
      "70001/70001 [==============================] - 45s 646us/step - loss: 0.1251 - acc: 0.9557 - val_loss: 0.1589 - val_acc: 0.9443\n",
      "Epoch 5/5\n",
      "70001/70001 [==============================] - 45s 647us/step - loss: 0.0910 - acc: 0.9702 - val_loss: 0.3063 - val_acc: 0.8815\n"
     ]
    }
   ],
   "source": [
    "X_train, X_val, X_test, Y_train,Y_val,Y_test = prep_and_shufflesplit_data(0.00005)\n",
    "all_results.append(train_models(X_train, X_val, X_test, Y_train,Y_val,Y_test))"
   ]
  },
  {
   "cell_type": "code",
   "execution_count": 143,
   "metadata": {
    "ExecuteTime": {
     "end_time": "2020-10-23T10:47:17.389484Z",
     "start_time": "2020-10-23T10:42:52.977305Z"
    }
   },
   "outputs": [
    {
     "name": "stdout",
     "output_type": "stream",
     "text": [
      "__________________________________________________________________________________________________\n",
      "Layer (type)                    Output Shape         Param #     Connected to                     \n",
      "==================================================================================================\n",
      "input (InputLayer)              (None, None, 4)      0                                            \n",
      "__________________________________________________________________________________________________\n",
      "tdist_0 (TimeDistributed)       (None, None, 10)     50          input[0][0]                      \n",
      "__________________________________________________________________________________________________\n",
      "activation_37 (Activation)      (None, None, 10)     0           tdist_0[0][0]                    \n",
      "__________________________________________________________________________________________________\n",
      "tdist_1 (TimeDistributed)       (None, None, 10)     110         activation_37[0][0]              \n",
      "__________________________________________________________________________________________________\n",
      "activation_38 (Activation)      (None, None, 10)     0           tdist_1[0][0]                    \n",
      "__________________________________________________________________________________________________\n",
      "tdist_2 (TimeDistributed)       (None, None, 16)     176         activation_38[0][0]              \n",
      "__________________________________________________________________________________________________\n",
      "mask (Lambda)                   (None, None)         0           input[0][0]                      \n",
      "__________________________________________________________________________________________________\n",
      "activation_39 (Activation)      (None, None, 16)     0           tdist_2[0][0]                    \n",
      "__________________________________________________________________________________________________\n",
      "sum (Dot)                       (None, 16)           0           mask[0][0]                       \n",
      "                                                                 activation_39[0][0]              \n",
      "__________________________________________________________________________________________________\n",
      "dense_0 (Dense)                 (None, 40)           680         sum[0][0]                        \n",
      "__________________________________________________________________________________________________\n",
      "activation_40 (Activation)      (None, 40)           0           dense_0[0][0]                    \n",
      "__________________________________________________________________________________________________\n",
      "dense_1 (Dense)                 (None, 20)           820         activation_40[0][0]              \n",
      "__________________________________________________________________________________________________\n",
      "activation_41 (Activation)      (None, 20)           0           dense_1[0][0]                    \n",
      "__________________________________________________________________________________________________\n",
      "output (Dense)                  (None, 2)            42          activation_41[0][0]              \n",
      "__________________________________________________________________________________________________\n",
      "activation_42 (Activation)      (None, 2)            0           output[0][0]                     \n",
      "==================================================================================================\n",
      "Total params: 1,878\n",
      "Trainable params: 1,878\n",
      "Non-trainable params: 0\n",
      "__________________________________________________________________________________________________\n",
      "Train on 70000 samples, validate on 20000 samples\n",
      "Epoch 1/5\n",
      "70000/70000 [==============================] - 48s 682us/step - loss: 8.0590 - acc: 0.5000 - val_loss: 8.0590 - val_acc: 0.5000\n",
      "Epoch 2/5\n",
      "70000/70000 [==============================] - 45s 650us/step - loss: 8.0590 - acc: 0.5000 - val_loss: 8.0590 - val_acc: 0.5000\n",
      "Epoch 3/5\n",
      "70000/70000 [==============================] - 46s 654us/step - loss: 8.0590 - acc: 0.5000 - val_loss: 8.0590 - val_acc: 0.5000\n",
      "Epoch 4/5\n",
      "70000/70000 [==============================] - 46s 656us/step - loss: 8.0590 - acc: 0.5000 - val_loss: 8.0590 - val_acc: 0.5000\n",
      "Epoch 5/5\n",
      "70000/70000 [==============================] - 46s 653us/step - loss: 8.0590 - acc: 0.5000 - val_loss: 8.0590 - val_acc: 0.5000\n"
     ]
    }
   ],
   "source": [
    "X_train, X_val, X_test, Y_train,Y_val,Y_test = prep_and_shufflesplit_data(0)\n",
    "all_results.append(train_models(X_train, X_val, X_test, Y_train,Y_val,Y_test))"
   ]
  },
  {
   "cell_type": "code",
   "execution_count": null,
   "metadata": {},
   "outputs": [],
   "source": [
    "X_train, X_val, X_test, Y_train,Y_val,Y_test = prep_and_shufflesplit_data(0)\n",
    "all_results.append(train_models(X_train, X_val, X_test, Y_train,Y_val,Y_test))"
   ]
  },
  {
   "cell_type": "code",
   "execution_count": 145,
   "metadata": {
    "ExecuteTime": {
     "end_time": "2020-10-23T10:50:21.832547Z",
     "start_time": "2020-10-23T10:50:21.827873Z"
    }
   },
   "outputs": [
    {
     "data": {
      "text/plain": [
       "5e-05"
      ]
     },
     "execution_count": 145,
     "metadata": {},
     "output_type": "execute_result"
    }
   ],
   "source": [
    "0.00005"
   ]
  },
  {
   "cell_type": "code",
   "execution_count": 144,
   "metadata": {
    "ExecuteTime": {
     "end_time": "2020-10-23T10:50:07.592231Z",
     "start_time": "2020-10-23T10:50:07.587422Z"
    }
   },
   "outputs": [
    {
     "data": {
      "text/plain": [
       "2e-05"
      ]
     },
     "execution_count": 144,
     "metadata": {},
     "output_type": "execute_result"
    }
   ],
   "source": [
    "1/50000"
   ]
  },
  {
   "cell_type": "code",
   "execution_count": 75,
   "metadata": {
    "ExecuteTime": {
     "end_time": "2020-10-19T22:56:15.960447Z",
     "start_time": "2020-10-19T22:56:15.716921Z"
    },
    "scrolled": false
   },
   "outputs": [
    {
     "name": "stdout",
     "output_type": "stream",
     "text": [
      "__________________________________________________________________________________________________\n",
      "Layer (type)                    Output Shape         Param #     Connected to                     \n",
      "==================================================================================================\n",
      "input (InputLayer)              (None, None, 4)      0                                            \n",
      "__________________________________________________________________________________________________\n",
      "tdist_0 (TimeDistributed)       (None, None, 10)     50          input[0][0]                      \n",
      "__________________________________________________________________________________________________\n",
      "activation_8 (Activation)       (None, None, 10)     0           tdist_0[0][0]                    \n",
      "__________________________________________________________________________________________________\n",
      "tdist_1 (TimeDistributed)       (None, None, 10)     110         activation_8[0][0]               \n",
      "__________________________________________________________________________________________________\n",
      "activation_9 (Activation)       (None, None, 10)     0           tdist_1[0][0]                    \n",
      "__________________________________________________________________________________________________\n",
      "tdist_2 (TimeDistributed)       (None, None, 16)     176         activation_9[0][0]               \n",
      "__________________________________________________________________________________________________\n",
      "mask (Lambda)                   (None, None)         0           input[0][0]                      \n",
      "__________________________________________________________________________________________________\n",
      "activation_10 (Activation)      (None, None, 16)     0           tdist_2[0][0]                    \n",
      "__________________________________________________________________________________________________\n",
      "sum (Dot)                       (None, 16)           0           mask[0][0]                       \n",
      "                                                                 activation_10[0][0]              \n",
      "__________________________________________________________________________________________________\n",
      "dense_0 (Dense)                 (None, 40)           680         sum[0][0]                        \n",
      "__________________________________________________________________________________________________\n",
      "activation_11 (Activation)      (None, 40)           0           dense_0[0][0]                    \n",
      "__________________________________________________________________________________________________\n",
      "dense_1 (Dense)                 (None, 20)           820         activation_11[0][0]              \n",
      "__________________________________________________________________________________________________\n",
      "activation_12 (Activation)      (None, 20)           0           dense_1[0][0]                    \n",
      "__________________________________________________________________________________________________\n",
      "output (Dense)                  (None, 2)            42          activation_12[0][0]              \n",
      "__________________________________________________________________________________________________\n",
      "activation_13 (Activation)      (None, 2)            0           output[0][0]                     \n",
      "==================================================================================================\n",
      "Total params: 1,878\n",
      "Trainable params: 1,878\n",
      "Non-trainable params: 0\n",
      "__________________________________________________________________________________________________\n"
     ]
    }
   ],
   "source": [
    "# # build architecture\n",
    "# pfn = PFN(input_dim=X.shape[-1], Phi_sizes=Phi_sizes, F_sizes=F_sizes)\n"
   ]
  },
  {
   "cell_type": "markdown",
   "metadata": {},
   "source": [
    "### Training"
   ]
  },
  {
   "cell_type": "code",
   "execution_count": 76,
   "metadata": {
    "ExecuteTime": {
     "end_time": "2020-10-19T23:02:10.887306Z",
     "start_time": "2020-10-19T22:56:18.096340Z"
    }
   },
   "outputs": [
    {
     "name": "stdout",
     "output_type": "stream",
     "text": [
      "Train on 18000 samples, validate on 2000 samples\n",
      "Epoch 1/30\n",
      "18000/18000 [==============================] - 12s 691us/step - loss: 1.2210 - acc: 0.5951 - val_loss: 0.6212 - val_acc: 0.6400\n",
      "Epoch 2/30\n",
      "18000/18000 [==============================] - 12s 650us/step - loss: 0.6400 - acc: 0.6742 - val_loss: 0.5815 - val_acc: 0.6905\n",
      "Epoch 3/30\n",
      "18000/18000 [==============================] - 12s 648us/step - loss: 0.5691 - acc: 0.7208 - val_loss: 0.5555 - val_acc: 0.7165\n",
      "Epoch 4/30\n",
      "18000/18000 [==============================] - 12s 649us/step - loss: 0.5409 - acc: 0.7372 - val_loss: 0.5329 - val_acc: 0.7275\n",
      "Epoch 5/30\n",
      "18000/18000 [==============================] - 12s 646us/step - loss: 0.5027 - acc: 0.7678 - val_loss: 0.5012 - val_acc: 0.7610\n",
      "Epoch 6/30\n",
      "18000/18000 [==============================] - 12s 648us/step - loss: 0.4755 - acc: 0.7856 - val_loss: 0.4776 - val_acc: 0.7830\n",
      "Epoch 7/30\n",
      "18000/18000 [==============================] - 12s 651us/step - loss: 0.4612 - acc: 0.7921 - val_loss: 0.4508 - val_acc: 0.8035\n",
      "Epoch 8/30\n",
      "18000/18000 [==============================] - 12s 651us/step - loss: 0.4540 - acc: 0.8014 - val_loss: 0.4708 - val_acc: 0.7975\n",
      "Epoch 9/30\n",
      "18000/18000 [==============================] - 12s 648us/step - loss: 0.4436 - acc: 0.8033 - val_loss: 0.4595 - val_acc: 0.7935\n",
      "Epoch 10/30\n",
      "18000/18000 [==============================] - 12s 647us/step - loss: 0.4322 - acc: 0.8118 - val_loss: 0.4325 - val_acc: 0.8230\n",
      "Epoch 11/30\n",
      "18000/18000 [==============================] - 12s 651us/step - loss: 0.4226 - acc: 0.8174 - val_loss: 0.4256 - val_acc: 0.8195\n",
      "Epoch 12/30\n",
      "18000/18000 [==============================] - 12s 645us/step - loss: 0.4152 - acc: 0.8223 - val_loss: 0.4196 - val_acc: 0.8200\n",
      "Epoch 13/30\n",
      "18000/18000 [==============================] - 12s 653us/step - loss: 0.4070 - acc: 0.8266 - val_loss: 0.4262 - val_acc: 0.8235\n",
      "Epoch 14/30\n",
      "18000/18000 [==============================] - 12s 648us/step - loss: 0.3998 - acc: 0.8306 - val_loss: 0.4058 - val_acc: 0.8295\n",
      "Epoch 15/30\n",
      "18000/18000 [==============================] - 12s 654us/step - loss: 0.3914 - acc: 0.8336 - val_loss: 0.3941 - val_acc: 0.8430\n",
      "Epoch 16/30\n",
      "18000/18000 [==============================] - 12s 651us/step - loss: 0.3846 - acc: 0.8404 - val_loss: 0.4106 - val_acc: 0.8255\n",
      "Epoch 17/30\n",
      "18000/18000 [==============================] - 12s 652us/step - loss: 0.3767 - acc: 0.8447 - val_loss: 0.3831 - val_acc: 0.8440\n",
      "Epoch 18/30\n",
      "18000/18000 [==============================] - 12s 649us/step - loss: 0.3695 - acc: 0.8488 - val_loss: 0.3833 - val_acc: 0.8470\n",
      "Epoch 19/30\n",
      "18000/18000 [==============================] - 12s 652us/step - loss: 0.3657 - acc: 0.8511 - val_loss: 0.3877 - val_acc: 0.8470\n",
      "Epoch 20/30\n",
      "18000/18000 [==============================] - 12s 648us/step - loss: 0.3579 - acc: 0.8543 - val_loss: 0.3532 - val_acc: 0.8670\n",
      "Epoch 21/30\n",
      "18000/18000 [==============================] - 12s 650us/step - loss: 0.3497 - acc: 0.8604 - val_loss: 0.3625 - val_acc: 0.8520\n",
      "Epoch 22/30\n",
      "18000/18000 [==============================] - 12s 656us/step - loss: 0.3475 - acc: 0.8588 - val_loss: 0.3732 - val_acc: 0.8445\n",
      "Epoch 23/30\n",
      "18000/18000 [==============================] - 12s 648us/step - loss: 0.3418 - acc: 0.8637 - val_loss: 0.3571 - val_acc: 0.8650\n",
      "Epoch 24/30\n",
      "18000/18000 [==============================] - 12s 653us/step - loss: 0.3345 - acc: 0.8661 - val_loss: 0.3464 - val_acc: 0.8625\n",
      "Epoch 25/30\n",
      "18000/18000 [==============================] - 12s 661us/step - loss: 0.3321 - acc: 0.8639 - val_loss: 0.3673 - val_acc: 0.8505\n",
      "Epoch 26/30\n",
      "18000/18000 [==============================] - 12s 651us/step - loss: 0.3255 - acc: 0.8700 - val_loss: 0.3370 - val_acc: 0.8695\n",
      "Epoch 27/30\n",
      "18000/18000 [==============================] - 12s 647us/step - loss: 0.3233 - acc: 0.8723 - val_loss: 0.3330 - val_acc: 0.8750\n",
      "Epoch 28/30\n",
      "18000/18000 [==============================] - 12s 651us/step - loss: 0.3188 - acc: 0.8709 - val_loss: 0.3455 - val_acc: 0.8640\n",
      "Epoch 29/30\n",
      "18000/18000 [==============================] - 12s 654us/step - loss: 0.3164 - acc: 0.8729 - val_loss: 0.3388 - val_acc: 0.8645\n",
      "Epoch 30/30\n",
      "18000/18000 [==============================] - 12s 654us/step - loss: 0.3160 - acc: 0.8748 - val_loss: 0.3151 - val_acc: 0.8790\n"
     ]
    },
    {
     "data": {
      "text/plain": [
       "<keras.callbacks.History at 0x7fd80873fef0>"
      ]
     },
     "execution_count": 76,
     "metadata": {},
     "output_type": "execute_result"
    }
   ],
   "source": [
    "h = pfn.fit(X_train, Y_train,\n",
    "          epochs=num_epoch,\n",
    "          batch_size=batch_size,\n",
    "          validation_data=(X_val, Y_val),\n",
    "          verbose=1)"
   ]
  },
  {
   "cell_type": "code",
   "execution_count": 78,
   "metadata": {
    "ExecuteTime": {
     "end_time": "2020-10-19T23:03:11.453076Z",
     "start_time": "2020-10-19T23:03:11.299449Z"
    }
   },
   "outputs": [],
   "source": [
    "Y_predict = pfn.predict(X_test)"
   ]
  },
  {
   "cell_type": "code",
   "execution_count": 124,
   "metadata": {
    "ExecuteTime": {
     "end_time": "2020-10-23T10:18:36.192822Z",
     "start_time": "2020-10-23T10:18:36.188715Z"
    }
   },
   "outputs": [],
   "source": [
    "import sklearn"
   ]
  },
  {
   "cell_type": "code",
   "execution_count": 91,
   "metadata": {
    "ExecuteTime": {
     "end_time": "2020-10-19T23:13:31.957162Z",
     "start_time": "2020-10-19T23:13:31.952278Z"
    }
   },
   "outputs": [],
   "source": [
    "roc_curve = sklearn.metrics.roc_curve(Y_test[:,1:], Y_predict[:,1:])"
   ]
  },
  {
   "cell_type": "code",
   "execution_count": 94,
   "metadata": {
    "ExecuteTime": {
     "end_time": "2020-10-19T23:14:55.327916Z",
     "start_time": "2020-10-19T23:14:55.107555Z"
    }
   },
   "outputs": [
    {
     "data": {
      "text/plain": [
       "Text(0.5, 1.0, 'ROC curve')"
      ]
     },
     "execution_count": 94,
     "metadata": {},
     "output_type": "execute_result"
    },
    {
     "data": {
      "image/png": "[encoded data removed]",
      "text/plain": [
       "<Figure size 432x288 with 1 Axes>"
      ]
     },
     "metadata": {
      "needs_background": "light"
     },
     "output_type": "display_data"
    }
   ],
   "source": [
    "plt.plot(roc_curve[0],roc_curve[1])\n",
    "plt.xlabel('fpr')\n",
    "plt.ylabel('tpr')\n",
    "plt.title('ROC curve')"
   ]
  },
  {
   "cell_type": "code",
   "execution_count": 101,
   "metadata": {
    "ExecuteTime": {
     "end_time": "2020-10-20T00:13:43.585659Z",
     "start_time": "2020-10-20T00:13:43.361598Z"
    }
   },
   "outputs": [
    {
     "name": "stderr",
     "output_type": "stream",
     "text": [
      "/opt/anaconda3/envs/shared_env/lib/python3.6/site-packages/ipykernel_launcher.py:1: RuntimeWarning: divide by zero encountered in true_divide\n",
      "  \"\"\"Entry point for launching an IPython kernel.\n",
      "/opt/anaconda3/envs/shared_env/lib/python3.6/site-packages/ipykernel_launcher.py:1: RuntimeWarning: invalid value encountered in true_divide\n",
      "  \"\"\"Entry point for launching an IPython kernel.\n"
     ]
    },
    {
     "data": {
      "text/plain": [
       "Text(0.5, 1.0, 'ROC curve')"
      ]
     },
     "execution_count": 101,
     "metadata": {},
     "output_type": "execute_result"
    },
    {
     "data": {
      "image/png": "[encoded data removed]",
      "text/plain": [
       "<Figure size 432x288 with 1 Axes>"
      ]
     },
     "metadata": {
      "needs_background": "light"
     },
     "output_type": "display_data"
    }
   ],
   "source": [
    "plt.plot(roc_curve[0],roc_curve[1]/np.sqrt(roc_curve[0]))\n",
    "plt.xlabel('fpr')\n",
    "plt.ylabel('tpr')\n",
    "plt.title('ROC curve')"
   ]
  },
  {
   "cell_type": "code",
   "execution_count": 31,
   "metadata": {
    "ExecuteTime": {
     "end_time": "2020-10-05T22:16:06.055971Z",
     "start_time": "2020-10-05T22:16:06.052426Z"
    }
   },
   "outputs": [],
   "source": [
    "#Later for ML: https://energyflow.network/examples/"
   ]
  }
 ],
 "metadata": {
  "kernelspec": {
   "display_name": "Python 3",
   "language": "python",
   "name": "python3"
  },
  "language_info": {
   "codemirror_mode": {
    "name": "ipython",
    "version": 3
   },
   "file_extension": ".py",
   "mimetype": "text/x-python",
   "name": "python",
   "nbconvert_exporter": "python",
   "pygments_lexer": "ipython3",
   "version": "3.6.5"
  }
 },
 "nbformat": 4,
 "nbformat_minor": 4
}

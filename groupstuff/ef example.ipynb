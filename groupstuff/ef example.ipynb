{
 "cells": [
  {
   "cell_type": "code",
   "execution_count": 20,
   "metadata": {
    "ExecuteTime": {
     "end_time": "2020-09-29T00:04:31.491088Z",
     "start_time": "2020-09-29T00:04:22.404351Z"
    },
    "scrolled": false
   },
   "outputs": [
    {
     "name": "stdout",
     "output_type": "stream",
     "text": [
      "(4990, 50, 3)\n",
      "Loaded quark and gluon jets\n",
      "[[ 2.68769142e-01  3.56903171e-01  4.74138734e+00]\n",
      " [ 1.60076377e-01 -2.55609533e-01  4.55022910e+00]\n",
      " [ 1.14868731e+00 -6.24380156e-02  4.50385377e+00]\n",
      " [ 4.13159146e+00  1.73686350e-01  4.76622410e+00]\n",
      " [ 1.69599701e+00 -2.12177764e-01  4.79687162e+00]\n",
      " [ 2.19372581e+00 -5.24780791e-02  4.57559636e+00]\n",
      " [ 1.61909680e+00 -6.76247614e-02  4.64561192e+00]\n",
      " [ 6.59214883e+00  4.42691311e-02  4.76597141e+00]\n",
      " [ 3.77096258e+00  4.22475280e-02  4.75473207e+00]\n",
      " [ 1.34816345e+01 -2.80005472e-02  4.73543183e+00]\n",
      " [ 4.10794493e+00 -2.37648715e-02  4.75891312e+00]\n",
      " [ 2.16455176e+01 -2.69973695e-02  4.75997450e+00]\n",
      " [ 6.77551168e+00 -2.97549224e-02  4.76127746e+00]\n",
      " [ 1.32550803e+01 -3.94389998e-02  4.74948328e+00]\n",
      " [ 2.98350842e+00 -3.66033986e-02  4.74619579e+00]\n",
      " [ 3.73743866e+01 -3.54428448e-02  4.75481319e+00]\n",
      " [ 3.35399046e+02 -3.25602518e-02  4.75085918e+00]\n",
      " [ 4.42135649e+01 -3.32763050e-02  4.75431907e+00]\n",
      " [ 0.00000000e+00  0.00000000e+00  0.00000000e+00]\n",
      " [ 0.00000000e+00  0.00000000e+00  0.00000000e+00]\n",
      " [ 0.00000000e+00  0.00000000e+00  0.00000000e+00]\n",
      " [ 0.00000000e+00  0.00000000e+00  0.00000000e+00]\n",
      " [ 0.00000000e+00  0.00000000e+00  0.00000000e+00]\n",
      " [ 0.00000000e+00  0.00000000e+00  0.00000000e+00]\n",
      " [ 0.00000000e+00  0.00000000e+00  0.00000000e+00]\n",
      " [ 0.00000000e+00  0.00000000e+00  0.00000000e+00]\n",
      " [ 0.00000000e+00  0.00000000e+00  0.00000000e+00]\n",
      " [ 0.00000000e+00  0.00000000e+00  0.00000000e+00]\n",
      " [ 0.00000000e+00  0.00000000e+00  0.00000000e+00]\n",
      " [ 0.00000000e+00  0.00000000e+00  0.00000000e+00]\n",
      " [ 0.00000000e+00  0.00000000e+00  0.00000000e+00]\n",
      " [ 0.00000000e+00  0.00000000e+00  0.00000000e+00]\n",
      " [ 0.00000000e+00  0.00000000e+00  0.00000000e+00]\n",
      " [ 0.00000000e+00  0.00000000e+00  0.00000000e+00]\n",
      " [ 0.00000000e+00  0.00000000e+00  0.00000000e+00]\n",
      " [ 0.00000000e+00  0.00000000e+00  0.00000000e+00]\n",
      " [ 0.00000000e+00  0.00000000e+00  0.00000000e+00]\n",
      " [ 0.00000000e+00  0.00000000e+00  0.00000000e+00]\n",
      " [ 0.00000000e+00  0.00000000e+00  0.00000000e+00]\n",
      " [ 0.00000000e+00  0.00000000e+00  0.00000000e+00]\n",
      " [ 0.00000000e+00  0.00000000e+00  0.00000000e+00]\n",
      " [ 0.00000000e+00  0.00000000e+00  0.00000000e+00]\n",
      " [ 0.00000000e+00  0.00000000e+00  0.00000000e+00]\n",
      " [ 0.00000000e+00  0.00000000e+00  0.00000000e+00]\n",
      " [ 0.00000000e+00  0.00000000e+00  0.00000000e+00]\n",
      " [ 0.00000000e+00  0.00000000e+00  0.00000000e+00]\n",
      " [ 0.00000000e+00  0.00000000e+00  0.00000000e+00]\n",
      " [ 0.00000000e+00  0.00000000e+00  0.00000000e+00]\n",
      " [ 0.00000000e+00  0.00000000e+00  0.00000000e+00]\n",
      " [ 0.00000000e+00  0.00000000e+00  0.00000000e+00]]\n",
      "[[ 1.21266321e+00 -1.12853089e-01  3.04708757e+00]\n",
      " [ 2.40893976e-01 -1.67174886e-02  2.82705667e+00]\n",
      " [ 1.02778452e-01 -8.58720522e-02  3.04180579e+00]\n",
      " [ 1.07211881e+00  8.33239422e-02  2.79620139e+00]\n",
      " [ 3.58088964e-01 -1.43732585e-02  3.16610260e+00]\n",
      " [ 1.07014646e+00  2.19753114e-01  2.82523962e+00]\n",
      " [ 5.33886250e+00  3.15801225e-01  3.12926213e+00]\n",
      " [ 2.45712426e+00  2.20551915e-01  3.13474453e+00]\n",
      " [ 4.75527371e+00  2.12269459e-01  2.96223673e+00]\n",
      " [ 4.87248497e+00  2.31870130e-01  3.08088467e+00]\n",
      " [ 8.84493203e+00  2.32267069e-01  3.03035872e+00]\n",
      " [ 2.10908764e+01  2.65305250e-01  3.06215895e+00]\n",
      " [ 4.15835772e+01  2.62052779e-01  3.06295558e+00]\n",
      " [ 8.65581379e+00  2.63072521e-01  3.05242154e+00]\n",
      " [ 7.10125224e+01  2.49536881e-01  3.04432613e+00]\n",
      " [ 1.81149644e+02  2.51659699e-01  3.04411405e+00]\n",
      " [ 1.77990494e+02  2.52291632e-01  3.04370694e+00]\n",
      " [ 0.00000000e+00  0.00000000e+00  0.00000000e+00]\n",
      " [ 0.00000000e+00  0.00000000e+00  0.00000000e+00]\n",
      " [ 0.00000000e+00  0.00000000e+00  0.00000000e+00]\n",
      " [ 0.00000000e+00  0.00000000e+00  0.00000000e+00]\n",
      " [ 0.00000000e+00  0.00000000e+00  0.00000000e+00]\n",
      " [ 0.00000000e+00  0.00000000e+00  0.00000000e+00]\n",
      " [ 0.00000000e+00  0.00000000e+00  0.00000000e+00]\n",
      " [ 0.00000000e+00  0.00000000e+00  0.00000000e+00]\n",
      " [ 0.00000000e+00  0.00000000e+00  0.00000000e+00]\n",
      " [ 0.00000000e+00  0.00000000e+00  0.00000000e+00]\n",
      " [ 0.00000000e+00  0.00000000e+00  0.00000000e+00]\n",
      " [ 0.00000000e+00  0.00000000e+00  0.00000000e+00]\n",
      " [ 0.00000000e+00  0.00000000e+00  0.00000000e+00]\n",
      " [ 0.00000000e+00  0.00000000e+00  0.00000000e+00]\n",
      " [ 0.00000000e+00  0.00000000e+00  0.00000000e+00]\n",
      " [ 0.00000000e+00  0.00000000e+00  0.00000000e+00]\n",
      " [ 0.00000000e+00  0.00000000e+00  0.00000000e+00]\n",
      " [ 0.00000000e+00  0.00000000e+00  0.00000000e+00]\n",
      " [ 0.00000000e+00  0.00000000e+00  0.00000000e+00]\n",
      " [ 0.00000000e+00  0.00000000e+00  0.00000000e+00]\n",
      " [ 0.00000000e+00  0.00000000e+00  0.00000000e+00]\n",
      " [ 0.00000000e+00  0.00000000e+00  0.00000000e+00]\n",
      " [ 0.00000000e+00  0.00000000e+00  0.00000000e+00]\n",
      " [ 0.00000000e+00  0.00000000e+00  0.00000000e+00]\n",
      " [ 0.00000000e+00  0.00000000e+00  0.00000000e+00]\n",
      " [ 0.00000000e+00  0.00000000e+00  0.00000000e+00]\n",
      " [ 0.00000000e+00  0.00000000e+00  0.00000000e+00]\n",
      " [ 0.00000000e+00  0.00000000e+00  0.00000000e+00]\n",
      " [ 0.00000000e+00  0.00000000e+00  0.00000000e+00]\n",
      " [ 0.00000000e+00  0.00000000e+00  0.00000000e+00]\n",
      " [ 0.00000000e+00  0.00000000e+00  0.00000000e+00]\n",
      " [ 0.00000000e+00  0.00000000e+00  0.00000000e+00]\n",
      " [ 0.00000000e+00  0.00000000e+00  0.00000000e+00]]\n",
      "Finished preprocessing\n",
      "Done train/val/test split\n",
      "Model summary:\n",
      "__________________________________________________________________________________________________\n",
      "Layer (type)                    Output Shape         Param #     Connected to                     \n",
      "==================================================================================================\n",
      "phats_input (InputLayer)        (None, None, 2)      0                                            \n",
      "__________________________________________________________________________________________________\n",
      "tdist_0 (TimeDistributed)       (None, None, 100)    300         phats_input[0][0]                \n",
      "__________________________________________________________________________________________________\n",
      "activation_36 (Activation)      (None, None, 100)    0           tdist_0[0][0]                    \n",
      "__________________________________________________________________________________________________\n",
      "tdist_1 (TimeDistributed)       (None, None, 100)    10100       activation_36[0][0]              \n",
      "__________________________________________________________________________________________________\n",
      "activation_37 (Activation)      (None, None, 100)    0           tdist_1[0][0]                    \n",
      "__________________________________________________________________________________________________\n",
      "zs_input (InputLayer)           (None, None)         0                                            \n",
      "__________________________________________________________________________________________________\n",
      "tdist_2 (TimeDistributed)       (None, None, 128)    12928       activation_37[0][0]              \n",
      "__________________________________________________________________________________________________\n",
      "mask (Lambda)                   (None, None)         0           zs_input[0][0]                   \n",
      "__________________________________________________________________________________________________\n",
      "activation_38 (Activation)      (None, None, 128)    0           tdist_2[0][0]                    \n",
      "__________________________________________________________________________________________________\n",
      "sum (Dot)                       (None, 128)          0           mask[0][0]                       \n",
      "                                                                 activation_38[0][0]              \n",
      "__________________________________________________________________________________________________\n",
      "dense_0 (Dense)                 (None, 100)          12900       sum[0][0]                        \n",
      "__________________________________________________________________________________________________\n",
      "activation_39 (Activation)      (None, 100)          0           dense_0[0][0]                    \n",
      "__________________________________________________________________________________________________\n",
      "dense_1 (Dense)                 (None, 100)          10100       activation_39[0][0]              \n",
      "__________________________________________________________________________________________________\n",
      "activation_40 (Activation)      (None, 100)          0           dense_1[0][0]                    \n",
      "__________________________________________________________________________________________________\n",
      "dense_2 (Dense)                 (None, 100)          10100       activation_40[0][0]              \n",
      "__________________________________________________________________________________________________\n",
      "activation_41 (Activation)      (None, 100)          0           dense_2[0][0]                    \n",
      "__________________________________________________________________________________________________\n",
      "output (Dense)                  (None, 2)            202         activation_41[0][0]              \n",
      "__________________________________________________________________________________________________\n",
      "activation_42 (Activation)      (None, 2)            0           output[0][0]                     \n",
      "==================================================================================================\n",
      "Total params: 56,630\n",
      "Trainable params: 56,630\n",
      "Non-trainable params: 0\n",
      "__________________________________________________________________________________________________\n"
     ]
    },
    {
     "name": "stdout",
     "output_type": "stream",
     "text": [
      "Train on 4000 samples, validate on 500 samples\n",
      "Epoch 1/5\n",
      "4000/4000 [==============================] - 1s 285us/step - loss: 0.6730 - acc: 0.5373 - val_loss: 0.6518 - val_acc: 0.6640\n",
      "Epoch 2/5\n",
      "4000/4000 [==============================] - 0s 18us/step - loss: 0.6446 - acc: 0.6900 - val_loss: 0.6322 - val_acc: 0.6800\n",
      "Epoch 3/5\n",
      "4000/4000 [==============================] - 0s 19us/step - loss: 0.6235 - acc: 0.6933 - val_loss: 0.6054 - val_acc: 0.6940\n",
      "Epoch 4/5\n",
      "4000/4000 [==============================] - 0s 18us/step - loss: 0.5975 - acc: 0.6925 - val_loss: 0.5859 - val_acc: 0.6800\n",
      "Epoch 5/5\n",
      "4000/4000 [==============================] - 0s 17us/step - loss: 0.5801 - acc: 0.6943 - val_loss: 0.5741 - val_acc: 0.6740\n",
      "\n",
      "EFN AUC: 0.7687741763372014\n",
      "\n"
     ]
    },
    {
     "data": {
      "image/png": "[encoded data removed]",
      "text/plain": [
       "<Figure size 576x288 with 2 Axes>"
      ]
     },
     "metadata": {
      "needs_background": "light"
     },
     "output_type": "display_data"
    }
   ],
   "source": [
    "# standard library imports\n",
    "from __future__ import absolute_import, division, print_function\n",
    "\n",
    "# standard numerical library imports\n",
    "import numpy as np\n",
    "\n",
    "# energyflow imports\n",
    "import energyflow as ef\n",
    "from energyflow.archs import EFN\n",
    "from energyflow.datasets import qg_jets\n",
    "from energyflow.utils import data_split, to_categorical\n",
    "\n",
    "# attempt to import sklearn\n",
    "try:\n",
    "    from sklearn.metrics import roc_auc_score, roc_curve\n",
    "except:\n",
    "    print('please install scikit-learn in order to make ROC curves')\n",
    "    roc_curve = False\n",
    "\n",
    "# attempt to import matplotlib\n",
    "try:\n",
    "    import matplotlib.pyplot as plt\n",
    "except:\n",
    "    print('please install matploltib in order to make plots')\n",
    "    plt = False\n",
    "\n",
    "################################### SETTINGS ##################################\n",
    "# the commented values correspond to those in 1810.05165\n",
    "###############################################################################\n",
    "\n",
    "# data controls, can go up to 2000000 total for full dataset\n",
    "train, val, test = 4000, 500, 490\n",
    "# train, val, test = 1000000, 200000, 200000\n",
    "\n",
    "# network architecture parameters\n",
    "Phi_sizes, F_sizes = (100, 100, 128), (100, 100, 100)\n",
    "# Phi_sizes, F_sizes = (100, 100, 256), (100, 100, 100)\n",
    "\n",
    "# network training parameters\n",
    "num_epoch = 5\n",
    "batch_size = 500\n",
    "\n",
    "###############################################################################\n",
    "\n",
    "# load data\n",
    "X, y = qg_jets.load(train + val + test)\n",
    "\n",
    "# ignore pid information\n",
    "X = X[:4990,:50,:3]\n",
    "Y = Y[:4990]\n",
    "print(X.shape)\n",
    "# convert labels to categorical\n",
    "Y = to_categorical(y, num_classes=2)\n",
    "\n",
    "print('Loaded quark and gluon jets')\n",
    "\n",
    "# preprocess by centering jets and normalizing pts\n",
    "for i in range(len(X)):\n",
    "    x = X[i]\n",
    "    if i == 0 or i == 1:\n",
    "        print(x)\n",
    "    mask = x[:,0] > 0\n",
    "    yphi_avg = np.average(x[mask,1:3], weights=x[mask,0], axis=0)\n",
    "    x[mask,1:3] -= yphi_avg\n",
    "    x[mask,0] /= x[:,0].sum()\n",
    "\n",
    "print('Finished preprocessing')\n",
    "\n",
    "# do train/val/test split \n",
    "(z_train, z_val, z_test, \n",
    " p_train, p_val, p_test,\n",
    " Y_train, Y_val, Y_test) = data_split(X[:,:,0], X[:,:,1:], Y, val=val, test=test)\n",
    "\n",
    "print('Done train/val/test split')\n",
    "print('Model summary:')\n",
    "\n",
    "# build architecture\n",
    "efn = EFN(input_dim=2, Phi_sizes=Phi_sizes, F_sizes=F_sizes)\n",
    "\n",
    "# train model\n",
    "efn.fit([z_train, p_train], Y_train,\n",
    "          epochs=num_epoch,\n",
    "          batch_size=batch_size,\n",
    "          validation_data=([z_val, p_val], Y_val),\n",
    "          verbose=1)\n",
    "\n",
    "# get predictions on test data\n",
    "preds = efn.predict([z_test, p_test], batch_size=1000)\n",
    "\n",
    "# get ROC curve if we have sklearn\n",
    "if roc_curve:\n",
    "    efn_fp, efn_tp, threshs = roc_curve(Y_test[:,1], preds[:,1])\n",
    "\n",
    "    # get area under the ROC curve\n",
    "    auc = roc_auc_score(Y_test[:,1], preds[:,1])\n",
    "    print()\n",
    "    print('EFN AUC:', auc)\n",
    "    print()\n",
    "\n",
    "    # make ROC curve and filter plot if we have matplotlib\n",
    "    if plt:\n",
    "\n",
    "        # some nicer plot settings \n",
    "        plt.rcParams['font.family'] = 'serif'\n",
    "        plt.rcParams['figure.autolayout'] = True\n",
    "\n",
    "        fig, axes = plt.subplots(1, 2, figsize=(8,4))\n",
    "\n",
    "        ######################### ROC Curve Plot #########################\n",
    "\n",
    "        # get multiplicity and mass for comparison\n",
    "        masses = np.asarray([ef.ms_from_p4s(ef.p4s_from_ptyphims(x).sum(axis=0)) for x in X])\n",
    "        mults = np.asarray([np.count_nonzero(x[:,0]) for x in X])\n",
    "        mass_fp, mass_tp, threshs = roc_curve(Y[:,1], -masses)\n",
    "        mult_fp, mult_tp, threshs = roc_curve(Y[:,1], -mults)\n",
    "\n",
    "        # plot the ROC curves\n",
    "        axes[0].plot(efn_tp, 1-efn_fp, '-', color='black', label='EFN')\n",
    "        axes[0].plot(mass_tp, 1-mass_fp, '-', color='blue', label='Jet Mass')\n",
    "        axes[0].plot(mult_tp, 1-mult_fp, '-', color='red', label='Multiplicity')\n",
    "\n",
    "        # axes labels\n",
    "        axes[0].set_xlabel('Quark Jet Efficiency')\n",
    "        axes[0].set_ylabel('Gluon Jet Rejection')\n",
    "\n",
    "        # axes limits\n",
    "        axes[0].set_xlim(0, 1)\n",
    "        axes[0].set_ylim(0, 1)\n",
    "\n",
    "        # make legend and show plot\n",
    "        axes[0].legend(loc='lower left', frameon=False)\n",
    "\n",
    "        ######################### Filter Plot #########################\n",
    "\n",
    "        # plot settings\n",
    "        R, n = 0.4, 100\n",
    "        colors = ['Reds', 'Oranges', 'Greens', 'Blues', 'Purples', 'Greys']\n",
    "        grads = np.linspace(0.45, 0.55, 4)\n",
    "\n",
    "        # evaluate filters\n",
    "        X, Y, Z = efn.eval_filters(R, n=n)\n",
    "\n",
    "        # plot filters\n",
    "        for i,z in enumerate(Z):\n",
    "            axes[1].contourf(X, Y, z/np.max(z), grads, cmap=colors[i%len(colors)])\n",
    "\n",
    "        axes[1].set_xticks(np.linspace(-R, R, 5))\n",
    "        axes[1].set_yticks(np.linspace(-R, R, 5))\n",
    "        axes[1].set_xticklabels(['-R', '-R/2', '0', 'R/2', 'R'])\n",
    "        axes[1].set_yticklabels(['-R', '-R/2', '0', 'R/2', 'R'])\n",
    "        axes[1].set_xlabel('Translated Rapidity y')\n",
    "        axes[1].set_ylabel('Translated Azimuthal Angle phi')\n",
    "        axes[1].set_title('Energy Flow Network Latent Space', fontdict={'fontsize': 10})\n",
    "\n",
    "        plt.show()"
   ]
  },
  {
   "cell_type": "code",
   "execution_count": 2,
   "metadata": {
    "ExecuteTime": {
     "end_time": "2020-09-28T23:26:42.280077Z",
     "start_time": "2020-09-28T23:26:42.273311Z"
    }
   },
   "outputs": [
    {
     "data": {
      "text/plain": [
       "array([[-0.4       , -0.4       , -0.4       , ..., -0.4       ,\n",
       "        -0.4       , -0.4       ],\n",
       "       [-0.39191919, -0.39191919, -0.39191919, ..., -0.39191919,\n",
       "        -0.39191919, -0.39191919],\n",
       "       [-0.38383838, -0.38383838, -0.38383838, ..., -0.38383838,\n",
       "        -0.38383838, -0.38383838],\n",
       "       ...,\n",
       "       [ 0.38383838,  0.38383838,  0.38383838, ...,  0.38383838,\n",
       "         0.38383838,  0.38383838],\n",
       "       [ 0.39191919,  0.39191919,  0.39191919, ...,  0.39191919,\n",
       "         0.39191919,  0.39191919],\n",
       "       [ 0.4       ,  0.4       ,  0.4       , ...,  0.4       ,\n",
       "         0.4       ,  0.4       ]])"
      ]
     },
     "execution_count": 2,
     "metadata": {},
     "output_type": "execute_result"
    }
   ],
   "source": [
    "X"
   ]
  },
  {
   "cell_type": "code",
   "execution_count": 3,
   "metadata": {
    "ExecuteTime": {
     "end_time": "2020-09-28T23:26:47.372147Z",
     "start_time": "2020-09-28T23:26:47.365985Z"
    }
   },
   "outputs": [
    {
     "data": {
      "text/plain": [
       "array([1., 1., 1., ..., 1., 0., 0.])"
      ]
     },
     "execution_count": 3,
     "metadata": {},
     "output_type": "execute_result"
    }
   ],
   "source": [
    "y"
   ]
  },
  {
   "cell_type": "code",
   "execution_count": 4,
   "metadata": {
    "ExecuteTime": {
     "end_time": "2020-09-28T23:26:53.656121Z",
     "start_time": "2020-09-28T23:26:53.650089Z"
    }
   },
   "outputs": [
    {
     "data": {
      "text/plain": [
       "(100, 100)"
      ]
     },
     "execution_count": 4,
     "metadata": {},
     "output_type": "execute_result"
    }
   ],
   "source": [
    "X.shape"
   ]
  },
  {
   "cell_type": "code",
   "execution_count": 6,
   "metadata": {
    "ExecuteTime": {
     "end_time": "2020-09-28T23:27:43.272407Z",
     "start_time": "2020-09-28T23:27:40.232814Z"
    }
   },
   "outputs": [
    {
     "data": {
      "text/plain": [
       "2"
      ]
     },
     "execution_count": 6,
     "metadata": {},
     "output_type": "execute_result"
    }
   ],
   "source": [
    "len(qg_jets.load(train + val + test))"
   ]
  },
  {
   "cell_type": "code",
   "execution_count": 10,
   "metadata": {
    "ExecuteTime": {
     "end_time": "2020-09-28T23:36:24.769760Z",
     "start_time": "2020-09-28T23:36:21.751332Z"
    }
   },
   "outputs": [],
   "source": [
    "x,y = qg_jets.load(train + val + test)"
   ]
  },
  {
   "cell_type": "code",
   "execution_count": 11,
   "metadata": {
    "ExecuteTime": {
     "end_time": "2020-09-28T23:36:39.958689Z",
     "start_time": "2020-09-28T23:36:39.952799Z"
    }
   },
   "outputs": [
    {
     "data": {
      "text/plain": [
       "(100000, 139, 4)"
      ]
     },
     "execution_count": 11,
     "metadata": {},
     "output_type": "execute_result"
    }
   ],
   "source": [
    "x.shape"
   ]
  },
  {
   "cell_type": "code",
   "execution_count": 12,
   "metadata": {
    "ExecuteTime": {
     "end_time": "2020-09-28T23:36:44.251410Z",
     "start_time": "2020-09-28T23:36:44.245539Z"
    }
   },
   "outputs": [
    {
     "data": {
      "text/plain": [
       "(100000,)"
      ]
     },
     "execution_count": 12,
     "metadata": {},
     "output_type": "execute_result"
    }
   ],
   "source": [
    "y.shape"
   ]
  },
  {
   "cell_type": "code",
   "execution_count": 13,
   "metadata": {
    "ExecuteTime": {
     "end_time": "2020-09-28T23:36:50.255153Z",
     "start_time": "2020-09-28T23:36:50.249281Z"
    }
   },
   "outputs": [
    {
     "data": {
      "text/plain": [
       "array([1., 1., 1., ..., 1., 0., 0.])"
      ]
     },
     "execution_count": 13,
     "metadata": {},
     "output_type": "execute_result"
    }
   ],
   "source": [
    "y"
   ]
  },
  {
   "cell_type": "code",
   "execution_count": 14,
   "metadata": {
    "ExecuteTime": {
     "end_time": "2020-09-28T23:51:50.125719Z",
     "start_time": "2020-09-28T23:51:49.886395Z"
    }
   },
   "outputs": [
    {
     "data": {
      "text/plain": [
       "(array([50000.,     0.,     0.,     0.,     0.,     0.,     0.,     0.,\n",
       "            0., 50000.]),\n",
       " array([0. , 0.1, 0.2, 0.3, 0.4, 0.5, 0.6, 0.7, 0.8, 0.9, 1. ]),\n",
       " <a list of 10 Patch objects>)"
      ]
     },
     "execution_count": 14,
     "metadata": {},
     "output_type": "execute_result"
    },
    {
     "data": {
      "image/png": "[encoded data removed]",
      "text/plain": [
       "<Figure size 432x288 with 1 Axes>"
      ]
     },
     "metadata": {
      "needs_background": "light"
     },
     "output_type": "display_data"
    }
   ],
   "source": [
    "plt.hist(y)"
   ]
  },
  {
   "cell_type": "code",
   "execution_count": 15,
   "metadata": {
    "ExecuteTime": {
     "end_time": "2020-09-28T23:55:57.866503Z",
     "start_time": "2020-09-28T23:55:57.855689Z"
    }
   },
   "outputs": [
    {
     "data": {
      "text/plain": [
       "array([[[ 2.68769142e-01,  3.56903171e-01,  4.74138734e+00,\n",
       "          2.20000000e+01],\n",
       "        [ 1.60076377e-01, -2.55609533e-01,  4.55022910e+00,\n",
       "          2.20000000e+01],\n",
       "        [ 1.14868731e+00, -6.24380156e-02,  4.50385377e+00,\n",
       "         -2.11000000e+02],\n",
       "        ...,\n",
       "        [ 0.00000000e+00,  0.00000000e+00,  0.00000000e+00,\n",
       "          0.00000000e+00],\n",
       "        [ 0.00000000e+00,  0.00000000e+00,  0.00000000e+00,\n",
       "          0.00000000e+00],\n",
       "        [ 0.00000000e+00,  0.00000000e+00,  0.00000000e+00,\n",
       "          0.00000000e+00]],\n",
       "\n",
       "       [[ 1.21266321e+00, -1.12853089e-01,  3.04708757e+00,\n",
       "         -2.11000000e+02],\n",
       "        [ 2.40893976e-01, -1.67174886e-02,  2.82705667e+00,\n",
       "          2.20000000e+01],\n",
       "        [ 1.02778452e-01, -8.58720522e-02,  3.04180579e+00,\n",
       "          2.20000000e+01],\n",
       "        ...,\n",
       "        [ 0.00000000e+00,  0.00000000e+00,  0.00000000e+00,\n",
       "          0.00000000e+00],\n",
       "        [ 0.00000000e+00,  0.00000000e+00,  0.00000000e+00,\n",
       "          0.00000000e+00],\n",
       "        [ 0.00000000e+00,  0.00000000e+00,  0.00000000e+00,\n",
       "          0.00000000e+00]],\n",
       "\n",
       "       [[ 2.16829416e-01, -9.97057017e-01,  5.32568913e-01,\n",
       "          2.20000000e+01],\n",
       "        [ 2.31359397e-01, -1.59192211e+00,  2.02906587e-01,\n",
       "          2.20000000e+01],\n",
       "        [ 3.41572501e-01, -1.34588077e+00,  1.79910012e-01,\n",
       "          2.20000000e+01],\n",
       "        ...,\n",
       "        [ 0.00000000e+00,  0.00000000e+00,  0.00000000e+00,\n",
       "          0.00000000e+00],\n",
       "        [ 0.00000000e+00,  0.00000000e+00,  0.00000000e+00,\n",
       "          0.00000000e+00],\n",
       "        [ 0.00000000e+00,  0.00000000e+00,  0.00000000e+00,\n",
       "          0.00000000e+00]],\n",
       "\n",
       "       ...,\n",
       "\n",
       "       [[ 5.62305979e-01,  1.30600679e+00,  4.45584187e+00,\n",
       "          3.21000000e+02],\n",
       "        [ 5.33720850e-01,  1.27847224e+00,  4.63907136e+00,\n",
       "         -2.11200000e+03],\n",
       "        [ 8.22173394e-01,  7.12645581e-01,  4.70736440e+00,\n",
       "         -2.11000000e+02],\n",
       "        ...,\n",
       "        [ 0.00000000e+00,  0.00000000e+00,  0.00000000e+00,\n",
       "          0.00000000e+00],\n",
       "        [ 0.00000000e+00,  0.00000000e+00,  0.00000000e+00,\n",
       "          0.00000000e+00],\n",
       "        [ 0.00000000e+00,  0.00000000e+00,  0.00000000e+00,\n",
       "          0.00000000e+00]],\n",
       "\n",
       "       [[ 2.31124336e-01, -6.34761724e-02,  3.95621834e+00,\n",
       "          2.20000000e+01],\n",
       "        [ 1.28517426e+00, -7.18495606e-02,  3.79668946e+00,\n",
       "         -2.11000000e+02],\n",
       "        [ 2.69184416e+00,  2.79825145e-02,  4.10518218e+00,\n",
       "          2.11000000e+02],\n",
       "        ...,\n",
       "        [ 0.00000000e+00,  0.00000000e+00,  0.00000000e+00,\n",
       "          0.00000000e+00],\n",
       "        [ 0.00000000e+00,  0.00000000e+00,  0.00000000e+00,\n",
       "          0.00000000e+00],\n",
       "        [ 0.00000000e+00,  0.00000000e+00,  0.00000000e+00,\n",
       "          0.00000000e+00]],\n",
       "\n",
       "       [[ 3.04140138e-01,  7.21628966e-01,  1.25271426e+00,\n",
       "          2.20000000e+01],\n",
       "        [ 9.00649058e-01,  1.19311927e+00,  1.03353543e+00,\n",
       "          2.11000000e+02],\n",
       "        [ 1.54846983e-01,  1.37730434e+00,  1.24606922e+00,\n",
       "          2.11000000e+02],\n",
       "        ...,\n",
       "        [ 0.00000000e+00,  0.00000000e+00,  0.00000000e+00,\n",
       "          0.00000000e+00],\n",
       "        [ 0.00000000e+00,  0.00000000e+00,  0.00000000e+00,\n",
       "          0.00000000e+00],\n",
       "        [ 0.00000000e+00,  0.00000000e+00,  0.00000000e+00,\n",
       "          0.00000000e+00]]])"
      ]
     },
     "execution_count": 15,
     "metadata": {},
     "output_type": "execute_result"
    }
   ],
   "source": [
    "x"
   ]
  },
  {
   "cell_type": "code",
   "execution_count": null,
   "metadata": {},
   "outputs": [],
   "source": []
  }
 ],
 "metadata": {
  "kernelspec": {
   "display_name": "Python 3",
   "language": "python",
   "name": "python3"
  },
  "language_info": {
   "codemirror_mode": {
    "name": "ipython",
    "version": 3
   },
   "file_extension": ".py",
   "mimetype": "text/x-python",
   "name": "python",
   "nbconvert_exporter": "python",
   "pygments_lexer": "ipython3",
   "version": "3.6.5"
  }
 },
 "nbformat": 4,
 "nbformat_minor": 4
}

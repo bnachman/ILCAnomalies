{
 "cells": [
  {
   "cell_type": "code",
   "execution_count": 1,
   "metadata": {
    "ExecuteTime": {
     "end_time": "2021-03-08T19:03:24.527587Z",
     "start_time": "2021-03-08T19:03:24.235214Z"
    }
   },
   "outputs": [],
   "source": [
    "import numpy as np\n",
    "import matplotlib.pyplot as plt"
   ]
  },
  {
   "cell_type": "code",
   "execution_count": 2,
   "metadata": {
    "ExecuteTime": {
     "end_time": "2021-03-08T19:03:24.680069Z",
     "start_time": "2021-03-08T19:03:24.676559Z"
    }
   },
   "outputs": [],
   "source": [
    "import glob"
   ]
  },
  {
   "cell_type": "code",
   "execution_count": 3,
   "metadata": {
    "ExecuteTime": {
     "end_time": "2021-03-08T19:03:27.058418Z",
     "start_time": "2021-03-08T19:03:27.053016Z"
    }
   },
   "outputs": [],
   "source": [
    "bg_verybig_list = ['/data0/users/bpnachman/anomaly/bigger/processed_background_randomseeds_bigger1.txt',\n",
    " '/data0/users/bpnachman/anomaly/bigger/processed_background_randomseeds_bigger2.txt',\n",
    " '/data0/users/bpnachman/anomaly/bigger/processed_background_randomseeds_bigger3.txt',\n",
    " '/data0/users/bpnachman/anomaly/bigger/processed_background_randomseeds_bigger4.txt',\n",
    " '/data0/users/bpnachman/anomaly/bigger/processed_background_randomseeds_bigger5.txt',\n",
    " '/data0/users/bpnachman/anomaly/bigger/processed_background_randomseeds_bigger6.txt',\n",
    " '/data0/users/bpnachman/anomaly/bigger/processed_background_randomseeds_bigger7.txt',\n",
    " '/data0/users/bpnachman/anomaly/bigger/processed_background_randomseeds_bigger8.txt',\n",
    " '/data0/users/bpnachman/anomaly/bigger/processed_background_randomseeds_bigger9.txt']\n"
   ]
  },
  {
   "cell_type": "code",
   "execution_count": 4,
   "metadata": {
    "ExecuteTime": {
     "end_time": "2021-03-08T19:03:30.169907Z",
     "start_time": "2021-03-08T19:03:30.160625Z"
    }
   },
   "outputs": [
    {
     "data": {
      "text/plain": [
       "['/data1/users/bpnachman/anomaly/processed_background_randomseeds_bigger6_noZ.txt',\n",
       " '/data1/users/bpnachman/anomaly/processed_background_randomseeds_bigger7_noZ.txt',\n",
       " '/data1/users/bpnachman/anomaly/processed_background_randomseeds_bigger5_noZ.txt',\n",
       " '/data1/users/bpnachman/anomaly/processed_background_randomseeds_bigger8_noZ.txt',\n",
       " '/data1/users/bpnachman/anomaly/processed_background_randomseeds_bigger9_noZ.txt',\n",
       " '/data1/users/bpnachman/anomaly/processed_background_randomseeds_bigger4_noZ.txt',\n",
       " '/data1/users/bpnachman/anomaly/processed_background_randomseeds_bigger3_noZ.txt',\n",
       " '/data1/users/bpnachman/anomaly/processed_background_randomseeds_bigger1_noZ.txt',\n",
       " '/data1/users/bpnachman/anomaly/processed_background_randomseeds_bigger2_noZ.txt']"
      ]
     },
     "execution_count": 4,
     "metadata": {},
     "output_type": "execute_result"
    }
   ],
   "source": [
    "glob.glob('/data1/users/bpnachman/anomaly/*')"
   ]
  },
  {
   "cell_type": "code",
   "execution_count": 5,
   "metadata": {
    "ExecuteTime": {
     "end_time": "2021-03-08T19:03:36.343724Z",
     "start_time": "2021-03-08T19:03:36.339171Z"
    }
   },
   "outputs": [],
   "source": [
    "bg_baseline_list = ['/data1/users/bpnachman/anomaly/processed_background_randomseeds_bigger6_noZ.txt',\n",
    " '/data1/users/bpnachman/anomaly/processed_background_randomseeds_bigger7_noZ.txt',\n",
    " '/data1/users/bpnachman/anomaly/processed_background_randomseeds_bigger5_noZ.txt',\n",
    " '/data1/users/bpnachman/anomaly/processed_background_randomseeds_bigger8_noZ.txt',\n",
    " '/data1/users/bpnachman/anomaly/processed_background_randomseeds_bigger9_noZ.txt',\n",
    " '/data1/users/bpnachman/anomaly/processed_background_randomseeds_bigger4_noZ.txt',\n",
    " '/data1/users/bpnachman/anomaly/processed_background_randomseeds_bigger3_noZ.txt',\n",
    " '/data1/users/bpnachman/anomaly/processed_background_randomseeds_bigger1_noZ.txt',\n",
    " '/data1/users/bpnachman/anomaly/processed_background_randomseeds_bigger2_noZ.txt']"
   ]
  },
  {
   "cell_type": "code",
   "execution_count": 6,
   "metadata": {
    "ExecuteTime": {
     "end_time": "2021-03-08T19:03:41.860877Z",
     "start_time": "2021-03-08T19:03:41.856299Z"
    }
   },
   "outputs": [],
   "source": [
    "signal_file_list = ['/data0/users/bpnachman/anomaly/bigger/processed_lhe004_signal.txt',\n",
    " '/data0/users/bpnachman/anomaly/bigger/processed_lhe005_signal.txt',\n",
    " '/data0/users/bpnachman/anomaly/bigger/processed_lhe003_signal.txt',\n",
    " '/data0/users/bpnachman/anomaly/bigger/processed_lhe002_signal.txt',\n",
    " '/data0/users/bpnachman/anomaly/bigger/processed_lhe006_signal.txt',\n",
    " '/data0/users/bpnachman/anomaly/bigger/processed_lhe009_signal.txt',\n",
    " '/data0/users/bpnachman/anomaly/bigger/processed_lhe007_signal.txt',\n",
    " '/data0/users/bpnachman/anomaly/bigger/processed_lhe001_signal.txt',\n",
    " '/data0/users/bpnachman/anomaly/bigger/processed_lhe010_signal.txt',\n",
    " '/data0/users/bpnachman/anomaly/bigger/processed_lhe008_signal.txt']"
   ]
  },
  {
   "cell_type": "code",
   "execution_count": 7,
   "metadata": {
    "ExecuteTime": {
     "end_time": "2021-03-08T19:03:45.950321Z",
     "start_time": "2021-03-08T19:03:45.937523Z"
    },
    "code_folding": []
   },
   "outputs": [],
   "source": [
    "def parse_file_numparts(file_object, filename):\n",
    "    all_nparts = []\n",
    "    all_njects = []\n",
    "    count = 0\n",
    "    print('Opening ' + filename[-10:])\n",
    "    for line in file_object:\n",
    "        if count%100000 == 0:\n",
    "            print('Parsing line ' + str(count))\n",
    "            \n",
    "            \n",
    "        count += 1\n",
    "        metadata = line.split(\"J\")[0]\n",
    "        eventinfo = line.split(\"J\")[1]\n",
    "        jets = eventinfo.split(\"P\")[0]\n",
    "        particles = eventinfo.split(\"P\")[1]\n",
    "        \n",
    "        truthsqrtshat = float(metadata.split()[2])\n",
    "        if truthsqrtshat < 200 or truthsqrtshat > 500:\n",
    "            continue\n",
    "\n",
    "\n",
    "        nparticles  = int(len(particles.split())/5) #number of particles\n",
    "        njets  = int(len(jets.split())/11) #number of jets\n",
    "        all_nparts.append(nparticles)\n",
    "        all_njects.append(njets)\n",
    "    return all_nparts, all_njects"
   ]
  },
  {
   "cell_type": "code",
   "execution_count": 8,
   "metadata": {
    "ExecuteTime": {
     "end_time": "2021-03-08T19:03:46.336916Z",
     "start_time": "2021-03-08T19:03:46.319248Z"
    },
    "code_folding": []
   },
   "outputs": [],
   "source": [
    "def parse_file_specialbaseline(file_object, filename, p_pad_size, j_pad_size):\n",
    "# def parse_file_specialbaseline(file_object, filename, p_pad_size):\n",
    "\n",
    "    padded_part_arrays = []\n",
    "    padded_jet_arrays = []\n",
    "#    truthsqrtshats = []\n",
    "    count = 0\n",
    "    print('Opening ' + filename[-20:])\n",
    "    for line in file_object:\n",
    "        if count%100000 == 0:\n",
    "            print('Parsing line ' + str(count))\n",
    "            \n",
    "            \n",
    "        count += 1\n",
    "        \n",
    "        metadata = line.split(\"J\")[0]\n",
    "        eventinfo = line.split(\"J\")[1]\n",
    "        jets = eventinfo.split(\"P\")[0]\n",
    "        particles = eventinfo.split(\"P\")[1]\n",
    "        \n",
    "        truthsqrtshat = float(metadata.split()[2])\n",
    "        if truthsqrtshat < 325 or truthsqrtshat > 375:\n",
    "            continue\n",
    "        \n",
    "        this_record = {}\n",
    "        \n",
    "        particles_list = particles.split()\n",
    "        jets_list = jets.split()\n",
    "        \n",
    "        #True collision quantities\n",
    "#         truthsqrtshats.append(float(metadata.split()[2])) #energy available for making new particles (electron energy - photon)\n",
    "\n",
    "        \n",
    "        particles_vec = np.array(particles_list).astype('float')\n",
    "        particles_vec = np.reshape(particles_vec, (-1, 5))\n",
    "        \n",
    "        jets_vec = np.array(jets_list).astype('float')\n",
    "        jets_vec = np.reshape(jets_vec, (-1, 11))\n",
    "        \n",
    "        \n",
    "        # omit index 0\n",
    "        particles_vec = particles_vec[:,1:]\n",
    "        jets_vec = jets_vec[:,1:]\n",
    "        # determine how many zero values to pad\n",
    "        p_pad_length = p_pad_size - particles_vec.shape[0]\n",
    "        j_pad_length = j_pad_size - jets_vec.shape[0]\n",
    "        #pad\n",
    "        padded_particles = np.pad(particles_vec, ((0,p_pad_length),(0,0)))\n",
    "        padded_jets = np.pad(jets_vec, ((0,j_pad_length),(0,0)))\n",
    "        \n",
    "        # check padding\n",
    "        assert padded_particles.shape == (p_pad_size, 4)\n",
    "        assert padded_jets.shape == (j_pad_size, 10)\n",
    "        # add to list\n",
    "        padded_part_arrays.append(padded_particles)\n",
    "        padded_jet_arrays.append(padded_jets)\n",
    "    xp = np.array(padded_part_arrays)\n",
    "    xj = np.array(padded_jet_arrays)\n",
    "    print('particles:')\n",
    "    print(xp.shape)\n",
    "    print('jets:')\n",
    "    print(xj.shape)\n",
    "    return xp, xj\n",
    "    #return xp\n",
    "\n",
    "#     return _, np.array(truthsqrtshats)"
   ]
  },
  {
   "cell_type": "code",
   "execution_count": 9,
   "metadata": {
    "ExecuteTime": {
     "end_time": "2021-03-08T19:03:48.743868Z",
     "start_time": "2021-03-08T19:03:48.725727Z"
    },
    "code_folding": []
   },
   "outputs": [],
   "source": [
    "def parse_file_np(file_object, filename, p_pad_size, j_pad_size):\n",
    "    padded_part_arrays = []\n",
    "    padded_jet_arrays = []\n",
    "    truthsqrtshats = []\n",
    "    count = 0\n",
    "    print('Opening ' + filename[-10:])\n",
    "    for line in file_object:\n",
    "        if count%100000 == 0:\n",
    "            print('Parsing line ' + str(count))\n",
    "            \n",
    "            \n",
    "        count += 1\n",
    "        \n",
    "        metadata = line.split(\"J\")[0]\n",
    "        eventinfo = line.split(\"J\")[1]\n",
    "        jets = eventinfo.split(\"P\")[0]\n",
    "        particles = eventinfo.split(\"P\")[1]\n",
    "        \n",
    "        truthsqrtshat = float(metadata.split()[2])\n",
    "        if truthsqrtshat < 200 or truthsqrtshat > 500:\n",
    "            continue\n",
    "        \n",
    "        this_record = {}\n",
    "        \n",
    "        particles_list = particles.split()\n",
    "        jets_list = jets.split()\n",
    "        \n",
    "        #True collision quantities\n",
    "        truthsqrtshats.append(float(metadata.split()[2])) #energy available for making new particles (electron energy - photon)\n",
    "\n",
    "        \n",
    "        particles_vec = np.array(particles_list).astype('float')\n",
    "        particles_vec = np.reshape(particles_vec, (-1, 5))\n",
    "        \n",
    "        jets_vec = np.array(jets_list).astype('float')\n",
    "        jets_vec = np.reshape(jets_vec, (-1, 11))\n",
    "        \n",
    "        \n",
    "        # omit index 0\n",
    "        particles_vec = particles_vec[:,1:]\n",
    "        jets_vec = jets_vec[:,1:]\n",
    "        # determine how many zero values to pad\n",
    "        p_pad_length = p_pad_size - particles_vec.shape[0]\n",
    "        j_pad_length = j_pad_size - jets_vec.shape[0]\n",
    "        #pad\n",
    "        padded_particles = np.pad(particles_vec, ((0,p_pad_length),(0,0)))\n",
    "        padded_jets = np.pad(jets_vec, ((0,j_pad_length),(0,0)))\n",
    "        \n",
    "        # check padding\n",
    "        assert padded_particles.shape == (p_pad_size, 4)\n",
    "        assert padded_jets.shape == (j_pad_size, 10)\n",
    "        # add to list\n",
    "        padded_part_arrays.append(padded_particles)\n",
    "        padded_jet_arrays.append(padded_jets)\n",
    "    xp = np.array(padded_part_arrays)\n",
    "    xj = np.array(padded_jet_arrays)\n",
    "    print('particles:')\n",
    "    print(xp.shape)\n",
    "    print('jets:')\n",
    "    print(xj.shape)\n",
    "    return xp, xj, np.array(truthsqrtshats)\n",
    "#     return _, np.array(truthsqrtshats)"
   ]
  },
  {
   "cell_type": "code",
   "execution_count": 10,
   "metadata": {
    "ExecuteTime": {
     "end_time": "2021-03-08T19:03:49.056896Z",
     "start_time": "2021-03-08T19:03:49.044374Z"
    },
    "code_folding": [
     0
    ]
   },
   "outputs": [],
   "source": [
    "def parse_file_simple(file_object, filename):\n",
    "    all_records = []\n",
    "    count = 0\n",
    "    print('Opening ' + filename[-10:])\n",
    "    for line in file_object:\n",
    "        if count%100000 == 0:\n",
    "            print('Parsing line ' + str(count))\n",
    "            \n",
    "            \n",
    "        count += 1\n",
    "        metadata = line.split(\"J\")[0]\n",
    "        particles = line.split(\"P\")[1]\n",
    "\n",
    "        this_record = {}\n",
    "\n",
    "        nparticles  = int(len(particles.split())/5) #number of particles\n",
    "\n",
    "        #True collision quantities\n",
    "        this_record['truthsqrtshat'] = float(metadata.split()[2]) #energy available for making new particles (electron energy - photon)\n",
    "\n",
    "        this_record['nparticles'] = nparticles\n",
    "\n",
    "        particles = particles.split()\n",
    "        particles_vec = []\n",
    "        for i in range(nparticles):\n",
    "            #order:\n",
    "            # - index\n",
    "            # - magnitude of momentum |p| (units of GeV)\n",
    "            # - pseudorapidity (~polar angle - see e.g. https://en.wikipedia.org/wiki/Pseudorapidity)\n",
    "            # - azimuthal angle\n",
    "            # - particle identifier (https://pdg.lbl.gov/2006/reviews/pdf-files/montecarlo-web.pdf)\n",
    "            particle = particles[i*5:i*5+5]\n",
    "            particles_vec.append(particle)\n",
    "            #print(particles[i*5],particles[i*5+1],particles[i*5+2],particles[i*5+3],particles[i*5+4])\n",
    "        this_record['particles'] = particles_vec\n",
    "        all_records.append(this_record)\n",
    "    return all_records"
   ]
  },
  {
   "cell_type": "code",
   "execution_count": 13,
   "metadata": {
    "ExecuteTime": {
     "end_time": "2021-03-08T19:09:42.871156Z",
     "start_time": "2021-03-08T19:04:55.234395Z"
    },
    "code_folding": [],
    "scrolled": true
   },
   "outputs": [
    {
     "name": "stdout",
     "output_type": "stream",
     "text": [
      "Opening r6_noZ.txt\n",
      "Parsing line 0\n",
      "Parsing line 100000\n",
      "Parsing line 200000\n",
      "Parsing line 300000\n",
      "Parsing line 400000\n",
      "Parsing line 500000\n",
      "Parsing line 600000\n",
      "Parsing line 700000\n",
      "Parsing line 800000\n",
      "Parsing line 900000\n",
      "Parsing line 1000000\n",
      "Parsing line 1100000\n",
      "Parsing line 1200000\n",
      "Parsing line 1300000\n",
      "Parsing line 1400000\n",
      "Parsing line 1500000\n",
      "Parsing line 1600000\n",
      "Opening r7_noZ.txt\n",
      "Parsing line 0\n",
      "Parsing line 100000\n",
      "Parsing line 200000\n",
      "Parsing line 300000\n",
      "Parsing line 400000\n",
      "Parsing line 500000\n",
      "Parsing line 600000\n",
      "Parsing line 700000\n",
      "Parsing line 800000\n",
      "Parsing line 900000\n",
      "Parsing line 1000000\n",
      "Parsing line 1100000\n",
      "Parsing line 1200000\n",
      "Parsing line 1300000\n",
      "Parsing line 1400000\n",
      "Parsing line 1500000\n",
      "Parsing line 1600000\n",
      "Parsing line 1700000\n",
      "Parsing line 1800000\n",
      "Opening r5_noZ.txt\n",
      "Parsing line 0\n",
      "Parsing line 100000\n",
      "Parsing line 200000\n",
      "Parsing line 300000\n",
      "Parsing line 400000\n",
      "Parsing line 500000\n",
      "Parsing line 600000\n",
      "Parsing line 700000\n",
      "Parsing line 800000\n",
      "Parsing line 900000\n",
      "Parsing line 1000000\n",
      "Parsing line 1100000\n",
      "Parsing line 1200000\n",
      "Parsing line 1300000\n",
      "Parsing line 1400000\n",
      "Parsing line 1500000\n",
      "Parsing line 1600000\n",
      "Parsing line 1700000\n",
      "Parsing line 1800000\n",
      "Opening r8_noZ.txt\n",
      "Parsing line 0\n",
      "Parsing line 100000\n",
      "Parsing line 200000\n",
      "Parsing line 300000\n",
      "Parsing line 400000\n",
      "Parsing line 500000\n",
      "Parsing line 600000\n",
      "Parsing line 700000\n",
      "Parsing line 800000\n",
      "Parsing line 900000\n",
      "Parsing line 1000000\n",
      "Parsing line 1100000\n",
      "Parsing line 1200000\n",
      "Parsing line 1300000\n",
      "Parsing line 1400000\n",
      "Parsing line 1500000\n",
      "Parsing line 1600000\n",
      "Parsing line 1700000\n",
      "Opening r9_noZ.txt\n",
      "Parsing line 0\n",
      "Parsing line 100000\n",
      "Parsing line 200000\n",
      "Parsing line 300000\n",
      "Parsing line 400000\n",
      "Parsing line 500000\n",
      "Parsing line 600000\n",
      "Parsing line 700000\n",
      "Parsing line 800000\n",
      "Parsing line 900000\n",
      "Parsing line 1000000\n",
      "Parsing line 1100000\n",
      "Parsing line 1200000\n",
      "Parsing line 1300000\n",
      "Parsing line 1400000\n",
      "Parsing line 1500000\n",
      "Parsing line 1600000\n",
      "Parsing line 1700000\n",
      "Opening r4_noZ.txt\n",
      "Parsing line 0\n",
      "Parsing line 100000\n",
      "Parsing line 200000\n",
      "Parsing line 300000\n",
      "Parsing line 400000\n",
      "Parsing line 500000\n",
      "Parsing line 600000\n",
      "Parsing line 700000\n",
      "Parsing line 800000\n",
      "Parsing line 900000\n",
      "Parsing line 1000000\n",
      "Parsing line 1100000\n",
      "Parsing line 1200000\n",
      "Parsing line 1300000\n",
      "Parsing line 1400000\n",
      "Parsing line 1500000\n",
      "Parsing line 1600000\n",
      "Parsing line 1700000\n",
      "Parsing line 1800000\n",
      "Opening r3_noZ.txt\n",
      "Parsing line 0\n",
      "Parsing line 100000\n",
      "Parsing line 200000\n",
      "Parsing line 300000\n",
      "Parsing line 400000\n",
      "Parsing line 500000\n",
      "Parsing line 600000\n",
      "Parsing line 700000\n",
      "Parsing line 800000\n",
      "Parsing line 900000\n",
      "Parsing line 1000000\n",
      "Parsing line 1100000\n",
      "Parsing line 1200000\n",
      "Parsing line 1300000\n",
      "Parsing line 1400000\n",
      "Parsing line 1500000\n",
      "Parsing line 1600000\n",
      "Parsing line 1700000\n",
      "Opening r1_noZ.txt\n",
      "Parsing line 0\n",
      "Parsing line 100000\n",
      "Parsing line 200000\n",
      "Parsing line 300000\n",
      "Parsing line 400000\n",
      "Parsing line 500000\n",
      "Parsing line 600000\n",
      "Parsing line 700000\n",
      "Parsing line 800000\n",
      "Parsing line 900000\n",
      "Parsing line 1000000\n",
      "Parsing line 1100000\n",
      "Parsing line 1200000\n",
      "Parsing line 1300000\n",
      "Parsing line 1400000\n",
      "Parsing line 1500000\n",
      "Parsing line 1600000\n",
      "Parsing line 1700000\n",
      "Parsing line 1800000\n",
      "Parsing line 1900000\n",
      "Parsing line 2000000\n",
      "Parsing line 2100000\n",
      "Parsing line 2200000\n",
      "Parsing line 2300000\n",
      "Parsing line 2400000\n",
      "Parsing line 2500000\n",
      "Parsing line 2600000\n",
      "Parsing line 2700000\n",
      "Parsing line 2800000\n",
      "Parsing line 2900000\n",
      "Parsing line 3000000\n",
      "Parsing line 3100000\n",
      "Parsing line 3200000\n",
      "Parsing line 3300000\n",
      "Parsing line 3400000\n",
      "Parsing line 3500000\n",
      "Parsing line 3600000\n",
      "Parsing line 3700000\n",
      "Parsing line 3800000\n",
      "Parsing line 3900000\n",
      "Parsing line 4000000\n",
      "Parsing line 4100000\n",
      "Parsing line 4200000\n",
      "Parsing line 4300000\n",
      "Parsing line 4400000\n",
      "Parsing line 4500000\n",
      "Parsing line 4600000\n",
      "Parsing line 4700000\n",
      "Parsing line 4800000\n",
      "Parsing line 4900000\n",
      "Parsing line 5000000\n",
      "Parsing line 5100000\n",
      "Parsing line 5200000\n",
      "Parsing line 5300000\n",
      "Parsing line 5400000\n",
      "Parsing line 5500000\n",
      "Parsing line 5600000\n",
      "Parsing line 5700000\n",
      "Parsing line 5800000\n",
      "Parsing line 5900000\n",
      "Parsing line 6000000\n",
      "Parsing line 6100000\n",
      "Parsing line 6200000\n",
      "Opening r2_noZ.txt\n",
      "Parsing line 0\n",
      "Parsing line 100000\n",
      "Parsing line 200000\n",
      "Parsing line 300000\n",
      "Parsing line 400000\n",
      "Parsing line 500000\n",
      "Parsing line 600000\n",
      "Parsing line 700000\n",
      "Parsing line 800000\n",
      "Parsing line 900000\n",
      "Parsing line 1000000\n",
      "Parsing line 1100000\n",
      "Parsing line 1200000\n",
      "Parsing line 1300000\n",
      "Parsing line 1400000\n",
      "Parsing line 1500000\n",
      "Parsing line 1600000\n",
      "Parsing line 1700000\n",
      "203\n",
      "8\n"
     ]
    }
   ],
   "source": [
    "all_nparts = []\n",
    "all_njets = []\n",
    "for filename in bg_baseline_list:\n",
    "    p, j = parse_file_numparts(open(filename),filename)\n",
    "    all_nparts = all_nparts + p\n",
    "    all_njets = all_njets + j\n",
    "print(max(all_nparts))\n",
    "print(max(all_njets))"
   ]
  },
  {
   "cell_type": "code",
   "execution_count": 7,
   "metadata": {
    "ExecuteTime": {
     "end_time": "2021-01-22T08:57:33.448093Z",
     "start_time": "2021-01-22T08:57:33.440312Z"
    }
   },
   "outputs": [
    {
     "name": "stdout",
     "output_type": "stream",
     "text": [
      "1\n"
     ]
    }
   ],
   "source": [
    "print(min(all_njets))"
   ]
  },
  {
   "cell_type": "code",
   "execution_count": 16,
   "metadata": {
    "ExecuteTime": {
     "end_time": "2020-12-04T08:21:56.535393Z",
     "start_time": "2020-12-04T08:21:56.242293Z"
    }
   },
   "outputs": [
    {
     "data": {
      "text/plain": [
       "(array([4.0900e+03, 1.5881e+05, 0.0000e+00, 9.4148e+04, 0.0000e+00,\n",
       "        2.6382e+04, 4.4160e+03, 0.0000e+00, 5.8900e+02, 2.6000e+01]),\n",
       " array([1. , 1.6, 2.2, 2.8, 3.4, 4. , 4.6, 5.2, 5.8, 6.4, 7. ]),\n",
       " <a list of 10 Patch objects>)"
      ]
     },
     "execution_count": 16,
     "metadata": {},
     "output_type": "execute_result"
    },
    {
     "data": {
      "image/png": "[encoded data removed]",
      "text/plain": [
       "<Figure size 432x288 with 1 Axes>"
      ]
     },
     "metadata": {
      "needs_background": "light"
     },
     "output_type": "display_data"
    }
   ],
   "source": [
    "plt.hist(all_njets)"
   ]
  },
  {
   "cell_type": "code",
   "execution_count": 14,
   "metadata": {
    "ExecuteTime": {
     "end_time": "2021-03-08T19:10:30.196669Z",
     "start_time": "2021-03-08T19:10:30.192829Z"
    }
   },
   "outputs": [],
   "source": [
    "max_nparticles = 282\n",
    "max_njets = 10"
   ]
  },
  {
   "cell_type": "code",
   "execution_count": 4,
   "metadata": {
    "ExecuteTime": {
     "end_time": "2020-11-01T23:39:06.650689Z",
     "start_time": "2020-11-01T23:39:06.630029Z"
    },
    "code_folding": [
     0
    ]
   },
   "outputs": [],
   "source": [
    "#\"Background only\" i.e. no anomalies in this dataset\n",
    "#myfile = open(\"/data0/users/bpnachman/anomaly/processed_lhe001_background.txt\")\n",
    "\n",
    "#Want to make new particles with a given mass.  E = mc^2\n",
    "#Instead electron + electron -> new particle -> stuff we sift through\n",
    "#electron + electron -> photon + new particle -> stuff\n",
    "\n",
    "\n",
    "\n",
    "def parse_file(file_object):\n",
    "    all_records = []\n",
    "    mymeasuredenergy = []\n",
    "\n",
    "    count = 0\n",
    "    for line in file_object:\n",
    "\n",
    "        metadata = line.split(\"J\")[0]\n",
    "        eventinfo = line.split(\"J\")[1]\n",
    "        jets = eventinfo.split(\"P\")[0]\n",
    "        particles = eventinfo.split(\"P\")[1]\n",
    "\n",
    "        this_record = {}\n",
    "        this_record['label'] = count\n",
    "        count += 1\n",
    "        eventweight = float(metadata.split()[0])\n",
    "        this_record['eventweight'] = eventweight #this is the event \"weight\".  Let's ignoreit for now (we will need it later).\n",
    "        njets = int(len(jets.split())/11) #number of \"jets\"\n",
    "\n",
    "        nparticles  = int(len(particles.split())/5) #number of particles\n",
    "\n",
    "\n",
    "\n",
    "\n",
    "        #True collision quantities\n",
    "        this_record['truthcenterofmassenergy'] = float(metadata.split()[1]) #true total energy - should be delta function at 1000 GeV\n",
    "        this_record['truthsqrtshat'] = float(metadata.split()[2]) #energy available for making new particles (electron energy - photon)\n",
    "        this_record['truthphotonpT'] = float(metadata.split()[3]) #photon momentum |p| in units of GeV\n",
    "        this_record['truthphotoneta'] = float(metadata.split()[4]) #photon pseudorapidity (~polar angle - see e.g. https://en.wikipedia.org/wiki/Pseudorapidity)\n",
    "        this_record['truthphotonphi'] = float(metadata.split()[5]) #photon azimuthal angle\n",
    "\n",
    "        #Measured collision quantities\n",
    "        measuredcenterofmassenergy  = float(metadata.split()[6]) #true measured energy - should be noisy version of truthcenterofmassenergy\n",
    "        this_record['measuredcenterofmassenergy'] = measuredcenterofmassenergy\n",
    "        this_record['measuredsqrtshat'] = float(metadata.split()[7]) #energy available for making new particles (electron energy - photon)\n",
    "        this_record['measuredphotonpT'] = float(metadata.split()[8]) #photon momentum |p| in units of GeV\n",
    "        this_record['measuredphotoneta'] = float(metadata.split()[9]) #photon pseudorapidity (~polar angle - see e.g. https://en.wikipedia.org/wiki/Pseudorapidity)\n",
    "        this_record['measuredphotonphi'] = float(metadata.split()[10]) #photon azimuthal angle\n",
    "        this_record['metadata'] = metadata.split()\n",
    "\n",
    "        mymeasuredenergy+=[measuredcenterofmassenergy]\n",
    "\n",
    "        this_record['njets'] = njets\n",
    "        jets = jets.split()\n",
    "        jets_vec = []\n",
    "        for i in range(njets):\n",
    "            jet = np.zeros(11)\n",
    "            #order:\n",
    "            # - index\n",
    "            # - magnitude of momentum |p| (units of GeV)\n",
    "            # - pseudorapidity (~polar angle - see e.g. https://en.wikipedia.org/wiki/Pseudorapidity)\n",
    "            # - azimuthal angle\n",
    "            # - mass (units of GeV/c^2)\n",
    "            # - bit encoding of the jet \"flavor\" (not totally sure what the bit means, but will look it up)\n",
    "            # - 0th angular moment of jet radiation\n",
    "            # - 1th angular moment of jet radiation\n",
    "            # - 2th angular moment of jet radiation\n",
    "            # - 3th angular moment of jet radiation\n",
    "            # - 4th angular moment of jet radiation\n",
    "            jet = jets[i*11:i*11+11]\n",
    "            jets_vec+=[jet]\n",
    "\n",
    "        this_record['jets']=jets_vec\n",
    "\n",
    "        this_record['nparticles'] = nparticles\n",
    "\n",
    "        particles = particles.split()\n",
    "        particles_vec = []\n",
    "        for i in range(nparticles):\n",
    "            particle = np.zeros(5)\n",
    "            #order:\n",
    "            # - index\n",
    "            # - magnitude of momentum |p| (units of GeV)\n",
    "            # - pseudorapidity (~polar angle - see e.g. https://en.wikipedia.org/wiki/Pseudorapidity)\n",
    "            # - azimuthal angle\n",
    "            # - particle identifier (https://pdg.lbl.gov/2006/reviews/pdf-files/montecarlo-web.pdf)\n",
    "            particle = particles[i*5:i*5+5]\n",
    "            particles_vec+=[particle]\n",
    "            #print(particles[i*5],particles[i*5+1],particles[i*5+2],particles[i*5+3],particles[i*5+4])\n",
    "        this_record['particles'] = particles_vec\n",
    "\n",
    "        all_records.append(this_record)\n",
    "    return all_records"
   ]
  },
  {
   "cell_type": "markdown",
   "metadata": {},
   "source": [
    "### Special baseline test thingy"
   ]
  },
  {
   "cell_type": "code",
   "execution_count": null,
   "metadata": {},
   "outputs": [],
   "source": []
  },
  {
   "cell_type": "code",
   "execution_count": 15,
   "metadata": {
    "ExecuteTime": {
     "end_time": "2021-03-08T19:18:10.643145Z",
     "start_time": "2021-03-08T19:10:34.694150Z"
    },
    "scrolled": true
   },
   "outputs": [
    {
     "name": "stdout",
     "output_type": "stream",
     "text": [
      "Opening eeds_bigger6_noZ.txt\n",
      "Parsing line 0\n",
      "Parsing line 100000\n",
      "Parsing line 200000\n",
      "Parsing line 300000\n",
      "Parsing line 400000\n",
      "Parsing line 500000\n",
      "Parsing line 600000\n",
      "Parsing line 700000\n",
      "Parsing line 800000\n",
      "Parsing line 900000\n",
      "Parsing line 1000000\n",
      "Parsing line 1100000\n",
      "Parsing line 1200000\n",
      "Parsing line 1300000\n",
      "Parsing line 1400000\n",
      "Parsing line 1500000\n",
      "Parsing line 1600000\n",
      "particles:\n",
      "(48198, 282, 4)\n",
      "jets:\n",
      "(48198, 10, 10)\n",
      "Opening eeds_bigger7_noZ.txt\n",
      "Parsing line 0\n",
      "Parsing line 100000\n",
      "Parsing line 200000\n",
      "Parsing line 300000\n",
      "Parsing line 400000\n",
      "Parsing line 500000\n",
      "Parsing line 600000\n",
      "Parsing line 700000\n",
      "Parsing line 800000\n",
      "Parsing line 900000\n",
      "Parsing line 1000000\n",
      "Parsing line 1100000\n",
      "Parsing line 1200000\n",
      "Parsing line 1300000\n",
      "Parsing line 1400000\n",
      "Parsing line 1500000\n",
      "Parsing line 1600000\n",
      "Parsing line 1700000\n",
      "Parsing line 1800000\n",
      "particles:\n",
      "(54625, 282, 4)\n",
      "jets:\n",
      "(54625, 10, 10)\n",
      "Opening eeds_bigger5_noZ.txt\n",
      "Parsing line 0\n",
      "Parsing line 100000\n",
      "Parsing line 200000\n",
      "Parsing line 300000\n",
      "Parsing line 400000\n",
      "Parsing line 500000\n",
      "Parsing line 600000\n",
      "Parsing line 700000\n",
      "Parsing line 800000\n",
      "Parsing line 900000\n",
      "Parsing line 1000000\n",
      "Parsing line 1100000\n",
      "Parsing line 1200000\n",
      "Parsing line 1300000\n",
      "Parsing line 1400000\n",
      "Parsing line 1500000\n",
      "Parsing line 1600000\n",
      "Parsing line 1700000\n",
      "Parsing line 1800000\n",
      "particles:\n",
      "(54033, 282, 4)\n",
      "jets:\n",
      "(54033, 10, 10)\n",
      "Opening eeds_bigger8_noZ.txt\n",
      "Parsing line 0\n",
      "Parsing line 100000\n",
      "Parsing line 200000\n",
      "Parsing line 300000\n",
      "Parsing line 400000\n",
      "Parsing line 500000\n",
      "Parsing line 600000\n",
      "Parsing line 700000\n",
      "Parsing line 800000\n",
      "Parsing line 900000\n",
      "Parsing line 1000000\n",
      "Parsing line 1100000\n",
      "Parsing line 1200000\n",
      "Parsing line 1300000\n",
      "Parsing line 1400000\n",
      "Parsing line 1500000\n",
      "Parsing line 1600000\n",
      "Parsing line 1700000\n",
      "particles:\n",
      "(53207, 282, 4)\n",
      "jets:\n",
      "(53207, 10, 10)\n",
      "Opening eeds_bigger9_noZ.txt\n",
      "Parsing line 0\n",
      "Parsing line 100000\n",
      "Parsing line 200000\n",
      "Parsing line 300000\n",
      "Parsing line 400000\n",
      "Parsing line 500000\n",
      "Parsing line 600000\n",
      "Parsing line 700000\n",
      "Parsing line 800000\n",
      "Parsing line 900000\n",
      "Parsing line 1000000\n",
      "Parsing line 1100000\n",
      "Parsing line 1200000\n",
      "Parsing line 1300000\n",
      "Parsing line 1400000\n",
      "Parsing line 1500000\n",
      "Parsing line 1600000\n",
      "Parsing line 1700000\n",
      "particles:\n",
      "(51246, 282, 4)\n",
      "jets:\n",
      "(51246, 10, 10)\n",
      "Opening eeds_bigger4_noZ.txt\n",
      "Parsing line 0\n",
      "Parsing line 100000\n",
      "Parsing line 200000\n",
      "Parsing line 300000\n",
      "Parsing line 400000\n",
      "Parsing line 500000\n",
      "Parsing line 600000\n",
      "Parsing line 700000\n",
      "Parsing line 800000\n",
      "Parsing line 900000\n",
      "Parsing line 1000000\n",
      "Parsing line 1100000\n",
      "Parsing line 1200000\n",
      "Parsing line 1300000\n",
      "Parsing line 1400000\n",
      "Parsing line 1500000\n",
      "Parsing line 1600000\n",
      "Parsing line 1700000\n",
      "Parsing line 1800000\n",
      "particles:\n",
      "(56069, 282, 4)\n",
      "jets:\n",
      "(56069, 10, 10)\n",
      "Opening eeds_bigger3_noZ.txt\n",
      "Parsing line 0\n",
      "Parsing line 100000\n",
      "Parsing line 200000\n",
      "Parsing line 300000\n",
      "Parsing line 400000\n",
      "Parsing line 500000\n",
      "Parsing line 600000\n",
      "Parsing line 700000\n",
      "Parsing line 800000\n",
      "Parsing line 900000\n",
      "Parsing line 1000000\n",
      "Parsing line 1100000\n",
      "Parsing line 1200000\n",
      "Parsing line 1300000\n",
      "Parsing line 1400000\n",
      "Parsing line 1500000\n",
      "Parsing line 1600000\n",
      "Parsing line 1700000\n",
      "particles:\n",
      "(50914, 282, 4)\n",
      "jets:\n",
      "(50914, 10, 10)\n",
      "Opening eeds_bigger1_noZ.txt\n",
      "Parsing line 0\n",
      "Parsing line 100000\n",
      "Parsing line 200000\n",
      "Parsing line 300000\n",
      "Parsing line 400000\n",
      "Parsing line 500000\n",
      "Parsing line 600000\n",
      "Parsing line 700000\n",
      "Parsing line 800000\n",
      "Parsing line 900000\n",
      "Parsing line 1000000\n",
      "Parsing line 1100000\n",
      "Parsing line 1200000\n",
      "Parsing line 1300000\n",
      "Parsing line 1400000\n",
      "Parsing line 1500000\n",
      "Parsing line 1600000\n",
      "Parsing line 1700000\n",
      "Parsing line 1800000\n",
      "Parsing line 1900000\n",
      "Parsing line 2000000\n",
      "Parsing line 2100000\n",
      "Parsing line 2200000\n",
      "Parsing line 2300000\n",
      "Parsing line 2400000\n",
      "Parsing line 2500000\n",
      "Parsing line 2600000\n",
      "Parsing line 2700000\n",
      "Parsing line 2800000\n",
      "Parsing line 2900000\n",
      "Parsing line 3000000\n",
      "Parsing line 3100000\n",
      "Parsing line 3200000\n",
      "Parsing line 3300000\n",
      "Parsing line 3400000\n",
      "Parsing line 3500000\n",
      "Parsing line 3600000\n",
      "Parsing line 3700000\n",
      "Parsing line 3800000\n",
      "Parsing line 3900000\n",
      "Parsing line 4000000\n",
      "Parsing line 4100000\n",
      "Parsing line 4200000\n",
      "Parsing line 4300000\n",
      "Parsing line 4400000\n",
      "Parsing line 4500000\n",
      "Parsing line 4600000\n",
      "Parsing line 4700000\n",
      "Parsing line 4800000\n",
      "Parsing line 4900000\n",
      "Parsing line 5000000\n",
      "Parsing line 5100000\n",
      "Parsing line 5200000\n",
      "Parsing line 5300000\n",
      "Parsing line 5400000\n",
      "Parsing line 5500000\n",
      "Parsing line 5600000\n",
      "Parsing line 5700000\n",
      "Parsing line 5800000\n",
      "Parsing line 5900000\n",
      "Parsing line 6000000\n",
      "Parsing line 6100000\n",
      "Parsing line 6200000\n",
      "particles:\n",
      "(186785, 282, 4)\n",
      "jets:\n",
      "(186785, 10, 10)\n",
      "Opening eeds_bigger2_noZ.txt\n",
      "Parsing line 0\n",
      "Parsing line 100000\n",
      "Parsing line 200000\n",
      "Parsing line 300000\n",
      "Parsing line 400000\n",
      "Parsing line 500000\n",
      "Parsing line 600000\n",
      "Parsing line 700000\n",
      "Parsing line 800000\n",
      "Parsing line 900000\n",
      "Parsing line 1000000\n",
      "Parsing line 1100000\n",
      "Parsing line 1200000\n",
      "Parsing line 1300000\n",
      "Parsing line 1400000\n",
      "Parsing line 1500000\n",
      "Parsing line 1600000\n",
      "Parsing line 1700000\n",
      "particles:\n",
      "(52892, 282, 4)\n",
      "jets:\n",
      "(52892, 10, 10)\n",
      "(607969, 282, 4)\n",
      "(607969, 10, 10)\n"
     ]
    }
   ],
   "source": [
    "list_of_Xp_bg = []\n",
    "list_of_Xj_bg = []\n",
    "for filename in bg_baseline_list:\n",
    "    file = open(filename)\n",
    "    Xp_bg, Xj_bg = parse_file_specialbaseline(file, filename, max_nparticles, max_njets)\n",
    "    #list_of_X_bg.append(X_bg)\n",
    "    list_of_Xp_bg.append(Xp_bg)\n",
    "    list_of_Xj_bg.append(Xj_bg)\n",
    "Xp_bg = np.vstack(list_of_Xp_bg)\n",
    "Xj_bg = np.vstack(list_of_Xj_bg)\n",
    "print(Xp_bg.shape)\n",
    "print(Xj_bg.shape)\n"
   ]
  },
  {
   "cell_type": "code",
   "execution_count": 16,
   "metadata": {
    "ExecuteTime": {
     "end_time": "2021-03-08T19:18:13.901390Z",
     "start_time": "2021-03-08T19:18:10.647037Z"
    }
   },
   "outputs": [],
   "source": [
    "path = \"special/X_bg_noZ\"\n",
    "np.save(path, Xp_bg)\n",
    "np.save(\"special/Xj_bg_noZ\", Xj_bg)"
   ]
  },
  {
   "cell_type": "code",
   "execution_count": 31,
   "metadata": {
    "ExecuteTime": {
     "end_time": "2021-02-25T10:56:55.718848Z",
     "start_time": "2021-02-25T10:56:12.288943Z"
    }
   },
   "outputs": [
    {
     "name": "stdout",
     "output_type": "stream",
     "text": [
      "Opening ed_lhe004_signal.txt\n",
      "Parsing line 0\n",
      "particles:\n",
      "(9823, 282, 4)\n",
      "jets:\n",
      "(9823, 10, 10)\n",
      "Opening ed_lhe005_signal.txt\n",
      "Parsing line 0\n",
      "particles:\n",
      "(9835, 282, 4)\n",
      "jets:\n",
      "(9835, 10, 10)\n",
      "Opening ed_lhe003_signal.txt\n",
      "Parsing line 0\n",
      "particles:\n",
      "(9845, 282, 4)\n",
      "jets:\n",
      "(9845, 10, 10)\n",
      "Opening ed_lhe002_signal.txt\n",
      "Parsing line 0\n",
      "particles:\n",
      "(9841, 282, 4)\n",
      "jets:\n",
      "(9841, 10, 10)\n",
      "Opening ed_lhe006_signal.txt\n",
      "Parsing line 0\n",
      "particles:\n",
      "(9866, 282, 4)\n",
      "jets:\n",
      "(9866, 10, 10)\n",
      "Opening ed_lhe009_signal.txt\n",
      "Parsing line 0\n",
      "particles:\n",
      "(9833, 282, 4)\n",
      "jets:\n",
      "(9833, 10, 10)\n",
      "Opening ed_lhe007_signal.txt\n",
      "Parsing line 0\n",
      "particles:\n",
      "(9846, 282, 4)\n",
      "jets:\n",
      "(9846, 10, 10)\n",
      "Opening ed_lhe001_signal.txt\n",
      "Parsing line 0\n",
      "particles:\n",
      "(9826, 282, 4)\n",
      "jets:\n",
      "(9826, 10, 10)\n",
      "Opening ed_lhe010_signal.txt\n",
      "Parsing line 0\n",
      "particles:\n",
      "(9822, 282, 4)\n",
      "jets:\n",
      "(9822, 10, 10)\n",
      "Opening ed_lhe008_signal.txt\n",
      "Parsing line 0\n",
      "particles:\n",
      "(9853, 282, 4)\n",
      "jets:\n",
      "(9853, 10, 10)\n",
      "(98390, 282, 4)\n",
      "(98390, 10, 10)\n"
     ]
    }
   ],
   "source": [
    "list_of_Xp_sg = []\n",
    "list_of_Xj_sg = []\n",
    "for filename in signal_file_list:\n",
    "    file = open(filename)\n",
    "    \n",
    "    Xp_sg, Xj_sg = parse_file_specialbaseline(file, filename, max_nparticles, max_njets)\n",
    "    #list_of_X_bg.append(X_bg)\n",
    "    list_of_Xp_sg.append(Xp_sg)\n",
    "    list_of_Xj_sg.append(Xj_sg)\n",
    "Xp_sg = np.vstack(list_of_Xp_sg)\n",
    "Xj_sg = np.vstack(list_of_Xj_sg)\n",
    "print(Xp_sg.shape)\n",
    "print(Xj_sg.shape)\n"
   ]
  },
  {
   "cell_type": "code",
   "execution_count": 32,
   "metadata": {
    "ExecuteTime": {
     "end_time": "2021-02-25T10:56:55.723199Z",
     "start_time": "2021-02-25T10:56:55.720310Z"
    }
   },
   "outputs": [
    {
     "name": "stdout",
     "output_type": "stream",
     "text": [
      "(98390, 282, 4)\n"
     ]
    }
   ],
   "source": [
    "print(Xp_sg.shape)"
   ]
  },
  {
   "cell_type": "code",
   "execution_count": 33,
   "metadata": {
    "ExecuteTime": {
     "end_time": "2021-02-25T10:56:57.645887Z",
     "start_time": "2021-02-25T10:56:55.724575Z"
    }
   },
   "outputs": [],
   "source": [
    "path = \"special/X_sg\"\n",
    "np.save(path, Xp_sg)\n",
    "np.save(\"special/Xj_sg\", Xj_sg)"
   ]
  },
  {
   "cell_type": "markdown",
   "metadata": {},
   "source": [
    "### Resume"
   ]
  },
  {
   "cell_type": "code",
   "execution_count": 16,
   "metadata": {
    "ExecuteTime": {
     "end_time": "2021-02-25T10:28:34.166114Z",
     "start_time": "2021-02-25T10:25:41.992972Z"
    }
   },
   "outputs": [
    {
     "name": "stdout",
     "output_type": "stream",
     "text": [
      "Opening igger1.txt\n",
      "Parsing line 0\n",
      "Parsing line 100000\n",
      "Parsing line 200000\n",
      "Parsing line 300000\n",
      "Parsing line 400000\n",
      "Parsing line 500000\n",
      "Parsing line 600000\n",
      "Parsing line 700000\n",
      "Parsing line 800000\n",
      "Parsing line 900000\n",
      "Parsing line 1000000\n",
      "Parsing line 1100000\n",
      "Parsing line 1200000\n",
      "Parsing line 1300000\n",
      "Parsing line 1400000\n",
      "Parsing line 1500000\n",
      "Parsing line 1600000\n",
      "Parsing line 1700000\n",
      "Parsing line 1800000\n",
      "Parsing line 1900000\n",
      "Parsing line 2000000\n",
      "Parsing line 2100000\n",
      "Parsing line 2200000\n",
      "Parsing line 2300000\n",
      "Parsing line 2400000\n",
      "Parsing line 2500000\n",
      "Parsing line 2600000\n",
      "Parsing line 2700000\n",
      "particles:\n",
      "(89025, 181, 4)\n",
      "jets:\n",
      "(89025, 7, 10)\n",
      "Opening igger2.txt\n",
      "Parsing line 0\n",
      "Parsing line 100000\n",
      "Parsing line 200000\n",
      "Parsing line 300000\n",
      "Parsing line 400000\n",
      "Parsing line 500000\n",
      "Parsing line 600000\n",
      "Parsing line 700000\n",
      "Parsing line 800000\n",
      "particles:\n",
      "(26233, 181, 4)\n",
      "jets:\n",
      "(26233, 7, 10)\n",
      "Opening igger3.txt\n",
      "Parsing line 0\n",
      "Parsing line 100000\n",
      "Parsing line 200000\n",
      "Parsing line 300000\n",
      "Parsing line 400000\n",
      "Parsing line 500000\n",
      "Parsing line 600000\n",
      "particles:\n",
      "(19192, 181, 4)\n",
      "jets:\n",
      "(19192, 7, 10)\n",
      "Opening igger4.txt\n",
      "Parsing line 0\n",
      "Parsing line 100000\n",
      "Parsing line 200000\n",
      "Parsing line 300000\n",
      "Parsing line 400000\n",
      "Parsing line 500000\n",
      "Parsing line 600000\n",
      "Parsing line 700000\n",
      "particles:\n",
      "(23651, 181, 4)\n",
      "jets:\n",
      "(23651, 7, 10)\n",
      "Opening igger5.txt\n",
      "Parsing line 0\n",
      "Parsing line 100000\n",
      "Parsing line 200000\n",
      "Parsing line 300000\n",
      "Parsing line 400000\n",
      "Parsing line 500000\n",
      "Parsing line 600000\n",
      "Parsing line 700000\n",
      "Parsing line 800000\n",
      "Parsing line 900000\n",
      "particles:\n",
      "(30799, 181, 4)\n",
      "jets:\n",
      "(30799, 7, 10)\n",
      "Opening igger6.txt\n",
      "Parsing line 0\n",
      "Parsing line 100000\n",
      "Parsing line 200000\n",
      "Parsing line 300000\n",
      "Parsing line 400000\n",
      "Parsing line 500000\n",
      "Parsing line 600000\n",
      "Parsing line 700000\n",
      "particles:\n",
      "(25406, 181, 4)\n",
      "jets:\n",
      "(25406, 7, 10)\n",
      "Opening igger7.txt\n",
      "Parsing line 0\n",
      "Parsing line 100000\n",
      "Parsing line 200000\n",
      "Parsing line 300000\n",
      "Parsing line 400000\n",
      "Parsing line 500000\n",
      "Parsing line 600000\n",
      "Parsing line 700000\n",
      "Parsing line 800000\n",
      "Parsing line 900000\n",
      "particles:\n",
      "(29814, 181, 4)\n",
      "jets:\n",
      "(29814, 7, 10)\n",
      "Opening igger8.txt\n",
      "Parsing line 0\n",
      "Parsing line 100000\n",
      "Parsing line 200000\n",
      "Parsing line 300000\n",
      "Parsing line 400000\n",
      "Parsing line 500000\n",
      "Parsing line 600000\n",
      "Parsing line 700000\n",
      "particles:\n",
      "(24822, 181, 4)\n",
      "jets:\n",
      "(24822, 7, 10)\n",
      "Opening igger9.txt\n",
      "Parsing line 0\n",
      "Parsing line 100000\n",
      "Parsing line 200000\n",
      "Parsing line 300000\n",
      "Parsing line 400000\n",
      "Parsing line 500000\n",
      "Parsing line 600000\n",
      "particles:\n",
      "(19519, 181, 4)\n",
      "jets:\n",
      "(19519, 7, 10)\n",
      "(288461, 181, 4)\n",
      "(288461, 7, 10)\n",
      "(288461,)\n"
     ]
    }
   ],
   "source": [
    "list_of_Xp_bg = []\n",
    "list_of_Xj_bg = []\n",
    "list_of_y_bg = []\n",
    "for filename in bg_verybig_list:\n",
    "    file = open(filename)\n",
    "    Xp_bg, Xj_bg, y_bg = parse_file_np(file, filename, max_nparticles, max_njets)\n",
    "    #list_of_X_bg.append(X_bg)\n",
    "    list_of_Xp_bg.append(Xp_bg)\n",
    "    list_of_Xj_bg.append(Xj_bg)\n",
    "    list_of_y_bg.append(y_bg)\n",
    "Xp_bg = np.vstack(list_of_Xp_bg)\n",
    "Xj_bg = np.vstack(list_of_Xj_bg)\n",
    "y_bg = np.hstack(list_of_y_bg)\n",
    "print(Xp_bg.shape)\n",
    "print(Xj_bg.shape)\n",
    "\n",
    "print(y_bg.shape)"
   ]
  },
  {
   "cell_type": "code",
   "execution_count": 24,
   "metadata": {
    "ExecuteTime": {
     "end_time": "2020-11-06T07:28:49.860344Z",
     "start_time": "2020-11-06T07:28:14.102075Z"
    }
   },
   "outputs": [
    {
     "name": "stdout",
     "output_type": "stream",
     "text": [
      "Opening signal.txt\n",
      "Parsing line 0\n",
      "(9823, 282, 4)\n",
      "Opening signal.txt\n",
      "Parsing line 0\n",
      "(9835, 282, 4)\n",
      "Opening signal.txt\n",
      "Parsing line 0\n",
      "(9845, 282, 4)\n",
      "Opening signal.txt\n",
      "Parsing line 0\n",
      "(9841, 282, 4)\n",
      "Opening signal.txt\n",
      "Parsing line 0\n",
      "(9866, 282, 4)\n",
      "Opening signal.txt\n",
      "Parsing line 0\n",
      "(9834, 282, 4)\n",
      "Opening signal.txt\n",
      "Parsing line 0\n",
      "(9846, 282, 4)\n",
      "Opening signal.txt\n",
      "Parsing line 0\n",
      "(9826, 282, 4)\n",
      "Opening signal.txt\n",
      "Parsing line 0\n",
      "(9822, 282, 4)\n",
      "Opening signal.txt\n",
      "Parsing line 0\n",
      "(9853, 282, 4)\n",
      "(98391, 282, 4)\n",
      "(98391,)\n"
     ]
    }
   ],
   "source": [
    "list_of_X_sig = []\n",
    "list_of_y_sig = []\n",
    "for filename in signal_file_list:\n",
    "    file = open(filename)\n",
    "    X_sig, y_sig = parse_file_np(file, filename, max_nparticles)\n",
    "    list_of_X_sig.append(X_sig)\n",
    "    list_of_y_sig.append(y_sig)\n",
    "X_sig = np.vstack(list_of_X_sig)\n",
    "y_sig = np.hstack(list_of_y_sig)\n",
    "print(X_sig.shape)\n",
    "print(y_sig.shape)"
   ]
  },
  {
   "cell_type": "code",
   "execution_count": 16,
   "metadata": {
    "ExecuteTime": {
     "end_time": "2020-11-13T18:20:22.251486Z",
     "start_time": "2020-11-13T18:20:22.239930Z"
    }
   },
   "outputs": [
    {
     "ename": "NameError",
     "evalue": "name 'num_bgparticles' is not defined",
     "output_type": "error",
     "traceback": [
      "\u001b[0;31m---------------------------------------------------------------------------\u001b[0m",
      "\u001b[0;31mNameError\u001b[0m                                 Traceback (most recent call last)",
      "\u001b[0;32m<ipython-input-16-f1622241d035>\u001b[0m in \u001b[0;36m<module>\u001b[0;34m\u001b[0m\n\u001b[0;32m----> 1\u001b[0;31m \u001b[0mmax_particles\u001b[0m \u001b[0;34m=\u001b[0m \u001b[0mmax\u001b[0m\u001b[0;34m(\u001b[0m\u001b[0mnum_bgparticles\u001b[0m\u001b[0;34m)\u001b[0m\u001b[0;34m\u001b[0m\u001b[0m\n\u001b[0m\u001b[1;32m      2\u001b[0m \u001b[0;31m#should be 282\u001b[0m\u001b[0;34m\u001b[0m\u001b[0;34m\u001b[0m\u001b[0m\n\u001b[1;32m      3\u001b[0m \u001b[0mmax_particles\u001b[0m\u001b[0;34m\u001b[0m\u001b[0m\n",
      "\u001b[0;31mNameError\u001b[0m: name 'num_bgparticles' is not defined"
     ]
    }
   ],
   "source": [
    "max_particles = max(num_bgparticles)\n",
    "#should be 282\n",
    "max_particles"
   ]
  },
  {
   "cell_type": "code",
   "execution_count": 19,
   "metadata": {
    "ExecuteTime": {
     "end_time": "2020-11-13T18:20:39.523349Z",
     "start_time": "2020-11-13T18:20:39.519500Z"
    }
   },
   "outputs": [],
   "source": [
    "max_nparticles = 282"
   ]
  },
  {
   "cell_type": "code",
   "execution_count": null,
   "metadata": {
    "ExecuteTime": {
     "start_time": "2020-11-06T06:06:14.908Z"
    }
   },
   "outputs": [],
   "source": [
    "1+2"
   ]
  },
  {
   "cell_type": "code",
   "execution_count": 14,
   "metadata": {
    "ExecuteTime": {
     "end_time": "2020-11-01T23:49:50.547275Z",
     "start_time": "2020-11-01T23:49:33.530097Z"
    }
   },
   "outputs": [],
   "source": [
    "sig_records = []\n",
    "for filename in signal_file_list:\n",
    "    file = open(filename)\n",
    "    sig_records += parse_file(file)"
   ]
  },
  {
   "cell_type": "code",
   "execution_count": 15,
   "metadata": {
    "ExecuteTime": {
     "end_time": "2020-11-01T23:49:50.552769Z",
     "start_time": "2020-11-01T23:49:50.549005Z"
    }
   },
   "outputs": [
    {
     "data": {
      "text/plain": [
       "100000"
      ]
     },
     "execution_count": 15,
     "metadata": {},
     "output_type": "execute_result"
    }
   ],
   "source": [
    "len(sig_records)"
   ]
  },
  {
   "cell_type": "code",
   "execution_count": 18,
   "metadata": {
    "ExecuteTime": {
     "end_time": "2020-10-19T22:36:20.284881Z",
     "start_time": "2020-10-19T22:36:20.257579Z"
    }
   },
   "outputs": [],
   "source": [
    "# for i in sig_records:\n",
    "#     i['from_anomaly_data'] = True"
   ]
  },
  {
   "cell_type": "code",
   "execution_count": 19,
   "metadata": {
    "ExecuteTime": {
     "end_time": "2020-10-19T22:36:34.790070Z",
     "start_time": "2020-10-19T22:36:34.767508Z"
    }
   },
   "outputs": [],
   "source": [
    "# for i in bg_records:\n",
    "#     i['from_anomaly_data'] = False"
   ]
  },
  {
   "cell_type": "code",
   "execution_count": 47,
   "metadata": {
    "ExecuteTime": {
     "end_time": "2020-10-19T22:49:24.633992Z",
     "start_time": "2020-10-19T22:49:24.625909Z"
    }
   },
   "outputs": [],
   "source": [
    "# all_records = sig_records[:10000] + bg_records"
   ]
  },
  {
   "cell_type": "code",
   "execution_count": 29,
   "metadata": {
    "ExecuteTime": {
     "end_time": "2020-10-23T07:42:29.862270Z",
     "start_time": "2020-10-23T07:42:28.577431Z"
    }
   },
   "outputs": [
    {
     "data": {
      "image/png": "[encoded data removed]",
      "text/plain": [
       "<Figure size 1440x720 with 1 Axes>"
      ]
     },
     "metadata": {
      "needs_background": "light"
     },
     "output_type": "display_data"
    }
   ],
   "source": [
    "plt.figure(figsize=(20,10))\n",
    "this_arr = np.array([i['truthsqrtshat'] for i in bg_records])\n",
    "plt.hist(this_arr, bins=100)\n",
    "#plt.hist(this_arr, bins=np.logspace(1.5,3,30))\n",
    "#plt.xscale('log')\n",
    "plt.xticks(range(0,1000,20))\n",
    "plt.xlabel(\"truthsqrtshat\")\n",
    "plt.ylabel(\"Number of Events / bin\")\n",
    "np.save('training_data/bg_truthsqrtshat', this_arr)"
   ]
  },
  {
   "cell_type": "markdown",
   "metadata": {},
   "source": [
    "## EFN experimenting"
   ]
  },
  {
   "cell_type": "markdown",
   "metadata": {},
   "source": [
    "### imports and settings"
   ]
  },
  {
   "cell_type": "code",
   "execution_count": 7,
   "metadata": {
    "ExecuteTime": {
     "end_time": "2020-11-01T23:48:32.921802Z",
     "start_time": "2020-11-01T23:48:31.576030Z"
    }
   },
   "outputs": [
    {
     "name": "stderr",
     "output_type": "stream",
     "text": [
      "Using TensorFlow backend.\n",
      "/opt/anaconda3/envs/shared_env/lib/python3.6/site-packages/tensorflow/python/framework/dtypes.py:523: FutureWarning: Passing (type, 1) or '1type' as a synonym of type is deprecated; in a future version of numpy, it will be understood as (type, (1,)) / '(1,)type'.\n",
      "  _np_qint8 = np.dtype([(\"qint8\", np.int8, 1)])\n",
      "/opt/anaconda3/envs/shared_env/lib/python3.6/site-packages/tensorflow/python/framework/dtypes.py:524: FutureWarning: Passing (type, 1) or '1type' as a synonym of type is deprecated; in a future version of numpy, it will be understood as (type, (1,)) / '(1,)type'.\n",
      "  _np_quint8 = np.dtype([(\"quint8\", np.uint8, 1)])\n",
      "/opt/anaconda3/envs/shared_env/lib/python3.6/site-packages/tensorflow/python/framework/dtypes.py:525: FutureWarning: Passing (type, 1) or '1type' as a synonym of type is deprecated; in a future version of numpy, it will be understood as (type, (1,)) / '(1,)type'.\n",
      "  _np_qint16 = np.dtype([(\"qint16\", np.int16, 1)])\n",
      "/opt/anaconda3/envs/shared_env/lib/python3.6/site-packages/tensorflow/python/framework/dtypes.py:526: FutureWarning: Passing (type, 1) or '1type' as a synonym of type is deprecated; in a future version of numpy, it will be understood as (type, (1,)) / '(1,)type'.\n",
      "  _np_quint16 = np.dtype([(\"quint16\", np.uint16, 1)])\n",
      "/opt/anaconda3/envs/shared_env/lib/python3.6/site-packages/tensorflow/python/framework/dtypes.py:527: FutureWarning: Passing (type, 1) or '1type' as a synonym of type is deprecated; in a future version of numpy, it will be understood as (type, (1,)) / '(1,)type'.\n",
      "  _np_qint32 = np.dtype([(\"qint32\", np.int32, 1)])\n",
      "/opt/anaconda3/envs/shared_env/lib/python3.6/site-packages/tensorflow/python/framework/dtypes.py:532: FutureWarning: Passing (type, 1) or '1type' as a synonym of type is deprecated; in a future version of numpy, it will be understood as (type, (1,)) / '(1,)type'.\n",
      "  np_resource = np.dtype([(\"resource\", np.ubyte, 1)])\n"
     ]
    }
   ],
   "source": [
    "import energyflow as ef\n",
    "from energyflow.archs import PFN\n",
    "from energyflow.datasets import qg_jets\n",
    "from energyflow.utils import data_split, remap_pids, to_categorical\n",
    "from sklearn.metrics import roc_auc_score, roc_curve\n"
   ]
  },
  {
   "cell_type": "code",
   "execution_count": 8,
   "metadata": {
    "ExecuteTime": {
     "end_time": "2020-11-01T23:48:34.604242Z",
     "start_time": "2020-11-01T23:48:34.600242Z"
    }
   },
   "outputs": [],
   "source": [
    "from sklearn.utils import shuffle"
   ]
  },
  {
   "cell_type": "markdown",
   "metadata": {
    "ExecuteTime": {
     "end_time": "2020-10-05T21:28:46.206312Z",
     "start_time": "2020-10-05T21:28:46.200487Z"
    }
   },
   "source": [
    "### Divide up the data"
   ]
  },
  {
   "cell_type": "code",
   "execution_count": 38,
   "metadata": {
    "ExecuteTime": {
     "end_time": "2020-11-02T05:42:10.196543Z",
     "start_time": "2020-11-02T05:42:10.192465Z"
    }
   },
   "outputs": [],
   "source": [
    "import math"
   ]
  },
  {
   "cell_type": "code",
   "execution_count": 99,
   "metadata": {
    "ExecuteTime": {
     "end_time": "2020-10-20T00:03:08.272858Z",
     "start_time": "2020-10-20T00:03:07.987125Z"
    }
   },
   "outputs": [
    {
     "data": {
      "text/plain": [
       "(array([7.0800e+02, 1.1924e+04, 3.4707e+04, 3.1045e+04, 1.5564e+04,\n",
       "        4.6450e+03, 1.1000e+03, 2.5000e+02, 5.2000e+01, 5.0000e+00]),\n",
       " array([ 36. ,  51.7,  67.4,  83.1,  98.8, 114.5, 130.2, 145.9, 161.6,\n",
       "        177.3, 193. ]),\n",
       " <a list of 10 Patch objects>)"
      ]
     },
     "execution_count": 99,
     "metadata": {},
     "output_type": "execute_result"
    },
    {
     "data": {
      "image/png": "[encoded data removed]",
      "text/plain": [
       "<Figure size 432x288 with 1 Axes>"
      ]
     },
     "metadata": {
      "needs_background": "light"
     },
     "output_type": "display_data"
    }
   ],
   "source": [
    "plt.hist([i['nparticles'] for i in sig_records])"
   ]
  },
  {
   "cell_type": "code",
   "execution_count": 100,
   "metadata": {
    "ExecuteTime": {
     "end_time": "2020-10-20T00:03:12.397256Z",
     "start_time": "2020-10-20T00:03:12.110644Z"
    }
   },
   "outputs": [
    {
     "data": {
      "text/plain": [
       "(array([1.360e+02, 2.501e+03, 4.060e+03, 2.907e+03, 1.131e+03, 4.240e+02,\n",
       "        1.510e+02, 4.600e+01, 3.000e+00, 3.000e+00]),\n",
       " array([  8. ,  28.3,  48.6,  68.9,  89.2, 109.5, 129.8, 150.1, 170.4,\n",
       "        190.7, 211. ]),\n",
       " <a list of 10 Patch objects>)"
      ]
     },
     "execution_count": 100,
     "metadata": {},
     "output_type": "execute_result"
    },
    {
     "data": {
      "image/png": "[encoded data removed]",
      "text/plain": [
       "<Figure size 432x288 with 1 Axes>"
      ]
     },
     "metadata": {
      "needs_background": "light"
     },
     "output_type": "display_data"
    }
   ],
   "source": [
    "plt.hist([i['nparticles'] for i in bg_records if (i['truthsqrtshat'] > 140 and i['truthsqrtshat'] < 560)])"
   ]
  },
  {
   "cell_type": "markdown",
   "metadata": {},
   "source": [
    "### Save particles only as X"
   ]
  },
  {
   "cell_type": "markdown",
   "metadata": {},
   "source": [
    "Save all particles in 3d array. dim 0 = datapoints; dim 1 = particles; dim 2 = particle features.\n",
    "\n",
    "Particle features have original index 0 omitted. new index 0, 1, 2 are numerical. index 3 is PID"
   ]
  },
  {
   "cell_type": "code",
   "execution_count": 9,
   "metadata": {
    "ExecuteTime": {
     "end_time": "2020-11-01T23:48:47.228366Z",
     "start_time": "2020-11-01T23:48:46.927043Z"
    }
   },
   "outputs": [],
   "source": [
    "max_bg = max([i['nparticles'] for i in bg_records])"
   ]
  },
  {
   "cell_type": "code",
   "execution_count": 16,
   "metadata": {
    "ExecuteTime": {
     "end_time": "2020-11-01T23:49:50.589616Z",
     "start_time": "2020-11-01T23:49:50.555650Z"
    }
   },
   "outputs": [],
   "source": [
    "max_sig = max([i['nparticles'] for i in sig_records])"
   ]
  },
  {
   "cell_type": "code",
   "execution_count": 17,
   "metadata": {
    "ExecuteTime": {
     "end_time": "2020-11-01T23:49:50.596619Z",
     "start_time": "2020-11-01T23:49:50.591650Z"
    }
   },
   "outputs": [],
   "source": [
    "max_nparticles = max((max_bg, max_sig))"
   ]
  },
  {
   "cell_type": "code",
   "execution_count": 18,
   "metadata": {
    "ExecuteTime": {
     "end_time": "2020-11-01T23:55:05.230656Z",
     "start_time": "2020-11-01T23:49:50.598444Z"
    }
   },
   "outputs": [],
   "source": [
    "\"\"\"\n",
    "Run this cell to save bg particles as X_bg\n",
    "\"\"\"\n",
    "padded_part_arrays =[]\n",
    "for record in bg_records:\n",
    "    # convert to np array\n",
    "    these_particles = np.array(record['particles']).astype('float')\n",
    "    # omit index 0\n",
    "    these_particles = these_particles[:,1:]\n",
    "    # determine how many zero values to pad\n",
    "    pad_length = max_nparticles - these_particles.shape[0]\n",
    "    #pad\n",
    "    padded_particles = np.pad(these_particles, ((0,pad_length),(0,0)))\n",
    "    # check padding\n",
    "    assert padded_particles.shape == (max_nparticles, 4)\n",
    "    # add to list\n",
    "    padded_part_arrays.append(padded_particles)\n",
    "    \n",
    "all_particle_array = np.array(padded_part_arrays)\n",
    "X_bg = all_particle_array"
   ]
  },
  {
   "cell_type": "code",
   "execution_count": 19,
   "metadata": {
    "ExecuteTime": {
     "end_time": "2020-11-01T23:55:05.252089Z",
     "start_time": "2020-11-01T23:55:05.241129Z"
    }
   },
   "outputs": [
    {
     "data": {
      "text/plain": [
       "(1280000, 288, 4)"
      ]
     },
     "execution_count": 19,
     "metadata": {},
     "output_type": "execute_result"
    }
   ],
   "source": [
    "X_bg.shape"
   ]
  },
  {
   "cell_type": "code",
   "execution_count": 20,
   "metadata": {
    "ExecuteTime": {
     "end_time": "2020-11-01T23:56:32.193312Z",
     "start_time": "2020-11-01T23:55:05.254983Z"
    }
   },
   "outputs": [],
   "source": [
    "\"\"\"\n",
    "Run this cell to save X_bg to disk\n",
    "\"\"\"\n",
    "\n",
    "path = \"training_data/X_bg\"\n",
    "np.save(path, X_bg)"
   ]
  },
  {
   "cell_type": "code",
   "execution_count": 21,
   "metadata": {
    "ExecuteTime": {
     "end_time": "2020-11-01T23:58:06.414545Z",
     "start_time": "2020-11-01T23:58:05.991273Z"
    }
   },
   "outputs": [],
   "source": [
    "y_bg = np.array([i['truthsqrtshat'] for i in bg_records])"
   ]
  },
  {
   "cell_type": "code",
   "execution_count": 22,
   "metadata": {
    "ExecuteTime": {
     "end_time": "2020-11-01T23:58:06.622678Z",
     "start_time": "2020-11-01T23:58:06.610130Z"
    }
   },
   "outputs": [],
   "source": [
    "\"\"\"\n",
    "Run this cell to save y_bg to disk\n",
    "\"\"\"\n",
    "path = \"training_data/y_bg\"\n",
    "\n",
    "np.save(path, y_bg)"
   ]
  },
  {
   "cell_type": "code",
   "execution_count": 5,
   "metadata": {
    "ExecuteTime": {
     "end_time": "2020-11-13T18:15:31.652044Z",
     "start_time": "2020-11-13T18:15:31.629665Z"
    }
   },
   "outputs": [
    {
     "ename": "NameError",
     "evalue": "name 'y_bg' is not defined",
     "output_type": "error",
     "traceback": [
      "\u001b[0;31m---------------------------------------------------------------------------\u001b[0m",
      "\u001b[0;31mNameError\u001b[0m                                 Traceback (most recent call last)",
      "\u001b[0;32m<ipython-input-5-f51a920d26d6>\u001b[0m in \u001b[0;36m<module>\u001b[0;34m\u001b[0m\n\u001b[0;32m----> 1\u001b[0;31m \u001b[0my_bg\u001b[0m\u001b[0;34m.\u001b[0m\u001b[0mshape\u001b[0m\u001b[0;34m\u001b[0m\u001b[0m\n\u001b[0m",
      "\u001b[0;31mNameError\u001b[0m: name 'y_bg' is not defined"
     ]
    }
   ],
   "source": [
    "y_bg.shape"
   ]
  },
  {
   "cell_type": "code",
   "execution_count": 24,
   "metadata": {
    "ExecuteTime": {
     "end_time": "2020-11-01T23:59:03.062576Z",
     "start_time": "2020-11-01T23:58:30.995953Z"
    }
   },
   "outputs": [],
   "source": [
    "\"\"\"\n",
    "Get X_sig and y_sig\n",
    "\"\"\"\n",
    "padded_part_arrays =[]\n",
    "for record in sig_records:\n",
    "    # convert to np array\n",
    "    these_particles = np.array(record['particles']).astype('float')\n",
    "    # omit index 0\n",
    "    these_particles = these_particles[:,1:]\n",
    "    # determine how many zero values to pad\n",
    "    pad_length = max_nparticles - these_particles.shape[0]\n",
    "    #pad\n",
    "    padded_particles = np.pad(these_particles, ((0,pad_length),(0,0)))\n",
    "    # check padding\n",
    "    assert padded_particles.shape == (max_nparticles, 4)\n",
    "    # add to list\n",
    "    padded_part_arrays.append(padded_particles)\n",
    "    \n",
    "all_particle_array = np.array(padded_part_arrays)\n",
    "X_sig = all_particle_array\n",
    "y_sig = np.array([i['truthsqrtshat'] for i in sig_records])"
   ]
  },
  {
   "cell_type": "code",
   "execution_count": 25,
   "metadata": {
    "ExecuteTime": {
     "end_time": "2020-11-01T23:59:10.285252Z",
     "start_time": "2020-11-01T23:59:03.064376Z"
    }
   },
   "outputs": [],
   "source": [
    "\"\"\"\n",
    "Run this cell to save X_sig and y_sig to disk\n",
    "\"\"\"\n",
    "\n",
    "X_sig_path = \"training_data/X_sig\"\n",
    "y_sig_path = \"training_data/y_sig\"\n",
    "np.save(X_sig_path, X_sig)\n",
    "np.save(y_sig_path, y_sig)"
   ]
  },
  {
   "cell_type": "code",
   "execution_count": 26,
   "metadata": {
    "ExecuteTime": {
     "end_time": "2020-11-01T23:59:10.292337Z",
     "start_time": "2020-11-01T23:59:10.287902Z"
    }
   },
   "outputs": [
    {
     "data": {
      "text/plain": [
       "(100000, 288, 4)"
      ]
     },
     "execution_count": 26,
     "metadata": {},
     "output_type": "execute_result"
    }
   ],
   "source": [
    "X_sig.shape"
   ]
  },
  {
   "cell_type": "code",
   "execution_count": 27,
   "metadata": {
    "ExecuteTime": {
     "end_time": "2020-11-01T23:59:10.651474Z",
     "start_time": "2020-11-01T23:59:10.294029Z"
    }
   },
   "outputs": [
    {
     "data": {
      "text/plain": [
       "(100000,)"
      ]
     },
     "execution_count": 27,
     "metadata": {},
     "output_type": "execute_result"
    }
   ],
   "source": [
    "y_sig.shape"
   ]
  },
  {
   "cell_type": "code",
   "execution_count": 52,
   "metadata": {
    "ExecuteTime": {
     "end_time": "2020-10-19T22:50:08.526792Z",
     "start_time": "2020-10-19T22:50:08.521916Z"
    }
   },
   "outputs": [
    {
     "data": {
      "text/plain": [
       "(89999, 260, 4)"
      ]
     },
     "execution_count": 52,
     "metadata": {},
     "output_type": "execute_result"
    }
   ],
   "source": [
    "X.shape"
   ]
  },
  {
   "cell_type": "markdown",
   "metadata": {
    "heading_collapsed": true
   },
   "source": [
    "### Save jets as Z"
   ]
  },
  {
   "cell_type": "code",
   "execution_count": 58,
   "metadata": {
    "ExecuteTime": {
     "end_time": "2020-10-05T23:31:04.279952Z",
     "start_time": "2020-10-05T23:31:04.274824Z"
    },
    "hidden": true
   },
   "outputs": [
    {
     "data": {
      "text/plain": [
       "[['0',\n",
       "  '189.98',\n",
       "  '-1.62299',\n",
       "  '1.02308',\n",
       "  '89.4432',\n",
       "  '0',\n",
       "  '0.429496',\n",
       "  '0.0397034',\n",
       "  '0.0308161',\n",
       "  '0.0261881',\n",
       "  '0.0196577']]"
      ]
     },
     "execution_count": 58,
     "metadata": {},
     "output_type": "execute_result"
    }
   ],
   "source": [
    "all_records[0]['jets']"
   ]
  },
  {
   "cell_type": "code",
   "execution_count": 55,
   "metadata": {
    "ExecuteTime": {
     "end_time": "2020-10-05T23:29:59.152338Z",
     "start_time": "2020-10-05T23:29:59.122995Z"
    },
    "hidden": true
   },
   "outputs": [],
   "source": [
    "max_njets = max([i['njets'] for i in all_records])"
   ]
  },
  {
   "cell_type": "code",
   "execution_count": 71,
   "metadata": {
    "ExecuteTime": {
     "end_time": "2020-10-05T23:37:22.063108Z",
     "start_time": "2020-10-05T23:37:12.111218Z"
    },
    "hidden": true
   },
   "outputs": [],
   "source": [
    "padded_jet_arrays =[]\n",
    "for record in all_records:\n",
    "    # convert to np array\n",
    "    these_jets = np.array(record['jets']).astype('float')\n",
    "    # omit index 0\n",
    "    if len(these_jets) == 0:\n",
    "        these_jets = np.zeros(11).reshape([1,11])\n",
    "    these_jets = these_jets[:,1:]\n",
    "        \n",
    "    # determine how many zero values to pad\n",
    "    pad_length = max_njets - these_jets.shape[0]\n",
    "    #pad\n",
    "    padded_jets = np.pad(these_jets, ((0,pad_length),(0,0)))\n",
    "    # check padding\n",
    "    assert padded_jets.shape == (max_njets, 10)\n",
    "    # add to list\n",
    "    padded_jet_arrays.append(padded_jets)\n",
    "    \n",
    "all_jet_array = np.array(padded_jet_arrays)\n",
    "Z = all_jet_array"
   ]
  },
  {
   "cell_type": "code",
   "execution_count": 72,
   "metadata": {
    "ExecuteTime": {
     "end_time": "2020-10-05T23:37:26.282084Z",
     "start_time": "2020-10-05T23:37:26.276248Z"
    },
    "hidden": true
   },
   "outputs": [
    {
     "data": {
      "text/plain": [
       "(79999, 8, 10)"
      ]
     },
     "execution_count": 72,
     "metadata": {},
     "output_type": "execute_result"
    }
   ],
   "source": [
    "Z.shape"
   ]
  },
  {
   "cell_type": "markdown",
   "metadata": {},
   "source": [
    "### Save measured truthsqrtshat as y"
   ]
  },
  {
   "cell_type": "code",
   "execution_count": 53,
   "metadata": {
    "ExecuteTime": {
     "end_time": "2020-10-19T22:50:08.578134Z",
     "start_time": "2020-10-19T22:50:08.530068Z"
    }
   },
   "outputs": [],
   "source": [
    "# y = np.array([i['truthsqrtshat'] for i in all_records])"
   ]
  },
  {
   "cell_type": "code",
   "execution_count": 54,
   "metadata": {
    "ExecuteTime": {
     "end_time": "2020-10-19T22:50:08.586529Z",
     "start_time": "2020-10-19T22:50:08.580560Z"
    }
   },
   "outputs": [
    {
     "data": {
      "text/plain": [
       "(89999,)"
      ]
     },
     "execution_count": 54,
     "metadata": {},
     "output_type": "execute_result"
    }
   ],
   "source": [
    "# y.shape"
   ]
  },
  {
   "cell_type": "markdown",
   "metadata": {},
   "source": [
    "### Identify signal & side band"
   ]
  },
  {
   "cell_type": "code",
   "execution_count": 4,
   "metadata": {
    "ExecuteTime": {
     "end_time": "2020-11-13T18:15:22.587822Z",
     "start_time": "2020-11-13T18:15:22.410515Z"
    }
   },
   "outputs": [],
   "source": [
    "import numpy as np"
   ]
  },
  {
   "cell_type": "code",
   "execution_count": 2,
   "metadata": {
    "ExecuteTime": {
     "end_time": "2020-11-13T18:15:10.601496Z",
     "start_time": "2020-11-13T18:15:10.594023Z"
    }
   },
   "outputs": [],
   "source": [
    "side_band_left = 200\n",
    "side_band_right = 500\n",
    "signal_left = 300\n",
    "signal_right = 400\n",
    "def binary_side_band(y_thing):\n",
    "    if y_thing >= signal_left and y_thing < signal_right:\n",
    "        return 1\n",
    "    elif y_thing >= side_band_left and y_thing < signal_left:\n",
    "        return 2\n",
    "    elif y_thing >= signal_right and y_thing < side_band_right :\n",
    "        return 3\n",
    "    else:\n",
    "        return -1\n"
   ]
  },
  {
   "cell_type": "code",
   "execution_count": 3,
   "metadata": {
    "ExecuteTime": {
     "end_time": "2020-11-13T18:15:11.701368Z",
     "start_time": "2020-11-13T18:15:11.645745Z"
    }
   },
   "outputs": [
    {
     "ename": "NameError",
     "evalue": "name 'np' is not defined",
     "output_type": "error",
     "traceback": [
      "\u001b[0;31m---------------------------------------------------------------------------\u001b[0m",
      "\u001b[0;31mNameError\u001b[0m                                 Traceback (most recent call last)",
      "\u001b[0;32m<ipython-input-3-ba44d7145d19>\u001b[0m in \u001b[0;36m<module>\u001b[0;34m\u001b[0m\n\u001b[0;32m----> 1\u001b[0;31m \u001b[0my_binary\u001b[0m \u001b[0;34m=\u001b[0m \u001b[0mnp\u001b[0m\u001b[0;34m.\u001b[0m\u001b[0mvectorize\u001b[0m\u001b[0;34m(\u001b[0m\u001b[0mbinary_side_band\u001b[0m\u001b[0;34m)\u001b[0m\u001b[0;34m(\u001b[0m\u001b[0my_bg\u001b[0m\u001b[0;34m)\u001b[0m\u001b[0;34m\u001b[0m\u001b[0m\n\u001b[0m",
      "\u001b[0;31mNameError\u001b[0m: name 'np' is not defined"
     ]
    }
   ],
   "source": [
    "y_binary = np.vectorize(binary_side_band)(y_bg)"
   ]
  },
  {
   "cell_type": "code",
   "execution_count": 27,
   "metadata": {
    "ExecuteTime": {
     "end_time": "2020-11-06T07:30:01.226906Z",
     "start_time": "2020-11-06T07:30:01.212670Z"
    }
   },
   "outputs": [
    {
     "data": {
      "text/plain": [
       "(array([0, 1]), array([204986,  83475]))"
      ]
     },
     "execution_count": 27,
     "metadata": {},
     "output_type": "execute_result"
    }
   ],
   "source": [
    "np.unique(y_binary,return_counts = True)"
   ]
  },
  {
   "cell_type": "code",
   "execution_count": 28,
   "metadata": {
    "ExecuteTime": {
     "end_time": "2020-11-06T07:30:23.075886Z",
     "start_time": "2020-11-06T07:30:23.071698Z"
    }
   },
   "outputs": [],
   "source": [
    "side_band_indicator = (y_binary == 0)"
   ]
  },
  {
   "cell_type": "code",
   "execution_count": 29,
   "metadata": {
    "ExecuteTime": {
     "end_time": "2020-11-06T07:31:06.645934Z",
     "start_time": "2020-11-06T07:31:06.215548Z"
    }
   },
   "outputs": [],
   "source": [
    "X_sb = X_bg[side_band_indicator]\n",
    "y_sb = y_binary[side_band_indicator]"
   ]
  },
  {
   "cell_type": "code",
   "execution_count": 30,
   "metadata": {
    "ExecuteTime": {
     "end_time": "2020-11-06T07:31:08.553517Z",
     "start_time": "2020-11-06T07:31:08.549876Z"
    }
   },
   "outputs": [],
   "source": [
    "bg_signal_indicator = (y_binary == 1)"
   ]
  },
  {
   "cell_type": "code",
   "execution_count": 31,
   "metadata": {
    "ExecuteTime": {
     "end_time": "2020-11-06T07:31:16.750324Z",
     "start_time": "2020-11-06T07:31:16.547142Z"
    }
   },
   "outputs": [],
   "source": [
    "X_bgsig = X_bg[bg_signal_indicator]\n",
    "y_bgsig = y_binary[bg_signal_indicator]"
   ]
  },
  {
   "cell_type": "code",
   "execution_count": 32,
   "metadata": {
    "ExecuteTime": {
     "end_time": "2020-11-06T07:31:22.505525Z",
     "start_time": "2020-11-06T07:31:22.499488Z"
    }
   },
   "outputs": [
    {
     "data": {
      "text/plain": [
       "(204986, 282, 4)"
      ]
     },
     "execution_count": 32,
     "metadata": {},
     "output_type": "execute_result"
    }
   ],
   "source": [
    "X_sb.shape"
   ]
  },
  {
   "cell_type": "code",
   "execution_count": 33,
   "metadata": {
    "ExecuteTime": {
     "end_time": "2020-11-06T07:31:26.876937Z",
     "start_time": "2020-11-06T07:31:26.871336Z"
    }
   },
   "outputs": [
    {
     "data": {
      "text/plain": [
       "(204986,)"
      ]
     },
     "execution_count": 33,
     "metadata": {},
     "output_type": "execute_result"
    }
   ],
   "source": [
    "y_sb.shape"
   ]
  },
  {
   "cell_type": "code",
   "execution_count": 34,
   "metadata": {
    "ExecuteTime": {
     "end_time": "2020-11-06T07:31:31.823831Z",
     "start_time": "2020-11-06T07:31:31.818127Z"
    }
   },
   "outputs": [
    {
     "data": {
      "text/plain": [
       "(83475, 282, 4)"
      ]
     },
     "execution_count": 34,
     "metadata": {},
     "output_type": "execute_result"
    }
   ],
   "source": [
    "X_bgsig.shape"
   ]
  },
  {
   "cell_type": "code",
   "execution_count": 35,
   "metadata": {
    "ExecuteTime": {
     "end_time": "2020-11-06T07:31:36.065334Z",
     "start_time": "2020-11-06T07:31:36.059698Z"
    }
   },
   "outputs": [
    {
     "data": {
      "text/plain": [
       "(83475,)"
      ]
     },
     "execution_count": 35,
     "metadata": {},
     "output_type": "execute_result"
    }
   ],
   "source": [
    "y_bgsig.shape"
   ]
  },
  {
   "cell_type": "code",
   "execution_count": 36,
   "metadata": {
    "ExecuteTime": {
     "end_time": "2020-11-06T07:31:39.577658Z",
     "start_time": "2020-11-06T07:31:39.571969Z"
    }
   },
   "outputs": [
    {
     "data": {
      "text/plain": [
       "(98391, 282, 4)"
      ]
     },
     "execution_count": 36,
     "metadata": {},
     "output_type": "execute_result"
    }
   ],
   "source": [
    "X_sig.shape"
   ]
  },
  {
   "cell_type": "code",
   "execution_count": 37,
   "metadata": {
    "ExecuteTime": {
     "end_time": "2020-11-06T07:31:42.935928Z",
     "start_time": "2020-11-06T07:31:42.930222Z"
    }
   },
   "outputs": [
    {
     "data": {
      "text/plain": [
       "(98391,)"
      ]
     },
     "execution_count": 37,
     "metadata": {},
     "output_type": "execute_result"
    }
   ],
   "source": [
    "y_sig.shape"
   ]
  },
  {
   "cell_type": "code",
   "execution_count": 38,
   "metadata": {
    "ExecuteTime": {
     "end_time": "2020-11-06T07:36:34.720903Z",
     "start_time": "2020-11-06T07:36:32.994794Z"
    }
   },
   "outputs": [],
   "source": [
    "X_sig_path = \"training_data/X_sig\"\n",
    "y_sig_path = \"training_data/y_sig\"\n",
    "X_sb_path = \"training_data/X_sb\"\n",
    "y_sb_path = \"training_data/y_sb\"\n",
    "X_bgsig_path = \"training_data/X_bgsig\"\n",
    "y_bgsig_path = \"training_data/y_bgsig\"\n",
    "np.save(X_sig_path, X_sig)\n",
    "np.save(y_sig_path, y_sig)\n",
    "np.save(X_sb_path, X_sb)\n",
    "np.save(y_sb_path, y_sb)\n",
    "np.save(X_bgsig_path, X_bgsig)\n",
    "np.save(y_bgsig_path, y_bgsig)"
   ]
  },
  {
   "cell_type": "markdown",
   "metadata": {},
   "source": [
    "### Select signal & side band data points"
   ]
  },
  {
   "cell_type": "markdown",
   "metadata": {},
   "source": [
    "### Preprocessing"
   ]
  },
  {
   "cell_type": "code",
   "execution_count": 69,
   "metadata": {
    "ExecuteTime": {
     "end_time": "2020-10-23T09:03:25.812075Z",
     "start_time": "2020-10-23T09:03:25.805361Z"
    }
   },
   "outputs": [
    {
     "data": {
      "text/plain": [
       "(11049, 267, 4)"
      ]
     },
     "execution_count": 69,
     "metadata": {},
     "output_type": "execute_result"
    }
   ],
   "source": [
    "X_bgsignal[:50000].shape"
   ]
  },
  {
   "cell_type": "code",
   "execution_count": 66,
   "metadata": {
    "ExecuteTime": {
     "end_time": "2020-10-23T08:56:59.337671Z",
     "start_time": "2020-10-23T08:56:59.331391Z"
    }
   },
   "outputs": [
    {
     "data": {
      "text/plain": [
       "(51562, 267, 4)"
      ]
     },
     "execution_count": 66,
     "metadata": {},
     "output_type": "execute_result"
    }
   ],
   "source": [
    "X_sideband.shape"
   ]
  },
  {
   "cell_type": "code",
   "execution_count": 70,
   "metadata": {
    "ExecuteTime": {
     "end_time": "2020-10-23T09:05:46.391518Z",
     "start_time": "2020-10-23T09:05:46.347641Z"
    }
   },
   "outputs": [
    {
     "data": {
      "text/plain": [
       "(33147, 267, 4)"
      ]
     },
     "execution_count": 70,
     "metadata": {},
     "output_type": "execute_result"
    }
   ],
   "source": [
    "np.concatenate([X_bgsignal]*3).shape"
   ]
  },
  {
   "cell_type": "code",
   "execution_count": 68,
   "metadata": {
    "ExecuteTime": {
     "end_time": "2020-10-23T08:57:55.749807Z",
     "start_time": "2020-10-23T08:57:55.743906Z"
    }
   },
   "outputs": [
    {
     "data": {
      "text/plain": [
       "(62611,)"
      ]
     },
     "execution_count": 68,
     "metadata": {},
     "output_type": "execute_result"
    }
   ],
   "source": [
    "np.concatenate([y_sideband, y_bgsignal]).shape"
   ]
  },
  {
   "cell_type": "code",
   "execution_count": 82,
   "metadata": {
    "ExecuteTime": {
     "end_time": "2020-10-23T09:17:36.918546Z",
     "start_time": "2020-10-23T09:17:36.713742Z"
    }
   },
   "outputs": [],
   "source": [
    "import math\n",
    "from sklearn.utils import shuffle"
   ]
  },
  {
   "cell_type": "code",
   "execution_count": 79,
   "metadata": {
    "ExecuteTime": {
     "end_time": "2020-10-23T09:09:28.121723Z",
     "start_time": "2020-10-23T09:09:28.115931Z"
    }
   },
   "outputs": [
    {
     "data": {
      "text/plain": [
       "3"
      ]
     },
     "execution_count": 79,
     "metadata": {},
     "output_type": "execute_result"
    }
   ],
   "source": [
    "round(2.500000001)"
   ]
  },
  {
   "cell_type": "code",
   "execution_count": 36,
   "metadata": {
    "ExecuteTime": {
     "end_time": "2020-11-02T05:41:49.188234Z",
     "start_time": "2020-11-02T05:41:49.152857Z"
    }
   },
   "outputs": [],
   "source": [
    "def prep_and_shufflesplit_data(anomaly_ratio, size_each = 50000, shuffle_seed = 69,\n",
    "                               train = 0.7, val = 0.2, test = 0.1, special_test = True):\n",
    "    \n",
    "    assert (size_each <= min(X_sideband.shape[0], X_sig.shape[0]))\n",
    "    \n",
    "    \n",
    "    \n",
    "    \n",
    "    #how much bg and signal data to take?\n",
    "    anom_size = round(anomaly_ratio * size_each)\n",
    "    bg_sig_size = size_each - anom_size\n",
    "    \n",
    "    \n",
    "    # select sideband datapoints\n",
    "    this_X_sideband = X_sideband[:size_each]\n",
    "    this_y_sideband = np.zeros(size_each)\n",
    "    \n",
    "    # duplicate bgsignal datapoints\n",
    "    this_X_bgsignal = shuffle(np.copy(X_bgsignal))\n",
    "    this_y_bgsignal = np.ones(this_X_bgsignal.shape[0])\n",
    "        \n",
    "    (this_X_bgsignal, this_X_bgsignal_v, this_X_bgsignal_t,\n",
    "     this_y_bgsignal, this_y_bgsignal_v, this_y_bgsignal_t) = data_split(this_X_bgsignal, this_y_bgsignal, val=val, test=test)\n",
    "    \n",
    "    bg_sig_size_tr = round(bg_sig_size * train)\n",
    "    \n",
    "        \n",
    "    multiplier = math.ceil(bg_sig_size_tr/this_X_bgsignal.shape[0])\n",
    "\n",
    "    this_X_bgsignal = np.concatenate([this_X_bgsignal] * multiplier)[:bg_sig_size_tr]\n",
    "    this_y_bgsignal = np.ones(bg_sig_size_tr)\n",
    "\n",
    "    this_X_bgsignal_v = np.concatenate([this_X_bgsignal_v] * multiplier)[:round(bg_sig_size * val)]\n",
    "    this_y_bgsignal_v = np.ones(round(bg_sig_size * val))\n",
    "    \n",
    "    if special_test:\n",
    "        test_size_each = round(test * size_each)\n",
    "        multiplier = math.ceil(test_size_each/len(this_X_bgsignal_t))\n",
    "        this_X_bgsignal_t = np.concatenate([this_X_bgsignal_t] * multiplier)[:test_size_each]\n",
    "        this_y_bgsignal_t = None\n",
    "        \n",
    "    else:\n",
    "        test_size_each = None\n",
    "        this_X_bgsignal_t = np.concatenate([this_X_bgsignal_t] * multiplier)[:round(bg_sig_size * test)]\n",
    "        this_y_bgsignal_t = np.ones(round(bg_sig_size * test))\n",
    "        \n",
    "    print('Size of sigbg (Train, Val, Test):')\n",
    "    print(this_X_bgsignal.shape, this_X_bgsignal_v.shape, this_X_bgsignal_t.shape)\n",
    "        \n",
    "    \n",
    "#     #select bgsignal datapoints\n",
    "#     this_X_bgsignal = this_X_bgsignal[:bg_sig_size_tr]\n",
    "    \n",
    "#     this_X_bgsignal_v = this_X_bgsignal_v[:round(bg_sig_size * val)]\n",
    "    \n",
    "#     this_X_bgsignal_t = this_X_bgsignal_t[:round(bg_sig_size * test)]\n",
    "\n",
    "    \n",
    "    #select anomaly datapoints\n",
    "    this_X_anom = X_sig[:anom_size]\n",
    "    this_y_anom = np.ones(anom_size)\n",
    "    \n",
    "    print('Size of anomalies (pre-splitting):')\n",
    "    print(this_X_anom.shape)\n",
    "\n",
    "    \n",
    "    # only bg_sig has been split. Now, we have to shuffle then split the others.\n",
    "    this_X = np.concatenate([this_X_sideband, this_X_anom])\n",
    "    this_y = np.concatenate([this_y_sideband, this_y_anom])\n",
    "    \n",
    "    assert this_X.shape[0] == this_y.shape[0]\n",
    "    this_X, this_y = shuffle(this_X, this_y, random_state = shuffle_seed)\n",
    "    \n",
    "    (this_X_train, this_X_val, this_X_test,\n",
    "     this_y_train, this_y_val, this_y_test) = data_split(this_X, this_y, val=val, test=test)\n",
    "    \n",
    "    # make sure there is enough real anomalies to do the special test\n",
    "    if special_test:\n",
    "        assert len(X_sig) > anom_size + test_size_each\n",
    "        X_special_negative = this_X_bgsignal_t\n",
    "        X_special_positive = X_sig[anom_size:anom_size + test_size_each]\n",
    "        assert X_special_negative.shape == X_special_positive.shape\n",
    "        y_special_negative = np.zeros(test_size_each)\n",
    "        y_special_positive = np.ones(test_size_each)\n",
    "        \n",
    "    \n",
    "    # now, we can add the bg_sig to the rest of the data and shuffle again\n",
    "    X_train, y_train = shuffle(np.concatenate([this_X_train, this_X_bgsignal]),\n",
    "                               np.concatenate([this_y_train, this_y_bgsignal]),\n",
    "                              random_state = shuffle_seed)\n",
    "    X_val, y_val = shuffle(np.concatenate([this_X_val, this_X_bgsignal_v]),\n",
    "                               np.concatenate([this_y_val, this_y_bgsignal_v]),\n",
    "                              random_state = shuffle_seed)\n",
    "    \n",
    "    if special_test:\n",
    "        X_test, y_test = shuffle(np.concatenate([X_special_negative, X_special_positive]),\n",
    "                                   np.concatenate([y_special_negative, y_special_positive]),\n",
    "                                  random_state = shuffle_seed)\n",
    "    else:    \n",
    "        X_test, y_test = shuffle(np.concatenate([this_X_test, this_X_bgsignal_t]),\n",
    "                                   np.concatenate([this_y_test, this_y_bgsignal_t]),\n",
    "                                  random_state = shuffle_seed)\n",
    "    \n",
    "    # Centre and normalize all the Xs\n",
    "    for x in X_train:\n",
    "        mask = x[:,0] > 0\n",
    "        yphi_avg = np.average(x[mask,1:3], weights=x[mask,0], axis=0)\n",
    "        x[mask,1:3] -= yphi_avg\n",
    "        x[mask,0] /= x[:,0].sum()\n",
    "    for x in X_val:\n",
    "        mask = x[:,0] > 0\n",
    "        yphi_avg = np.average(x[mask,1:3], weights=x[mask,0], axis=0)\n",
    "        x[mask,1:3] -= yphi_avg\n",
    "        x[mask,0] /= x[:,0].sum()\n",
    "    for x in X_test:\n",
    "        mask = x[:,0] > 0\n",
    "        yphi_avg = np.average(x[mask,1:3], weights=x[mask,0], axis=0)\n",
    "        x[mask,1:3] -= yphi_avg\n",
    "        x[mask,0] /= x[:,0].sum()\n",
    "    \n",
    "    # remap PIDs for all the Xs\n",
    "    remap_pids(X_train, pid_i=3)\n",
    "    remap_pids(X_val, pid_i=3)\n",
    "    remap_pids(X_test, pid_i=3)\n",
    "    \n",
    "    # change Y to categorical Matrix\n",
    "    Y_train = to_categorical(y_train, num_classes=2)\n",
    "    Y_val = to_categorical(y_val, num_classes=2)\n",
    "    Y_test = to_categorical(y_test, num_classes=2)\n",
    "    \n",
    "    print('Training set size, distribution:')\n",
    "    print(X_train.shape)\n",
    "    print(np.unique(y_train,return_counts = True))\n",
    "    print('Validations set size, distribution:')\n",
    "    print(X_val.shape)\n",
    "    print(np.unique(y_val,return_counts = True))\n",
    "    print('Test set size, distribution:')\n",
    "    print(X_test.shape)\n",
    "    print(np.unique(y_test,return_counts = True))\n",
    "    \n",
    "    return X_train, X_val, X_test, Y_train,Y_val,Y_test\n",
    "    "
   ]
  },
  {
   "cell_type": "code",
   "execution_count": 52,
   "metadata": {
    "ExecuteTime": {
     "end_time": "2020-11-02T06:11:00.707462Z",
     "start_time": "2020-11-02T06:11:00.692263Z"
    }
   },
   "outputs": [],
   "source": [
    "def prep_and_shufflesplit_data_simple(size_each = 50000, shuffle_seed = 69,\n",
    "                               train = 0.7, val = 0.2, test = 0.1, special_test = False):\n",
    "    \n",
    "    \n",
    "    # select sideband datapoints\n",
    "    this_X_sideband = X_sideband[:size_each]\n",
    "    this_y_sideband = np.zeros(size_each)\n",
    "    \n",
    "    \n",
    "    #select anomaly datapoints\n",
    "    this_X_anom = X_sig[:size_each]\n",
    "    this_y_anom = np.ones(size_each)\n",
    "    \n",
    "    print('Size of anomalies (pre-splitting):')\n",
    "    print(this_X_anom.shape)\n",
    "\n",
    "    \n",
    "    this_X = np.concatenate([this_X_sideband, this_X_anom])\n",
    "    this_y = np.concatenate([this_y_sideband, this_y_anom])\n",
    "    \n",
    "    assert this_X.shape[0] == this_y.shape[0]\n",
    "    this_X, this_y = shuffle(this_X, this_y, random_state = shuffle_seed)\n",
    "    \n",
    "    \n",
    "    # Centre and normalize all the Xs\n",
    "    for x in this_X:\n",
    "        mask = x[:,0] > 0\n",
    "        yphi_avg = np.average(x[mask,1:3], weights=x[mask,0], axis=0)\n",
    "        x[mask,1:3] -= yphi_avg\n",
    "        x[mask,0] /= x[:,0].sum()\n",
    "    \n",
    "    \n",
    "    remap_pids(this_X, pid_i=3)\n",
    "    this_Y = to_categorical(this_y, num_classes=2)\n",
    "\n",
    "    (X_train, X_val, X_test,\n",
    "     Y_train, Y_val, Y_test) = data_split(this_X, this_Y, val=val, test=test)\n",
    "    \n",
    "    \n",
    "    \n",
    "    return X_train, X_val, X_test, Y_train,Y_val,Y_test\n",
    "    "
   ]
  },
  {
   "cell_type": "code",
   "execution_count": 39,
   "metadata": {
    "ExecuteTime": {
     "end_time": "2020-11-02T05:42:34.696765Z",
     "start_time": "2020-11-02T05:42:15.826081Z"
    }
   },
   "outputs": [
    {
     "name": "stdout",
     "output_type": "stream",
     "text": [
      "Size of sigbg (Train, Val, Test):\n",
      "(31500, 288, 4) (9000, 288, 4) (5000, 288, 4)\n",
      "Size of anomalies (pre-splitting):\n",
      "(5000, 288, 4)\n",
      "Training set size, distribution:\n",
      "(70000, 288, 4)\n",
      "(array([0., 1.]), array([34975, 35025]))\n",
      "Validations set size, distribution:\n",
      "(20000, 288, 4)\n",
      "(array([0., 1.]), array([10007,  9993]))\n",
      "Test set size, distribution:\n",
      "(10000, 288, 4)\n",
      "(array([0., 1.]), array([5000, 5000]))\n"
     ]
    }
   ],
   "source": [
    "X_train, X_val, X_test, Y_train,Y_val,Y_test = prep_and_shufflesplit_data(0.1)"
   ]
  },
  {
   "cell_type": "code",
   "execution_count": 66,
   "metadata": {
    "ExecuteTime": {
     "end_time": "2020-10-19T22:54:11.450746Z",
     "start_time": "2020-10-19T22:54:11.445437Z"
    },
    "collapsed": true
   },
   "outputs": [],
   "source": [
    "# train, val, test = 18000, 2000, 1186\n",
    "# use_pids = True\n"
   ]
  },
  {
   "cell_type": "code",
   "execution_count": 67,
   "metadata": {
    "ExecuteTime": {
     "end_time": "2020-10-19T22:54:18.815630Z",
     "start_time": "2020-10-19T22:54:16.071749Z"
    }
   },
   "outputs": [],
   "source": [
    "# # center and normalize\n",
    "# X_normalized = np.copy(X_shuffled)\n",
    "# for x in X_normalized:\n",
    "#     mask = x[:,0] > 0\n",
    "#     yphi_avg = np.average(x[mask,1:3], weights=x[mask,0], axis=0)\n",
    "#     x[mask,1:3] -= yphi_avg\n",
    "#     x[mask,0] /= x[:,0].sum()\n"
   ]
  },
  {
   "cell_type": "code",
   "execution_count": 68,
   "metadata": {
    "ExecuteTime": {
     "end_time": "2020-10-19T22:54:26.022173Z",
     "start_time": "2020-10-19T22:54:22.694592Z"
    }
   },
   "outputs": [],
   "source": [
    "# # handle particle id channel\n",
    "# if use_pids:\n",
    "#     remap_pids(X_normalized, pid_i=3)\n",
    "# else:\n",
    "#     X_normalized = X_normalized[:,:,:3]"
   ]
  },
  {
   "cell_type": "code",
   "execution_count": 69,
   "metadata": {
    "ExecuteTime": {
     "end_time": "2020-10-19T22:54:30.881932Z",
     "start_time": "2020-10-19T22:54:30.878065Z"
    }
   },
   "outputs": [],
   "source": [
    "# categorize y\n",
    "# Y = to_categorical(y_shuffled, num_classes=2)"
   ]
  },
  {
   "cell_type": "code",
   "execution_count": 70,
   "metadata": {
    "ExecuteTime": {
     "end_time": "2020-10-19T22:54:37.480452Z",
     "start_time": "2020-10-19T22:54:37.424330Z"
    },
    "scrolled": true
   },
   "outputs": [],
   "source": [
    "# # do train/val/test split \n",
    "# (X_train, X_val, X_test,\n",
    "#  Y_train, Y_val, Y_test) = data_split(X_normalized, Y, val=val, test=test)"
   ]
  },
  {
   "cell_type": "markdown",
   "metadata": {},
   "source": [
    "### Building the model"
   ]
  },
  {
   "cell_type": "code",
   "execution_count": 81,
   "metadata": {
    "ExecuteTime": {
     "end_time": "2020-11-02T06:45:50.338610Z",
     "start_time": "2020-11-02T06:45:50.332829Z"
    }
   },
   "outputs": [],
   "source": [
    "Phi_sizes, F_sizes = (20, 20, 20), (20,20,20)\n",
    "num_epoch = 10\n",
    "batch_size = 10"
   ]
  },
  {
   "cell_type": "code",
   "execution_count": 40,
   "metadata": {
    "ExecuteTime": {
     "end_time": "2020-11-02T05:52:27.988662Z",
     "start_time": "2020-11-02T05:52:27.980712Z"
    }
   },
   "outputs": [],
   "source": [
    "def train_models(X_train, X_val, X_test, Y_train,Y_val,Y_test):\n",
    "    model = PFN(input_dim=X_train.shape[-1], Phi_sizes=Phi_sizes, F_sizes=F_sizes)\n",
    "    history = model.fit(X_train, Y_train,\n",
    "          epochs=num_epoch,\n",
    "          batch_size=batch_size,\n",
    "          validation_data=(X_val, Y_val),\n",
    "          verbose=1)\n",
    "    Y_predict = model.predict(X_test)\n",
    "    \n",
    "    return (history, Y_test, Y_predict, model)\n",
    "    "
   ]
  },
  {
   "cell_type": "code",
   "execution_count": 138,
   "metadata": {
    "ExecuteTime": {
     "end_time": "2020-10-23T10:25:44.456509Z",
     "start_time": "2020-10-23T10:25:44.453580Z"
    }
   },
   "outputs": [],
   "source": [
    "all_results = []"
   ]
  },
  {
   "cell_type": "code",
   "execution_count": 43,
   "metadata": {
    "ExecuteTime": {
     "end_time": "2020-11-02T05:56:49.791807Z",
     "start_time": "2020-11-02T05:53:23.473682Z"
    }
   },
   "outputs": [
    {
     "name": "stdout",
     "output_type": "stream",
     "text": [
      "__________________________________________________________________________________________________\n",
      "Layer (type)                    Output Shape         Param #     Connected to                     \n",
      "==================================================================================================\n",
      "input (InputLayer)              (None, None, 4)      0                                            \n",
      "__________________________________________________________________________________________________\n",
      "tdist_0 (TimeDistributed)       (None, None, 10)     50          input[0][0]                      \n",
      "__________________________________________________________________________________________________\n",
      "activation_1 (Activation)       (None, None, 10)     0           tdist_0[0][0]                    \n",
      "__________________________________________________________________________________________________\n",
      "tdist_1 (TimeDistributed)       (None, None, 10)     110         activation_1[0][0]               \n",
      "__________________________________________________________________________________________________\n",
      "activation_2 (Activation)       (None, None, 10)     0           tdist_1[0][0]                    \n",
      "__________________________________________________________________________________________________\n",
      "tdist_2 (TimeDistributed)       (None, None, 16)     176         activation_2[0][0]               \n",
      "__________________________________________________________________________________________________\n",
      "mask (Lambda)                   (None, None)         0           input[0][0]                      \n",
      "__________________________________________________________________________________________________\n",
      "activation_3 (Activation)       (None, None, 16)     0           tdist_2[0][0]                    \n",
      "__________________________________________________________________________________________________\n",
      "sum (Dot)                       (None, 16)           0           mask[0][0]                       \n",
      "                                                                 activation_3[0][0]               \n",
      "__________________________________________________________________________________________________\n",
      "dense_0 (Dense)                 (None, 40)           680         sum[0][0]                        \n",
      "__________________________________________________________________________________________________\n",
      "activation_4 (Activation)       (None, 40)           0           dense_0[0][0]                    \n",
      "__________________________________________________________________________________________________\n",
      "dense_1 (Dense)                 (None, 20)           820         activation_4[0][0]               \n",
      "__________________________________________________________________________________________________\n",
      "activation_5 (Activation)       (None, 20)           0           dense_1[0][0]                    \n",
      "__________________________________________________________________________________________________\n",
      "output (Dense)                  (None, 2)            42          activation_5[0][0]               \n",
      "__________________________________________________________________________________________________\n",
      "activation_6 (Activation)       (None, 2)            0           output[0][0]                     \n",
      "==================================================================================================\n",
      "Total params: 1,878\n",
      "Trainable params: 1,878\n",
      "Non-trainable params: 0\n",
      "__________________________________________________________________________________________________\n",
      "Train on 70000 samples, validate on 20000 samples\n",
      "Epoch 1/5\n",
      "70000/70000 [==============================] - 50s 719us/step - loss: 8.0648 - acc: 0.4996 - val_loss: 8.0534 - val_acc: 0.5004\n",
      "Epoch 2/5\n",
      "70000/70000 [==============================] - 48s 683us/step - loss: 8.0648 - acc: 0.4996 - val_loss: 8.0534 - val_acc: 0.5004\n",
      "Epoch 3/5\n",
      "70000/70000 [==============================] - 48s 681us/step - loss: 8.0648 - acc: 0.4996 - val_loss: 8.0534 - val_acc: 0.5004\n",
      "Epoch 4/5\n",
      "70000/70000 [==============================] - 48s 682us/step - loss: 8.0648 - acc: 0.4996 - val_loss: 8.0534 - val_acc: 0.5004\n",
      "Epoch 5/5\n",
      "18880/70000 [=======>......................] - ETA: 32s - loss: 8.1316 - acc: 0.4955"
     ]
    },
    {
     "ename": "KeyboardInterrupt",
     "evalue": "",
     "output_type": "error",
     "traceback": [
      "\u001b[0;31m---------------------------------------------------------------------------\u001b[0m",
      "\u001b[0;31mKeyboardInterrupt\u001b[0m                         Traceback (most recent call last)",
      "\u001b[0;32m<ipython-input-43-4e2885aeb771>\u001b[0m in \u001b[0;36m<module>\u001b[0;34m\u001b[0m\n\u001b[1;32m      1\u001b[0m \u001b[0;31m#result_1\u001b[0m\u001b[0;34m\u001b[0m\u001b[0;34m\u001b[0m\u001b[0m\n\u001b[0;32m----> 2\u001b[0;31m \u001b[0mresult_1\u001b[0m \u001b[0;34m=\u001b[0m \u001b[0mtrain_models\u001b[0m\u001b[0;34m(\u001b[0m\u001b[0mX_train\u001b[0m\u001b[0;34m,\u001b[0m \u001b[0mX_val\u001b[0m\u001b[0;34m,\u001b[0m \u001b[0mX_test\u001b[0m\u001b[0;34m,\u001b[0m \u001b[0mY_train\u001b[0m\u001b[0;34m,\u001b[0m\u001b[0mY_val\u001b[0m\u001b[0;34m,\u001b[0m\u001b[0mY_test\u001b[0m\u001b[0;34m)\u001b[0m\u001b[0;34m\u001b[0m\u001b[0m\n\u001b[0m",
      "\u001b[0;32m<ipython-input-40-3c874d72c286>\u001b[0m in \u001b[0;36mtrain_models\u001b[0;34m(X_train, X_val, X_test, Y_train, Y_val, Y_test)\u001b[0m\n\u001b[1;32m      5\u001b[0m           \u001b[0mbatch_size\u001b[0m\u001b[0;34m=\u001b[0m\u001b[0mbatch_size\u001b[0m\u001b[0;34m,\u001b[0m\u001b[0;34m\u001b[0m\u001b[0m\n\u001b[1;32m      6\u001b[0m           \u001b[0mvalidation_data\u001b[0m\u001b[0;34m=\u001b[0m\u001b[0;34m(\u001b[0m\u001b[0mX_val\u001b[0m\u001b[0;34m,\u001b[0m \u001b[0mY_val\u001b[0m\u001b[0;34m)\u001b[0m\u001b[0;34m,\u001b[0m\u001b[0;34m\u001b[0m\u001b[0m\n\u001b[0;32m----> 7\u001b[0;31m           verbose=1)\n\u001b[0m\u001b[1;32m      8\u001b[0m     \u001b[0mY_predict\u001b[0m \u001b[0;34m=\u001b[0m \u001b[0mmodel\u001b[0m\u001b[0;34m.\u001b[0m\u001b[0mpredict\u001b[0m\u001b[0;34m(\u001b[0m\u001b[0mX_test\u001b[0m\u001b[0;34m)\u001b[0m\u001b[0;34m\u001b[0m\u001b[0m\n\u001b[1;32m      9\u001b[0m \u001b[0;34m\u001b[0m\u001b[0m\n",
      "\u001b[0;32m/opt/anaconda3/envs/shared_env/lib/python3.6/site-packages/energyflow/archs/archbase.py\u001b[0m in \u001b[0;36mfit\u001b[0;34m(self, *args, **kwargs)\u001b[0m\n\u001b[1;32m    325\u001b[0m \u001b[0;34m\u001b[0m\u001b[0m\n\u001b[1;32m    326\u001b[0m         \u001b[0;31m# do the fitting\u001b[0m\u001b[0;34m\u001b[0m\u001b[0;34m\u001b[0m\u001b[0m\n\u001b[0;32m--> 327\u001b[0;31m         \u001b[0mhist\u001b[0m \u001b[0;34m=\u001b[0m \u001b[0mself\u001b[0m\u001b[0;34m.\u001b[0m\u001b[0mmodel\u001b[0m\u001b[0;34m.\u001b[0m\u001b[0mfit\u001b[0m\u001b[0;34m(\u001b[0m\u001b[0;34m*\u001b[0m\u001b[0margs\u001b[0m\u001b[0;34m,\u001b[0m \u001b[0;34m**\u001b[0m\u001b[0mkwargs\u001b[0m\u001b[0;34m)\u001b[0m\u001b[0;34m\u001b[0m\u001b[0m\n\u001b[0m\u001b[1;32m    328\u001b[0m \u001b[0;34m\u001b[0m\u001b[0m\n\u001b[1;32m    329\u001b[0m         \u001b[0;31m# handle saving at the end, if we weren't already saving throughout\u001b[0m\u001b[0;34m\u001b[0m\u001b[0;34m\u001b[0m\u001b[0m\n",
      "\u001b[0;32m/opt/anaconda3/envs/shared_env/lib/python3.6/site-packages/keras/engine/training.py\u001b[0m in \u001b[0;36mfit\u001b[0;34m(self, x, y, batch_size, epochs, verbose, callbacks, validation_split, validation_data, shuffle, class_weight, sample_weight, initial_epoch, steps_per_epoch, validation_steps, **kwargs)\u001b[0m\n\u001b[1;32m   1037\u001b[0m                                         \u001b[0minitial_epoch\u001b[0m\u001b[0;34m=\u001b[0m\u001b[0minitial_epoch\u001b[0m\u001b[0;34m,\u001b[0m\u001b[0;34m\u001b[0m\u001b[0m\n\u001b[1;32m   1038\u001b[0m                                         \u001b[0msteps_per_epoch\u001b[0m\u001b[0;34m=\u001b[0m\u001b[0msteps_per_epoch\u001b[0m\u001b[0;34m,\u001b[0m\u001b[0;34m\u001b[0m\u001b[0m\n\u001b[0;32m-> 1039\u001b[0;31m                                         validation_steps=validation_steps)\n\u001b[0m\u001b[1;32m   1040\u001b[0m \u001b[0;34m\u001b[0m\u001b[0m\n\u001b[1;32m   1041\u001b[0m     def evaluate(self, x=None, y=None,\n",
      "\u001b[0;32m/opt/anaconda3/envs/shared_env/lib/python3.6/site-packages/keras/engine/training_arrays.py\u001b[0m in \u001b[0;36mfit_loop\u001b[0;34m(model, f, ins, out_labels, batch_size, epochs, verbose, callbacks, val_f, val_ins, shuffle, callback_metrics, initial_epoch, steps_per_epoch, validation_steps)\u001b[0m\n\u001b[1;32m    197\u001b[0m                     \u001b[0mins_batch\u001b[0m\u001b[0;34m[\u001b[0m\u001b[0mi\u001b[0m\u001b[0;34m]\u001b[0m \u001b[0;34m=\u001b[0m \u001b[0mins_batch\u001b[0m\u001b[0;34m[\u001b[0m\u001b[0mi\u001b[0m\u001b[0;34m]\u001b[0m\u001b[0;34m.\u001b[0m\u001b[0mtoarray\u001b[0m\u001b[0;34m(\u001b[0m\u001b[0;34m)\u001b[0m\u001b[0;34m\u001b[0m\u001b[0m\n\u001b[1;32m    198\u001b[0m \u001b[0;34m\u001b[0m\u001b[0m\n\u001b[0;32m--> 199\u001b[0;31m                 \u001b[0mouts\u001b[0m \u001b[0;34m=\u001b[0m \u001b[0mf\u001b[0m\u001b[0;34m(\u001b[0m\u001b[0mins_batch\u001b[0m\u001b[0;34m)\u001b[0m\u001b[0;34m\u001b[0m\u001b[0m\n\u001b[0m\u001b[1;32m    200\u001b[0m                 \u001b[0mouts\u001b[0m \u001b[0;34m=\u001b[0m \u001b[0mto_list\u001b[0m\u001b[0;34m(\u001b[0m\u001b[0mouts\u001b[0m\u001b[0;34m)\u001b[0m\u001b[0;34m\u001b[0m\u001b[0m\n\u001b[1;32m    201\u001b[0m                 \u001b[0;32mfor\u001b[0m \u001b[0ml\u001b[0m\u001b[0;34m,\u001b[0m \u001b[0mo\u001b[0m \u001b[0;32min\u001b[0m \u001b[0mzip\u001b[0m\u001b[0;34m(\u001b[0m\u001b[0mout_labels\u001b[0m\u001b[0;34m,\u001b[0m \u001b[0mouts\u001b[0m\u001b[0;34m)\u001b[0m\u001b[0;34m:\u001b[0m\u001b[0;34m\u001b[0m\u001b[0m\n",
      "\u001b[0;32m/opt/anaconda3/envs/shared_env/lib/python3.6/site-packages/keras/backend/tensorflow_backend.py\u001b[0m in \u001b[0;36m__call__\u001b[0;34m(self, inputs)\u001b[0m\n\u001b[1;32m   2713\u001b[0m                 \u001b[0;32mreturn\u001b[0m \u001b[0mself\u001b[0m\u001b[0;34m.\u001b[0m\u001b[0m_legacy_call\u001b[0m\u001b[0;34m(\u001b[0m\u001b[0minputs\u001b[0m\u001b[0;34m)\u001b[0m\u001b[0;34m\u001b[0m\u001b[0m\n\u001b[1;32m   2714\u001b[0m \u001b[0;34m\u001b[0m\u001b[0m\n\u001b[0;32m-> 2715\u001b[0;31m             \u001b[0;32mreturn\u001b[0m \u001b[0mself\u001b[0m\u001b[0;34m.\u001b[0m\u001b[0m_call\u001b[0m\u001b[0;34m(\u001b[0m\u001b[0minputs\u001b[0m\u001b[0;34m)\u001b[0m\u001b[0;34m\u001b[0m\u001b[0m\n\u001b[0m\u001b[1;32m   2716\u001b[0m         \u001b[0;32melse\u001b[0m\u001b[0;34m:\u001b[0m\u001b[0;34m\u001b[0m\u001b[0m\n\u001b[1;32m   2717\u001b[0m             \u001b[0;32mif\u001b[0m \u001b[0mpy_any\u001b[0m\u001b[0;34m(\u001b[0m\u001b[0mis_tensor\u001b[0m\u001b[0;34m(\u001b[0m\u001b[0mx\u001b[0m\u001b[0;34m)\u001b[0m \u001b[0;32mfor\u001b[0m \u001b[0mx\u001b[0m \u001b[0;32min\u001b[0m \u001b[0minputs\u001b[0m\u001b[0;34m)\u001b[0m\u001b[0;34m:\u001b[0m\u001b[0;34m\u001b[0m\u001b[0m\n",
      "\u001b[0;32m/opt/anaconda3/envs/shared_env/lib/python3.6/site-packages/keras/backend/tensorflow_backend.py\u001b[0m in \u001b[0;36m_call\u001b[0;34m(self, inputs)\u001b[0m\n\u001b[1;32m   2673\u001b[0m             \u001b[0mfetched\u001b[0m \u001b[0;34m=\u001b[0m \u001b[0mself\u001b[0m\u001b[0;34m.\u001b[0m\u001b[0m_callable_fn\u001b[0m\u001b[0;34m(\u001b[0m\u001b[0;34m*\u001b[0m\u001b[0marray_vals\u001b[0m\u001b[0;34m,\u001b[0m \u001b[0mrun_metadata\u001b[0m\u001b[0;34m=\u001b[0m\u001b[0mself\u001b[0m\u001b[0;34m.\u001b[0m\u001b[0mrun_metadata\u001b[0m\u001b[0;34m)\u001b[0m\u001b[0;34m\u001b[0m\u001b[0m\n\u001b[1;32m   2674\u001b[0m         \u001b[0;32melse\u001b[0m\u001b[0;34m:\u001b[0m\u001b[0;34m\u001b[0m\u001b[0m\n\u001b[0;32m-> 2675\u001b[0;31m             \u001b[0mfetched\u001b[0m \u001b[0;34m=\u001b[0m \u001b[0mself\u001b[0m\u001b[0;34m.\u001b[0m\u001b[0m_callable_fn\u001b[0m\u001b[0;34m(\u001b[0m\u001b[0;34m*\u001b[0m\u001b[0marray_vals\u001b[0m\u001b[0;34m)\u001b[0m\u001b[0;34m\u001b[0m\u001b[0m\n\u001b[0m\u001b[1;32m   2676\u001b[0m         \u001b[0;32mreturn\u001b[0m \u001b[0mfetched\u001b[0m\u001b[0;34m[\u001b[0m\u001b[0;34m:\u001b[0m\u001b[0mlen\u001b[0m\u001b[0;34m(\u001b[0m\u001b[0mself\u001b[0m\u001b[0;34m.\u001b[0m\u001b[0moutputs\u001b[0m\u001b[0;34m)\u001b[0m\u001b[0;34m]\u001b[0m\u001b[0;34m\u001b[0m\u001b[0m\n\u001b[1;32m   2677\u001b[0m \u001b[0;34m\u001b[0m\u001b[0m\n",
      "\u001b[0;32m/opt/anaconda3/envs/shared_env/lib/python3.6/site-packages/tensorflow/python/client/session.py\u001b[0m in \u001b[0;36m__call__\u001b[0;34m(self, *args, **kwargs)\u001b[0m\n\u001b[1;32m   1437\u001b[0m           ret = tf_session.TF_SessionRunCallable(\n\u001b[1;32m   1438\u001b[0m               \u001b[0mself\u001b[0m\u001b[0;34m.\u001b[0m\u001b[0m_session\u001b[0m\u001b[0;34m.\u001b[0m\u001b[0m_session\u001b[0m\u001b[0;34m,\u001b[0m \u001b[0mself\u001b[0m\u001b[0;34m.\u001b[0m\u001b[0m_handle\u001b[0m\u001b[0;34m,\u001b[0m \u001b[0margs\u001b[0m\u001b[0;34m,\u001b[0m \u001b[0mstatus\u001b[0m\u001b[0;34m,\u001b[0m\u001b[0;34m\u001b[0m\u001b[0m\n\u001b[0;32m-> 1439\u001b[0;31m               run_metadata_ptr)\n\u001b[0m\u001b[1;32m   1440\u001b[0m         \u001b[0;32mif\u001b[0m \u001b[0mrun_metadata\u001b[0m\u001b[0;34m:\u001b[0m\u001b[0;34m\u001b[0m\u001b[0m\n\u001b[1;32m   1441\u001b[0m           \u001b[0mproto_data\u001b[0m \u001b[0;34m=\u001b[0m \u001b[0mtf_session\u001b[0m\u001b[0;34m.\u001b[0m\u001b[0mTF_GetBuffer\u001b[0m\u001b[0;34m(\u001b[0m\u001b[0mrun_metadata_ptr\u001b[0m\u001b[0;34m)\u001b[0m\u001b[0;34m\u001b[0m\u001b[0m\n",
      "\u001b[0;31mKeyboardInterrupt\u001b[0m: "
     ]
    }
   ],
   "source": [
    "#result_1\n",
    "result_1 = train_models(X_train, X_val, X_test, Y_train,Y_val,Y_test)"
   ]
  },
  {
   "cell_type": "code",
   "execution_count": 53,
   "metadata": {
    "ExecuteTime": {
     "end_time": "2020-11-02T06:15:29.627746Z",
     "start_time": "2020-11-02T06:11:05.094957Z"
    }
   },
   "outputs": [
    {
     "name": "stdout",
     "output_type": "stream",
     "text": [
      "Size of anomalies (pre-splitting):\n",
      "(50000, 288, 4)\n",
      "__________________________________________________________________________________________________\n",
      "Layer (type)                    Output Shape         Param #     Connected to                     \n",
      "==================================================================================================\n",
      "input (InputLayer)              (None, None, 4)      0                                            \n",
      "__________________________________________________________________________________________________\n",
      "tdist_0 (TimeDistributed)       (None, None, 10)     50          input[0][0]                      \n",
      "__________________________________________________________________________________________________\n",
      "activation_13 (Activation)      (None, None, 10)     0           tdist_0[0][0]                    \n",
      "__________________________________________________________________________________________________\n",
      "tdist_1 (TimeDistributed)       (None, None, 10)     110         activation_13[0][0]              \n",
      "__________________________________________________________________________________________________\n",
      "activation_14 (Activation)      (None, None, 10)     0           tdist_1[0][0]                    \n",
      "__________________________________________________________________________________________________\n",
      "tdist_2 (TimeDistributed)       (None, None, 16)     176         activation_14[0][0]              \n",
      "__________________________________________________________________________________________________\n",
      "mask (Lambda)                   (None, None)         0           input[0][0]                      \n",
      "__________________________________________________________________________________________________\n",
      "activation_15 (Activation)      (None, None, 16)     0           tdist_2[0][0]                    \n",
      "__________________________________________________________________________________________________\n",
      "sum (Dot)                       (None, 16)           0           mask[0][0]                       \n",
      "                                                                 activation_15[0][0]              \n",
      "__________________________________________________________________________________________________\n",
      "dense_0 (Dense)                 (None, 40)           680         sum[0][0]                        \n",
      "__________________________________________________________________________________________________\n",
      "activation_16 (Activation)      (None, 40)           0           dense_0[0][0]                    \n",
      "__________________________________________________________________________________________________\n",
      "dense_1 (Dense)                 (None, 20)           820         activation_16[0][0]              \n",
      "__________________________________________________________________________________________________\n",
      "activation_17 (Activation)      (None, 20)           0           dense_1[0][0]                    \n",
      "__________________________________________________________________________________________________\n",
      "output (Dense)                  (None, 2)            42          activation_17[0][0]              \n",
      "__________________________________________________________________________________________________\n",
      "activation_18 (Activation)      (None, 2)            0           output[0][0]                     \n",
      "==================================================================================================\n",
      "Total params: 1,878\n",
      "Trainable params: 1,878\n",
      "Non-trainable params: 0\n",
      "__________________________________________________________________________________________________\n",
      "Train on 70000 samples, validate on 20000 samples\n",
      "Epoch 1/5\n",
      "70000/70000 [==============================] - 49s 703us/step - loss: 0.7354 - acc: 0.7006 - val_loss: 0.4869 - val_acc: 0.7710\n",
      "Epoch 2/5\n",
      "70000/70000 [==============================] - 49s 695us/step - loss: 0.4490 - acc: 0.7894 - val_loss: 0.5272 - val_acc: 0.7487\n",
      "Epoch 3/5\n",
      "70000/70000 [==============================] - 49s 694us/step - loss: 0.3670 - acc: 0.8358 - val_loss: 0.3342 - val_acc: 0.8627\n",
      "Epoch 4/5\n",
      "70000/70000 [==============================] - 49s 694us/step - loss: 0.3094 - acc: 0.8660 - val_loss: 0.2835 - val_acc: 0.8681\n",
      "Epoch 5/5\n",
      "70000/70000 [==============================] - 49s 696us/step - loss: 0.2736 - acc: 0.8861 - val_loss: 0.2797 - val_acc: 0.8902\n"
     ]
    }
   ],
   "source": [
    "#result 3\n",
    "X_train, X_val, X_test, Y_train,Y_val,Y_test = prep_and_shufflesplit_data_simple()\n",
    "result_3 = train_models(X_train, X_val, X_test, Y_train,Y_val,Y_test)"
   ]
  },
  {
   "cell_type": "code",
   "execution_count": 83,
   "metadata": {
    "ExecuteTime": {
     "end_time": "2020-11-02T06:56:23.191745Z",
     "start_time": "2020-11-02T06:47:11.775529Z"
    }
   },
   "outputs": [
    {
     "name": "stdout",
     "output_type": "stream",
     "text": [
      "Size of sigbg (Train, Val, Test):\n",
      "(14000, 288, 4) (4000, 288, 4) (5000, 288, 4)\n",
      "Size of anomalies (pre-splitting):\n",
      "(30000, 288, 4)\n",
      "Training set size, distribution:\n",
      "(70000, 288, 4)\n",
      "(array([0., 1.]), array([35021, 34979]))\n",
      "Validations set size, distribution:\n",
      "(20000, 288, 4)\n",
      "(array([0., 1.]), array([ 9999, 10001]))\n",
      "Test set size, distribution:\n",
      "(10000, 288, 4)\n",
      "(array([0., 1.]), array([5000, 5000]))\n",
      "__________________________________________________________________________________________________\n",
      "Layer (type)                    Output Shape         Param #     Connected to                     \n",
      "==================================================================================================\n",
      "input (InputLayer)              (None, None, 4)      0                                            \n",
      "__________________________________________________________________________________________________\n",
      "tdist_0 (TimeDistributed)       (None, None, 20)     100         input[0][0]                      \n",
      "__________________________________________________________________________________________________\n",
      "activation_32 (Activation)      (None, None, 20)     0           tdist_0[0][0]                    \n",
      "__________________________________________________________________________________________________\n",
      "tdist_1 (TimeDistributed)       (None, None, 20)     420         activation_32[0][0]              \n",
      "__________________________________________________________________________________________________\n",
      "activation_33 (Activation)      (None, None, 20)     0           tdist_1[0][0]                    \n",
      "__________________________________________________________________________________________________\n",
      "tdist_2 (TimeDistributed)       (None, None, 20)     420         activation_33[0][0]              \n",
      "__________________________________________________________________________________________________\n",
      "mask (Lambda)                   (None, None)         0           input[0][0]                      \n",
      "__________________________________________________________________________________________________\n",
      "activation_34 (Activation)      (None, None, 20)     0           tdist_2[0][0]                    \n",
      "__________________________________________________________________________________________________\n",
      "sum (Dot)                       (None, 20)           0           mask[0][0]                       \n",
      "                                                                 activation_34[0][0]              \n",
      "__________________________________________________________________________________________________\n",
      "dense_0 (Dense)                 (None, 20)           420         sum[0][0]                        \n",
      "__________________________________________________________________________________________________\n",
      "activation_35 (Activation)      (None, 20)           0           dense_0[0][0]                    \n",
      "__________________________________________________________________________________________________\n",
      "dense_1 (Dense)                 (None, 20)           420         activation_35[0][0]              \n",
      "__________________________________________________________________________________________________\n",
      "activation_36 (Activation)      (None, 20)           0           dense_1[0][0]                    \n",
      "__________________________________________________________________________________________________\n",
      "dense_2 (Dense)                 (None, 20)           420         activation_36[0][0]              \n",
      "__________________________________________________________________________________________________\n",
      "activation_37 (Activation)      (None, 20)           0           dense_2[0][0]                    \n",
      "__________________________________________________________________________________________________\n",
      "output (Dense)                  (None, 2)            42          activation_37[0][0]              \n",
      "__________________________________________________________________________________________________\n",
      "activation_38 (Activation)      (None, 2)            0           output[0][0]                     \n",
      "==================================================================================================\n",
      "Total params: 2,242\n",
      "Trainable params: 2,242\n",
      "Non-trainable params: 0\n",
      "__________________________________________________________________________________________________\n",
      "Train on 70000 samples, validate on 20000 samples\n",
      "Epoch 1/10\n",
      "70000/70000 [==============================] - 54s 768us/step - loss: 0.6459 - acc: 0.6642 - val_loss: 0.5548 - val_acc: 0.7047\n",
      "Epoch 2/10\n",
      "70000/70000 [==============================] - 53s 761us/step - loss: 0.4893 - acc: 0.7580 - val_loss: 0.4329 - val_acc: 0.8005\n",
      "Epoch 3/10\n",
      "70000/70000 [==============================] - 53s 755us/step - loss: 0.3970 - acc: 0.8169 - val_loss: 0.3621 - val_acc: 0.8331\n",
      "Epoch 4/10\n",
      "70000/70000 [==============================] - 53s 756us/step - loss: 0.3147 - acc: 0.8638 - val_loss: 0.2738 - val_acc: 0.8861\n",
      "Epoch 5/10\n",
      "70000/70000 [==============================] - 53s 758us/step - loss: 0.2697 - acc: 0.8877 - val_loss: 0.2181 - val_acc: 0.9106\n",
      "Epoch 6/10\n",
      "70000/70000 [==============================] - 53s 759us/step - loss: 0.2384 - acc: 0.9052 - val_loss: 0.2313 - val_acc: 0.9118\n",
      "Epoch 7/10\n",
      "70000/70000 [==============================] - 53s 758us/step - loss: 0.2185 - acc: 0.9159 - val_loss: 0.2429 - val_acc: 0.9094\n",
      "Epoch 8/10\n",
      "70000/70000 [==============================] - 53s 756us/step - loss: 0.2011 - acc: 0.9239 - val_loss: 0.1916 - val_acc: 0.9312\n",
      "Epoch 9/10\n",
      "70000/70000 [==============================] - 53s 761us/step - loss: 0.1845 - acc: 0.9324 - val_loss: 0.1768 - val_acc: 0.9341\n",
      "Epoch 10/10\n",
      "70000/70000 [==============================] - 53s 756us/step - loss: 0.1746 - acc: 0.9373 - val_loss: 0.1688 - val_acc: 0.9343\n"
     ]
    }
   ],
   "source": [
    "#result_5\n",
    "X_train, X_val, X_test, Y_train,Y_val,Y_test = prep_and_shufflesplit_data(0.6,special_test = True)\n",
    "result_5 = train_models(X_train, X_val, X_test, Y_train,Y_val,Y_test)"
   ]
  },
  {
   "cell_type": "code",
   "execution_count": 54,
   "metadata": {
    "ExecuteTime": {
     "end_time": "2020-11-02T06:20:50.075942Z",
     "start_time": "2020-11-02T06:16:23.178386Z"
    }
   },
   "outputs": [
    {
     "name": "stdout",
     "output_type": "stream",
     "text": [
      "Size of sigbg (Train, Val, Test):\n",
      "(1750, 288, 4) (500, 288, 4) (5000, 288, 4)\n",
      "Size of anomalies (pre-splitting):\n",
      "(47500, 288, 4)\n",
      "Training set size, distribution:\n",
      "(70000, 288, 4)\n",
      "(array([0., 1.]), array([35098, 34902]))\n",
      "Validations set size, distribution:\n",
      "(20000, 288, 4)\n",
      "(array([0., 1.]), array([ 9971, 10029]))\n",
      "Test set size, distribution:\n",
      "(10000, 288, 4)\n",
      "(array([0., 1.]), array([5000, 5000]))\n",
      "__________________________________________________________________________________________________\n",
      "Layer (type)                    Output Shape         Param #     Connected to                     \n",
      "==================================================================================================\n",
      "input (InputLayer)              (None, None, 4)      0                                            \n",
      "__________________________________________________________________________________________________\n",
      "tdist_0 (TimeDistributed)       (None, None, 10)     50          input[0][0]                      \n",
      "__________________________________________________________________________________________________\n",
      "activation_19 (Activation)      (None, None, 10)     0           tdist_0[0][0]                    \n",
      "__________________________________________________________________________________________________\n",
      "tdist_1 (TimeDistributed)       (None, None, 10)     110         activation_19[0][0]              \n",
      "__________________________________________________________________________________________________\n",
      "activation_20 (Activation)      (None, None, 10)     0           tdist_1[0][0]                    \n",
      "__________________________________________________________________________________________________\n",
      "tdist_2 (TimeDistributed)       (None, None, 16)     176         activation_20[0][0]              \n",
      "__________________________________________________________________________________________________\n",
      "mask (Lambda)                   (None, None)         0           input[0][0]                      \n",
      "__________________________________________________________________________________________________\n",
      "activation_21 (Activation)      (None, None, 16)     0           tdist_2[0][0]                    \n",
      "__________________________________________________________________________________________________\n",
      "sum (Dot)                       (None, 16)           0           mask[0][0]                       \n",
      "                                                                 activation_21[0][0]              \n",
      "__________________________________________________________________________________________________\n",
      "dense_0 (Dense)                 (None, 40)           680         sum[0][0]                        \n",
      "__________________________________________________________________________________________________\n",
      "activation_22 (Activation)      (None, 40)           0           dense_0[0][0]                    \n",
      "__________________________________________________________________________________________________\n",
      "dense_1 (Dense)                 (None, 20)           820         activation_22[0][0]              \n",
      "__________________________________________________________________________________________________\n",
      "activation_23 (Activation)      (None, 20)           0           dense_1[0][0]                    \n",
      "__________________________________________________________________________________________________\n",
      "output (Dense)                  (None, 2)            42          activation_23[0][0]              \n",
      "__________________________________________________________________________________________________\n",
      "activation_24 (Activation)      (None, 2)            0           output[0][0]                     \n",
      "==================================================================================================\n",
      "Total params: 1,878\n",
      "Trainable params: 1,878\n",
      "Non-trainable params: 0\n",
      "__________________________________________________________________________________________________\n",
      "Train on 70000 samples, validate on 20000 samples\n",
      "Epoch 1/5\n",
      "70000/70000 [==============================] - 50s 713us/step - loss: 0.6821 - acc: 0.6747 - val_loss: 0.5446 - val_acc: 0.7106\n",
      "Epoch 2/5\n",
      "70000/70000 [==============================] - 49s 704us/step - loss: 0.4921 - acc: 0.7636 - val_loss: 0.4166 - val_acc: 0.8094\n",
      "Epoch 3/5\n",
      "70000/70000 [==============================] - 49s 701us/step - loss: 0.4097 - acc: 0.8132 - val_loss: 0.4344 - val_acc: 0.8010\n",
      "Epoch 4/5\n",
      "70000/70000 [==============================] - 49s 698us/step - loss: 0.3568 - acc: 0.8410 - val_loss: 0.3230 - val_acc: 0.8618\n",
      "Epoch 5/5\n",
      "70000/70000 [==============================] - 49s 704us/step - loss: 0.3180 - acc: 0.8627 - val_loss: 0.2846 - val_acc: 0.8799\n"
     ]
    }
   ],
   "source": [
    "#result_2\n",
    "X_train, X_val, X_test, Y_train,Y_val,Y_test = prep_and_shufflesplit_data(0.95,special_test = True)\n",
    "result_2 = train_models(X_train, X_val, X_test, Y_train,Y_val,Y_test)"
   ]
  },
  {
   "cell_type": "code",
   "execution_count": 215,
   "metadata": {
    "ExecuteTime": {
     "end_time": "2020-10-25T06:52:39.737763Z",
     "start_time": "2020-10-25T06:52:39.729060Z"
    }
   },
   "outputs": [
    {
     "data": {
      "text/plain": [
       "(<keras.callbacks.History at 0x7fd54617edd8>,\n",
       " array([[0., 1.],\n",
       "        [0., 1.],\n",
       "        [1., 0.],\n",
       "        ...,\n",
       "        [0., 1.],\n",
       "        [1., 0.],\n",
       "        [0., 1.]]),\n",
       " array([[3.4478795e-02, 9.6552128e-01],\n",
       "        [9.2460066e-01, 7.5399265e-02],\n",
       "        [2.5347410e-02, 9.7465265e-01],\n",
       "        ...,\n",
       "        [4.8510003e-05, 9.9995148e-01],\n",
       "        [6.8398928e-03, 9.9316013e-01],\n",
       "        [7.8961992e-01, 2.1038003e-01]], dtype=float32))"
      ]
     },
     "execution_count": 215,
     "metadata": {},
     "output_type": "execute_result"
    }
   ],
   "source": [
    "all_results[-1]"
   ]
  },
  {
   "cell_type": "code",
   "execution_count": 166,
   "metadata": {
    "ExecuteTime": {
     "end_time": "2020-10-25T06:05:58.774822Z",
     "start_time": "2020-10-25T06:01:24.124218Z"
    }
   },
   "outputs": [
    {
     "name": "stdout",
     "output_type": "stream",
     "text": [
      "Size of sigbg (Train, Val, Test):\n",
      "(35000, 267, 4) (10000, 267, 4) (5000, 267, 4)\n",
      "Size of anomalies (pre-splitting):\n",
      "(0, 267, 4)\n",
      "Training set size, distribution:\n",
      "(70000, 267, 4)\n",
      "(array([0., 1.]), array([35000, 35000]))\n",
      "Validations set size, distribution:\n",
      "(20000, 267, 4)\n",
      "(array([0., 1.]), array([10000, 10000]))\n",
      "Test set size, distribution:\n",
      "(10000, 267, 4)\n",
      "(array([0., 1.]), array([5000, 5000]))\n",
      "__________________________________________________________________________________________________\n",
      "Layer (type)                    Output Shape         Param #     Connected to                     \n",
      "==================================================================================================\n",
      "input (InputLayer)              (None, None, 4)      0                                            \n",
      "__________________________________________________________________________________________________\n",
      "tdist_0 (TimeDistributed)       (None, None, 10)     50          input[0][0]                      \n",
      "__________________________________________________________________________________________________\n",
      "activation_79 (Activation)      (None, None, 10)     0           tdist_0[0][0]                    \n",
      "__________________________________________________________________________________________________\n",
      "tdist_1 (TimeDistributed)       (None, None, 10)     110         activation_79[0][0]              \n",
      "__________________________________________________________________________________________________\n",
      "activation_80 (Activation)      (None, None, 10)     0           tdist_1[0][0]                    \n",
      "__________________________________________________________________________________________________\n",
      "tdist_2 (TimeDistributed)       (None, None, 16)     176         activation_80[0][0]              \n",
      "__________________________________________________________________________________________________\n",
      "mask (Lambda)                   (None, None)         0           input[0][0]                      \n",
      "__________________________________________________________________________________________________\n",
      "activation_81 (Activation)      (None, None, 16)     0           tdist_2[0][0]                    \n",
      "__________________________________________________________________________________________________\n",
      "sum (Dot)                       (None, 16)           0           mask[0][0]                       \n",
      "                                                                 activation_81[0][0]              \n",
      "__________________________________________________________________________________________________\n",
      "dense_0 (Dense)                 (None, 40)           680         sum[0][0]                        \n",
      "__________________________________________________________________________________________________\n",
      "activation_82 (Activation)      (None, 40)           0           dense_0[0][0]                    \n",
      "__________________________________________________________________________________________________\n",
      "dense_1 (Dense)                 (None, 20)           820         activation_82[0][0]              \n",
      "__________________________________________________________________________________________________\n",
      "activation_83 (Activation)      (None, 20)           0           dense_1[0][0]                    \n",
      "__________________________________________________________________________________________________\n",
      "output (Dense)                  (None, 2)            42          activation_83[0][0]              \n",
      "__________________________________________________________________________________________________\n",
      "activation_84 (Activation)      (None, 2)            0           output[0][0]                     \n",
      "==================================================================================================\n",
      "Total params: 1,878\n",
      "Trainable params: 1,878\n",
      "Non-trainable params: 0\n",
      "__________________________________________________________________________________________________\n",
      "Train on 70000 samples, validate on 20000 samples\n",
      "Epoch 1/5\n",
      "70000/70000 [==============================] - 51s 726us/step - loss: 8.0590 - acc: 0.5000 - val_loss: 8.0590 - val_acc: 0.5000\n",
      "Epoch 2/5\n",
      "70000/70000 [==============================] - 49s 699us/step - loss: 8.0590 - acc: 0.5000 - val_loss: 8.0590 - val_acc: 0.5000\n",
      "Epoch 3/5\n",
      "70000/70000 [==============================] - 49s 702us/step - loss: 8.0590 - acc: 0.5000 - val_loss: 8.0590 - val_acc: 0.5000\n",
      "Epoch 4/5\n",
      "70000/70000 [==============================] - 49s 693us/step - loss: 8.0590 - acc: 0.5000 - val_loss: 8.0590 - val_acc: 0.5000\n",
      "Epoch 5/5\n",
      "70000/70000 [==============================] - 49s 696us/step - loss: 8.0590 - acc: 0.5000 - val_loss: 8.0590 - val_acc: 0.5000\n"
     ]
    }
   ],
   "source": [
    "#result 8\n",
    "X_train, X_val, X_test, Y_train,Y_val,Y_test = prep_and_shufflesplit_data(0,special_test = True)\n",
    "result_8 = train_models(X_train, X_val, X_test, Y_train,Y_val,Y_test)"
   ]
  },
  {
   "cell_type": "code",
   "execution_count": null,
   "metadata": {
    "ExecuteTime": {
     "start_time": "2020-10-24T23:52:17.557Z"
    }
   },
   "outputs": [],
   "source": [
    "1+1"
   ]
  },
  {
   "cell_type": "raw",
   "metadata": {
    "ExecuteTime": {
     "end_time": "2020-10-23T10:34:16.027426Z",
     "start_time": "2020-10-23T10:29:59.448422Z"
    }
   },
   "source": [
    "X_train, X_val, X_test, Y_train,Y_val,Y_test = prep_and_shufflesplit_data(0.005)\n",
    "all_results.append(train_models(X_train, X_val, X_test, Y_train,Y_val,Y_test))"
   ]
  },
  {
   "cell_type": "code",
   "execution_count": 141,
   "metadata": {
    "ExecuteTime": {
     "end_time": "2020-10-23T10:38:32.251305Z",
     "start_time": "2020-10-23T10:34:16.032440Z"
    }
   },
   "outputs": [
    {
     "name": "stdout",
     "output_type": "stream",
     "text": [
      "__________________________________________________________________________________________________\n",
      "Layer (type)                    Output Shape         Param #     Connected to                     \n",
      "==================================================================================================\n",
      "input (InputLayer)              (None, None, 4)      0                                            \n",
      "__________________________________________________________________________________________________\n",
      "tdist_0 (TimeDistributed)       (None, None, 10)     50          input[0][0]                      \n",
      "__________________________________________________________________________________________________\n",
      "activation_25 (Activation)      (None, None, 10)     0           tdist_0[0][0]                    \n",
      "__________________________________________________________________________________________________\n",
      "tdist_1 (TimeDistributed)       (None, None, 10)     110         activation_25[0][0]              \n",
      "__________________________________________________________________________________________________\n",
      "activation_26 (Activation)      (None, None, 10)     0           tdist_1[0][0]                    \n",
      "__________________________________________________________________________________________________\n",
      "tdist_2 (TimeDistributed)       (None, None, 16)     176         activation_26[0][0]              \n",
      "__________________________________________________________________________________________________\n",
      "mask (Lambda)                   (None, None)         0           input[0][0]                      \n",
      "__________________________________________________________________________________________________\n",
      "activation_27 (Activation)      (None, None, 16)     0           tdist_2[0][0]                    \n",
      "__________________________________________________________________________________________________\n",
      "sum (Dot)                       (None, 16)           0           mask[0][0]                       \n",
      "                                                                 activation_27[0][0]              \n",
      "__________________________________________________________________________________________________\n",
      "dense_0 (Dense)                 (None, 40)           680         sum[0][0]                        \n",
      "__________________________________________________________________________________________________\n",
      "activation_28 (Activation)      (None, 40)           0           dense_0[0][0]                    \n",
      "__________________________________________________________________________________________________\n",
      "dense_1 (Dense)                 (None, 20)           820         activation_28[0][0]              \n",
      "__________________________________________________________________________________________________\n",
      "activation_29 (Activation)      (None, 20)           0           dense_1[0][0]                    \n",
      "__________________________________________________________________________________________________\n",
      "output (Dense)                  (None, 2)            42          activation_29[0][0]              \n",
      "__________________________________________________________________________________________________\n",
      "activation_30 (Activation)      (None, 2)            0           output[0][0]                     \n",
      "==================================================================================================\n",
      "Total params: 1,878\n",
      "Trainable params: 1,878\n",
      "Non-trainable params: 0\n",
      "__________________________________________________________________________________________________\n",
      "Train on 70000 samples, validate on 20000 samples\n",
      "Epoch 1/5\n",
      "70000/70000 [==============================] - 46s 657us/step - loss: 0.9152 - acc: 0.7041 - val_loss: 0.4398 - val_acc: 0.7842\n",
      "Epoch 2/5\n",
      "70000/70000 [==============================] - 45s 637us/step - loss: 0.3731 - acc: 0.8345 - val_loss: 0.2541 - val_acc: 0.8965\n",
      "Epoch 3/5\n",
      "70000/70000 [==============================] - 45s 640us/step - loss: 0.2139 - acc: 0.9179 - val_loss: 0.1585 - val_acc: 0.9394\n",
      "Epoch 4/5\n",
      "70000/70000 [==============================] - 45s 638us/step - loss: 0.1232 - acc: 0.9568 - val_loss: 0.1119 - val_acc: 0.9621\n",
      "Epoch 5/5\n",
      "70000/70000 [==============================] - 45s 636us/step - loss: 0.0860 - acc: 0.9727 - val_loss: 0.0775 - val_acc: 0.9732\n"
     ]
    }
   ],
   "source": [
    "X_train, X_val, X_test, Y_train,Y_val,Y_test = prep_and_shufflesplit_data(0.0005)\n",
    "all_results.append(train_models(X_train, X_val, X_test, Y_train,Y_val,Y_test))"
   ]
  },
  {
   "cell_type": "code",
   "execution_count": 142,
   "metadata": {
    "ExecuteTime": {
     "end_time": "2020-10-23T10:42:52.974718Z",
     "start_time": "2020-10-23T10:38:32.253232Z"
    }
   },
   "outputs": [
    {
     "name": "stdout",
     "output_type": "stream",
     "text": [
      "__________________________________________________________________________________________________\n",
      "Layer (type)                    Output Shape         Param #     Connected to                     \n",
      "==================================================================================================\n",
      "input (InputLayer)              (None, None, 4)      0                                            \n",
      "__________________________________________________________________________________________________\n",
      "tdist_0 (TimeDistributed)       (None, None, 10)     50          input[0][0]                      \n",
      "__________________________________________________________________________________________________\n",
      "activation_31 (Activation)      (None, None, 10)     0           tdist_0[0][0]                    \n",
      "__________________________________________________________________________________________________\n",
      "tdist_1 (TimeDistributed)       (None, None, 10)     110         activation_31[0][0]              \n",
      "__________________________________________________________________________________________________\n",
      "activation_32 (Activation)      (None, None, 10)     0           tdist_1[0][0]                    \n",
      "__________________________________________________________________________________________________\n",
      "tdist_2 (TimeDistributed)       (None, None, 16)     176         activation_32[0][0]              \n",
      "__________________________________________________________________________________________________\n",
      "mask (Lambda)                   (None, None)         0           input[0][0]                      \n",
      "__________________________________________________________________________________________________\n",
      "activation_33 (Activation)      (None, None, 16)     0           tdist_2[0][0]                    \n",
      "__________________________________________________________________________________________________\n",
      "sum (Dot)                       (None, 16)           0           mask[0][0]                       \n",
      "                                                                 activation_33[0][0]              \n",
      "__________________________________________________________________________________________________\n",
      "dense_0 (Dense)                 (None, 40)           680         sum[0][0]                        \n",
      "__________________________________________________________________________________________________\n",
      "activation_34 (Activation)      (None, 40)           0           dense_0[0][0]                    \n",
      "__________________________________________________________________________________________________\n",
      "dense_1 (Dense)                 (None, 20)           820         activation_34[0][0]              \n",
      "__________________________________________________________________________________________________\n",
      "activation_35 (Activation)      (None, 20)           0           dense_1[0][0]                    \n",
      "__________________________________________________________________________________________________\n",
      "output (Dense)                  (None, 2)            42          activation_35[0][0]              \n",
      "__________________________________________________________________________________________________\n",
      "activation_36 (Activation)      (None, 2)            0           output[0][0]                     \n",
      "==================================================================================================\n",
      "Total params: 1,878\n",
      "Trainable params: 1,878\n",
      "Non-trainable params: 0\n",
      "__________________________________________________________________________________________________\n",
      "Train on 70001 samples, validate on 20000 samples\n",
      "Epoch 1/5\n",
      "70001/70001 [==============================] - 46s 664us/step - loss: 0.5931 - acc: 0.7202 - val_loss: 0.3680 - val_acc: 0.8195\n",
      "Epoch 2/5\n",
      "70001/70001 [==============================] - 45s 640us/step - loss: 0.3042 - acc: 0.8606 - val_loss: 0.1878 - val_acc: 0.9244\n",
      "Epoch 3/5\n",
      "70001/70001 [==============================] - 45s 646us/step - loss: 0.1791 - acc: 0.9282 - val_loss: 0.2072 - val_acc: 0.9319\n",
      "Epoch 4/5\n",
      "70001/70001 [==============================] - 45s 646us/step - loss: 0.1251 - acc: 0.9557 - val_loss: 0.1589 - val_acc: 0.9443\n",
      "Epoch 5/5\n",
      "70001/70001 [==============================] - 45s 647us/step - loss: 0.0910 - acc: 0.9702 - val_loss: 0.3063 - val_acc: 0.8815\n"
     ]
    }
   ],
   "source": [
    "X_train, X_val, X_test, Y_train,Y_val,Y_test = prep_and_shufflesplit_data(0.00005)\n",
    "all_results.append(train_models(X_train, X_val, X_test, Y_train,Y_val,Y_test))"
   ]
  },
  {
   "cell_type": "code",
   "execution_count": 143,
   "metadata": {
    "ExecuteTime": {
     "end_time": "2020-10-23T10:47:17.389484Z",
     "start_time": "2020-10-23T10:42:52.977305Z"
    }
   },
   "outputs": [
    {
     "name": "stdout",
     "output_type": "stream",
     "text": [
      "__________________________________________________________________________________________________\n",
      "Layer (type)                    Output Shape         Param #     Connected to                     \n",
      "==================================================================================================\n",
      "input (InputLayer)              (None, None, 4)      0                                            \n",
      "__________________________________________________________________________________________________\n",
      "tdist_0 (TimeDistributed)       (None, None, 10)     50          input[0][0]                      \n",
      "__________________________________________________________________________________________________\n",
      "activation_37 (Activation)      (None, None, 10)     0           tdist_0[0][0]                    \n",
      "__________________________________________________________________________________________________\n",
      "tdist_1 (TimeDistributed)       (None, None, 10)     110         activation_37[0][0]              \n",
      "__________________________________________________________________________________________________\n",
      "activation_38 (Activation)      (None, None, 10)     0           tdist_1[0][0]                    \n",
      "__________________________________________________________________________________________________\n",
      "tdist_2 (TimeDistributed)       (None, None, 16)     176         activation_38[0][0]              \n",
      "__________________________________________________________________________________________________\n",
      "mask (Lambda)                   (None, None)         0           input[0][0]                      \n",
      "__________________________________________________________________________________________________\n",
      "activation_39 (Activation)      (None, None, 16)     0           tdist_2[0][0]                    \n",
      "__________________________________________________________________________________________________\n",
      "sum (Dot)                       (None, 16)           0           mask[0][0]                       \n",
      "                                                                 activation_39[0][0]              \n",
      "__________________________________________________________________________________________________\n",
      "dense_0 (Dense)                 (None, 40)           680         sum[0][0]                        \n",
      "__________________________________________________________________________________________________\n",
      "activation_40 (Activation)      (None, 40)           0           dense_0[0][0]                    \n",
      "__________________________________________________________________________________________________\n",
      "dense_1 (Dense)                 (None, 20)           820         activation_40[0][0]              \n",
      "__________________________________________________________________________________________________\n",
      "activation_41 (Activation)      (None, 20)           0           dense_1[0][0]                    \n",
      "__________________________________________________________________________________________________\n",
      "output (Dense)                  (None, 2)            42          activation_41[0][0]              \n",
      "__________________________________________________________________________________________________\n",
      "activation_42 (Activation)      (None, 2)            0           output[0][0]                     \n",
      "==================================================================================================\n",
      "Total params: 1,878\n",
      "Trainable params: 1,878\n",
      "Non-trainable params: 0\n",
      "__________________________________________________________________________________________________\n",
      "Train on 70000 samples, validate on 20000 samples\n",
      "Epoch 1/5\n",
      "70000/70000 [==============================] - 48s 682us/step - loss: 8.0590 - acc: 0.5000 - val_loss: 8.0590 - val_acc: 0.5000\n",
      "Epoch 2/5\n",
      "70000/70000 [==============================] - 45s 650us/step - loss: 8.0590 - acc: 0.5000 - val_loss: 8.0590 - val_acc: 0.5000\n",
      "Epoch 3/5\n",
      "70000/70000 [==============================] - 46s 654us/step - loss: 8.0590 - acc: 0.5000 - val_loss: 8.0590 - val_acc: 0.5000\n",
      "Epoch 4/5\n",
      "70000/70000 [==============================] - 46s 656us/step - loss: 8.0590 - acc: 0.5000 - val_loss: 8.0590 - val_acc: 0.5000\n",
      "Epoch 5/5\n",
      "70000/70000 [==============================] - 46s 653us/step - loss: 8.0590 - acc: 0.5000 - val_loss: 8.0590 - val_acc: 0.5000\n"
     ]
    }
   ],
   "source": [
    "X_train, X_val, X_test, Y_train,Y_val,Y_test = prep_and_shufflesplit_data(0)\n",
    "all_results.append(train_models(X_train, X_val, X_test, Y_train,Y_val,Y_test))"
   ]
  },
  {
   "cell_type": "code",
   "execution_count": null,
   "metadata": {},
   "outputs": [],
   "source": [
    "X_train, X_val, X_test, Y_train,Y_val,Y_test = prep_and_shufflesplit_data(0)\n",
    "all_results.append(train_models(X_train, X_val, X_test, Y_train,Y_val,Y_test))"
   ]
  },
  {
   "cell_type": "code",
   "execution_count": 145,
   "metadata": {
    "ExecuteTime": {
     "end_time": "2020-10-23T10:50:21.832547Z",
     "start_time": "2020-10-23T10:50:21.827873Z"
    }
   },
   "outputs": [
    {
     "data": {
      "text/plain": [
       "5e-05"
      ]
     },
     "execution_count": 145,
     "metadata": {},
     "output_type": "execute_result"
    }
   ],
   "source": [
    "0.00005"
   ]
  },
  {
   "cell_type": "code",
   "execution_count": 150,
   "metadata": {
    "ExecuteTime": {
     "end_time": "2020-10-24T23:14:24.372901Z",
     "start_time": "2020-10-24T23:14:24.367051Z"
    }
   },
   "outputs": [],
   "source": [
    "test_arr = np.array([[1,0],[1,0],[0,1]])"
   ]
  },
  {
   "cell_type": "code",
   "execution_count": 151,
   "metadata": {
    "ExecuteTime": {
     "end_time": "2020-10-24T23:14:35.104139Z",
     "start_time": "2020-10-24T23:14:35.086321Z"
    }
   },
   "outputs": [
    {
     "data": {
      "text/plain": [
       "(array([0, 1]), array([3, 3]))"
      ]
     },
     "execution_count": 151,
     "metadata": {},
     "output_type": "execute_result"
    }
   ],
   "source": [
    "np.unique(test_arr,return_counts = True)"
   ]
  },
  {
   "cell_type": "code",
   "execution_count": 144,
   "metadata": {
    "ExecuteTime": {
     "end_time": "2020-10-23T10:50:07.592231Z",
     "start_time": "2020-10-23T10:50:07.587422Z"
    }
   },
   "outputs": [
    {
     "data": {
      "text/plain": [
       "2e-05"
      ]
     },
     "execution_count": 144,
     "metadata": {},
     "output_type": "execute_result"
    }
   ],
   "source": [
    "1/50000"
   ]
  },
  {
   "cell_type": "code",
   "execution_count": 75,
   "metadata": {
    "ExecuteTime": {
     "end_time": "2020-10-19T22:56:15.960447Z",
     "start_time": "2020-10-19T22:56:15.716921Z"
    },
    "scrolled": false
   },
   "outputs": [
    {
     "name": "stdout",
     "output_type": "stream",
     "text": [
      "__________________________________________________________________________________________________\n",
      "Layer (type)                    Output Shape         Param #     Connected to                     \n",
      "==================================================================================================\n",
      "input (InputLayer)              (None, None, 4)      0                                            \n",
      "__________________________________________________________________________________________________\n",
      "tdist_0 (TimeDistributed)       (None, None, 10)     50          input[0][0]                      \n",
      "__________________________________________________________________________________________________\n",
      "activation_8 (Activation)       (None, None, 10)     0           tdist_0[0][0]                    \n",
      "__________________________________________________________________________________________________\n",
      "tdist_1 (TimeDistributed)       (None, None, 10)     110         activation_8[0][0]               \n",
      "__________________________________________________________________________________________________\n",
      "activation_9 (Activation)       (None, None, 10)     0           tdist_1[0][0]                    \n",
      "__________________________________________________________________________________________________\n",
      "tdist_2 (TimeDistributed)       (None, None, 16)     176         activation_9[0][0]               \n",
      "__________________________________________________________________________________________________\n",
      "mask (Lambda)                   (None, None)         0           input[0][0]                      \n",
      "__________________________________________________________________________________________________\n",
      "activation_10 (Activation)      (None, None, 16)     0           tdist_2[0][0]                    \n",
      "__________________________________________________________________________________________________\n",
      "sum (Dot)                       (None, 16)           0           mask[0][0]                       \n",
      "                                                                 activation_10[0][0]              \n",
      "__________________________________________________________________________________________________\n",
      "dense_0 (Dense)                 (None, 40)           680         sum[0][0]                        \n",
      "__________________________________________________________________________________________________\n",
      "activation_11 (Activation)      (None, 40)           0           dense_0[0][0]                    \n",
      "__________________________________________________________________________________________________\n",
      "dense_1 (Dense)                 (None, 20)           820         activation_11[0][0]              \n",
      "__________________________________________________________________________________________________\n",
      "activation_12 (Activation)      (None, 20)           0           dense_1[0][0]                    \n",
      "__________________________________________________________________________________________________\n",
      "output (Dense)                  (None, 2)            42          activation_12[0][0]              \n",
      "__________________________________________________________________________________________________\n",
      "activation_13 (Activation)      (None, 2)            0           output[0][0]                     \n",
      "==================================================================================================\n",
      "Total params: 1,878\n",
      "Trainable params: 1,878\n",
      "Non-trainable params: 0\n",
      "__________________________________________________________________________________________________\n"
     ]
    }
   ],
   "source": [
    "# # build architecture\n",
    "# pfn = PFN(input_dim=X.shape[-1], Phi_sizes=Phi_sizes, F_sizes=F_sizes)\n"
   ]
  },
  {
   "cell_type": "markdown",
   "metadata": {},
   "source": [
    "### Training"
   ]
  },
  {
   "cell_type": "code",
   "execution_count": 124,
   "metadata": {
    "ExecuteTime": {
     "end_time": "2020-10-23T10:18:36.192822Z",
     "start_time": "2020-10-23T10:18:36.188715Z"
    }
   },
   "outputs": [],
   "source": [
    "import sklearn"
   ]
  },
  {
   "cell_type": "code",
   "execution_count": 84,
   "metadata": {
    "ExecuteTime": {
     "end_time": "2020-11-02T07:03:26.911241Z",
     "start_time": "2020-11-02T07:03:26.906104Z"
    }
   },
   "outputs": [],
   "source": [
    "Y_test = np.copy(result_5[1])\n",
    "Y_predict = np.copy(result_5[2])"
   ]
  },
  {
   "cell_type": "code",
   "execution_count": 85,
   "metadata": {
    "ExecuteTime": {
     "end_time": "2020-11-02T07:03:27.741879Z",
     "start_time": "2020-11-02T07:03:27.737051Z"
    }
   },
   "outputs": [],
   "source": [
    "median = np.median(Y_predict[:,1:])"
   ]
  },
  {
   "cell_type": "code",
   "execution_count": 86,
   "metadata": {
    "ExecuteTime": {
     "end_time": "2020-11-02T07:03:28.213263Z",
     "start_time": "2020-11-02T07:03:28.207597Z"
    }
   },
   "outputs": [
    {
     "data": {
      "text/plain": [
       "0.9989644"
      ]
     },
     "execution_count": 86,
     "metadata": {},
     "output_type": "execute_result"
    }
   ],
   "source": [
    "median"
   ]
  },
  {
   "cell_type": "code",
   "execution_count": 87,
   "metadata": {
    "ExecuteTime": {
     "end_time": "2020-11-02T07:03:37.592996Z",
     "start_time": "2020-11-02T07:03:37.586606Z"
    }
   },
   "outputs": [
    {
     "data": {
      "text/plain": [
       "array([[0., 1.],\n",
       "       [0., 1.],\n",
       "       [1., 0.],\n",
       "       ...,\n",
       "       [0., 1.],\n",
       "       [1., 0.],\n",
       "       [0., 1.]])"
      ]
     },
     "execution_count": 87,
     "metadata": {},
     "output_type": "execute_result"
    }
   ],
   "source": [
    "Y_test"
   ]
  },
  {
   "cell_type": "code",
   "execution_count": 88,
   "metadata": {
    "ExecuteTime": {
     "end_time": "2020-11-02T07:03:38.942917Z",
     "start_time": "2020-11-02T07:03:38.936423Z"
    }
   },
   "outputs": [
    {
     "data": {
      "text/plain": [
       "array([[6.8774486e-01, 3.1225520e-01],\n",
       "       [1.4887226e-04, 9.9985111e-01],\n",
       "       [4.8443042e-02, 9.5155692e-01],\n",
       "       ...,\n",
       "       [3.4017629e-13, 1.0000000e+00],\n",
       "       [5.2599201e-04, 9.9947399e-01],\n",
       "       [5.9704450e-03, 9.9402952e-01]], dtype=float32)"
      ]
     },
     "execution_count": 88,
     "metadata": {},
     "output_type": "execute_result"
    }
   ],
   "source": [
    "Y_predict"
   ]
  },
  {
   "cell_type": "code",
   "execution_count": 61,
   "metadata": {
    "ExecuteTime": {
     "end_time": "2020-11-02T06:28:55.632977Z",
     "start_time": "2020-11-02T06:28:55.628401Z"
    }
   },
   "outputs": [],
   "source": [
    "import sklearn"
   ]
  },
  {
   "cell_type": "code",
   "execution_count": 89,
   "metadata": {
    "ExecuteTime": {
     "end_time": "2020-11-02T07:03:45.179616Z",
     "start_time": "2020-11-02T07:03:45.170454Z"
    }
   },
   "outputs": [
    {
     "data": {
      "text/plain": [
       "0.3998"
      ]
     },
     "execution_count": 89,
     "metadata": {},
     "output_type": "execute_result"
    }
   ],
   "source": [
    "sklearn.metrics.accuracy_score(Y_test[:,1:], (Y_predict[:,1:]*2).astype(int),normalize=True, sample_weight=None)"
   ]
  },
  {
   "cell_type": "code",
   "execution_count": 62,
   "metadata": {
    "ExecuteTime": {
     "end_time": "2020-11-02T06:28:56.514045Z",
     "start_time": "2020-11-02T06:28:56.504180Z"
    }
   },
   "outputs": [],
   "source": [
    "roc_curve = sklearn.metrics.roc_curve(Y_test[:,1:], Y_predict[:,1:])\n",
    "\n",
    "plt.plot(roc_curve[0],roc_curve[1])\n",
    "plt.xlabel('fpr')\n",
    "plt.ylabel('tpr')\n",
    "plt.title('ROC curve')"
   ]
  },
  {
   "cell_type": "code",
   "execution_count": 31,
   "metadata": {
    "ExecuteTime": {
     "end_time": "2020-10-05T22:16:06.055971Z",
     "start_time": "2020-10-05T22:16:06.052426Z"
    }
   },
   "outputs": [],
   "source": [
    "#Later for ML: https://energyflow.network/examples/"
   ]
  }
 ],
 "metadata": {
  "kernelspec": {
   "display_name": "Python 3",
   "language": "python",
   "name": "python3"
  },
  "language_info": {
   "codemirror_mode": {
    "name": "ipython",
    "version": 3
   },
   "file_extension": ".py",
   "mimetype": "text/x-python",
   "name": "python",
   "nbconvert_exporter": "python",
   "pygments_lexer": "ipython3",
   "version": "3.6.5"
  }
 },
 "nbformat": 4,
 "nbformat_minor": 4
}

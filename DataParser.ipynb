{
 "cells": [
  {
   "cell_type": "code",
   "execution_count": 1,
   "metadata": {
    "ExecuteTime": {
     "end_time": "2020-10-05T22:14:22.987996Z",
     "start_time": "2020-10-05T22:14:22.556572Z"
    }
   },
   "outputs": [],
   "source": [
    "import numpy as np\n",
    "import matplotlib.pyplot as plt"
   ]
  },
  {
   "cell_type": "code",
   "execution_count": 2,
   "metadata": {
    "ExecuteTime": {
     "end_time": "2020-10-05T22:14:22.995214Z",
     "start_time": "2020-10-05T22:14:22.991659Z"
    }
   },
   "outputs": [],
   "source": [
    "import glob"
   ]
  },
  {
   "cell_type": "code",
   "execution_count": 3,
   "metadata": {
    "ExecuteTime": {
     "end_time": "2020-10-05T22:14:23.004915Z",
     "start_time": "2020-10-05T22:14:22.998504Z"
    }
   },
   "outputs": [],
   "source": [
    "file_list = glob.glob(\"/data0/users/bpnachman/anomaly/bigger/processed_lhe*.txt\")"
   ]
  },
  {
   "cell_type": "code",
   "execution_count": 4,
   "metadata": {
    "ExecuteTime": {
     "end_time": "2020-10-05T22:14:23.015000Z",
     "start_time": "2020-10-05T22:14:23.007126Z"
    }
   },
   "outputs": [
    {
     "data": {
      "text/plain": [
       "['/data0/users/bpnachman/anomaly/bigger/processed_lhe005_background.txt',\n",
       " '/data0/users/bpnachman/anomaly/bigger/processed_lhe004_background.txt',\n",
       " '/data0/users/bpnachman/anomaly/bigger/processed_lhe001_background.txt',\n",
       " '/data0/users/bpnachman/anomaly/bigger/processed_lhe006_background.txt',\n",
       " '/data0/users/bpnachman/anomaly/bigger/processed_lhe007_background.txt',\n",
       " '/data0/users/bpnachman/anomaly/bigger/processed_lhe002_background.txt',\n",
       " '/data0/users/bpnachman/anomaly/bigger/processed_lhe008_background.txt',\n",
       " '/data0/users/bpnachman/anomaly/bigger/processed_lhe003_background.txt']"
      ]
     },
     "execution_count": 4,
     "metadata": {},
     "output_type": "execute_result"
    }
   ],
   "source": [
    "file_list"
   ]
  },
  {
   "cell_type": "code",
   "execution_count": 5,
   "metadata": {
    "ExecuteTime": {
     "end_time": "2020-10-05T22:14:23.042141Z",
     "start_time": "2020-10-05T22:14:23.016933Z"
    }
   },
   "outputs": [],
   "source": [
    "#\"Background only\" i.e. no anomalies in this dataset\n",
    "myfile = open(\"/data0/users/bpnachman/anomaly/processed_lhe001_background.txt\")\n",
    "\n",
    "#Want to make new particles with a given mass.  E = mc^2\n",
    "#Instead electron + electron -> new particle -> stuff we sift through\n",
    "#electron + electron -> photon + new particle -> stuff\n",
    "\n",
    "\n",
    "\n",
    "def parse_file(file_object):\n",
    "    all_records = []\n",
    "    mymeasuredenergy = []\n",
    "\n",
    "    count = 0\n",
    "    for line in file_object:\n",
    "\n",
    "        metadata = line.split(\"J\")[0]\n",
    "        eventinfo = line.split(\"J\")[1]\n",
    "        jets = eventinfo.split(\"P\")[0]\n",
    "        particles = eventinfo.split(\"P\")[1]\n",
    "\n",
    "        this_record = {}\n",
    "        this_record['label'] = count\n",
    "        count += 1\n",
    "        eventweight = float(metadata.split()[0])\n",
    "        this_record['eventweight'] = eventweight #this is the event \"weight\".  Let's ignoreit for now (we will need it later).\n",
    "        njets = int(len(jets.split())/11) #number of \"jets\"\n",
    "\n",
    "        nparticles  = int(len(particles.split())/5) #number of particles\n",
    "\n",
    "\n",
    "\n",
    "\n",
    "        #True collision quantities\n",
    "        this_record['truthcenterofmassenergy'] = float(metadata.split()[1]) #true total energy - should be delta function at 1000 GeV\n",
    "        this_record['truthsqrtshat'] = float(metadata.split()[2]) #energy available for making new particles (electron energy - photon)\n",
    "        this_record['truthphotonpT'] = float(metadata.split()[3]) #photon momentum |p| in units of GeV\n",
    "        this_record['truthphotoneta'] = float(metadata.split()[4]) #photon pseudorapidity (~polar angle - see e.g. https://en.wikipedia.org/wiki/Pseudorapidity)\n",
    "        this_record['truthphotonphi'] = float(metadata.split()[5]) #photon azimuthal angle\n",
    "\n",
    "        #Measured collision quantities\n",
    "        measuredcenterofmassenergy  = float(metadata.split()[6]) #true measured energy - should be noisy version of truthcenterofmassenergy\n",
    "        this_record['measuredcenterofmassenergy'] = measuredcenterofmassenergy\n",
    "        this_record['measuredsqrtshat'] = float(metadata.split()[7]) #energy available for making new particles (electron energy - photon)\n",
    "        this_record['measuredphotonpT'] = float(metadata.split()[8]) #photon momentum |p| in units of GeV\n",
    "        this_record['measuredphotoneta'] = float(metadata.split()[9]) #photon pseudorapidity (~polar angle - see e.g. https://en.wikipedia.org/wiki/Pseudorapidity)\n",
    "        this_record['measuredphotonphi'] = float(metadata.split()[10]) #photon azimuthal angle\n",
    "        this_record['metadata'] = metadata.split()\n",
    "\n",
    "        mymeasuredenergy+=[measuredcenterofmassenergy]\n",
    "\n",
    "        this_record['njets'] = njets\n",
    "        jets = jets.split()\n",
    "        jets_vec = []\n",
    "        for i in range(njets):\n",
    "            jet = np.zeros(11)\n",
    "            #order:\n",
    "            # - index\n",
    "            # - magnitude of momentum |p| (units of GeV)\n",
    "            # - pseudorapidity (~polar angle - see e.g. https://en.wikipedia.org/wiki/Pseudorapidity)\n",
    "            # - azimuthal angle\n",
    "            # - mass (units of GeV/c^2)\n",
    "            # - bit encoding of the jet \"flavor\" (not totally sure what the bit means, but will look it up)\n",
    "            # - 0th angular moment of jet radiation\n",
    "            # - 1th angular moment of jet radiation\n",
    "            # - 2th angular moment of jet radiation\n",
    "            # - 3th angular moment of jet radiation\n",
    "            # - 4th angular moment of jet radiation\n",
    "            jet = jets[i*11:i*11+11]\n",
    "            jets_vec+=[jet]\n",
    "\n",
    "        this_record['jets']=jets_vec\n",
    "\n",
    "        this_record['nparticles'] = nparticles\n",
    "\n",
    "        particles = particles.split()\n",
    "        particles_vec = []\n",
    "        for i in range(nparticles):\n",
    "            particle = np.zeros(5)\n",
    "            #order:\n",
    "            # - index\n",
    "            # - magnitude of momentum |p| (units of GeV)\n",
    "            # - pseudorapidity (~polar angle - see e.g. https://en.wikipedia.org/wiki/Pseudorapidity)\n",
    "            # - azimuthal angle\n",
    "            # - particle identifier (https://pdg.lbl.gov/2006/reviews/pdf-files/montecarlo-web.pdf)\n",
    "            particle = particles[i*5:i*5+5]\n",
    "            particles_vec+=[particle]\n",
    "            #print(particles[i*5],particles[i*5+1],particles[i*5+2],particles[i*5+3],particles[i*5+4])\n",
    "        this_record['particles'] = particles_vec\n",
    "\n",
    "        all_records.append(this_record)\n",
    "    return all_records"
   ]
  },
  {
   "cell_type": "code",
   "execution_count": 6,
   "metadata": {
    "ExecuteTime": {
     "end_time": "2020-10-05T22:14:39.658871Z",
     "start_time": "2020-10-05T22:14:23.043740Z"
    }
   },
   "outputs": [],
   "source": [
    "all_records = []\n",
    "for filename in file_list:\n",
    "    file = open(filename)\n",
    "    all_records += parse_file(file)"
   ]
  },
  {
   "cell_type": "code",
   "execution_count": 7,
   "metadata": {
    "ExecuteTime": {
     "end_time": "2020-10-05T22:14:39.666935Z",
     "start_time": "2020-10-05T22:14:39.661242Z"
    }
   },
   "outputs": [
    {
     "data": {
      "text/plain": [
       "79999"
      ]
     },
     "execution_count": 7,
     "metadata": {},
     "output_type": "execute_result"
    }
   ],
   "source": [
    "len(all_records)"
   ]
  },
  {
   "cell_type": "code",
   "execution_count": 8,
   "metadata": {
    "ExecuteTime": {
     "end_time": "2020-10-05T22:14:40.440791Z",
     "start_time": "2020-10-05T22:14:39.671458Z"
    }
   },
   "outputs": [
    {
     "data": {
      "text/plain": [
       "Text(0, 0.5, 'Number of Events / bin')"
      ]
     },
     "execution_count": 8,
     "metadata": {},
     "output_type": "execute_result"
    },
    {
     "data": {
      "image/png": "[encoded data removed]",
      "text/plain": [
       "<Figure size 432x288 with 1 Axes>"
      ]
     },
     "metadata": {
      "needs_background": "light"
     },
     "output_type": "display_data"
    }
   ],
   "source": [
    "this_arr = np.array([i['truthsqrtshat'] for i in all_records])\n",
    "plt.hist(this_arr, bins=np.logspace(1.5,3,30))\n",
    "plt.xscale('log')\n",
    "plt.xlabel(\"truthsqrtshat\")\n",
    "plt.ylabel(\"Number of Events / bin\")\n"
   ]
  },
  {
   "cell_type": "code",
   "execution_count": 9,
   "metadata": {
    "ExecuteTime": {
     "end_time": "2020-10-05T22:14:40.447597Z",
     "start_time": "2020-10-05T22:14:40.442888Z"
    }
   },
   "outputs": [
    {
     "data": {
      "text/plain": [
       "2262"
      ]
     },
     "execution_count": 9,
     "metadata": {},
     "output_type": "execute_result"
    }
   ],
   "source": [
    "len(this_arr[(this_arr>300)*(this_arr<400)])\n"
   ]
  },
  {
   "cell_type": "markdown",
   "metadata": {},
   "source": [
    "## EFN experimenting"
   ]
  },
  {
   "cell_type": "markdown",
   "metadata": {},
   "source": [
    "### imports and settings"
   ]
  },
  {
   "cell_type": "code",
   "execution_count": 10,
   "metadata": {
    "ExecuteTime": {
     "end_time": "2020-10-05T22:14:42.301289Z",
     "start_time": "2020-10-05T22:14:40.449039Z"
    }
   },
   "outputs": [
    {
     "name": "stderr",
     "output_type": "stream",
     "text": [
      "Using TensorFlow backend.\n",
      "/opt/anaconda3/envs/shared_env/lib/python3.6/site-packages/tensorflow/python/framework/dtypes.py:523: FutureWarning: Passing (type, 1) or '1type' as a synonym of type is deprecated; in a future version of numpy, it will be understood as (type, (1,)) / '(1,)type'.\n",
      "  _np_qint8 = np.dtype([(\"qint8\", np.int8, 1)])\n",
      "/opt/anaconda3/envs/shared_env/lib/python3.6/site-packages/tensorflow/python/framework/dtypes.py:524: FutureWarning: Passing (type, 1) or '1type' as a synonym of type is deprecated; in a future version of numpy, it will be understood as (type, (1,)) / '(1,)type'.\n",
      "  _np_quint8 = np.dtype([(\"quint8\", np.uint8, 1)])\n",
      "/opt/anaconda3/envs/shared_env/lib/python3.6/site-packages/tensorflow/python/framework/dtypes.py:525: FutureWarning: Passing (type, 1) or '1type' as a synonym of type is deprecated; in a future version of numpy, it will be understood as (type, (1,)) / '(1,)type'.\n",
      "  _np_qint16 = np.dtype([(\"qint16\", np.int16, 1)])\n",
      "/opt/anaconda3/envs/shared_env/lib/python3.6/site-packages/tensorflow/python/framework/dtypes.py:526: FutureWarning: Passing (type, 1) or '1type' as a synonym of type is deprecated; in a future version of numpy, it will be understood as (type, (1,)) / '(1,)type'.\n",
      "  _np_quint16 = np.dtype([(\"quint16\", np.uint16, 1)])\n",
      "/opt/anaconda3/envs/shared_env/lib/python3.6/site-packages/tensorflow/python/framework/dtypes.py:527: FutureWarning: Passing (type, 1) or '1type' as a synonym of type is deprecated; in a future version of numpy, it will be understood as (type, (1,)) / '(1,)type'.\n",
      "  _np_qint32 = np.dtype([(\"qint32\", np.int32, 1)])\n",
      "/opt/anaconda3/envs/shared_env/lib/python3.6/site-packages/tensorflow/python/framework/dtypes.py:532: FutureWarning: Passing (type, 1) or '1type' as a synonym of type is deprecated; in a future version of numpy, it will be understood as (type, (1,)) / '(1,)type'.\n",
      "  np_resource = np.dtype([(\"resource\", np.ubyte, 1)])\n"
     ]
    }
   ],
   "source": [
    "import energyflow as ef\n",
    "from energyflow.archs import PFN\n",
    "from energyflow.datasets import qg_jets\n",
    "from energyflow.utils import data_split, remap_pids, to_categorical\n",
    "from sklearn.metrics import roc_auc_score, roc_curve\n"
   ]
  },
  {
   "cell_type": "code",
   "execution_count": null,
   "metadata": {
    "ExecuteTime": {
     "end_time": "2020-10-05T21:28:46.206312Z",
     "start_time": "2020-10-05T21:28:46.200487Z"
    }
   },
   "outputs": [],
   "source": []
  },
  {
   "cell_type": "markdown",
   "metadata": {},
   "source": [
    "### Save particles only as X"
   ]
  },
  {
   "cell_type": "markdown",
   "metadata": {},
   "source": [
    "Save all particles in 3d array. dim 0 = datapoints; dim 1 = particles; dim 2 = particle features.\n",
    "\n",
    "Particle features have original index 0 omitted. new index 0, 1, 2 are numerical. index 3 is PID"
   ]
  },
  {
   "cell_type": "code",
   "execution_count": 11,
   "metadata": {
    "ExecuteTime": {
     "end_time": "2020-10-05T22:14:42.335342Z",
     "start_time": "2020-10-05T22:14:42.304248Z"
    }
   },
   "outputs": [],
   "source": [
    "max_nparticles = max([i['nparticles'] for i in all_records])"
   ]
  },
  {
   "cell_type": "code",
   "execution_count": 12,
   "metadata": {
    "ExecuteTime": {
     "end_time": "2020-10-05T22:15:08.615355Z",
     "start_time": "2020-10-05T22:14:42.337656Z"
    }
   },
   "outputs": [],
   "source": [
    "padded_part_arrays =[]\n",
    "for record in all_records:\n",
    "    # convert to np array\n",
    "    these_particles = np.array(record['particles']).astype('float')\n",
    "    # omit index 0\n",
    "    these_particles = these_particles[:,1:]\n",
    "    # determine how many zero values to pad\n",
    "    pad_length = max_nparticles - these_particles.shape[0]\n",
    "    #pad\n",
    "    padded_particles = np.pad(these_particles, ((0,pad_length),(0,0)))\n",
    "    # check padding\n",
    "    assert padded_particles.shape == (max_nparticles, 4)\n",
    "    # add to list\n",
    "    padded_part_arrays.append(padded_particles)\n",
    "    \n",
    "all_particle_array = np.array(padded_part_arrays)\n",
    "X = all_particle_array"
   ]
  },
  {
   "cell_type": "code",
   "execution_count": 13,
   "metadata": {
    "ExecuteTime": {
     "end_time": "2020-10-05T22:15:08.620620Z",
     "start_time": "2020-10-05T22:15:08.617143Z"
    }
   },
   "outputs": [
    {
     "data": {
      "text/plain": [
       "(79999, 260, 4)"
      ]
     },
     "execution_count": 13,
     "metadata": {},
     "output_type": "execute_result"
    }
   ],
   "source": [
    "X.shape"
   ]
  },
  {
   "cell_type": "markdown",
   "metadata": {},
   "source": [
    "### Save jets as Z"
   ]
  },
  {
   "cell_type": "code",
   "execution_count": 58,
   "metadata": {
    "ExecuteTime": {
     "end_time": "2020-10-05T23:31:04.279952Z",
     "start_time": "2020-10-05T23:31:04.274824Z"
    }
   },
   "outputs": [
    {
     "data": {
      "text/plain": [
       "[['0',\n",
       "  '189.98',\n",
       "  '-1.62299',\n",
       "  '1.02308',\n",
       "  '89.4432',\n",
       "  '0',\n",
       "  '0.429496',\n",
       "  '0.0397034',\n",
       "  '0.0308161',\n",
       "  '0.0261881',\n",
       "  '0.0196577']]"
      ]
     },
     "execution_count": 58,
     "metadata": {},
     "output_type": "execute_result"
    }
   ],
   "source": [
    "all_records[0]['jets']"
   ]
  },
  {
   "cell_type": "code",
   "execution_count": 55,
   "metadata": {
    "ExecuteTime": {
     "end_time": "2020-10-05T23:29:59.152338Z",
     "start_time": "2020-10-05T23:29:59.122995Z"
    }
   },
   "outputs": [],
   "source": [
    "max_njets = max([i['njets'] for i in all_records])"
   ]
  },
  {
   "cell_type": "code",
   "execution_count": 71,
   "metadata": {
    "ExecuteTime": {
     "end_time": "2020-10-05T23:37:22.063108Z",
     "start_time": "2020-10-05T23:37:12.111218Z"
    }
   },
   "outputs": [],
   "source": [
    "padded_jet_arrays =[]\n",
    "for record in all_records:\n",
    "    # convert to np array\n",
    "    these_jets = np.array(record['jets']).astype('float')\n",
    "    # omit index 0\n",
    "    if len(these_jets) == 0:\n",
    "        these_jets = np.zeros(11).reshape([1,11])\n",
    "    these_jets = these_jets[:,1:]\n",
    "        \n",
    "    # determine how many zero values to pad\n",
    "    pad_length = max_njets - these_jets.shape[0]\n",
    "    #pad\n",
    "    padded_jets = np.pad(these_jets, ((0,pad_length),(0,0)))\n",
    "    # check padding\n",
    "    assert padded_jets.shape == (max_njets, 10)\n",
    "    # add to list\n",
    "    padded_jet_arrays.append(padded_jets)\n",
    "    \n",
    "all_jet_array = np.array(padded_jet_arrays)\n",
    "Z = all_jet_array"
   ]
  },
  {
   "cell_type": "code",
   "execution_count": 72,
   "metadata": {
    "ExecuteTime": {
     "end_time": "2020-10-05T23:37:26.282084Z",
     "start_time": "2020-10-05T23:37:26.276248Z"
    }
   },
   "outputs": [
    {
     "data": {
      "text/plain": [
       "(79999, 8, 10)"
      ]
     },
     "execution_count": 72,
     "metadata": {},
     "output_type": "execute_result"
    }
   ],
   "source": [
    "Z.shape"
   ]
  },
  {
   "cell_type": "markdown",
   "metadata": {},
   "source": [
    "### Save measured truthsqrtshat as y"
   ]
  },
  {
   "cell_type": "code",
   "execution_count": 14,
   "metadata": {
    "ExecuteTime": {
     "end_time": "2020-10-05T22:15:08.668673Z",
     "start_time": "2020-10-05T22:15:08.622069Z"
    }
   },
   "outputs": [],
   "source": [
    "y = np.array([i['truthsqrtshat'] for i in all_records])"
   ]
  },
  {
   "cell_type": "code",
   "execution_count": 15,
   "metadata": {
    "ExecuteTime": {
     "end_time": "2020-10-05T22:15:08.690099Z",
     "start_time": "2020-10-05T22:15:08.671553Z"
    }
   },
   "outputs": [
    {
     "data": {
      "text/plain": [
       "(79999,)"
      ]
     },
     "execution_count": 15,
     "metadata": {},
     "output_type": "execute_result"
    }
   ],
   "source": [
    "y.shape"
   ]
  },
  {
   "cell_type": "markdown",
   "metadata": {},
   "source": [
    "### Identify signal & side band"
   ]
  },
  {
   "cell_type": "code",
   "execution_count": 32,
   "metadata": {
    "ExecuteTime": {
     "end_time": "2020-10-05T22:21:10.658806Z",
     "start_time": "2020-10-05T22:21:10.653019Z"
    }
   },
   "outputs": [],
   "source": [
    "side_band_left = 180\n",
    "side_band_right = 470\n",
    "signal_left = 250\n",
    "signal_right = 400\n",
    "def binary_side_band(y_thing):\n",
    "    if y_thing >= signal_left and y_thing < signal_right:\n",
    "        return 1\n",
    "    elif y_thing >= side_band_left and y_thing < side_band_right:\n",
    "        return 0\n",
    "    else:\n",
    "        return -1\n"
   ]
  },
  {
   "cell_type": "code",
   "execution_count": 33,
   "metadata": {
    "ExecuteTime": {
     "end_time": "2020-10-05T22:21:13.881000Z",
     "start_time": "2020-10-05T22:21:13.823068Z"
    }
   },
   "outputs": [],
   "source": [
    "y_binary = np.vectorize(binary_side_band)(y)"
   ]
  },
  {
   "cell_type": "code",
   "execution_count": 34,
   "metadata": {
    "ExecuteTime": {
     "end_time": "2020-10-05T22:21:16.592376Z",
     "start_time": "2020-10-05T22:21:16.583666Z"
    }
   },
   "outputs": [
    {
     "data": {
      "text/plain": [
       "(array([-1,  0,  1]), array([72429,  3899,  3671]))"
      ]
     },
     "execution_count": 34,
     "metadata": {},
     "output_type": "execute_result"
    }
   ],
   "source": [
    "np.unique(y_binary,return_counts = True)"
   ]
  },
  {
   "cell_type": "code",
   "execution_count": 35,
   "metadata": {
    "ExecuteTime": {
     "end_time": "2020-10-05T22:21:19.132568Z",
     "start_time": "2020-10-05T22:21:19.128385Z"
    }
   },
   "outputs": [],
   "source": [
    "within_bounds_indicator = y_binary >= 0"
   ]
  },
  {
   "cell_type": "code",
   "execution_count": 36,
   "metadata": {
    "ExecuteTime": {
     "end_time": "2020-10-05T22:21:25.157936Z",
     "start_time": "2020-10-05T22:21:25.146942Z"
    }
   },
   "outputs": [
    {
     "data": {
      "text/plain": [
       "(array([False,  True]), array([72429,  7570]))"
      ]
     },
     "execution_count": 36,
     "metadata": {},
     "output_type": "execute_result"
    }
   ],
   "source": [
    "np.unique(within_bounds_indicator,return_counts = True)"
   ]
  },
  {
   "cell_type": "markdown",
   "metadata": {},
   "source": [
    "### Select signal & side band data points"
   ]
  },
  {
   "cell_type": "code",
   "execution_count": 37,
   "metadata": {
    "ExecuteTime": {
     "end_time": "2020-10-05T22:21:30.342039Z",
     "start_time": "2020-10-05T22:21:30.319126Z"
    }
   },
   "outputs": [],
   "source": [
    "X_selected = X[within_bounds_indicator]\n",
    "y_selected = y_binary[within_bounds_indicator]"
   ]
  },
  {
   "cell_type": "markdown",
   "metadata": {},
   "source": [
    "### Preprocessing"
   ]
  },
  {
   "cell_type": "code",
   "execution_count": 38,
   "metadata": {
    "ExecuteTime": {
     "end_time": "2020-10-05T22:21:31.977412Z",
     "start_time": "2020-10-05T22:21:31.972834Z"
    }
   },
   "outputs": [
    {
     "data": {
      "text/plain": [
       "(7570, 260, 4)"
      ]
     },
     "execution_count": 38,
     "metadata": {},
     "output_type": "execute_result"
    }
   ],
   "source": [
    "X_selected.shape"
   ]
  },
  {
   "cell_type": "code",
   "execution_count": 39,
   "metadata": {
    "ExecuteTime": {
     "end_time": "2020-10-05T22:21:33.379839Z",
     "start_time": "2020-10-05T22:21:33.369958Z"
    }
   },
   "outputs": [
    {
     "data": {
      "text/plain": [
       "16.305074269481764"
      ]
     },
     "execution_count": 39,
     "metadata": {},
     "output_type": "execute_result"
    }
   ],
   "source": [
    "X_selected.mean()"
   ]
  },
  {
   "cell_type": "code",
   "execution_count": 40,
   "metadata": {
    "ExecuteTime": {
     "end_time": "2020-10-05T22:22:18.848811Z",
     "start_time": "2020-10-05T22:22:18.844488Z"
    }
   },
   "outputs": [],
   "source": [
    "train, val, test = 7000, 500, 70\n",
    "use_pids = True\n"
   ]
  },
  {
   "cell_type": "code",
   "execution_count": 41,
   "metadata": {
    "ExecuteTime": {
     "end_time": "2020-10-05T22:22:22.360909Z",
     "start_time": "2020-10-05T22:22:21.299157Z"
    }
   },
   "outputs": [],
   "source": [
    "# center and normalize\n",
    "X_normalized = np.copy(X_selected)\n",
    "for x in X_normalized:\n",
    "    mask = x[:,0] > 0\n",
    "    yphi_avg = np.average(x[mask,1:3], weights=x[mask,0], axis=0)\n",
    "    x[mask,1:3] -= yphi_avg\n",
    "    x[mask,0] /= x[:,0].sum()\n"
   ]
  },
  {
   "cell_type": "code",
   "execution_count": 42,
   "metadata": {
    "ExecuteTime": {
     "end_time": "2020-10-05T22:22:24.959929Z",
     "start_time": "2020-10-05T22:22:23.627952Z"
    }
   },
   "outputs": [],
   "source": [
    "# handle particle id channel\n",
    "if use_pids:\n",
    "    remap_pids(X_normalized, pid_i=3)\n",
    "else:\n",
    "    X_normalized = X_normalized[:,:,:3]"
   ]
  },
  {
   "cell_type": "code",
   "execution_count": 43,
   "metadata": {
    "ExecuteTime": {
     "end_time": "2020-10-05T22:22:26.362032Z",
     "start_time": "2020-10-05T22:22:26.358669Z"
    }
   },
   "outputs": [],
   "source": [
    "# categorize y\n",
    "Y = to_categorical(y_selected, num_classes=2)"
   ]
  },
  {
   "cell_type": "code",
   "execution_count": 44,
   "metadata": {
    "ExecuteTime": {
     "end_time": "2020-10-05T22:22:27.540474Z",
     "start_time": "2020-10-05T22:22:27.515087Z"
    },
    "scrolled": true
   },
   "outputs": [],
   "source": [
    "# do train/val/test split \n",
    "(X_train, X_val, X_test,\n",
    " Y_train, Y_val, Y_test) = data_split(X_normalized, Y, val=val, test=test)"
   ]
  },
  {
   "cell_type": "markdown",
   "metadata": {},
   "source": [
    "### Building the model"
   ]
  },
  {
   "cell_type": "code",
   "execution_count": 50,
   "metadata": {
    "ExecuteTime": {
     "end_time": "2020-10-05T22:24:38.068437Z",
     "start_time": "2020-10-05T22:24:38.063616Z"
    }
   },
   "outputs": [],
   "source": [
    "Phi_sizes, F_sizes = (10, 10, 16), (20, 20)\n",
    "num_epoch = 30\n",
    "batch_size = 10"
   ]
  },
  {
   "cell_type": "code",
   "execution_count": 53,
   "metadata": {
    "ExecuteTime": {
     "end_time": "2020-10-05T23:26:27.727381Z",
     "start_time": "2020-10-05T23:26:27.476007Z"
    },
    "scrolled": false
   },
   "outputs": [
    {
     "name": "stdout",
     "output_type": "stream",
     "text": [
      "__________________________________________________________________________________________________\n",
      "Layer (type)                    Output Shape         Param #     Connected to                     \n",
      "==================================================================================================\n",
      "input (InputLayer)              (None, None, 4)      0                                            \n",
      "__________________________________________________________________________________________________\n",
      "tdist_0 (TimeDistributed)       (None, None, 10)     50          input[0][0]                      \n",
      "__________________________________________________________________________________________________\n",
      "activation_25 (Activation)      (None, None, 10)     0           tdist_0[0][0]                    \n",
      "__________________________________________________________________________________________________\n",
      "tdist_1 (TimeDistributed)       (None, None, 10)     110         activation_25[0][0]              \n",
      "__________________________________________________________________________________________________\n",
      "activation_26 (Activation)      (None, None, 10)     0           tdist_1[0][0]                    \n",
      "__________________________________________________________________________________________________\n",
      "tdist_2 (TimeDistributed)       (None, None, 16)     176         activation_26[0][0]              \n",
      "__________________________________________________________________________________________________\n",
      "mask (Lambda)                   (None, None)         0           input[0][0]                      \n",
      "__________________________________________________________________________________________________\n",
      "activation_27 (Activation)      (None, None, 16)     0           tdist_2[0][0]                    \n",
      "__________________________________________________________________________________________________\n",
      "sum (Dot)                       (None, 16)           0           mask[0][0]                       \n",
      "                                                                 activation_27[0][0]              \n",
      "__________________________________________________________________________________________________\n",
      "dense_0 (Dense)                 (None, 20)           340         sum[0][0]                        \n",
      "__________________________________________________________________________________________________\n",
      "activation_28 (Activation)      (None, 20)           0           dense_0[0][0]                    \n",
      "__________________________________________________________________________________________________\n",
      "dense_1 (Dense)                 (None, 20)           420         activation_28[0][0]              \n",
      "__________________________________________________________________________________________________\n",
      "activation_29 (Activation)      (None, 20)           0           dense_1[0][0]                    \n",
      "__________________________________________________________________________________________________\n",
      "output (Dense)                  (None, 2)            42          activation_29[0][0]              \n",
      "__________________________________________________________________________________________________\n",
      "activation_30 (Activation)      (None, 2)            0           output[0][0]                     \n",
      "==================================================================================================\n",
      "Total params: 1,138\n",
      "Trainable params: 1,138\n",
      "Non-trainable params: 0\n",
      "__________________________________________________________________________________________________\n"
     ]
    }
   ],
   "source": [
    "# build architecture\n",
    "pfn = PFN(input_dim=X.shape[-1], Phi_sizes=Phi_sizes, F_sizes=F_sizes)\n"
   ]
  },
  {
   "cell_type": "code",
   "execution_count": 54,
   "metadata": {
    "ExecuteTime": {
     "end_time": "2020-10-05T23:26:31.808875Z",
     "start_time": "2020-10-05T23:26:31.802795Z"
    }
   },
   "outputs": [
    {
     "data": {
      "text/plain": [
       "<energyflow.archs.efn.PFN at 0x7f0ce402fc88>"
      ]
     },
     "execution_count": 54,
     "metadata": {},
     "output_type": "execute_result"
    }
   ],
   "source": [
    "pfn"
   ]
  },
  {
   "cell_type": "markdown",
   "metadata": {},
   "source": [
    "### Training"
   ]
  },
  {
   "cell_type": "code",
   "execution_count": 52,
   "metadata": {
    "ExecuteTime": {
     "end_time": "2020-10-05T22:27:07.008474Z",
     "start_time": "2020-10-05T22:24:40.819300Z"
    }
   },
   "outputs": [
    {
     "name": "stdout",
     "output_type": "stream",
     "text": [
      "Train on 7000 samples, validate on 500 samples\n",
      "Epoch 1/30\n",
      "7000/7000 [==============================] - 6s 810us/step - loss: 1.2256 - acc: 0.5031 - val_loss: 0.7747 - val_acc: 0.4780\n",
      "Epoch 2/30\n",
      "7000/7000 [==============================] - 5s 698us/step - loss: 0.7478 - acc: 0.5243 - val_loss: 0.7192 - val_acc: 0.5140\n",
      "Epoch 3/30\n",
      "7000/7000 [==============================] - 5s 689us/step - loss: 0.7232 - acc: 0.5247 - val_loss: 0.6920 - val_acc: 0.5320\n",
      "Epoch 4/30\n",
      "7000/7000 [==============================] - 5s 688us/step - loss: 0.7076 - acc: 0.5170 - val_loss: 0.7243 - val_acc: 0.5020\n",
      "Epoch 5/30\n",
      "7000/7000 [==============================] - 5s 667us/step - loss: 0.7033 - acc: 0.5173 - val_loss: 0.7263 - val_acc: 0.4880\n",
      "Epoch 6/30\n",
      "7000/7000 [==============================] - 4s 584us/step - loss: 0.6985 - acc: 0.5076 - val_loss: 0.6962 - val_acc: 0.4940\n",
      "Epoch 7/30\n",
      "7000/7000 [==============================] - 4s 586us/step - loss: 0.6965 - acc: 0.5196 - val_loss: 0.6928 - val_acc: 0.4920\n",
      "Epoch 8/30\n",
      "7000/7000 [==============================] - 4s 608us/step - loss: 0.6959 - acc: 0.5199 - val_loss: 0.6885 - val_acc: 0.5400\n",
      "Epoch 9/30\n",
      "7000/7000 [==============================] - 5s 701us/step - loss: 0.6940 - acc: 0.5154 - val_loss: 0.6914 - val_acc: 0.5240\n",
      "Epoch 10/30\n",
      "7000/7000 [==============================] - 5s 671us/step - loss: 0.6931 - acc: 0.5141 - val_loss: 0.6921 - val_acc: 0.5100\n",
      "Epoch 11/30\n",
      "7000/7000 [==============================] - 5s 707us/step - loss: 0.6914 - acc: 0.5240 - val_loss: 0.6868 - val_acc: 0.5240\n",
      "Epoch 12/30\n",
      "7000/7000 [==============================] - 5s 703us/step - loss: 0.6911 - acc: 0.5264 - val_loss: 0.6922 - val_acc: 0.5240\n",
      "Epoch 13/30\n",
      "7000/7000 [==============================] - 5s 702us/step - loss: 0.6904 - acc: 0.5251 - val_loss: 0.6976 - val_acc: 0.5180\n",
      "Epoch 14/30\n",
      "7000/7000 [==============================] - 5s 704us/step - loss: 0.6898 - acc: 0.5306 - val_loss: 0.6927 - val_acc: 0.5220\n",
      "Epoch 15/30\n",
      "7000/7000 [==============================] - 5s 703us/step - loss: 0.6892 - acc: 0.5304 - val_loss: 0.6901 - val_acc: 0.5260\n",
      "Epoch 16/30\n",
      "7000/7000 [==============================] - 5s 698us/step - loss: 0.6873 - acc: 0.5366 - val_loss: 0.6990 - val_acc: 0.5000\n",
      "Epoch 17/30\n",
      "7000/7000 [==============================] - 5s 708us/step - loss: 0.6873 - acc: 0.5380 - val_loss: 0.6881 - val_acc: 0.5140\n",
      "Epoch 18/30\n",
      "7000/7000 [==============================] - 5s 709us/step - loss: 0.6849 - acc: 0.5429 - val_loss: 0.6969 - val_acc: 0.5060\n",
      "Epoch 19/30\n",
      "7000/7000 [==============================] - 5s 705us/step - loss: 0.6855 - acc: 0.5414 - val_loss: 0.7011 - val_acc: 0.5020\n",
      "Epoch 20/30\n",
      "7000/7000 [==============================] - 5s 703us/step - loss: 0.6837 - acc: 0.5436 - val_loss: 0.6981 - val_acc: 0.4920\n",
      "Epoch 21/30\n",
      "7000/7000 [==============================] - 5s 704us/step - loss: 0.6820 - acc: 0.5457 - val_loss: 0.6906 - val_acc: 0.5160\n",
      "Epoch 22/30\n",
      "7000/7000 [==============================] - 5s 703us/step - loss: 0.6808 - acc: 0.5481 - val_loss: 0.6983 - val_acc: 0.4840\n",
      "Epoch 23/30\n",
      "7000/7000 [==============================] - 5s 703us/step - loss: 0.6819 - acc: 0.5530 - val_loss: 0.7071 - val_acc: 0.4800\n",
      "Epoch 24/30\n",
      "7000/7000 [==============================] - 5s 706us/step - loss: 0.6815 - acc: 0.5409 - val_loss: 0.6925 - val_acc: 0.5160\n",
      "Epoch 25/30\n",
      "7000/7000 [==============================] - 5s 705us/step - loss: 0.6792 - acc: 0.5466 - val_loss: 0.6874 - val_acc: 0.5360\n",
      "Epoch 26/30\n",
      "7000/7000 [==============================] - 5s 706us/step - loss: 0.6793 - acc: 0.5567 - val_loss: 0.6867 - val_acc: 0.5220\n",
      "Epoch 27/30\n",
      "7000/7000 [==============================] - 5s 707us/step - loss: 0.6780 - acc: 0.5580 - val_loss: 0.6895 - val_acc: 0.5040\n",
      "Epoch 28/30\n",
      "7000/7000 [==============================] - 5s 706us/step - loss: 0.6768 - acc: 0.5540 - val_loss: 0.6875 - val_acc: 0.5240\n",
      "Epoch 29/30\n",
      "7000/7000 [==============================] - 5s 706us/step - loss: 0.6768 - acc: 0.5521 - val_loss: 0.6887 - val_acc: 0.5360\n",
      "Epoch 30/30\n",
      "7000/7000 [==============================] - 5s 703us/step - loss: 0.6764 - acc: 0.5537 - val_loss: 0.6861 - val_acc: 0.5240\n"
     ]
    },
    {
     "data": {
      "text/plain": [
       "<keras.callbacks.History at 0x7f0ce402fba8>"
      ]
     },
     "execution_count": 52,
     "metadata": {},
     "output_type": "execute_result"
    }
   ],
   "source": [
    "pfn.fit(X_train, Y_train,\n",
    "          epochs=num_epoch,\n",
    "          batch_size=batch_size,\n",
    "          validation_data=(X_val, Y_val),\n",
    "          verbose=1)"
   ]
  },
  {
   "cell_type": "code",
   "execution_count": 31,
   "metadata": {
    "ExecuteTime": {
     "end_time": "2020-10-05T22:16:06.055971Z",
     "start_time": "2020-10-05T22:16:06.052426Z"
    }
   },
   "outputs": [],
   "source": [
    "#Later for ML: https://energyflow.network/examples/"
   ]
  }
 ],
 "metadata": {
  "kernelspec": {
   "display_name": "Python 3",
   "language": "python",
   "name": "python3"
  },
  "language_info": {
   "codemirror_mode": {
    "name": "ipython",
    "version": 3
   },
   "file_extension": ".py",
   "mimetype": "text/x-python",
   "name": "python",
   "nbconvert_exporter": "python",
   "pygments_lexer": "ipython3",
   "version": "3.6.5"
  }
 },
 "nbformat": 4,
 "nbformat_minor": 4
}

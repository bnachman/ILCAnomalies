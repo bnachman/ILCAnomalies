{
 "cells": [
  {
   "cell_type": "code",
   "execution_count": 2,
   "metadata": {
    "ExecuteTime": {
     "end_time": "2020-10-19T22:02:19.224455Z",
     "start_time": "2020-10-19T22:02:18.761625Z"
    }
   },
   "outputs": [],
   "source": [
    "import numpy as np\n",
    "import matplotlib.pyplot as plt"
   ]
  },
  {
   "cell_type": "code",
   "execution_count": 3,
   "metadata": {
    "ExecuteTime": {
     "end_time": "2020-10-19T22:02:19.684869Z",
     "start_time": "2020-10-19T22:02:19.681931Z"
    }
   },
   "outputs": [],
   "source": [
    "import glob"
   ]
  },
  {
   "cell_type": "code",
   "execution_count": 5,
   "metadata": {
    "ExecuteTime": {
     "end_time": "2020-10-19T22:02:36.706188Z",
     "start_time": "2020-10-19T22:02:36.702115Z"
    }
   },
   "outputs": [],
   "source": [
    "bg_file_list = glob.glob(\"/data0/users/bpnachman/anomaly/bigger/processed_lhe*background.txt\")\n",
    "signal_file_list = glob.glob(\"/data0/users/bpnachman/anomaly/bigger/processed_lhe*signal.txt\")"
   ]
  },
  {
   "cell_type": "code",
   "execution_count": 7,
   "metadata": {
    "ExecuteTime": {
     "end_time": "2020-10-19T22:02:42.928501Z",
     "start_time": "2020-10-19T22:02:42.919721Z"
    }
   },
   "outputs": [
    {
     "data": {
      "text/plain": [
       "['/data0/users/bpnachman/anomaly/bigger/processed_lhe005_background.txt',\n",
       " '/data0/users/bpnachman/anomaly/bigger/processed_lhe004_background.txt',\n",
       " '/data0/users/bpnachman/anomaly/bigger/processed_lhe001_background.txt',\n",
       " '/data0/users/bpnachman/anomaly/bigger/processed_lhe006_background.txt',\n",
       " '/data0/users/bpnachman/anomaly/bigger/processed_lhe007_background.txt',\n",
       " '/data0/users/bpnachman/anomaly/bigger/processed_lhe002_background.txt',\n",
       " '/data0/users/bpnachman/anomaly/bigger/processed_lhe008_background.txt',\n",
       " '/data0/users/bpnachman/anomaly/bigger/processed_lhe003_background.txt']"
      ]
     },
     "execution_count": 7,
     "metadata": {},
     "output_type": "execute_result"
    }
   ],
   "source": [
    "bg_file_list"
   ]
  },
  {
   "cell_type": "code",
   "execution_count": 8,
   "metadata": {
    "ExecuteTime": {
     "end_time": "2020-10-19T22:02:52.153184Z",
     "start_time": "2020-10-19T22:02:52.146817Z"
    }
   },
   "outputs": [
    {
     "data": {
      "text/plain": [
       "['/data0/users/bpnachman/anomaly/bigger/processed_lhe004_signal.txt',\n",
       " '/data0/users/bpnachman/anomaly/bigger/processed_lhe005_signal.txt',\n",
       " '/data0/users/bpnachman/anomaly/bigger/processed_lhe003_signal.txt',\n",
       " '/data0/users/bpnachman/anomaly/bigger/processed_lhe002_signal.txt',\n",
       " '/data0/users/bpnachman/anomaly/bigger/processed_lhe006_signal.txt',\n",
       " '/data0/users/bpnachman/anomaly/bigger/processed_lhe009_signal.txt',\n",
       " '/data0/users/bpnachman/anomaly/bigger/processed_lhe007_signal.txt',\n",
       " '/data0/users/bpnachman/anomaly/bigger/processed_lhe001_signal.txt',\n",
       " '/data0/users/bpnachman/anomaly/bigger/processed_lhe010_signal.txt',\n",
       " '/data0/users/bpnachman/anomaly/bigger/processed_lhe008_signal.txt']"
      ]
     },
     "execution_count": 8,
     "metadata": {},
     "output_type": "execute_result"
    }
   ],
   "source": [
    "signal_file_list"
   ]
  },
  {
   "cell_type": "code",
   "execution_count": 9,
   "metadata": {
    "ExecuteTime": {
     "end_time": "2020-10-19T22:03:32.224336Z",
     "start_time": "2020-10-19T22:03:32.202363Z"
    }
   },
   "outputs": [],
   "source": [
    "#\"Background only\" i.e. no anomalies in this dataset\n",
    "#myfile = open(\"/data0/users/bpnachman/anomaly/processed_lhe001_background.txt\")\n",
    "\n",
    "#Want to make new particles with a given mass.  E = mc^2\n",
    "#Instead electron + electron -> new particle -> stuff we sift through\n",
    "#electron + electron -> photon + new particle -> stuff\n",
    "\n",
    "\n",
    "\n",
    "def parse_file(file_object):\n",
    "    all_records = []\n",
    "    mymeasuredenergy = []\n",
    "\n",
    "    count = 0\n",
    "    for line in file_object:\n",
    "\n",
    "        metadata = line.split(\"J\")[0]\n",
    "        eventinfo = line.split(\"J\")[1]\n",
    "        jets = eventinfo.split(\"P\")[0]\n",
    "        particles = eventinfo.split(\"P\")[1]\n",
    "\n",
    "        this_record = {}\n",
    "        this_record['label'] = count\n",
    "        count += 1\n",
    "        eventweight = float(metadata.split()[0])\n",
    "        this_record['eventweight'] = eventweight #this is the event \"weight\".  Let's ignoreit for now (we will need it later).\n",
    "        njets = int(len(jets.split())/11) #number of \"jets\"\n",
    "\n",
    "        nparticles  = int(len(particles.split())/5) #number of particles\n",
    "\n",
    "\n",
    "\n",
    "\n",
    "        #True collision quantities\n",
    "        this_record['truthcenterofmassenergy'] = float(metadata.split()[1]) #true total energy - should be delta function at 1000 GeV\n",
    "        this_record['truthsqrtshat'] = float(metadata.split()[2]) #energy available for making new particles (electron energy - photon)\n",
    "        this_record['truthphotonpT'] = float(metadata.split()[3]) #photon momentum |p| in units of GeV\n",
    "        this_record['truthphotoneta'] = float(metadata.split()[4]) #photon pseudorapidity (~polar angle - see e.g. https://en.wikipedia.org/wiki/Pseudorapidity)\n",
    "        this_record['truthphotonphi'] = float(metadata.split()[5]) #photon azimuthal angle\n",
    "\n",
    "        #Measured collision quantities\n",
    "        measuredcenterofmassenergy  = float(metadata.split()[6]) #true measured energy - should be noisy version of truthcenterofmassenergy\n",
    "        this_record['measuredcenterofmassenergy'] = measuredcenterofmassenergy\n",
    "        this_record['measuredsqrtshat'] = float(metadata.split()[7]) #energy available for making new particles (electron energy - photon)\n",
    "        this_record['measuredphotonpT'] = float(metadata.split()[8]) #photon momentum |p| in units of GeV\n",
    "        this_record['measuredphotoneta'] = float(metadata.split()[9]) #photon pseudorapidity (~polar angle - see e.g. https://en.wikipedia.org/wiki/Pseudorapidity)\n",
    "        this_record['measuredphotonphi'] = float(metadata.split()[10]) #photon azimuthal angle\n",
    "        this_record['metadata'] = metadata.split()\n",
    "\n",
    "        mymeasuredenergy+=[measuredcenterofmassenergy]\n",
    "\n",
    "        this_record['njets'] = njets\n",
    "        jets = jets.split()\n",
    "        jets_vec = []\n",
    "        for i in range(njets):\n",
    "            jet = np.zeros(11)\n",
    "            #order:\n",
    "            # - index\n",
    "            # - magnitude of momentum |p| (units of GeV)\n",
    "            # - pseudorapidity (~polar angle - see e.g. https://en.wikipedia.org/wiki/Pseudorapidity)\n",
    "            # - azimuthal angle\n",
    "            # - mass (units of GeV/c^2)\n",
    "            # - bit encoding of the jet \"flavor\" (not totally sure what the bit means, but will look it up)\n",
    "            # - 0th angular moment of jet radiation\n",
    "            # - 1th angular moment of jet radiation\n",
    "            # - 2th angular moment of jet radiation\n",
    "            # - 3th angular moment of jet radiation\n",
    "            # - 4th angular moment of jet radiation\n",
    "            jet = jets[i*11:i*11+11]\n",
    "            jets_vec+=[jet]\n",
    "\n",
    "        this_record['jets']=jets_vec\n",
    "\n",
    "        this_record['nparticles'] = nparticles\n",
    "\n",
    "        particles = particles.split()\n",
    "        particles_vec = []\n",
    "        for i in range(nparticles):\n",
    "            particle = np.zeros(5)\n",
    "            #order:\n",
    "            # - index\n",
    "            # - magnitude of momentum |p| (units of GeV)\n",
    "            # - pseudorapidity (~polar angle - see e.g. https://en.wikipedia.org/wiki/Pseudorapidity)\n",
    "            # - azimuthal angle\n",
    "            # - particle identifier (https://pdg.lbl.gov/2006/reviews/pdf-files/montecarlo-web.pdf)\n",
    "            particle = particles[i*5:i*5+5]\n",
    "            particles_vec+=[particle]\n",
    "            #print(particles[i*5],particles[i*5+1],particles[i*5+2],particles[i*5+3],particles[i*5+4])\n",
    "        this_record['particles'] = particles_vec\n",
    "\n",
    "        all_records.append(this_record)\n",
    "    return all_records"
   ]
  },
  {
   "cell_type": "code",
   "execution_count": 10,
   "metadata": {
    "ExecuteTime": {
     "end_time": "2020-10-19T22:04:15.559575Z",
     "start_time": "2020-10-19T22:03:56.013282Z"
    }
   },
   "outputs": [],
   "source": [
    "bg_records = []\n",
    "for filename in bg_file_list:\n",
    "    file = open(filename)\n",
    "    bg_records += parse_file(file)"
   ]
  },
  {
   "cell_type": "code",
   "execution_count": 11,
   "metadata": {
    "ExecuteTime": {
     "end_time": "2020-10-19T22:04:15.565375Z",
     "start_time": "2020-10-19T22:04:15.561591Z"
    }
   },
   "outputs": [
    {
     "data": {
      "text/plain": [
       "79999"
      ]
     },
     "execution_count": 11,
     "metadata": {},
     "output_type": "execute_result"
    }
   ],
   "source": [
    "len(bg_records)"
   ]
  },
  {
   "cell_type": "code",
   "execution_count": 12,
   "metadata": {
    "ExecuteTime": {
     "end_time": "2020-10-19T22:05:58.675930Z",
     "start_time": "2020-10-19T22:05:24.435930Z"
    }
   },
   "outputs": [],
   "source": [
    "sig_records = []\n",
    "for filename in signal_file_list:\n",
    "    file = open(filename)\n",
    "    sig_records += parse_file(file)"
   ]
  },
  {
   "cell_type": "code",
   "execution_count": 13,
   "metadata": {
    "ExecuteTime": {
     "end_time": "2020-10-19T22:05:58.683419Z",
     "start_time": "2020-10-19T22:05:58.678275Z"
    }
   },
   "outputs": [
    {
     "data": {
      "text/plain": [
       "100000"
      ]
     },
     "execution_count": 13,
     "metadata": {},
     "output_type": "execute_result"
    }
   ],
   "source": [
    "len(sig_records)"
   ]
  },
  {
   "cell_type": "code",
   "execution_count": 18,
   "metadata": {
    "ExecuteTime": {
     "end_time": "2020-10-19T22:36:20.284881Z",
     "start_time": "2020-10-19T22:36:20.257579Z"
    }
   },
   "outputs": [],
   "source": [
    "for i in sig_records:\n",
    "    i['from_anomaly_data'] = True"
   ]
  },
  {
   "cell_type": "code",
   "execution_count": 19,
   "metadata": {
    "ExecuteTime": {
     "end_time": "2020-10-19T22:36:34.790070Z",
     "start_time": "2020-10-19T22:36:34.767508Z"
    }
   },
   "outputs": [],
   "source": [
    "for i in bg_records:\n",
    "    i['from_anomaly_data'] = False"
   ]
  },
  {
   "cell_type": "code",
   "execution_count": 47,
   "metadata": {
    "ExecuteTime": {
     "end_time": "2020-10-19T22:49:24.633992Z",
     "start_time": "2020-10-19T22:49:24.625909Z"
    }
   },
   "outputs": [],
   "source": [
    "all_records = sig_records[:10000] + bg_records"
   ]
  },
  {
   "cell_type": "code",
   "execution_count": 48,
   "metadata": {
    "ExecuteTime": {
     "end_time": "2020-10-19T22:49:26.654673Z",
     "start_time": "2020-10-19T22:49:25.678746Z"
    }
   },
   "outputs": [
    {
     "data": {
      "text/plain": [
       "Text(0, 0.5, 'Number of Events / bin')"
      ]
     },
     "execution_count": 48,
     "metadata": {},
     "output_type": "execute_result"
    },
    {
     "data": {
      "image/png": "[encoded data removed]",
      "text/plain": [
       "<Figure size 1440x720 with 1 Axes>"
      ]
     },
     "metadata": {
      "needs_background": "light"
     },
     "output_type": "display_data"
    }
   ],
   "source": [
    "plt.figure(figsize=(20,10))\n",
    "this_arr = np.array([i['truthsqrtshat'] for i in all_records])\n",
    "plt.hist(this_arr, bins=100)\n",
    "#plt.hist(this_arr, bins=np.logspace(1.5,3,30))\n",
    "#plt.xscale('log')\n",
    "plt.xticks(range(0,1000,20))\n",
    "plt.xlabel(\"truthsqrtshat\")\n",
    "plt.ylabel(\"Number of Events / bin\")\n"
   ]
  },
  {
   "cell_type": "markdown",
   "metadata": {},
   "source": [
    "## EFN experimenting"
   ]
  },
  {
   "cell_type": "markdown",
   "metadata": {},
   "source": [
    "### imports and settings"
   ]
  },
  {
   "cell_type": "code",
   "execution_count": 49,
   "metadata": {
    "ExecuteTime": {
     "end_time": "2020-10-19T22:49:29.780667Z",
     "start_time": "2020-10-19T22:49:29.775869Z"
    }
   },
   "outputs": [],
   "source": [
    "import energyflow as ef\n",
    "from energyflow.archs import PFN\n",
    "from energyflow.datasets import qg_jets\n",
    "from energyflow.utils import data_split, remap_pids, to_categorical\n",
    "from sklearn.metrics import roc_auc_score, roc_curve\n"
   ]
  },
  {
   "cell_type": "code",
   "execution_count": 63,
   "metadata": {
    "ExecuteTime": {
     "end_time": "2020-10-19T22:53:02.856098Z",
     "start_time": "2020-10-19T22:53:02.852233Z"
    }
   },
   "outputs": [],
   "source": [
    "from sklearn.utils import shuffle"
   ]
  },
  {
   "cell_type": "markdown",
   "metadata": {
    "ExecuteTime": {
     "end_time": "2020-10-05T21:28:46.206312Z",
     "start_time": "2020-10-05T21:28:46.200487Z"
    }
   },
   "source": [
    "### Divide up the data"
   ]
  },
  {
   "cell_type": "code",
   "execution_count": null,
   "metadata": {},
   "outputs": [],
   "source": []
  },
  {
   "cell_type": "markdown",
   "metadata": {},
   "source": [
    "### Save particles only as X"
   ]
  },
  {
   "cell_type": "markdown",
   "metadata": {},
   "source": [
    "Save all particles in 3d array. dim 0 = datapoints; dim 1 = particles; dim 2 = particle features.\n",
    "\n",
    "Particle features have original index 0 omitted. new index 0, 1, 2 are numerical. index 3 is PID"
   ]
  },
  {
   "cell_type": "code",
   "execution_count": null,
   "metadata": {},
   "outputs": [],
   "source": []
  },
  {
   "cell_type": "code",
   "execution_count": 50,
   "metadata": {
    "ExecuteTime": {
     "end_time": "2020-10-19T22:49:33.168013Z",
     "start_time": "2020-10-19T22:49:33.134277Z"
    }
   },
   "outputs": [],
   "source": [
    "max_nparticles = max([i['nparticles'] for i in all_records])"
   ]
  },
  {
   "cell_type": "code",
   "execution_count": 51,
   "metadata": {
    "ExecuteTime": {
     "end_time": "2020-10-19T22:50:08.519356Z",
     "start_time": "2020-10-19T22:49:35.084324Z"
    }
   },
   "outputs": [],
   "source": [
    "padded_part_arrays =[]\n",
    "for record in all_records:\n",
    "    # convert to np array\n",
    "    these_particles = np.array(record['particles']).astype('float')\n",
    "    # omit index 0\n",
    "    these_particles = these_particles[:,1:]\n",
    "    # determine how many zero values to pad\n",
    "    pad_length = max_nparticles - these_particles.shape[0]\n",
    "    #pad\n",
    "    padded_particles = np.pad(these_particles, ((0,pad_length),(0,0)))\n",
    "    # check padding\n",
    "    assert padded_particles.shape == (max_nparticles, 4)\n",
    "    # add to list\n",
    "    padded_part_arrays.append(padded_particles)\n",
    "    \n",
    "all_particle_array = np.array(padded_part_arrays)\n",
    "X = all_particle_array"
   ]
  },
  {
   "cell_type": "code",
   "execution_count": 52,
   "metadata": {
    "ExecuteTime": {
     "end_time": "2020-10-19T22:50:08.526792Z",
     "start_time": "2020-10-19T22:50:08.521916Z"
    }
   },
   "outputs": [
    {
     "data": {
      "text/plain": [
       "(89999, 260, 4)"
      ]
     },
     "execution_count": 52,
     "metadata": {},
     "output_type": "execute_result"
    }
   ],
   "source": [
    "X.shape"
   ]
  },
  {
   "cell_type": "markdown",
   "metadata": {
    "heading_collapsed": true
   },
   "source": [
    "### Save jets as Z"
   ]
  },
  {
   "cell_type": "code",
   "execution_count": 58,
   "metadata": {
    "ExecuteTime": {
     "end_time": "2020-10-05T23:31:04.279952Z",
     "start_time": "2020-10-05T23:31:04.274824Z"
    },
    "hidden": true
   },
   "outputs": [
    {
     "data": {
      "text/plain": [
       "[['0',\n",
       "  '189.98',\n",
       "  '-1.62299',\n",
       "  '1.02308',\n",
       "  '89.4432',\n",
       "  '0',\n",
       "  '0.429496',\n",
       "  '0.0397034',\n",
       "  '0.0308161',\n",
       "  '0.0261881',\n",
       "  '0.0196577']]"
      ]
     },
     "execution_count": 58,
     "metadata": {},
     "output_type": "execute_result"
    }
   ],
   "source": [
    "all_records[0]['jets']"
   ]
  },
  {
   "cell_type": "code",
   "execution_count": 55,
   "metadata": {
    "ExecuteTime": {
     "end_time": "2020-10-05T23:29:59.152338Z",
     "start_time": "2020-10-05T23:29:59.122995Z"
    },
    "hidden": true
   },
   "outputs": [],
   "source": [
    "max_njets = max([i['njets'] for i in all_records])"
   ]
  },
  {
   "cell_type": "code",
   "execution_count": 71,
   "metadata": {
    "ExecuteTime": {
     "end_time": "2020-10-05T23:37:22.063108Z",
     "start_time": "2020-10-05T23:37:12.111218Z"
    },
    "hidden": true
   },
   "outputs": [],
   "source": [
    "padded_jet_arrays =[]\n",
    "for record in all_records:\n",
    "    # convert to np array\n",
    "    these_jets = np.array(record['jets']).astype('float')\n",
    "    # omit index 0\n",
    "    if len(these_jets) == 0:\n",
    "        these_jets = np.zeros(11).reshape([1,11])\n",
    "    these_jets = these_jets[:,1:]\n",
    "        \n",
    "    # determine how many zero values to pad\n",
    "    pad_length = max_njets - these_jets.shape[0]\n",
    "    #pad\n",
    "    padded_jets = np.pad(these_jets, ((0,pad_length),(0,0)))\n",
    "    # check padding\n",
    "    assert padded_jets.shape == (max_njets, 10)\n",
    "    # add to list\n",
    "    padded_jet_arrays.append(padded_jets)\n",
    "    \n",
    "all_jet_array = np.array(padded_jet_arrays)\n",
    "Z = all_jet_array"
   ]
  },
  {
   "cell_type": "code",
   "execution_count": 72,
   "metadata": {
    "ExecuteTime": {
     "end_time": "2020-10-05T23:37:26.282084Z",
     "start_time": "2020-10-05T23:37:26.276248Z"
    },
    "hidden": true
   },
   "outputs": [
    {
     "data": {
      "text/plain": [
       "(79999, 8, 10)"
      ]
     },
     "execution_count": 72,
     "metadata": {},
     "output_type": "execute_result"
    }
   ],
   "source": [
    "Z.shape"
   ]
  },
  {
   "cell_type": "markdown",
   "metadata": {},
   "source": [
    "### Save measured truthsqrtshat as y"
   ]
  },
  {
   "cell_type": "code",
   "execution_count": 53,
   "metadata": {
    "ExecuteTime": {
     "end_time": "2020-10-19T22:50:08.578134Z",
     "start_time": "2020-10-19T22:50:08.530068Z"
    }
   },
   "outputs": [],
   "source": [
    "y = np.array([i['truthsqrtshat'] for i in all_records])"
   ]
  },
  {
   "cell_type": "code",
   "execution_count": 54,
   "metadata": {
    "ExecuteTime": {
     "end_time": "2020-10-19T22:50:08.586529Z",
     "start_time": "2020-10-19T22:50:08.580560Z"
    }
   },
   "outputs": [
    {
     "data": {
      "text/plain": [
       "(89999,)"
      ]
     },
     "execution_count": 54,
     "metadata": {},
     "output_type": "execute_result"
    }
   ],
   "source": [
    "y.shape"
   ]
  },
  {
   "cell_type": "markdown",
   "metadata": {},
   "source": [
    "### Identify signal & side band"
   ]
  },
  {
   "cell_type": "code",
   "execution_count": 55,
   "metadata": {
    "ExecuteTime": {
     "end_time": "2020-10-19T22:50:08.594994Z",
     "start_time": "2020-10-19T22:50:08.588483Z"
    }
   },
   "outputs": [],
   "source": [
    "side_band_left = 140\n",
    "side_band_right = 560\n",
    "signal_left = 340\n",
    "signal_right = 360\n",
    "def binary_side_band(y_thing):\n",
    "    if y_thing >= signal_left and y_thing < signal_right:\n",
    "        return 1\n",
    "    elif y_thing >= side_band_left and y_thing < side_band_right:\n",
    "        return 0\n",
    "    else:\n",
    "        return -1\n"
   ]
  },
  {
   "cell_type": "code",
   "execution_count": 56,
   "metadata": {
    "ExecuteTime": {
     "end_time": "2020-10-19T22:50:37.557682Z",
     "start_time": "2020-10-19T22:50:37.509600Z"
    }
   },
   "outputs": [],
   "source": [
    "y_binary = np.vectorize(binary_side_band)(y)"
   ]
  },
  {
   "cell_type": "code",
   "execution_count": 57,
   "metadata": {
    "ExecuteTime": {
     "end_time": "2020-10-19T22:50:38.415274Z",
     "start_time": "2020-10-19T22:50:38.405296Z"
    }
   },
   "outputs": [
    {
     "data": {
      "text/plain": [
       "(array([-1,  0,  1]), array([68813, 10926, 10260]))"
      ]
     },
     "execution_count": 57,
     "metadata": {},
     "output_type": "execute_result"
    }
   ],
   "source": [
    "np.unique(y_binary,return_counts = True)"
   ]
  },
  {
   "cell_type": "code",
   "execution_count": 58,
   "metadata": {
    "ExecuteTime": {
     "end_time": "2020-10-19T22:50:40.788952Z",
     "start_time": "2020-10-19T22:50:40.785311Z"
    }
   },
   "outputs": [],
   "source": [
    "within_bounds_indicator = y_binary >= 0"
   ]
  },
  {
   "cell_type": "code",
   "execution_count": 59,
   "metadata": {
    "ExecuteTime": {
     "end_time": "2020-10-19T22:50:42.238351Z",
     "start_time": "2020-10-19T22:50:42.228747Z"
    }
   },
   "outputs": [
    {
     "data": {
      "text/plain": [
       "(array([False,  True]), array([68813, 21186]))"
      ]
     },
     "execution_count": 59,
     "metadata": {},
     "output_type": "execute_result"
    }
   ],
   "source": [
    "np.unique(within_bounds_indicator,return_counts = True)"
   ]
  },
  {
   "cell_type": "markdown",
   "metadata": {},
   "source": [
    "### Select signal & side band data points"
   ]
  },
  {
   "cell_type": "code",
   "execution_count": 60,
   "metadata": {
    "ExecuteTime": {
     "end_time": "2020-10-19T22:50:45.930328Z",
     "start_time": "2020-10-19T22:50:45.875628Z"
    }
   },
   "outputs": [],
   "source": [
    "X_selected = X[within_bounds_indicator]\n",
    "y_selected = y_binary[within_bounds_indicator]"
   ]
  },
  {
   "cell_type": "markdown",
   "metadata": {},
   "source": [
    "### Preprocessing"
   ]
  },
  {
   "cell_type": "code",
   "execution_count": 61,
   "metadata": {
    "ExecuteTime": {
     "end_time": "2020-10-19T22:50:47.664783Z",
     "start_time": "2020-10-19T22:50:47.659751Z"
    }
   },
   "outputs": [
    {
     "data": {
      "text/plain": [
       "(21186, 260, 4)"
      ]
     },
     "execution_count": 61,
     "metadata": {},
     "output_type": "execute_result"
    }
   ],
   "source": [
    "X_selected.shape"
   ]
  },
  {
   "cell_type": "code",
   "execution_count": 62,
   "metadata": {
    "ExecuteTime": {
     "end_time": "2020-10-19T22:50:53.875629Z",
     "start_time": "2020-10-19T22:50:53.848067Z"
    }
   },
   "outputs": [
    {
     "data": {
      "text/plain": [
       "17.52151432033459"
      ]
     },
     "execution_count": 62,
     "metadata": {},
     "output_type": "execute_result"
    }
   ],
   "source": [
    "X_selected.mean()"
   ]
  },
  {
   "cell_type": "code",
   "execution_count": 64,
   "metadata": {
    "ExecuteTime": {
     "end_time": "2020-10-19T22:53:23.075222Z",
     "start_time": "2020-10-19T22:53:23.013906Z"
    }
   },
   "outputs": [],
   "source": [
    "X_shuffled, y_shuffled = shuffle(X_selected, y_selected)"
   ]
  },
  {
   "cell_type": "code",
   "execution_count": 66,
   "metadata": {
    "ExecuteTime": {
     "end_time": "2020-10-19T22:54:11.450746Z",
     "start_time": "2020-10-19T22:54:11.445437Z"
    }
   },
   "outputs": [],
   "source": [
    "train, val, test = 18000, 2000, 1186\n",
    "use_pids = True\n"
   ]
  },
  {
   "cell_type": "code",
   "execution_count": 67,
   "metadata": {
    "ExecuteTime": {
     "end_time": "2020-10-19T22:54:18.815630Z",
     "start_time": "2020-10-19T22:54:16.071749Z"
    }
   },
   "outputs": [],
   "source": [
    "# center and normalize\n",
    "X_normalized = np.copy(X_shuffled)\n",
    "for x in X_normalized:\n",
    "    mask = x[:,0] > 0\n",
    "    yphi_avg = np.average(x[mask,1:3], weights=x[mask,0], axis=0)\n",
    "    x[mask,1:3] -= yphi_avg\n",
    "    x[mask,0] /= x[:,0].sum()\n"
   ]
  },
  {
   "cell_type": "code",
   "execution_count": 68,
   "metadata": {
    "ExecuteTime": {
     "end_time": "2020-10-19T22:54:26.022173Z",
     "start_time": "2020-10-19T22:54:22.694592Z"
    }
   },
   "outputs": [],
   "source": [
    "# handle particle id channel\n",
    "if use_pids:\n",
    "    remap_pids(X_normalized, pid_i=3)\n",
    "else:\n",
    "    X_normalized = X_normalized[:,:,:3]"
   ]
  },
  {
   "cell_type": "code",
   "execution_count": 69,
   "metadata": {
    "ExecuteTime": {
     "end_time": "2020-10-19T22:54:30.881932Z",
     "start_time": "2020-10-19T22:54:30.878065Z"
    }
   },
   "outputs": [],
   "source": [
    "# categorize y\n",
    "Y = to_categorical(y_shuffled, num_classes=2)"
   ]
  },
  {
   "cell_type": "code",
   "execution_count": 70,
   "metadata": {
    "ExecuteTime": {
     "end_time": "2020-10-19T22:54:37.480452Z",
     "start_time": "2020-10-19T22:54:37.424330Z"
    },
    "scrolled": true
   },
   "outputs": [],
   "source": [
    "# do train/val/test split \n",
    "(X_train, X_val, X_test,\n",
    " Y_train, Y_val, Y_test) = data_split(X_normalized, Y, val=val, test=test)"
   ]
  },
  {
   "cell_type": "markdown",
   "metadata": {},
   "source": [
    "### Building the model"
   ]
  },
  {
   "cell_type": "code",
   "execution_count": 74,
   "metadata": {
    "ExecuteTime": {
     "end_time": "2020-10-19T22:56:11.935458Z",
     "start_time": "2020-10-19T22:56:11.930769Z"
    }
   },
   "outputs": [],
   "source": [
    "Phi_sizes, F_sizes = (10, 10, 16), (40, 20)\n",
    "num_epoch = 30\n",
    "batch_size = 10"
   ]
  },
  {
   "cell_type": "code",
   "execution_count": 75,
   "metadata": {
    "ExecuteTime": {
     "end_time": "2020-10-19T22:56:15.960447Z",
     "start_time": "2020-10-19T22:56:15.716921Z"
    },
    "scrolled": false
   },
   "outputs": [
    {
     "name": "stdout",
     "output_type": "stream",
     "text": [
      "__________________________________________________________________________________________________\n",
      "Layer (type)                    Output Shape         Param #     Connected to                     \n",
      "==================================================================================================\n",
      "input (InputLayer)              (None, None, 4)      0                                            \n",
      "__________________________________________________________________________________________________\n",
      "tdist_0 (TimeDistributed)       (None, None, 10)     50          input[0][0]                      \n",
      "__________________________________________________________________________________________________\n",
      "activation_8 (Activation)       (None, None, 10)     0           tdist_0[0][0]                    \n",
      "__________________________________________________________________________________________________\n",
      "tdist_1 (TimeDistributed)       (None, None, 10)     110         activation_8[0][0]               \n",
      "__________________________________________________________________________________________________\n",
      "activation_9 (Activation)       (None, None, 10)     0           tdist_1[0][0]                    \n",
      "__________________________________________________________________________________________________\n",
      "tdist_2 (TimeDistributed)       (None, None, 16)     176         activation_9[0][0]               \n",
      "__________________________________________________________________________________________________\n",
      "mask (Lambda)                   (None, None)         0           input[0][0]                      \n",
      "__________________________________________________________________________________________________\n",
      "activation_10 (Activation)      (None, None, 16)     0           tdist_2[0][0]                    \n",
      "__________________________________________________________________________________________________\n",
      "sum (Dot)                       (None, 16)           0           mask[0][0]                       \n",
      "                                                                 activation_10[0][0]              \n",
      "__________________________________________________________________________________________________\n",
      "dense_0 (Dense)                 (None, 40)           680         sum[0][0]                        \n",
      "__________________________________________________________________________________________________\n",
      "activation_11 (Activation)      (None, 40)           0           dense_0[0][0]                    \n",
      "__________________________________________________________________________________________________\n",
      "dense_1 (Dense)                 (None, 20)           820         activation_11[0][0]              \n",
      "__________________________________________________________________________________________________\n",
      "activation_12 (Activation)      (None, 20)           0           dense_1[0][0]                    \n",
      "__________________________________________________________________________________________________\n",
      "output (Dense)                  (None, 2)            42          activation_12[0][0]              \n",
      "__________________________________________________________________________________________________\n",
      "activation_13 (Activation)      (None, 2)            0           output[0][0]                     \n",
      "==================================================================================================\n",
      "Total params: 1,878\n",
      "Trainable params: 1,878\n",
      "Non-trainable params: 0\n",
      "__________________________________________________________________________________________________\n"
     ]
    }
   ],
   "source": [
    "# build architecture\n",
    "pfn = PFN(input_dim=X.shape[-1], Phi_sizes=Phi_sizes, F_sizes=F_sizes)\n"
   ]
  },
  {
   "cell_type": "markdown",
   "metadata": {},
   "source": [
    "### Training"
   ]
  },
  {
   "cell_type": "code",
   "execution_count": 76,
   "metadata": {
    "ExecuteTime": {
     "end_time": "2020-10-19T23:02:10.887306Z",
     "start_time": "2020-10-19T22:56:18.096340Z"
    }
   },
   "outputs": [
    {
     "name": "stdout",
     "output_type": "stream",
     "text": [
      "Train on 18000 samples, validate on 2000 samples\n",
      "Epoch 1/30\n",
      "18000/18000 [==============================] - 12s 691us/step - loss: 1.2210 - acc: 0.5951 - val_loss: 0.6212 - val_acc: 0.6400\n",
      "Epoch 2/30\n",
      "18000/18000 [==============================] - 12s 650us/step - loss: 0.6400 - acc: 0.6742 - val_loss: 0.5815 - val_acc: 0.6905\n",
      "Epoch 3/30\n",
      "18000/18000 [==============================] - 12s 648us/step - loss: 0.5691 - acc: 0.7208 - val_loss: 0.5555 - val_acc: 0.7165\n",
      "Epoch 4/30\n",
      "18000/18000 [==============================] - 12s 649us/step - loss: 0.5409 - acc: 0.7372 - val_loss: 0.5329 - val_acc: 0.7275\n",
      "Epoch 5/30\n",
      "18000/18000 [==============================] - 12s 646us/step - loss: 0.5027 - acc: 0.7678 - val_loss: 0.5012 - val_acc: 0.7610\n",
      "Epoch 6/30\n",
      "18000/18000 [==============================] - 12s 648us/step - loss: 0.4755 - acc: 0.7856 - val_loss: 0.4776 - val_acc: 0.7830\n",
      "Epoch 7/30\n",
      "18000/18000 [==============================] - 12s 651us/step - loss: 0.4612 - acc: 0.7921 - val_loss: 0.4508 - val_acc: 0.8035\n",
      "Epoch 8/30\n",
      "18000/18000 [==============================] - 12s 651us/step - loss: 0.4540 - acc: 0.8014 - val_loss: 0.4708 - val_acc: 0.7975\n",
      "Epoch 9/30\n",
      "18000/18000 [==============================] - 12s 648us/step - loss: 0.4436 - acc: 0.8033 - val_loss: 0.4595 - val_acc: 0.7935\n",
      "Epoch 10/30\n",
      "18000/18000 [==============================] - 12s 647us/step - loss: 0.4322 - acc: 0.8118 - val_loss: 0.4325 - val_acc: 0.8230\n",
      "Epoch 11/30\n",
      "18000/18000 [==============================] - 12s 651us/step - loss: 0.4226 - acc: 0.8174 - val_loss: 0.4256 - val_acc: 0.8195\n",
      "Epoch 12/30\n",
      "18000/18000 [==============================] - 12s 645us/step - loss: 0.4152 - acc: 0.8223 - val_loss: 0.4196 - val_acc: 0.8200\n",
      "Epoch 13/30\n",
      "18000/18000 [==============================] - 12s 653us/step - loss: 0.4070 - acc: 0.8266 - val_loss: 0.4262 - val_acc: 0.8235\n",
      "Epoch 14/30\n",
      "18000/18000 [==============================] - 12s 648us/step - loss: 0.3998 - acc: 0.8306 - val_loss: 0.4058 - val_acc: 0.8295\n",
      "Epoch 15/30\n",
      "18000/18000 [==============================] - 12s 654us/step - loss: 0.3914 - acc: 0.8336 - val_loss: 0.3941 - val_acc: 0.8430\n",
      "Epoch 16/30\n",
      "18000/18000 [==============================] - 12s 651us/step - loss: 0.3846 - acc: 0.8404 - val_loss: 0.4106 - val_acc: 0.8255\n",
      "Epoch 17/30\n",
      "18000/18000 [==============================] - 12s 652us/step - loss: 0.3767 - acc: 0.8447 - val_loss: 0.3831 - val_acc: 0.8440\n",
      "Epoch 18/30\n",
      "18000/18000 [==============================] - 12s 649us/step - loss: 0.3695 - acc: 0.8488 - val_loss: 0.3833 - val_acc: 0.8470\n",
      "Epoch 19/30\n",
      "18000/18000 [==============================] - 12s 652us/step - loss: 0.3657 - acc: 0.8511 - val_loss: 0.3877 - val_acc: 0.8470\n",
      "Epoch 20/30\n",
      "18000/18000 [==============================] - 12s 648us/step - loss: 0.3579 - acc: 0.8543 - val_loss: 0.3532 - val_acc: 0.8670\n",
      "Epoch 21/30\n",
      "18000/18000 [==============================] - 12s 650us/step - loss: 0.3497 - acc: 0.8604 - val_loss: 0.3625 - val_acc: 0.8520\n",
      "Epoch 22/30\n",
      "18000/18000 [==============================] - 12s 656us/step - loss: 0.3475 - acc: 0.8588 - val_loss: 0.3732 - val_acc: 0.8445\n",
      "Epoch 23/30\n",
      "18000/18000 [==============================] - 12s 648us/step - loss: 0.3418 - acc: 0.8637 - val_loss: 0.3571 - val_acc: 0.8650\n",
      "Epoch 24/30\n",
      "18000/18000 [==============================] - 12s 653us/step - loss: 0.3345 - acc: 0.8661 - val_loss: 0.3464 - val_acc: 0.8625\n",
      "Epoch 25/30\n",
      "18000/18000 [==============================] - 12s 661us/step - loss: 0.3321 - acc: 0.8639 - val_loss: 0.3673 - val_acc: 0.8505\n",
      "Epoch 26/30\n",
      "18000/18000 [==============================] - 12s 651us/step - loss: 0.3255 - acc: 0.8700 - val_loss: 0.3370 - val_acc: 0.8695\n",
      "Epoch 27/30\n",
      "18000/18000 [==============================] - 12s 647us/step - loss: 0.3233 - acc: 0.8723 - val_loss: 0.3330 - val_acc: 0.8750\n",
      "Epoch 28/30\n",
      "18000/18000 [==============================] - 12s 651us/step - loss: 0.3188 - acc: 0.8709 - val_loss: 0.3455 - val_acc: 0.8640\n",
      "Epoch 29/30\n",
      "18000/18000 [==============================] - 12s 654us/step - loss: 0.3164 - acc: 0.8729 - val_loss: 0.3388 - val_acc: 0.8645\n",
      "Epoch 30/30\n",
      "18000/18000 [==============================] - 12s 654us/step - loss: 0.3160 - acc: 0.8748 - val_loss: 0.3151 - val_acc: 0.8790\n"
     ]
    },
    {
     "data": {
      "text/plain": [
       "<keras.callbacks.History at 0x7fd80873fef0>"
      ]
     },
     "execution_count": 76,
     "metadata": {},
     "output_type": "execute_result"
    }
   ],
   "source": [
    "pfn.fit(X_train, Y_train,\n",
    "          epochs=num_epoch,\n",
    "          batch_size=batch_size,\n",
    "          validation_data=(X_val, Y_val),\n",
    "          verbose=1)"
   ]
  },
  {
   "cell_type": "code",
   "execution_count": 78,
   "metadata": {
    "ExecuteTime": {
     "end_time": "2020-10-19T23:03:11.453076Z",
     "start_time": "2020-10-19T23:03:11.299449Z"
    }
   },
   "outputs": [],
   "source": [
    "Y_predict = pfn.predict(X_test)"
   ]
  },
  {
   "cell_type": "code",
   "execution_count": 80,
   "metadata": {
    "ExecuteTime": {
     "end_time": "2020-10-19T23:07:35.510597Z",
     "start_time": "2020-10-19T23:07:35.507108Z"
    }
   },
   "outputs": [],
   "source": [
    "import sklearn"
   ]
  },
  {
   "cell_type": "code",
   "execution_count": 91,
   "metadata": {
    "ExecuteTime": {
     "end_time": "2020-10-19T23:13:31.957162Z",
     "start_time": "2020-10-19T23:13:31.952278Z"
    }
   },
   "outputs": [],
   "source": [
    "roc_curve = sklearn.metrics.roc_curve(Y_test[:,1:], Y_predict[:,1:])"
   ]
  },
  {
   "cell_type": "code",
   "execution_count": 94,
   "metadata": {
    "ExecuteTime": {
     "end_time": "2020-10-19T23:14:55.327916Z",
     "start_time": "2020-10-19T23:14:55.107555Z"
    }
   },
   "outputs": [
    {
     "data": {
      "text/plain": [
       "Text(0.5, 1.0, 'ROC curve')"
      ]
     },
     "execution_count": 94,
     "metadata": {},
     "output_type": "execute_result"
    },
    {
     "data": {
      "image/png": "[encoded data removed]",
      "text/plain": [
       "<Figure size 432x288 with 1 Axes>"
      ]
     },
     "metadata": {
      "needs_background": "light"
     },
     "output_type": "display_data"
    }
   ],
   "source": [
    "plt.plot(roc_curve[0],roc_curve[1])\n",
    "plt.xlabel('fpr')\n",
    "plt.ylabel('tpr')\n",
    "plt.title('ROC curve')"
   ]
  },
  {
   "cell_type": "code",
   "execution_count": 31,
   "metadata": {
    "ExecuteTime": {
     "end_time": "2020-10-05T22:16:06.055971Z",
     "start_time": "2020-10-05T22:16:06.052426Z"
    }
   },
   "outputs": [],
   "source": [
    "#Later for ML: https://energyflow.network/examples/"
   ]
  }
 ],
 "metadata": {
  "kernelspec": {
   "display_name": "Python 3",
   "language": "python",
   "name": "python3"
  },
  "language_info": {
   "codemirror_mode": {
    "name": "ipython",
    "version": 3
   },
   "file_extension": ".py",
   "mimetype": "text/x-python",
   "name": "python",
   "nbconvert_exporter": "python",
   "pygments_lexer": "ipython3",
   "version": "3.6.5"
  }
 },
 "nbformat": 4,
 "nbformat_minor": 4
}

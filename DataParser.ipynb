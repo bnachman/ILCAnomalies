{
 "cells": [
  {
   "cell_type": "code",
   "execution_count": 1,
   "metadata": {},
   "outputs": [],
   "source": [
    "import numpy as np\n",
    "import matplotlib.pyplot as plt"
   ]
  },
  {
   "cell_type": "code",
   "execution_count": 37,
   "metadata": {},
   "outputs": [],
   "source": [
    "#\"Background only\" i.e. no anomalies in this dataset\n",
    "myfile = open(\"/data0/users/bpnachman/anomaly/processed_lhe001_background.txt\")\n",
    "\n",
    "#Want to make new particles with a given mass.  E = mc^2\n",
    "#Instead electron + electron -> new particle -> stuff we sift through\n",
    "#electron + electron -> photon + new particle -> stuff\n",
    "\n",
    "mymeasuredenergy = []\n",
    "for line in myfile:\n",
    "    metadata = line.split(\"J\")[0]\n",
    "    eventinfo = line.split(\"J\")[1]\n",
    "    jets = eventinfo.split(\"P\")[0]\n",
    "    particles = eventinfo.split(\"P\")[1]\n",
    "    nparticles = int(len(particles.split())/5) #number of particles\n",
    "    njets = int(len(jets.split())/11) #number of \"jets\"\n",
    "    \n",
    "    eventweight = float(metadata.split()[0]) #this is the event \"weight\".  Let's ignoreit for now (we will need it later).\n",
    "    \n",
    "    #True collision quantities\n",
    "    truthcenterofmassenergy = float(metadata.split()[1]) #true total energy - should be delta function at 1000 GeV\n",
    "    truthsqrtshat = float(metadata.split()[2]) #energy available for making new particles (electron energy - photon)\n",
    "    truthphotonpT = float(metadata.split()[3]) #photon momentum |p| in units of GeV\n",
    "    truthphotoneta = float(metadata.split()[4]) #photon pseudorapidity (~polar angle - see e.g. https://en.wikipedia.org/wiki/Pseudorapidity)\n",
    "    truthphotonphi = float(metadata.split()[5]) #photon azimuthal angle\n",
    "\n",
    "    #Measured collision quantities\n",
    "    measuredcenterofmassenergy = float(metadata.split()[6]) #true measured energy - should be noisy version of truthcenterofmassenergy\n",
    "    measuredsqrtshat = float(metadata.split()[7]) #energy available for making new particles (electron energy - photon)\n",
    "    measuredphotonpT = float(metadata.split()[8]) #photon momentum |p| in units of GeV\n",
    "    measuredphotoneta = float(metadata.split()[9]) #photon pseudorapidity (~polar angle - see e.g. https://en.wikipedia.org/wiki/Pseudorapidity)\n",
    "    measuredphotonphi = float(metadata.split()[10]) #photon azimuthal angle\n",
    "    \n",
    "    mymeasuredenergy+=[measuredcenterofmassenergy]\n",
    "    \n",
    "    particles = particles.split()\n",
    "    particles_vec = []\n",
    "    for i in range(nparticles):\n",
    "        particle = np.zeros(5)\n",
    "        #order:\n",
    "        # - index\n",
    "        # - magnitude of momentum |p| (units of GeV)\n",
    "        # - pseudorapidity (~polar angle - see e.g. https://en.wikipedia.org/wiki/Pseudorapidity)\n",
    "        # - azimuthal angle\n",
    "        # - particle identifier (https://pdg.lbl.gov/2006/reviews/pdf-files/montecarlo-web.pdf)\n",
    "        particle = [particles[i*5],particles[i*5+1],particles[i*5+2],particles[i*5+3],particles[i*5+4]]\n",
    "        particles_vec+=[particle]\n",
    "        #print(particles[i*5],particles[i*5+1],particles[i*5+2],particles[i*5+3],particles[i*5+4])\n",
    "        \n",
    "    jets = jets.split()\n",
    "    jets_vec = []\n",
    "    for i in range(njets):\n",
    "        jet = np.zeros(11)\n",
    "        #order:\n",
    "        # - index\n",
    "        # - magnitude of momentum |p| (units of GeV)\n",
    "        # - pseudorapidity (~polar angle - see e.g. https://en.wikipedia.org/wiki/Pseudorapidity)\n",
    "        # - azimuthal angle\n",
    "        # - mass (units of GeV/c^2)\n",
    "        # - bit encoding of the jet \"flavor\" (not totally sure what the bit means, but will look it up)\n",
    "        # - 0th angular moment of jet radiation\n",
    "        # - 1th angular moment of jet radiation\n",
    "        # - 2th angular moment of jet radiation\n",
    "        # - 3th angular moment of jet radiation\n",
    "        # - 4th angular moment of jet radiation\n",
    "        jet = [jets[i*11],jets[i*11+1],jets[i*11+2],jets[i*11+3],jets[i*11+4],jets[i*11+5],jets[i*11+6],jets[i*11+7],jets[i*11+8],jets[i*11+9],jets[i*11+10]]\n",
    "        jets_vec+=[jet]"
   ]
  },
  {
   "cell_type": "code",
   "execution_count": 38,
   "metadata": {},
   "outputs": [
    {
     "data": {
      "text/plain": [
       "Text(0, 0.5, 'Number of Events / bin')"
      ]
     },
     "execution_count": 38,
     "metadata": {},
     "output_type": "execute_result"
    },
    {
     "data": {
      "image/png": "[encoded data removed]",
      "text/plain": [
       "<Figure size 432x288 with 1 Axes>"
      ]
     },
     "metadata": {
      "needs_background": "light"
     },
     "output_type": "display_data"
    }
   ],
   "source": [
    "plt.hist(mymeasuredenergy)\n",
    "plt.xlabel(\"Measured Total Energy [GeV]\")\n",
    "plt.ylabel(\"Number of Events / bin\")"
   ]
  },
  {
   "cell_type": "code",
   "execution_count": null,
   "metadata": {},
   "outputs": [],
   "source": [
    "#Later for ML: https://energyflow.network/examples/"
   ]
  }
 ],
 "metadata": {
  "kernelspec": {
   "display_name": "Python 3",
   "language": "python",
   "name": "python3"
  },
  "language_info": {
   "codemirror_mode": {
    "name": "ipython",
    "version": 3
   },
   "file_extension": ".py",
   "mimetype": "text/x-python",
   "name": "python",
   "nbconvert_exporter": "python",
   "pygments_lexer": "ipython3",
   "version": "3.6.5"
  }
 },
 "nbformat": 4,
 "nbformat_minor": 4
}

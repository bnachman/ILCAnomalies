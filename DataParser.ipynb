{
 "cells": [
  {
   "cell_type": "code",
   "execution_count": 1,
   "metadata": {
    "ExecuteTime": {
     "end_time": "2020-10-02T09:02:32.036294Z",
     "start_time": "2020-10-02T09:02:31.700028Z"
    }
   },
   "outputs": [],
   "source": [
    "import numpy as np\n",
    "import matplotlib.pyplot as plt"
   ]
  },
  {
   "cell_type": "code",
   "execution_count": 2,
   "metadata": {
    "ExecuteTime": {
     "end_time": "2020-10-02T09:02:38.198734Z",
     "start_time": "2020-10-02T09:02:36.330968Z"
    }
   },
   "outputs": [],
   "source": [
    "#\"Background only\" i.e. no anomalies in this dataset\n",
    "myfile = open(\"/data0/users/bpnachman/anomaly/processed_lhe001_background.txt\")\n",
    "\n",
    "#Want to make new particles with a given mass.  E = mc^2\n",
    "#Instead electron + electron -> new particle -> stuff we sift through\n",
    "#electron + electron -> photon + new particle -> stuff\n",
    "\n",
    "all_records = []\n",
    "mymeasuredenergy = []\n",
    "count = 0\n",
    "for line in myfile:\n",
    "    \n",
    "    metadata = line.split(\"J\")[0]\n",
    "    eventinfo = line.split(\"J\")[1]\n",
    "    jets = eventinfo.split(\"P\")[0]\n",
    "    particles = eventinfo.split(\"P\")[1]\n",
    "    \n",
    "    this_record = {}\n",
    "    this_record['label'] = count\n",
    "    count += 1\n",
    "    eventweight = float(metadata.split()[0])\n",
    "    this_record['eventweight'] = eventweight #this is the event \"weight\".  Let's ignoreit for now (we will need it later).\n",
    "    njets = int(len(jets.split())/11) #number of \"jets\"\n",
    "    \n",
    "    nparticles  = int(len(particles.split())/5) #number of particles\n",
    "    \n",
    "    \n",
    "    \n",
    "    \n",
    "    #True collision quantities\n",
    "    this_record['truthcenterofmassenergy'] = float(metadata.split()[1]) #true total energy - should be delta function at 1000 GeV\n",
    "    this_record['truthsqrtshat'] = float(metadata.split()[2]) #energy available for making new particles (electron energy - photon)\n",
    "    this_record['truthphotonpT'] = float(metadata.split()[3]) #photon momentum |p| in units of GeV\n",
    "    this_record['truthphotoneta'] = float(metadata.split()[4]) #photon pseudorapidity (~polar angle - see e.g. https://en.wikipedia.org/wiki/Pseudorapidity)\n",
    "    this_record['truthphotonphi'] = float(metadata.split()[5]) #photon azimuthal angle\n",
    "\n",
    "    #Measured collision quantities\n",
    "    measuredcenterofmassenergy  = float(metadata.split()[6]) #true measured energy - should be noisy version of truthcenterofmassenergy\n",
    "    this_record['measuredcenterofmassenergy'] = measuredcenterofmassenergy\n",
    "    this_record['measuredsqrtshat'] = float(metadata.split()[7]) #energy available for making new particles (electron energy - photon)\n",
    "    this_record['measuredphotonpT'] = float(metadata.split()[8]) #photon momentum |p| in units of GeV\n",
    "    this_record['measuredphotoneta'] = float(metadata.split()[9]) #photon pseudorapidity (~polar angle - see e.g. https://en.wikipedia.org/wiki/Pseudorapidity)\n",
    "    this_record['measuredphotonphi'] = float(metadata.split()[10]) #photon azimuthal angle\n",
    "    this_record['metadata'] = metadata.split()\n",
    "\n",
    "    mymeasuredenergy+=[measuredcenterofmassenergy]\n",
    "\n",
    "    this_record['njets'] = njets\n",
    "    jets = jets.split()\n",
    "    jets_vec = []\n",
    "    for i in range(njets):\n",
    "        jet = np.zeros(11)\n",
    "        #order:\n",
    "        # - index\n",
    "        # - magnitude of momentum |p| (units of GeV)\n",
    "        # - pseudorapidity (~polar angle - see e.g. https://en.wikipedia.org/wiki/Pseudorapidity)\n",
    "        # - azimuthal angle\n",
    "        # - mass (units of GeV/c^2)\n",
    "        # - bit encoding of the jet \"flavor\" (not totally sure what the bit means, but will look it up)\n",
    "        # - 0th angular moment of jet radiation\n",
    "        # - 1th angular moment of jet radiation\n",
    "        # - 2th angular moment of jet radiation\n",
    "        # - 3th angular moment of jet radiation\n",
    "        # - 4th angular moment of jet radiation\n",
    "        jet = jets[i*11:i*11+11]\n",
    "        jets_vec+=[jet]\n",
    "        \n",
    "    this_record['jets']=jets_vec\n",
    "    \n",
    "    this_record['nparticles'] = nparticles\n",
    "    \n",
    "    particles = particles.split()\n",
    "    particles_vec = []\n",
    "    for i in range(nparticles):\n",
    "        particle = np.zeros(5)\n",
    "        #order:\n",
    "        # - index\n",
    "        # - magnitude of momentum |p| (units of GeV)\n",
    "        # - pseudorapidity (~polar angle - see e.g. https://en.wikipedia.org/wiki/Pseudorapidity)\n",
    "        # - azimuthal angle\n",
    "        # - particle identifier (https://pdg.lbl.gov/2006/reviews/pdf-files/montecarlo-web.pdf)\n",
    "        particle = particles[i*5:i*5+5]\n",
    "        particles_vec+=[particle]\n",
    "        #print(particles[i*5],particles[i*5+1],particles[i*5+2],particles[i*5+3],particles[i*5+4])\n",
    "    this_record['particles'] = particles_vec\n",
    "\n",
    "    all_records.append(this_record)"
   ]
  },
  {
   "cell_type": "code",
   "execution_count": 3,
   "metadata": {
    "ExecuteTime": {
     "end_time": "2020-10-02T09:02:39.053322Z",
     "start_time": "2020-10-02T09:02:39.035292Z"
    },
    "scrolled": true
   },
   "outputs": [
    {
     "data": {
      "text/plain": [
       "{'label': 2,\n",
       " 'eventweight': 0.342393,\n",
       " 'truthcenterofmassenergy': 1000.0,\n",
       " 'truthsqrtshat': 962.971,\n",
       " 'truthphotonpT': 5.46983,\n",
       " 'truthphotoneta': 2.5812,\n",
       " 'truthphotonphi': -3.06883,\n",
       " 'measuredcenterofmassenergy': 907.012,\n",
       " 'measuredsqrtshat': 182.412,\n",
       " 'measuredphotonpT': 124.548,\n",
       " 'measuredphotoneta': -2.04711,\n",
       " 'measuredphotonphi': 0.448909,\n",
       " 'metadata': ['0.342393',\n",
       "  '1000',\n",
       "  '962.971',\n",
       "  '5.46983',\n",
       "  '2.5812',\n",
       "  '-3.06883',\n",
       "  '907.012',\n",
       "  '182.412',\n",
       "  '124.548',\n",
       "  '-2.04711',\n",
       "  '0.448909'],\n",
       " 'njets': 3,\n",
       " 'jets': [['0',\n",
       "   '49.7791',\n",
       "   '2.40904',\n",
       "   '-3.08059',\n",
       "   '8.52077',\n",
       "   '3',\n",
       "   '0.119631',\n",
       "   '0.0862247',\n",
       "   '0.0603597',\n",
       "   '0.044477',\n",
       "   '0.0372949'],\n",
       "  ['1',\n",
       "   '39.2359',\n",
       "   '1.656',\n",
       "   '-2.18411',\n",
       "   '10.3381',\n",
       "   '0',\n",
       "   '0.212412',\n",
       "   '0.151033',\n",
       "   '0.123118',\n",
       "   '0.101883',\n",
       "   '0.0770021'],\n",
       "  ['2',\n",
       "   '26.9277',\n",
       "   '-0.410937',\n",
       "   '-2.5438',\n",
       "   '14.7735',\n",
       "   '99',\n",
       "   '0.433979',\n",
       "   '0.219466',\n",
       "   '0.168326',\n",
       "   '0.14532',\n",
       "   '0.116208']],\n",
       " 'nparticles': 64,\n",
       " 'particles': [['0', '124.548', '-2.04711', '0.448909', '22'],\n",
       "  ['1', '0.476704', '-0.567662', '-2.72947', '22'],\n",
       "  ['2', '0.611638', '-0.480298', '-2.65817', '22'],\n",
       "  ['3', '0.135204', '-0.380997', '-3.05799', '22'],\n",
       "  ['4', '0.571691', '-0.353618', '-1.98587', '22'],\n",
       "  ['5', '0.36434', '-0.338438', '-2.74559', '22'],\n",
       "  ['6', '0.200027', '-0.198397', '-2.77866', '22'],\n",
       "  ['7', '1.74759', '0.0934227', '-2.49459', '22'],\n",
       "  ['8', '0.585414', '0.198293', '-3.05854', '22'],\n",
       "  ['9', '0.247802', '0.278322', '-2.56937', '22'],\n",
       "  ['10', '0.717145', '1.54652', '-2.26241', '22'],\n",
       "  ['11', '0.449434', '1.73945', '-2.5813', '22'],\n",
       "  ['12', '1.33099', '1.80285', '-2.43259', '22'],\n",
       "  ['13', '0.464368', '1.84172', '-2.06665', '22'],\n",
       "  ['14', '0.155163', '1.85459', '-2.43696', '22'],\n",
       "  ['15', '0.173242', '2.05129', '-2.03116', '22'],\n",
       "  ['16', '0.382071', '2.28047', '-1.83089', '22'],\n",
       "  ['17', '4.2962', '2.38385', '-3.04999', '22'],\n",
       "  ['18', '11.5302', '2.39025', '-3.03738', '22'],\n",
       "  ['19', '0.485497', '2.38648', '-2.93811', '22'],\n",
       "  ['20', '0.112031', '2.39514', '-2.4452', '22'],\n",
       "  ['21', '1.67144', '2.43762', '-3.11409', '22'],\n",
       "  ['22', '0.430156', '2.47043', '-1.96009', '22'],\n",
       "  ['23', '5.71094', '2.57287', '-3.1173', '22'],\n",
       "  ['24', '0.183764', '2.88239', '-1.7085', '22'],\n",
       "  ['25', '0.430867', '-0.322484', '-2.4875', '211'],\n",
       "  ['26', '0.418308', '-0.20801', '-1.95086', '-211'],\n",
       "  ['27', '0.685431', '-0.838536', '-2.23529', '-211'],\n",
       "  ['28', '0.758774', '-0.382982', '-2.04808', '-211'],\n",
       "  ['29', '2.7827', '-0.616265', '-2.64467', '211'],\n",
       "  ['30', '1.41249', '-0.502262', '-2.81209', '-211'],\n",
       "  ['31', '1.8014', '-0.497419', '-2.95643', '211'],\n",
       "  ['32', '4.03616', '-0.510472', '-2.72037', '211'],\n",
       "  ['33', '2.37117', '-0.181119', '-2.88529', '-211'],\n",
       "  ['34', '0.947014', '1.00488', '-2.31994', '-211'],\n",
       "  ['35', '1.36198', '1.25031', '-2.19006', '211'],\n",
       "  ['36', '1.37562', '1.41584', '-1.99024', '-211'],\n",
       "  ['37', '4.79724', '1.55409', '-1.95561', '211'],\n",
       "  ['38', '2.12563', '1.61786', '-2.10128', '211'],\n",
       "  ['39', '4.56553', '1.61913', '-2.39363', '-211'],\n",
       "  ['40', '2.90598', '1.63181', '-2.06734', '211'],\n",
       "  ['41', '9.14259', '1.61944', '-2.25155', '-211'],\n",
       "  ['42', '1.18529', '1.66645', '-2.05189', '-211'],\n",
       "  ['43', '1.66704', '1.84009', '-2.0349', '-211'],\n",
       "  ['44', '1.36521', '1.92037', '-2.37504', '-211'],\n",
       "  ['45', '0.399247', '1.24823', '-2.74683', '211'],\n",
       "  ['46', '0.698936', '2.01927', '-2.19798', '211'],\n",
       "  ['47', '1.3401', '2.04779', '3.0239', '211'],\n",
       "  ['48', '1.41815', '2.04438', '-3.02575', '211'],\n",
       "  ['49', '4.6617', '2.36785', '3.12358', '-211'],\n",
       "  ['50', '4.74796', '2.42165', '-3.07015', '211'],\n",
       "  ['51', '1.38954', '2.38336', '-2.8495', '-211'],\n",
       "  ['52', '7.35446', '2.50518', '-3.09441', '-211'],\n",
       "  ['36', '1.59537', '-0.519314', '2.77239', '2112'],\n",
       "  ['37', '2.07476', '-0.44437', '-2.80399', '2112'],\n",
       "  ['38', '3.89014', '-0.322625', '-1.92365', '2112'],\n",
       "  ['39', '2.77463', '-0.131528', '-1.79484', '2112'],\n",
       "  ['40', '1.54389', '1.47057', '-1.94385', '2112'],\n",
       "  ['41', '0.771833', '1.5682', '-2.12313', '2112'],\n",
       "  ['42', '1.59827', '1.92573', '-2.9229', '2112'],\n",
       "  ['43', '1.29562', '1.97712', '-2.27515', '2112'],\n",
       "  ['44', '0.262966', '2.02589', '-2.79607', '2112'],\n",
       "  ['45', '0.553741', '2.40519', '-3.01183', '2112'],\n",
       "  ['46', '2.86149', '2.41736', '2.99141', '2112']]}"
      ]
     },
     "execution_count": 3,
     "metadata": {},
     "output_type": "execute_result"
    }
   ],
   "source": [
    "all_records[2]"
   ]
  },
  {
   "cell_type": "code",
   "execution_count": 43,
   "metadata": {
    "ExecuteTime": {
     "end_time": "2020-10-02T10:18:18.556288Z",
     "start_time": "2020-10-02T10:18:18.351729Z"
    }
   },
   "outputs": [
    {
     "data": {
      "text/plain": [
       "Text(0, 0.5, 'Number of Events / bin')"
      ]
     },
     "execution_count": 43,
     "metadata": {},
     "output_type": "execute_result"
    },
    {
     "data": {
      "image/png": "[encoded data removed]",
      "text/plain": [
       "<Figure size 432x288 with 1 Axes>"
      ]
     },
     "metadata": {
      "needs_background": "light"
     },
     "output_type": "display_data"
    }
   ],
   "source": [
    "this_arr = np.array([i['measuredsqrtshat'] for i in all_records])\n",
    "plt.hist(np.log10(this_arr))\n",
    "plt.xlabel(\"measuredsqrtshat\")\n",
    "plt.ylabel(\"Number of Events / bin\")"
   ]
  },
  {
   "cell_type": "markdown",
   "metadata": {},
   "source": [
    "## EFN experimenting"
   ]
  },
  {
   "cell_type": "markdown",
   "metadata": {},
   "source": [
    "### imports and settings"
   ]
  },
  {
   "cell_type": "code",
   "execution_count": 33,
   "metadata": {
    "ExecuteTime": {
     "end_time": "2020-10-02T10:06:05.675358Z",
     "start_time": "2020-10-02T10:06:05.669885Z"
    }
   },
   "outputs": [],
   "source": [
    "import energyflow as ef\n",
    "from energyflow.archs import PFN\n",
    "from energyflow.datasets import qg_jets\n",
    "from energyflow.utils import data_split, remap_pids, to_categorical\n",
    "from sklearn.metrics import roc_auc_score, roc_curve\n"
   ]
  },
  {
   "cell_type": "code",
   "execution_count": 34,
   "metadata": {
    "ExecuteTime": {
     "end_time": "2020-10-02T10:07:14.956796Z",
     "start_time": "2020-10-02T10:07:14.950870Z"
    }
   },
   "outputs": [],
   "source": [
    "train, val, test = 7500, 1000, 1500\n",
    "use_pids = True\n",
    "Phi_sizes, F_sizes = (100, 100, 128), (100, 100, 100)\n",
    "num_epoch = 5\n",
    "batch_size = 100"
   ]
  },
  {
   "cell_type": "markdown",
   "metadata": {},
   "source": [
    "### Save particles only as X"
   ]
  },
  {
   "cell_type": "markdown",
   "metadata": {},
   "source": [
    "Save all particles in 3d array. dim 0 = datapoints; dim 1 = particles; dim 2 = particle features.\n",
    "\n",
    "Particle features have original index 0 omitted. new index 0, 1, 2 are numerical. index 3 is PID"
   ]
  },
  {
   "cell_type": "code",
   "execution_count": 69,
   "metadata": {
    "ExecuteTime": {
     "end_time": "2020-10-02T10:23:50.089920Z",
     "start_time": "2020-10-02T10:23:50.081973Z"
    }
   },
   "outputs": [],
   "source": [
    "max_nparticles = max([i['nparticles'] for i in all_records])"
   ]
  },
  {
   "cell_type": "code",
   "execution_count": 70,
   "metadata": {
    "ExecuteTime": {
     "end_time": "2020-10-02T10:23:53.205878Z",
     "start_time": "2020-10-02T10:23:50.710998Z"
    }
   },
   "outputs": [],
   "source": [
    "padded_part_arrays =[]\n",
    "for record in all_records:\n",
    "    # convert to np array\n",
    "    these_particles = np.array(record['particles']).astype('float')\n",
    "    # omit index 0\n",
    "    these_particles = these_particles[:,1:]\n",
    "    # determine how many zero values to pad\n",
    "    pad_length = max_nparticles - these_particles.shape[0]\n",
    "    #pad\n",
    "    padded_particles = np.pad(these_particles, ((0,pad_length),(0,0)))\n",
    "    # check padding\n",
    "    assert padded_particles.shape == (max_nparticles, 4)\n",
    "    # add to list\n",
    "    padded_part_arrays.append(padded_particles)\n",
    "    \n",
    "all_particle_array = np.array(padded_part_arrays)\n",
    "X = all_particle_array"
   ]
  },
  {
   "cell_type": "code",
   "execution_count": 71,
   "metadata": {
    "ExecuteTime": {
     "end_time": "2020-10-02T10:23:53.898685Z",
     "start_time": "2020-10-02T10:23:53.893245Z"
    }
   },
   "outputs": [
    {
     "data": {
      "text/plain": [
       "(10000, 344, 4)"
      ]
     },
     "execution_count": 71,
     "metadata": {},
     "output_type": "execute_result"
    }
   ],
   "source": [
    "X.shape"
   ]
  },
  {
   "cell_type": "markdown",
   "metadata": {},
   "source": [
    "### Save measured centerofmassEnergy as y"
   ]
  },
  {
   "cell_type": "code",
   "execution_count": 62,
   "metadata": {
    "ExecuteTime": {
     "end_time": "2020-10-02T10:22:53.384422Z",
     "start_time": "2020-10-02T10:22:53.375955Z"
    }
   },
   "outputs": [],
   "source": [
    "y = np.array([i['measuredcenterofmassenergy'] for i in all_records])"
   ]
  },
  {
   "cell_type": "code",
   "execution_count": 63,
   "metadata": {
    "ExecuteTime": {
     "end_time": "2020-10-02T10:22:53.867622Z",
     "start_time": "2020-10-02T10:22:53.863714Z"
    }
   },
   "outputs": [],
   "source": [
    "# reshape using log for better distribution\n",
    "y_log = np.log10(y)"
   ]
  },
  {
   "cell_type": "code",
   "execution_count": 64,
   "metadata": {
    "ExecuteTime": {
     "end_time": "2020-10-02T10:22:54.275870Z",
     "start_time": "2020-10-02T10:22:54.268712Z"
    }
   },
   "outputs": [],
   "source": [
    "max_ylog= max(y_log)"
   ]
  },
  {
   "cell_type": "code",
   "execution_count": 65,
   "metadata": {
    "ExecuteTime": {
     "end_time": "2020-10-02T10:22:54.699961Z",
     "start_time": "2020-10-02T10:22:54.692619Z"
    }
   },
   "outputs": [
    {
     "data": {
      "text/plain": [
       "(10000, 2)"
      ]
     },
     "execution_count": 65,
     "metadata": {},
     "output_type": "execute_result"
    }
   ],
   "source": [
    "Yleft = y_log/max_ylog\n",
    "Yright = 1 - Yleft\n",
    "Y = np.vstack([Yleft, Yright]).T\n",
    "Y.shape"
   ]
  },
  {
   "cell_type": "markdown",
   "metadata": {},
   "source": [
    "### Preprocessing"
   ]
  },
  {
   "cell_type": "code",
   "execution_count": 72,
   "metadata": {
    "ExecuteTime": {
     "end_time": "2020-10-02T10:24:00.552561Z",
     "start_time": "2020-10-02T10:23:59.216026Z"
    }
   },
   "outputs": [],
   "source": [
    "# handle particle id channel\n",
    "if use_pids:\n",
    "    remap_pids(X, pid_i=3)\n",
    "else:\n",
    "    X = X[:,:,:3]"
   ]
  },
  {
   "cell_type": "code",
   "execution_count": 76,
   "metadata": {
    "ExecuteTime": {
     "end_time": "2020-10-02T10:24:22.259622Z",
     "start_time": "2020-10-02T10:24:22.228849Z"
    }
   },
   "outputs": [],
   "source": [
    "# do train/val/test split \n",
    "(X_train, X_val, X_test,\n",
    " Y_train, Y_val, Y_test) = data_split(X, Y, val=val, test=test)"
   ]
  },
  {
   "cell_type": "markdown",
   "metadata": {},
   "source": [
    "### Building the model"
   ]
  },
  {
   "cell_type": "code",
   "execution_count": 77,
   "metadata": {
    "ExecuteTime": {
     "end_time": "2020-10-02T10:24:23.522061Z",
     "start_time": "2020-10-02T10:24:23.313720Z"
    }
   },
   "outputs": [
    {
     "name": "stdout",
     "output_type": "stream",
     "text": [
      "__________________________________________________________________________________________________\n",
      "Layer (type)                    Output Shape         Param #     Connected to                     \n",
      "==================================================================================================\n",
      "input (InputLayer)              (None, None, 4)      0                                            \n",
      "__________________________________________________________________________________________________\n",
      "tdist_0 (TimeDistributed)       (None, None, 100)    500         input[0][0]                      \n",
      "__________________________________________________________________________________________________\n",
      "activation_15 (Activation)      (None, None, 100)    0           tdist_0[0][0]                    \n",
      "__________________________________________________________________________________________________\n",
      "tdist_1 (TimeDistributed)       (None, None, 100)    10100       activation_15[0][0]              \n",
      "__________________________________________________________________________________________________\n",
      "activation_16 (Activation)      (None, None, 100)    0           tdist_1[0][0]                    \n",
      "__________________________________________________________________________________________________\n",
      "tdist_2 (TimeDistributed)       (None, None, 128)    12928       activation_16[0][0]              \n",
      "__________________________________________________________________________________________________\n",
      "mask (Lambda)                   (None, None)         0           input[0][0]                      \n",
      "__________________________________________________________________________________________________\n",
      "activation_17 (Activation)      (None, None, 128)    0           tdist_2[0][0]                    \n",
      "__________________________________________________________________________________________________\n",
      "sum (Dot)                       (None, 128)          0           mask[0][0]                       \n",
      "                                                                 activation_17[0][0]              \n",
      "__________________________________________________________________________________________________\n",
      "dense_0 (Dense)                 (None, 100)          12900       sum[0][0]                        \n",
      "__________________________________________________________________________________________________\n",
      "activation_18 (Activation)      (None, 100)          0           dense_0[0][0]                    \n",
      "__________________________________________________________________________________________________\n",
      "dense_1 (Dense)                 (None, 100)          10100       activation_18[0][0]              \n",
      "__________________________________________________________________________________________________\n",
      "activation_19 (Activation)      (None, 100)          0           dense_1[0][0]                    \n",
      "__________________________________________________________________________________________________\n",
      "dense_2 (Dense)                 (None, 100)          10100       activation_19[0][0]              \n",
      "__________________________________________________________________________________________________\n",
      "activation_20 (Activation)      (None, 100)          0           dense_2[0][0]                    \n",
      "__________________________________________________________________________________________________\n",
      "output (Dense)                  (None, 2)            202         activation_20[0][0]              \n",
      "__________________________________________________________________________________________________\n",
      "activation_21 (Activation)      (None, 2)            0           output[0][0]                     \n",
      "==================================================================================================\n",
      "Total params: 56,830\n",
      "Trainable params: 56,830\n",
      "Non-trainable params: 0\n",
      "__________________________________________________________________________________________________\n"
     ]
    }
   ],
   "source": [
    "# build architecture\n",
    "pfn = PFN(input_dim=X.shape[-1], Phi_sizes=Phi_sizes, F_sizes=F_sizes)\n"
   ]
  },
  {
   "cell_type": "markdown",
   "metadata": {},
   "source": [
    "### Training"
   ]
  },
  {
   "cell_type": "code",
   "execution_count": 79,
   "metadata": {
    "ExecuteTime": {
     "end_time": "2020-10-02T10:24:53.830391Z",
     "start_time": "2020-10-02T10:24:50.877766Z"
    }
   },
   "outputs": [
    {
     "name": "stdout",
     "output_type": "stream",
     "text": [
      "Train on 7500 samples, validate on 1000 samples\n",
      "Epoch 1/5\n",
      "7500/7500 [==============================] - 1s 81us/step - loss: 7.8355 - acc: 0.5139 - val_loss: 8.4136 - val_acc: 0.4780\n",
      "Epoch 2/5\n",
      "7500/7500 [==============================] - 1s 77us/step - loss: 7.8355 - acc: 0.5139 - val_loss: 8.4136 - val_acc: 0.4780\n",
      "Epoch 3/5\n",
      "7500/7500 [==============================] - 1s 77us/step - loss: 7.8355 - acc: 0.5139 - val_loss: 8.4136 - val_acc: 0.4780\n",
      "Epoch 4/5\n",
      "7500/7500 [==============================] - 1s 79us/step - loss: 7.8355 - acc: 0.5139 - val_loss: 8.4136 - val_acc: 0.4780\n",
      "Epoch 5/5\n",
      "7500/7500 [==============================] - 1s 78us/step - loss: 7.8355 - acc: 0.5139 - val_loss: 8.4136 - val_acc: 0.4780\n"
     ]
    },
    {
     "data": {
      "text/plain": [
       "<keras.callbacks.History at 0x7fd4f8d75710>"
      ]
     },
     "execution_count": 79,
     "metadata": {},
     "output_type": "execute_result"
    }
   ],
   "source": [
    "pfn.fit(X_train, Y_train,\n",
    "          epochs=num_epoch,\n",
    "          batch_size=batch_size,\n",
    "          validation_data=(X_val, Y_val),\n",
    "          verbose=1)"
   ]
  },
  {
   "cell_type": "code",
   "execution_count": null,
   "metadata": {},
   "outputs": [],
   "source": [
    "#Later for ML: https://energyflow.network/examples/"
   ]
  }
 ],
 "metadata": {
  "kernelspec": {
   "display_name": "Python 3",
   "language": "python",
   "name": "python3"
  },
  "language_info": {
   "codemirror_mode": {
    "name": "ipython",
    "version": 3
   },
   "file_extension": ".py",
   "mimetype": "text/x-python",
   "name": "python",
   "nbconvert_exporter": "python",
   "pygments_lexer": "ipython3",
   "version": "3.6.5"
  }
 },
 "nbformat": 4,
 "nbformat_minor": 4
}

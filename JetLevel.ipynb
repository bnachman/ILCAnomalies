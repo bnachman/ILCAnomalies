{
 "cells": [
  {
   "cell_type": "code",
   "execution_count": 1,
   "metadata": {},
   "outputs": [],
   "source": [
    "# IO: do this:\n",
    "#source activate fullenv\n",
    "#python -m ipykernel install --user --name fullenv --display-name \"fullenv\"\n",
    "# also see this https://anbasile.github.io/posts/2017-06-25-jupyter-venv/\n",
    "import numpy as np\n",
    "import matplotlib.pyplot as plt\n",
    "import glob"
   ]
  },
  {
   "cell_type": "code",
   "execution_count": 2,
   "metadata": {
    "ExecuteTime": {
     "end_time": "2020-09-29T00:04:31.491088Z",
     "start_time": "2020-09-29T00:04:22.404351Z"
    },
    "scrolled": false
   },
   "outputs": [],
   "source": [
    "bg_file_list = glob.glob(\"/Users/inesochoa/PhysicsWorkdir/snowmassWorkDir/ILCAnomalies/processed*background*.txt\")\n",
    "signal_file_list = glob.glob(\"//Users/inesochoa/PhysicsWorkdir/snowmassWorkDir/ILCAnomalies/processed_lhe*signal.txt\")"
   ]
  },
  {
   "cell_type": "markdown",
   "metadata": {
    "ExecuteTime": {
     "end_time": "2020-09-28T23:36:44.251410Z",
     "start_time": "2020-09-28T23:36:44.245539Z"
    }
   },
   "source": [
    "# Using DNN with Nsubjettiness variables from EnergyFlow package\n",
    "\n",
    "## Data parsing, plotting, ..."
   ]
  },
  {
   "cell_type": "code",
   "execution_count": 3,
   "metadata": {
    "ExecuteTime": {
     "end_time": "2020-09-28T23:26:42.280077Z",
     "start_time": "2020-09-28T23:26:42.273311Z"
    }
   },
   "outputs": [],
   "source": [
    "#From Ben, function to parse files:\n",
    "def parse_file(file_object):\n",
    "    all_records = []\n",
    "    mymeasuredenergy = []\n",
    "\n",
    "    count = 0\n",
    "    for line in file_object:\n",
    "\n",
    "        metadata = line.split(\"J\")[0]\n",
    "        eventinfo = line.split(\"J\")[1]\n",
    "        jets = eventinfo.split(\"P\")[0]\n",
    "        particles = eventinfo.split(\"P\")[1]\n",
    "\n",
    "        this_record = {}\n",
    "        this_record['label'] = count\n",
    "        count += 1\n",
    "        eventweight = float(metadata.split()[0])\n",
    "        this_record['eventweight'] = eventweight #this is the event \"weight\".  Let's ignoreit for now (we will need it later).\n",
    "        njets = int(len(jets.split())/11) #number of \"jets\"\n",
    "\n",
    "        nparticles  = int(len(particles.split())/5) #number of particles\n",
    "\n",
    "        #True collision quantities\n",
    "        this_record['truthcenterofmassenergy'] = float(metadata.split()[1]) #true total energy - should be delta function at 1000 GeV\n",
    "        this_record['truthsqrtshat'] = float(metadata.split()[2]) #energy available for making new particles (electron energy - photon)\n",
    "        this_record['truthphotonpT'] = float(metadata.split()[3]) #photon momentum |p| in units of GeV\n",
    "        this_record['truthphotoneta'] = float(metadata.split()[4]) #photon pseudorapidity (~polar angle - see e.g. https://en.wikipedia.org/wiki/Pseudorapidity)\n",
    "        this_record['truthphotonphi'] = float(metadata.split()[5]) #photon azimuthal angle\n",
    "\n",
    "        #Measured collision quantities\n",
    "        measuredcenterofmassenergy  = float(metadata.split()[6]) #true measured energy - should be noisy version of truthcenterofmassenergy\n",
    "        this_record['measuredcenterofmassenergy'] = measuredcenterofmassenergy\n",
    "        this_record['measuredsqrtshat'] = float(metadata.split()[7]) #energy available for making new particles (electron energy - photon)\n",
    "        this_record['measuredphotonpT'] = float(metadata.split()[8]) #photon momentum |p| in units of GeV\n",
    "        this_record['measuredphotoneta'] = float(metadata.split()[9]) #photon pseudorapidity (~polar angle - see e.g. https://en.wikipedia.org/wiki/Pseudorapidity)\n",
    "        this_record['measuredphotonphi'] = float(metadata.split()[10]) #photon azimuthal angle\n",
    "        this_record['metadata'] = metadata.split()\n",
    "\n",
    "        mymeasuredenergy+=[measuredcenterofmassenergy]\n",
    "\n",
    "        this_record['njets'] = njets\n",
    "        jets = jets.split()\n",
    "        jets_vec = []\n",
    "        for i in range(njets):\n",
    "            jet = np.zeros(11)\n",
    "            #order:\n",
    "            # - index\n",
    "            # - magnitude of momentum |p| (units of GeV)\n",
    "            # - pseudorapidity (~polar angle - see e.g. https://en.wikipedia.org/wiki/Pseudorapidity)\n",
    "            # - azimuthal angle\n",
    "            # - mass (units of GeV/c^2)\n",
    "            # - bit encoding of the jet \"flavor\" (not totally sure what the bit means, but will look it up)\n",
    "            # - 0th angular moment of jet radiation\n",
    "            # - 1th angular moment of jet radiation\n",
    "            # - 2th angular moment of jet radiation\n",
    "            # - 3th angular moment of jet radiation\n",
    "            # - 4th angular moment of jet radiation\n",
    "            jet = jets[i*11:i*11+11]\n",
    "            jets_vec+=[jet]\n",
    "\n",
    "        this_record['jets']=jets_vec\n",
    "\n",
    "        this_record['nparticles'] = nparticles\n",
    "\n",
    "        particles = particles.split()\n",
    "        particles_vec = []\n",
    "        for i in range(nparticles):\n",
    "            particle = np.zeros(5)\n",
    "            #order:\n",
    "            # - index\n",
    "            # - magnitude of momentum |p| (units of GeV)\n",
    "            # - pseudorapidity (~polar angle - see e.g. https://en.wikipedia.org/wiki/Pseudorapidity)\n",
    "            # - azimuthal angle\n",
    "            # - particle identifier (https://pdg.lbl.gov/2006/reviews/pdf-files/montecarlo-web.pdf)\n",
    "            particle = particles[i*5:i*5+5]\n",
    "            particles_vec+=[particle]\n",
    "            #print(particles[i*5],particles[i*5+1],particles[i*5+2],particles[i*5+3],particles[i*5+4])\n",
    "        this_record['particles'] = particles_vec\n",
    "\n",
    "        \n",
    "        all_records.append(this_record)\n",
    "    return all_records"
   ]
  },
  {
   "cell_type": "code",
   "execution_count": 4,
   "metadata": {},
   "outputs": [
    {
     "data": {
      "text/plain": [
       "['/Users/inesochoa/PhysicsWorkdir/snowmassWorkDir/ILCAnomalies/processed_background_randomseeds_bigger6.txt',\n",
       " '/Users/inesochoa/PhysicsWorkdir/snowmassWorkDir/ILCAnomalies/processed_background_randomseeds_bigger5.txt',\n",
       " '/Users/inesochoa/PhysicsWorkdir/snowmassWorkDir/ILCAnomalies/processed_background_randomseeds_bigger4.txt',\n",
       " '/Users/inesochoa/PhysicsWorkdir/snowmassWorkDir/ILCAnomalies/processed_background_randomseeds_bigger1.txt',\n",
       " '/Users/inesochoa/PhysicsWorkdir/snowmassWorkDir/ILCAnomalies/processed_background_randomseeds_bigger3.txt',\n",
       " '/Users/inesochoa/PhysicsWorkdir/snowmassWorkDir/ILCAnomalies/processed_background_randomseeds_bigger2.txt',\n",
       " '/Users/inesochoa/PhysicsWorkdir/snowmassWorkDir/ILCAnomalies/processed_lhe004_background.txt',\n",
       " '/Users/inesochoa/PhysicsWorkdir/snowmassWorkDir/ILCAnomalies/processed_lhe003_background.txt',\n",
       " '/Users/inesochoa/PhysicsWorkdir/snowmassWorkDir/ILCAnomalies/processed_lhe002_background.txt',\n",
       " '/Users/inesochoa/PhysicsWorkdir/snowmassWorkDir/ILCAnomalies/processed_lhe005_background.txt',\n",
       " '/Users/inesochoa/PhysicsWorkdir/snowmassWorkDir/ILCAnomalies/processed_lhe007_background.txt',\n",
       " '/Users/inesochoa/PhysicsWorkdir/snowmassWorkDir/ILCAnomalies/processed_lhe008_background.txt',\n",
       " '/Users/inesochoa/PhysicsWorkdir/snowmassWorkDir/ILCAnomalies/processed_lhe001_background.txt',\n",
       " '/Users/inesochoa/PhysicsWorkdir/snowmassWorkDir/ILCAnomalies/processed_lhe006_background.txt']"
      ]
     },
     "execution_count": 4,
     "metadata": {},
     "output_type": "execute_result"
    }
   ],
   "source": [
    "bg_file_list"
   ]
  },
  {
   "cell_type": "code",
   "execution_count": 7,
   "metadata": {},
   "outputs": [],
   "source": [
    "bg_file_list=[\"/Users/inesochoa/PhysicsWorkdir/snowmassWorkDir/ILCAnomalies/processed_background_randomseeds_bigger6.txt\"]"
   ]
  },
  {
   "cell_type": "code",
   "execution_count": 8,
   "metadata": {
    "ExecuteTime": {
     "end_time": "2020-09-28T23:26:47.372147Z",
     "start_time": "2020-09-28T23:26:47.365985Z"
    }
   },
   "outputs": [],
   "source": [
    "bg_records = []\n",
    "for filename in bg_file_list:\n",
    "    file = open(filename)\n",
    "    bg_records += parse_file(file)\n",
    "#sig_records = []\n",
    "#for filename in signal_file_list:\n",
    "#    file = open(filename)\n",
    "#    sig_records += parse_file(file)"
   ]
  },
  {
   "cell_type": "code",
   "execution_count": 9,
   "metadata": {},
   "outputs": [
    {
     "data": {
      "text/plain": [
       "792983"
      ]
     },
     "execution_count": 9,
     "metadata": {},
     "output_type": "execute_result"
    }
   ],
   "source": [
    "len(bg_records)"
   ]
  },
  {
   "cell_type": "code",
   "execution_count": 10,
   "metadata": {},
   "outputs": [],
   "source": [
    "sig_records = []\n",
    "for filename in signal_file_list:\n",
    "    file = open(filename)\n",
    "    sig_records += parse_file(file)"
   ]
  },
  {
   "cell_type": "code",
   "execution_count": 11,
   "metadata": {
    "ExecuteTime": {
     "end_time": "2020-09-28T23:26:53.656121Z",
     "start_time": "2020-09-28T23:26:53.650089Z"
    }
   },
   "outputs": [
    {
     "data": {
      "text/plain": [
       "100000"
      ]
     },
     "execution_count": 11,
     "metadata": {},
     "output_type": "execute_result"
    }
   ],
   "source": [
    "len(sig_records)"
   ]
  },
  {
   "cell_type": "code",
   "execution_count": null,
   "metadata": {},
   "outputs": [],
   "source": []
  },
  {
   "cell_type": "code",
   "execution_count": 12,
   "metadata": {
    "ExecuteTime": {
     "end_time": "2020-09-28T23:27:43.272407Z",
     "start_time": "2020-09-28T23:27:40.232814Z"
    }
   },
   "outputs": [],
   "source": [
    "for i in sig_records:\n",
    "    i['from_anomaly_data'] = True\n",
    "for i in bg_records:\n",
    "    i['from_anomaly_data'] = False"
   ]
  },
  {
   "cell_type": "code",
   "execution_count": 13,
   "metadata": {
    "ExecuteTime": {
     "end_time": "2020-09-28T23:36:24.769760Z",
     "start_time": "2020-09-28T23:36:21.751332Z"
    }
   },
   "outputs": [],
   "source": [
    "all_records = sig_records[:10000] + bg_records"
   ]
  },
  {
   "cell_type": "code",
   "execution_count": 14,
   "metadata": {},
   "outputs": [
    {
     "name": "stdout",
     "output_type": "stream",
     "text": [
      "93.9736\n"
     ]
    }
   ],
   "source": [
    "for i in bg_records[8:9]:\n",
    "    pt = i['jets'][0][1]\n",
    "    print(pt)"
   ]
  },
  {
   "cell_type": "code",
   "execution_count": 15,
   "metadata": {},
   "outputs": [],
   "source": [
    "def plot_jets(jet,varindex,varname,R,doLog):\n",
    "    plt.figure(figsize=(20,5))\n",
    "    sig_arr = np.array([float(i['jets'][jet][varindex]) for i in sig_records[:10000]])\n",
    "    bkg_arr = np.array([float(i['jets'][jet][varindex]) for i in bg_records[:10000]])\n",
    "    #print(bkg_arr)\n",
    "    plt.hist(bkg_arr, R, color=\"steelblue\", histtype='step', linewidth=2)\n",
    "    plt.hist(sig_arr, R, color=\"tomato\", histtype='step', linewidth=2)\n",
    "    #plt.hist(this_arr, bins=np.logspace(1.5,3,30))\n",
    "    #plt.xscale('log')\n",
    "    #plt.xticks(R)\n",
    "    plt.xlabel(varname)\n",
    "    if doLog == True: plt.yscale('log')\n",
    "    plt.ylabel(\"Number of Events / bin\")"
   ]
  },
  {
   "cell_type": "code",
   "execution_count": 16,
   "metadata": {},
   "outputs": [
    {
     "data": {
      "image/png": "[encoded data removed]",
      "text/plain": [
       "<Figure size 1440x360 with 1 Axes>"
      ]
     },
     "metadata": {
      "needs_background": "light"
     },
     "output_type": "display_data"
    }
   ],
   "source": [
    "plot_jets(0,1,\"Leading jet $p_{t}$\",np.linspace(0,600,60),1)"
   ]
  },
  {
   "cell_type": "code",
   "execution_count": 17,
   "metadata": {},
   "outputs": [
    {
     "data": {
      "image/png": "[encoded data removed]",
      "text/plain": [
       "<Figure size 1440x360 with 1 Axes>"
      ]
     },
     "metadata": {
      "needs_background": "light"
     },
     "output_type": "display_data"
    }
   ],
   "source": [
    "plot_jets(0,2,\"Leading jet $\\eta$\",np.linspace(-5,5,50),1)"
   ]
  },
  {
   "cell_type": "code",
   "execution_count": 18,
   "metadata": {},
   "outputs": [
    {
     "data": {
      "image/png": "[encoded data removed]",
      "text/plain": [
       "<Figure size 1440x360 with 1 Axes>"
      ]
     },
     "metadata": {
      "needs_background": "light"
     },
     "output_type": "display_data"
    }
   ],
   "source": [
    "plot_jets(0,4,\"Leading jet mass\",np.linspace(0,300,100),1)"
   ]
  },
  {
   "cell_type": "code",
   "execution_count": 19,
   "metadata": {},
   "outputs": [
    {
     "data": {
      "image/png": "[encoded data removed]",
      "text/plain": [
       "<Figure size 1440x360 with 1 Axes>"
      ]
     },
     "metadata": {
      "needs_background": "light"
     },
     "output_type": "display_data"
    }
   ],
   "source": [
    "plot_jets(0,6,\"Leading jet Tau0\",np.linspace(0,1,100),1)"
   ]
  },
  {
   "cell_type": "code",
   "execution_count": 13,
   "metadata": {},
   "outputs": [
    {
     "data": {
      "image/png": "[encoded data removed]",
      "text/plain": [
       "<Figure size 1440x360 with 1 Axes>"
      ]
     },
     "metadata": {
      "needs_background": "light"
     },
     "output_type": "display_data"
    }
   ],
   "source": [
    "plot_jets(0,7,\"Leading jet Tau1\",np.linspace(0,1,100),1)"
   ]
  },
  {
   "cell_type": "code",
   "execution_count": 14,
   "metadata": {},
   "outputs": [
    {
     "data": {
      "image/png": "[encoded data removed]",
      "text/plain": [
       "<Figure size 1440x360 with 1 Axes>"
      ]
     },
     "metadata": {
      "needs_background": "light"
     },
     "output_type": "display_data"
    }
   ],
   "source": [
    "plot_jets(0,8,\"Leading jet Tau2\",np.linspace(0,1,100),1)"
   ]
  },
  {
   "cell_type": "code",
   "execution_count": 15,
   "metadata": {},
   "outputs": [
    {
     "data": {
      "image/png": "[encoded data removed]",
      "text/plain": [
       "<Figure size 1440x360 with 1 Axes>"
      ]
     },
     "metadata": {
      "needs_background": "light"
     },
     "output_type": "display_data"
    }
   ],
   "source": [
    "plot_jets(0,9,\"Leading jet Tau3\",np.linspace(0,1,100),1)"
   ]
  },
  {
   "cell_type": "code",
   "execution_count": 16,
   "metadata": {},
   "outputs": [
    {
     "data": {
      "image/png": "[encoded data removed]",
      "text/plain": [
       "<Figure size 1440x360 with 1 Axes>"
      ]
     },
     "metadata": {
      "needs_background": "light"
     },
     "output_type": "display_data"
    }
   ],
   "source": [
    "plot_jets(0,10,\"Leading jet Tau4\",np.linspace(0,1,100),1)"
   ]
  },
  {
   "cell_type": "markdown",
   "metadata": {},
   "source": [
    "## Features for jets"
   ]
  },
  {
   "cell_type": "code",
   "execution_count": 359,
   "metadata": {},
   "outputs": [],
   "source": [
    "# use two jets only \n",
    "max_njets = max([i['njets'] for i in all_records])\n"
   ]
  },
  {
   "cell_type": "code",
   "execution_count": 360,
   "metadata": {},
   "outputs": [
    {
     "name": "stdout",
     "output_type": "stream",
     "text": [
      "8\n"
     ]
    }
   ],
   "source": [
    "print(max_njets)"
   ]
  },
  {
   "cell_type": "markdown",
   "metadata": {},
   "source": [
    "### Make new arrays for background+signal and signal only, extracting only n-subjettiness"
   ]
  },
  {
   "cell_type": "code",
   "execution_count": 413,
   "metadata": {},
   "outputs": [],
   "source": [
    "def make_arrays(these_records):\n",
    "    padded_jet_arrays =[]\n",
    "    for i,record in enumerate(these_records):\n",
    "        # convert to np array\n",
    "        these_jets = np.array(record['jets']).astype('float')\n",
    "        if len(these_jets) == 0:\n",
    "            these_jets = np.zeros(11).reshape([1,11])\n",
    "        these_jets = these_jets[:,6:11] # only want nsubjettiness\n",
    "        \n",
    "        # determine how many zero values to pad\n",
    "        pad_length = max_njets - these_jets.shape[0]\n",
    "        #pad_length = 2#max_njets - these_jets.shape[0]\n",
    "        #pad\n",
    "        padded_jets = np.pad(these_jets, ((0,pad_length),(0,0))) \n",
    "        #print(i,pad_length, these_jets.shape[0], padded_jets.shape)\n",
    "        # check padding\n",
    "        assert padded_jets.shape == (max_njets, 5)\n",
    "        # add to list\n",
    "        padded_jet_arrays.append(padded_jets)\n",
    "    return np.array(padded_jet_arrays)"
   ]
  },
  {
   "cell_type": "code",
   "execution_count": 414,
   "metadata": {},
   "outputs": [],
   "source": [
    "X = make_arrays(all_records)\n",
    "X_bg = make_arrays(bg_records)\n",
    "X_sig = make_arrays(sig_records)\n",
    "#bg_records[68665]\n",
    "#test_jets = np.array(bg_records[68665]['jets']).astype('float')\n",
    "#test_jets = np.zeros(11).reshape([1,11])\n",
    "#print(test_jets)"
   ]
  },
  {
   "cell_type": "code",
   "execution_count": 415,
   "metadata": {},
   "outputs": [
    {
     "data": {
      "text/plain": [
       "array([[0.144761 , 0.046199 , 0.0388306, 0.0330971, 0.0306396],\n",
       "       [0.360191 , 0.171151 , 0.122468 , 0.106163 , 0.0936488],\n",
       "       [0.       , 0.       , 0.       , 0.       , 0.       ],\n",
       "       [0.       , 0.       , 0.       , 0.       , 0.       ],\n",
       "       [0.       , 0.       , 0.       , 0.       , 0.       ],\n",
       "       [0.       , 0.       , 0.       , 0.       , 0.       ],\n",
       "       [0.       , 0.       , 0.       , 0.       , 0.       ],\n",
       "       [0.       , 0.       , 0.       , 0.       , 0.       ]])"
      ]
     },
     "execution_count": 415,
     "metadata": {},
     "output_type": "execute_result"
    }
   ],
   "source": [
    "X_sig[0]"
   ]
  },
  {
   "cell_type": "code",
   "execution_count": 416,
   "metadata": {},
   "outputs": [
    {
     "data": {
      "text/plain": [
       "array([[0.144761 , 0.046199 , 0.0388306, 0.0330971, 0.0306396],\n",
       "       [0.360191 , 0.171151 , 0.122468 , 0.106163 , 0.0936488],\n",
       "       [0.       , 0.       , 0.       , 0.       , 0.       ],\n",
       "       [0.       , 0.       , 0.       , 0.       , 0.       ],\n",
       "       [0.       , 0.       , 0.       , 0.       , 0.       ],\n",
       "       [0.       , 0.       , 0.       , 0.       , 0.       ],\n",
       "       [0.       , 0.       , 0.       , 0.       , 0.       ],\n",
       "       [0.       , 0.       , 0.       , 0.       , 0.       ]])"
      ]
     },
     "execution_count": 416,
     "metadata": {},
     "output_type": "execute_result"
    }
   ],
   "source": [
    "X[0] # this is the same entry as X_sig"
   ]
  },
  {
   "cell_type": "code",
   "execution_count": 424,
   "metadata": {},
   "outputs": [
    {
     "data": {
      "text/plain": [
       "(8, 5)"
      ]
     },
     "execution_count": 424,
     "metadata": {},
     "output_type": "execute_result"
    }
   ],
   "source": [
    "X_sig[2].shape"
   ]
  },
  {
   "cell_type": "code",
   "execution_count": 422,
   "metadata": {},
   "outputs": [
    {
     "data": {
      "text/plain": [
       "(100000, 8, 5)"
      ]
     },
     "execution_count": 422,
     "metadata": {},
     "output_type": "execute_result"
    }
   ],
   "source": [
    "X_sig.shape"
   ]
  },
  {
   "cell_type": "code",
   "execution_count": 425,
   "metadata": {},
   "outputs": [],
   "source": [
    "X_sig = X_sig.reshape(100000,40)"
   ]
  },
  {
   "cell_type": "code",
   "execution_count": 426,
   "metadata": {},
   "outputs": [
    {
     "data": {
      "text/plain": [
       "(89999, 8, 5)"
      ]
     },
     "execution_count": 426,
     "metadata": {},
     "output_type": "execute_result"
    }
   ],
   "source": [
    "X.shape"
   ]
  },
  {
   "cell_type": "code",
   "execution_count": 427,
   "metadata": {},
   "outputs": [],
   "source": [
    "X = X.reshape(89999,40)"
   ]
  },
  {
   "cell_type": "code",
   "execution_count": 434,
   "metadata": {},
   "outputs": [
    {
     "data": {
      "text/plain": [
       "(79999, 8, 5)"
      ]
     },
     "execution_count": 434,
     "metadata": {},
     "output_type": "execute_result"
    }
   ],
   "source": [
    "X_bg.shape"
   ]
  },
  {
   "cell_type": "code",
   "execution_count": 435,
   "metadata": {},
   "outputs": [],
   "source": [
    "X_bg = X_bg.reshape(79999,40)"
   ]
  },
  {
   "cell_type": "code",
   "execution_count": 436,
   "metadata": {},
   "outputs": [],
   "source": [
    "y_bg = np.array([i['truthsqrtshat'] for i in bg_records])\n",
    "y_sig = np.array([i['truthsqrtshat'] for i in sig_records])"
   ]
  },
  {
   "cell_type": "code",
   "execution_count": 493,
   "metadata": {},
   "outputs": [],
   "source": [
    "sb_low = 100\n",
    "sb_high = 600\n",
    "sr_low = 300\n",
    "sr_high = 400\n",
    "def binary_side_band(y_thing):\n",
    "    if y_thing >= sr_low and y_thing < sr_high:\n",
    "        return 1\n",
    "    elif y_thing >= sb_low and y_thing < sb_high:\n",
    "        return 0\n",
    "    else:\n",
    "        return -1"
   ]
  },
  {
   "cell_type": "code",
   "execution_count": 494,
   "metadata": {},
   "outputs": [
    {
     "data": {
      "text/plain": [
       "(array([-1,  0,  1]), array([61233, 16504,  2262]))"
      ]
     },
     "execution_count": 494,
     "metadata": {},
     "output_type": "execute_result"
    }
   ],
   "source": [
    "y_bg_binary = np.vectorize(binary_side_band)(y_bg)\n",
    "np.unique(y_bg_binary,return_counts = True)"
   ]
  },
  {
   "cell_type": "code",
   "execution_count": 495,
   "metadata": {},
   "outputs": [
    {
     "data": {
      "text/plain": [
       "array([ 91.9595,  95.3535, 727.701 , ...,  91.9365, 692.473 ,  93.0525])"
      ]
     },
     "execution_count": 495,
     "metadata": {},
     "output_type": "execute_result"
    }
   ],
   "source": [
    "y_bg"
   ]
  },
  {
   "cell_type": "code",
   "execution_count": 496,
   "metadata": {},
   "outputs": [
    {
     "data": {
      "text/plain": [
       "Text(0, 0.5, 'Number of Events / bin')"
      ]
     },
     "execution_count": 496,
     "metadata": {},
     "output_type": "execute_result"
    },
    {
     "data": {
      "image/png": "[encoded data removed]",
      "text/plain": [
       "<Figure size 1440x720 with 1 Axes>"
      ]
     },
     "metadata": {
      "needs_background": "light"
     },
     "output_type": "display_data"
    }
   ],
   "source": [
    "plt.figure(figsize=(20,10))\n",
    "plt.hist(y_bg, color=\"steelblue\", histtype='step', linewidth=2, bins=100)\n",
    "plt.hist(y_sig, color=\"tomato\", histtype='step', linewidth=2, bins=100)\n",
    "plt.yscale('log')\n",
    "#plt.xticks(range(0,1000,20))\n",
    "plt.xlabel(\"truthsqrtshat\")\n",
    "plt.ylabel(\"Number of Events / bin\")\n",
    "#np.save('training_data/bg_truthsqrtshat', this_arr)"
   ]
  },
  {
   "cell_type": "markdown",
   "metadata": {},
   "source": [
    "_Need to check high sqrtshat values in signal_"
   ]
  },
  {
   "cell_type": "markdown",
   "metadata": {},
   "source": [
    "### Create arrays for bg in SR, SB + signal "
   ]
  },
  {
   "cell_type": "code",
   "execution_count": 497,
   "metadata": {},
   "outputs": [],
   "source": [
    "side_band_indicator = (y_bg_binary == 0)\n",
    "# This is the background data in the SB\n",
    "X_sideband = X_bg[side_band_indicator]\n",
    "y_sideband = y_bg_binary[side_band_indicator]"
   ]
  },
  {
   "cell_type": "code",
   "execution_count": 498,
   "metadata": {},
   "outputs": [],
   "source": [
    "within_bounds_indicator = (y_bg_binary == 1)\n",
    "# This is the background data in the SR\n",
    "X_selected = X_bg[within_bounds_indicator]\n",
    "y_selected = y_bg_binary[within_bounds_indicator]"
   ]
  },
  {
   "cell_type": "markdown",
   "metadata": {},
   "source": [
    "# NN training"
   ]
  },
  {
   "cell_type": "code",
   "execution_count": 499,
   "metadata": {},
   "outputs": [],
   "source": [
    "from sklearn.utils import shuffle\n",
    "import energyflow as ef\n",
    "from energyflow.archs import DNN\n",
    "from energyflow.utils import data_split, remap_pids, to_categorical\n",
    "from sklearn.metrics import roc_auc_score, roc_curve\n",
    "import math"
   ]
  },
  {
   "cell_type": "code",
   "execution_count": 500,
   "metadata": {},
   "outputs": [],
   "source": [
    "#X_shuffled, y_shuffled = shuffle(X_selected, y_selected)\n",
    "#train, val, test = 18000, 2000, 1186"
   ]
  },
  {
   "cell_type": "code",
   "execution_count": 501,
   "metadata": {},
   "outputs": [
    {
     "data": {
      "text/plain": [
       "'\\ndef prep_and_shufflesplit_data(anomaly_ratio, size_each = 50000, shuffle_seed = 69, train = 0.7, val = 0.2, test = 0.1):\\n    \\n    print(X_sideband.shape[0])\\n    print(X_selected.shape[0])\\n    #assert (size_each <= min(X_sideband.shape[0], X_selected.shape[0])) #Sel was sig\\n    \\n    #how much bg and signal data to take?\\n    anom_size = round(anomaly_ratio * size_each)\\n    bg_sig_size = size_each - anom_size\\n    \\n    # select sideband datapoints\\n    this_X_sideband = X_sideband[:size_each]\\n    this_y_sideband = y_sideband[:size_each]\\n    \\n    # duplicate bgsignal datapoints\\n    #this_X_bgsignal = np.copy(X_bgsignal)\\n    #this_y_bgsignal = np.copy(y_bgsignal)\\n    this_X_bgsignal = np.copy(X_selected) #io\\n    this_y_bgsignal = np.copy(y_selected) #io\\n        \\n    (this_X_bgsignal, this_X_bgsignal_v, this_X_bgsignal_t,\\n     this_y_bgsignal, this_y_bgsignal_v, this_y_bgsignal_t) = data_split(this_X_bgsignal, this_y_bgsignal, val=val, test=test)\\n    \\n    bg_sig_size_tr = round(bg_sig_size * train)\\n    \\n    if this_X_bgsignal.shape[0] < bg_sig_size_tr:\\n        \\n        multiplier = math.ceil(bg_sig_size_tr/this_X_bgsignal.shape[0])\\n        \\n        this_X_bgsignal = np.concatenate([this_X_bgsignal] * multiplier)\\n        this_y_bgsignal = np.concatenate([this_y_bgsignal] * multiplier)\\n        \\n        this_X_bgsignal_v = np.concatenate([this_X_bgsignal_v] * multiplier)\\n        this_y_bgsignal_v = np.concatenate([this_y_bgsignal_v] * multiplier)\\n        \\n        this_X_bgsignal_t = np.concatenate([this_X_bgsignal_t] * multiplier)\\n        this_y_bgsignal_t = np.concatenate([this_y_bgsignal_t] * multiplier)\\n        \\n        \\n        \\n    assert this_X_bgsignal.shape[0] == this_y_bgsignal.shape[0]\\n    \\n    #select bgsignal datapoints\\n    this_X_bgsignal = this_X_bgsignal[:bg_sig_size_tr]\\n    this_y_bgsignal = this_y_bgsignal[:bg_sig_size_tr]\\n    \\n    this_X_bgsignal_v = this_X_bgsignal_v[:round(bg_sig_size * val)]\\n    this_y_bgsignal_v = this_y_bgsignal_v[:round(bg_sig_size * val)]\\n    \\n    this_X_bgsignal_t = this_X_bgsignal_t[:round(bg_sig_size * test)]\\n    this_y_bgsignal_t = this_y_bgsignal_t[:round(bg_sig_size * test)]\\n    \\n    #select anomaly datapoints\\n    this_X_anom = X_sig[:anom_size]\\n    this_y_anom = np.ones(anom_size)\\n    \\n    \\n    \\n    # only bg_sig has been split. Now, we have to shuffle then split the others.\\n    this_X = np.concatenate([this_X_sideband, this_X_anom])\\n    this_y = np.concatenate([this_y_sideband, this_y_anom])\\n    \\n    assert this_X.shape[0] == this_y.shape[0]\\n    this_X, this_y = shuffle(this_X, this_y, random_state = shuffle_seed)\\n    \\n    (this_X_train, this_X_val, this_X_test,\\n     this_y_train, this_y_val, this_y_test) = data_split(this_X, this_y, val=val, test=test)\\n    \\n    # now, we can add the bg_sig to the rest of the data and shuffle again\\n    X_train, y_train = shuffle(np.concatenate([this_X_train, this_X_bgsignal]),\\n                               np.concatenate([this_y_train, this_y_bgsignal]),\\n                              random_state = shuffle_seed)\\n    X_val, y_val = shuffle(np.concatenate([this_X_val, this_X_bgsignal_v]),\\n                               np.concatenate([this_y_val, this_y_bgsignal_v]),\\n                              random_state = shuffle_seed)\\n    X_test, y_test = shuffle(np.concatenate([this_X_test, this_X_bgsignal_t]),\\n                               np.concatenate([this_y_test, this_y_bgsignal_t]),\\n                              random_state = shuffle_seed)\\n    \\n    \\n    # Centre and normalize all the Xs\\n    for x in X_train:\\n        #mask = x[:,0] > 0\\n        #yphi_avg = np.average(x[mask,1:3], weights=x[mask,0], axis=0)\\n        #x[mask,1:3] -= yphi_avg\\n        x /= x.sum()\\n    for x in X_val:\\n        #mask = x[:,0] > 0\\n        #yphi_avg = np.average(x[mask,1:3], weights=x[mask,0], axis=0)\\n        #x[mask,1:3] -= yphi_avg\\n        #x[mask,0] /= x[:,0].sum()\\n        x /= x.sum()\\n    for x in X_test:\\n        #mask = x[:,0] > 0\\n        #yphi_avg = np.average(x[mask,1:3], weights=x[mask,0], axis=0)\\n        #x[mask,1:3] -= yphi_avg\\n        #x[mask,0] /= x[:,0].sum()\\n        x /= x.sum()\\n    \\n    # remap PIDs for all the Xs\\n    #remap_pids(X_train, pid_i=3)\\n    #remap_pids(X_val, pid_i=3)\\n    #remap_pids(X_test, pid_i=3)\\n    \\n    # change Y to categorical Matrix\\n    Y_train = to_categorical(y_train, num_classes=2)\\n    Y_val = to_categorical(y_val, num_classes=2)\\n    Y_test = to_categorical(y_test, num_classes=2)\\n\\n    \\n    return X_train, X_val, X_test, Y_train,Y_val,Y_test\\n'"
      ]
     },
     "execution_count": 501,
     "metadata": {},
     "output_type": "execute_result"
    }
   ],
   "source": [
    "'''\n",
    "def prep_and_shufflesplit_data(anomaly_ratio, size_each = 50000, shuffle_seed = 69, train = 0.7, val = 0.2, test = 0.1):\n",
    "    \n",
    "    print(X_sideband.shape[0])\n",
    "    print(X_selected.shape[0])\n",
    "    #assert (size_each <= min(X_sideband.shape[0], X_selected.shape[0])) #Sel was sig\n",
    "    \n",
    "    #how much bg and signal data to take?\n",
    "    anom_size = round(anomaly_ratio * size_each)\n",
    "    bg_sig_size = size_each - anom_size\n",
    "    \n",
    "    # select sideband datapoints\n",
    "    this_X_sideband = X_sideband[:size_each]\n",
    "    this_y_sideband = y_sideband[:size_each]\n",
    "    \n",
    "    # duplicate bgsignal datapoints\n",
    "    #this_X_bgsignal = np.copy(X_bgsignal)\n",
    "    #this_y_bgsignal = np.copy(y_bgsignal)\n",
    "    this_X_bgsignal = np.copy(X_selected) #io\n",
    "    this_y_bgsignal = np.copy(y_selected) #io\n",
    "        \n",
    "    (this_X_bgsignal, this_X_bgsignal_v, this_X_bgsignal_t,\n",
    "     this_y_bgsignal, this_y_bgsignal_v, this_y_bgsignal_t) = data_split(this_X_bgsignal, this_y_bgsignal, val=val, test=test)\n",
    "    \n",
    "    bg_sig_size_tr = round(bg_sig_size * train)\n",
    "    \n",
    "    if this_X_bgsignal.shape[0] < bg_sig_size_tr:\n",
    "        \n",
    "        multiplier = math.ceil(bg_sig_size_tr/this_X_bgsignal.shape[0])\n",
    "        \n",
    "        this_X_bgsignal = np.concatenate([this_X_bgsignal] * multiplier)\n",
    "        this_y_bgsignal = np.concatenate([this_y_bgsignal] * multiplier)\n",
    "        \n",
    "        this_X_bgsignal_v = np.concatenate([this_X_bgsignal_v] * multiplier)\n",
    "        this_y_bgsignal_v = np.concatenate([this_y_bgsignal_v] * multiplier)\n",
    "        \n",
    "        this_X_bgsignal_t = np.concatenate([this_X_bgsignal_t] * multiplier)\n",
    "        this_y_bgsignal_t = np.concatenate([this_y_bgsignal_t] * multiplier)\n",
    "        \n",
    "        \n",
    "        \n",
    "    assert this_X_bgsignal.shape[0] == this_y_bgsignal.shape[0]\n",
    "    \n",
    "    #select bgsignal datapoints\n",
    "    this_X_bgsignal = this_X_bgsignal[:bg_sig_size_tr]\n",
    "    this_y_bgsignal = this_y_bgsignal[:bg_sig_size_tr]\n",
    "    \n",
    "    this_X_bgsignal_v = this_X_bgsignal_v[:round(bg_sig_size * val)]\n",
    "    this_y_bgsignal_v = this_y_bgsignal_v[:round(bg_sig_size * val)]\n",
    "    \n",
    "    this_X_bgsignal_t = this_X_bgsignal_t[:round(bg_sig_size * test)]\n",
    "    this_y_bgsignal_t = this_y_bgsignal_t[:round(bg_sig_size * test)]\n",
    "    \n",
    "    #select anomaly datapoints\n",
    "    this_X_anom = X_sig[:anom_size]\n",
    "    this_y_anom = np.ones(anom_size)\n",
    "    \n",
    "    \n",
    "    \n",
    "    # only bg_sig has been split. Now, we have to shuffle then split the others.\n",
    "    this_X = np.concatenate([this_X_sideband, this_X_anom])\n",
    "    this_y = np.concatenate([this_y_sideband, this_y_anom])\n",
    "    \n",
    "    assert this_X.shape[0] == this_y.shape[0]\n",
    "    this_X, this_y = shuffle(this_X, this_y, random_state = shuffle_seed)\n",
    "    \n",
    "    (this_X_train, this_X_val, this_X_test,\n",
    "     this_y_train, this_y_val, this_y_test) = data_split(this_X, this_y, val=val, test=test)\n",
    "    \n",
    "    # now, we can add the bg_sig to the rest of the data and shuffle again\n",
    "    X_train, y_train = shuffle(np.concatenate([this_X_train, this_X_bgsignal]),\n",
    "                               np.concatenate([this_y_train, this_y_bgsignal]),\n",
    "                              random_state = shuffle_seed)\n",
    "    X_val, y_val = shuffle(np.concatenate([this_X_val, this_X_bgsignal_v]),\n",
    "                               np.concatenate([this_y_val, this_y_bgsignal_v]),\n",
    "                              random_state = shuffle_seed)\n",
    "    X_test, y_test = shuffle(np.concatenate([this_X_test, this_X_bgsignal_t]),\n",
    "                               np.concatenate([this_y_test, this_y_bgsignal_t]),\n",
    "                              random_state = shuffle_seed)\n",
    "    \n",
    "    \n",
    "    # Centre and normalize all the Xs\n",
    "    for x in X_train:\n",
    "        #mask = x[:,0] > 0\n",
    "        #yphi_avg = np.average(x[mask,1:3], weights=x[mask,0], axis=0)\n",
    "        #x[mask,1:3] -= yphi_avg\n",
    "        x /= x.sum()\n",
    "    for x in X_val:\n",
    "        #mask = x[:,0] > 0\n",
    "        #yphi_avg = np.average(x[mask,1:3], weights=x[mask,0], axis=0)\n",
    "        #x[mask,1:3] -= yphi_avg\n",
    "        #x[mask,0] /= x[:,0].sum()\n",
    "        x /= x.sum()\n",
    "    for x in X_test:\n",
    "        #mask = x[:,0] > 0\n",
    "        #yphi_avg = np.average(x[mask,1:3], weights=x[mask,0], axis=0)\n",
    "        #x[mask,1:3] -= yphi_avg\n",
    "        #x[mask,0] /= x[:,0].sum()\n",
    "        x /= x.sum()\n",
    "    \n",
    "    # remap PIDs for all the Xs\n",
    "    #remap_pids(X_train, pid_i=3)\n",
    "    #remap_pids(X_val, pid_i=3)\n",
    "    #remap_pids(X_test, pid_i=3)\n",
    "    \n",
    "    # change Y to categorical Matrix\n",
    "    Y_train = to_categorical(y_train, num_classes=2)\n",
    "    Y_val = to_categorical(y_val, num_classes=2)\n",
    "    Y_test = to_categorical(y_test, num_classes=2)\n",
    "\n",
    "    \n",
    "    return X_train, X_val, X_test, Y_train,Y_val,Y_test\n",
    "'''"
   ]
  },
  {
   "cell_type": "code",
   "execution_count": 583,
   "metadata": {},
   "outputs": [],
   "source": [
    "def prep_and_shufflesplit_data(anomaly_ratio, size_each = 76000, shuffle_seed = 69,\n",
    "                               train = 0.8, val = 0.2, test_size_each = 5000):\n",
    "    \n",
    "    \"\"\"\n",
    "    Pre-Data Selection\n",
    "    \"\"\"\n",
    "        \n",
    "    #how much bg and signal data to take?\n",
    "    \n",
    "    anom_size = round(anomaly_ratio * size_each)\n",
    "    bgsig_size = size_each - anom_size\n",
    "\n",
    "    \n",
    "    # make sure we have enough data.\n",
    "    #print(anom_size,bgsig_size,size_each) \n",
    "    #print(X_sideband.shape)\n",
    "    #print(X_selected.shape)\n",
    "    #print(X_sig.shape)\n",
    "    assert (size_each <= X_sideband.shape[0])\n",
    "    assert (anom_size + test_size_each <= X_sig.shape[0])\n",
    "    assert (bgsig_size + test_size_each <= X_selected.shape[0])\n",
    "    \n",
    "    \"\"\"\n",
    "    Data Selection\n",
    "    \"\"\"\n",
    "    \n",
    "    # select sideband datapoints\n",
    "    this_X_sb = X_sideband[:size_each]\n",
    "    this_y_sb = np.zeros(size_each) # 0 for bg in SB\n",
    "    \n",
    "    # select bgsig datapoints\n",
    "    this_X_bgsig = X_selected[:bgsig_size]\n",
    "    this_y_bgsig = np.ones(bgsig_size) # 1 for bg in SR\n",
    "    \n",
    "    # select anomaly datapoints\n",
    "    this_X_sig = X_sig[:anom_size]\n",
    "    this_y_sig = np.ones(anom_size) # 1 for signal in SR\n",
    "    \n",
    "    \"\"\"\n",
    "    Shuffle + Train-Val-Test Split (not test set)\n",
    "    \"\"\"\n",
    "    # Combine all 3 data sets\n",
    "    this_X = np.concatenate([this_X_sb, this_X_bgsig, this_X_sig])\n",
    "    this_y = np.concatenate([this_y_sb, this_y_bgsig, this_y_sig])\n",
    "    \n",
    "    # Shuffle before we split\n",
    "    this_X, this_y = shuffle(this_X, this_y, random_state = shuffle_seed)\n",
    "    \n",
    "    \n",
    "    (this_X_tr, this_X_v, _,\n",
    "     this_y_tr, this_y_v, _) = data_split(this_X, this_y, val=val, test=0)\n",
    "        \n",
    "    \n",
    "    print('Size of sb:')\n",
    "    print(this_X_sb.shape)\n",
    "    print('Size of bgsig:')\n",
    "    print(this_X_bgsig.shape)\n",
    "    print('Size of sig:')\n",
    "    print(this_X_sig.shape)\n",
    "        \n",
    "    \n",
    "    \"\"\"\n",
    "    Get the test set\n",
    "    \"\"\"\n",
    "    \n",
    "    # select the data\n",
    "    this_X_test_P = X_sig[anom_size:anom_size+test_size_each]\n",
    "    this_X_test_N = X_selected[bgsig_size:bgsig_size+test_size_each]\n",
    "    \n",
    "    this_y_test_P = np.ones(test_size_each)\n",
    "    this_y_test_N = np.zeros(test_size_each)\n",
    "        \n",
    "    # Shuffle the combination    \n",
    "    this_X_te = np.concatenate([this_X_test_P, this_X_test_N])\n",
    "    this_y_te = np.concatenate([this_y_test_P, this_y_test_N])\n",
    "    \n",
    "    this_X_te, this_y_te = shuffle(this_X_te, this_y_te, random_state = shuffle_seed)\n",
    "#     print('Size of test set:')\n",
    "#     print(this_X_te.shape)\n",
    "#     print('Test set distribution:')\n",
    "#     print(np.unique(this_y_te,return_counts = True))\n",
    "    \n",
    "    \n",
    "    X_train, X_val, X_test, y_train, y_val, y_test \\\n",
    "    = this_X_tr, this_X_v, this_X_te, this_y_tr, this_y_v, this_y_te\n",
    "    \n",
    "    \"\"\"\n",
    "    Data processing\n",
    "    \"\"\"\n",
    "    from sklearn import preprocessing\n",
    "    X_train = preprocessing.scale(X_train)\n",
    "    X_val = preprocessing.scale(X_val)\n",
    "    X_test = preprocessing.scale(X_test)\n",
    "    # Centre and normalize all the Xs\n",
    "    '''\n",
    "    for x in X_train:\n",
    "        #print(x)\n",
    "        #mask = x[:,0] > 0\n",
    "        yphi_avg = np.average(x, axis=0)\n",
    "        x -= yphi_avg\n",
    "        x /= x.sum()\n",
    "    for x in X_val:\n",
    "        yphi_avg = np.average(x, axis=0)\n",
    "        x -= yphi_avg\n",
    "        x /= x.sum()\n",
    "    for x in X_test:\n",
    "        yphi_avg = np.average(x, axis=0)\n",
    "        x -= yphi_avg\n",
    "        x /= x.sum()\n",
    "    '''\n",
    "    # remap PIDs for all the Xs\n",
    "    #remap_pids(X_train, pid_i=3)\n",
    "    #remap_pids(X_val, pid_i=3)\n",
    "    #remap_pids(X_test, pid_i=3)\n",
    "    \n",
    "    # change Y to categorical Matrix\n",
    "    Y_train = to_categorical(y_train, num_classes=2)\n",
    "    Y_val = to_categorical(y_val, num_classes=2)\n",
    "    Y_test = to_categorical(y_test, num_classes=2)\n",
    "    \n",
    "    print('Training set size, distribution:')\n",
    "    print(X_train.shape)\n",
    "    print(np.unique(y_train,return_counts = True))\n",
    "    print('Validations set size, distribution:')\n",
    "    print(X_val.shape)\n",
    "    print(np.unique(y_val,return_counts = True))\n",
    "    print('Test set size, distribution:')\n",
    "    print(X_test.shape)\n",
    "    print(np.unique(y_test,return_counts = True))\n",
    "    \n",
    "    return X_train, X_val, X_test, Y_train,Y_val,Y_test"
   ]
  },
  {
   "cell_type": "code",
   "execution_count": 651,
   "metadata": {},
   "outputs": [
    {
     "name": "stdout",
     "output_type": "stream",
     "text": [
      "Size of sb:\n",
      "(2000, 40)\n",
      "Size of bgsig:\n",
      "(1900, 40)\n",
      "Size of sig:\n",
      "(100, 40)\n",
      "Training set size, distribution:\n",
      "(3200, 40)\n",
      "(array([0., 1.]), array([1610, 1590]))\n",
      "Validations set size, distribution:\n",
      "(800, 40)\n",
      "(array([0., 1.]), array([390, 410]))\n",
      "Test set size, distribution:\n",
      "(200, 40)\n",
      "(array([0., 1.]), array([100, 100]))\n"
     ]
    }
   ],
   "source": [
    "X_train, X_val, X_test, Y_train,Y_val,Y_test = prep_and_shufflesplit_data(anomaly_ratio=0.05, size_each = 2000, shuffle_seed = 69,train = 0.8, val = 0.2, test_size_each = 100)"
   ]
  },
  {
   "cell_type": "markdown",
   "metadata": {},
   "source": [
    "## Validation plots"
   ]
  },
  {
   "cell_type": "code",
   "execution_count": 652,
   "metadata": {},
   "outputs": [
    {
     "data": {
      "text/plain": [
       "Text(0, 0.5, 'Training set events / bin')"
      ]
     },
     "execution_count": 652,
     "metadata": {},
     "output_type": "execute_result"
    },
    {
     "data": {
      "image/png": "[encoded data removed]",
      "text/plain": [
       "<Figure size 1440x720 with 1 Axes>"
      ]
     },
     "metadata": {
      "needs_background": "light"
     },
     "output_type": "display_data"
    }
   ],
   "source": [
    "plt.figure(figsize=(20,10))\n",
    "for m in range(5):\n",
    "    plt.hist(X_train[:,m], np.linspace(-5,5,50), histtype='step', linewidth=2)\n",
    "#plt.hist(y_sig, color=\"tomato\", histtype='step', linewidth=2, bins=100)\n",
    "plt.yscale('log')\n",
    "#plt.xticks(range(0,1000,20))\n",
    "plt.xlabel(\"Moments\")\n",
    "plt.ylabel(\"Training set events / bin\")\n",
    "#np.save('training_data/bg_truthsqrtshat', this_arr)"
   ]
  },
  {
   "cell_type": "code",
   "execution_count": 653,
   "metadata": {},
   "outputs": [
    {
     "data": {
      "text/plain": [
       "(3200, 40)"
      ]
     },
     "execution_count": 653,
     "metadata": {},
     "output_type": "execute_result"
    }
   ],
   "source": [
    "X_train.shape"
   ]
  },
  {
   "cell_type": "markdown",
   "metadata": {},
   "source": [
    "### Building the model"
   ]
  },
  {
   "cell_type": "code",
   "execution_count": 654,
   "metadata": {},
   "outputs": [],
   "source": [
    "# network architecture parameters\n",
    "dense_sizes = (100, 100)\n",
    "\n",
    "# network training parameters\n",
    "num_epoch = 100\n",
    "batch_size = 100\n"
   ]
  },
  {
   "cell_type": "code",
   "execution_count": 655,
   "metadata": {},
   "outputs": [],
   "source": [
    "dnn = DNN(input_dim=40, dense_sizes=dense_sizes, summary=(i==0))"
   ]
  },
  {
   "cell_type": "code",
   "execution_count": 656,
   "metadata": {},
   "outputs": [
    {
     "name": "stdout",
     "output_type": "stream",
     "text": [
      "Epoch 1/100\n",
      "32/32 [==============================] - 0s 4ms/step - loss: 0.7114 - acc: 0.5906 - val_loss: 0.6641 - val_acc: 0.6388\n",
      "Epoch 2/100\n",
      "32/32 [==============================] - 0s 2ms/step - loss: 0.6532 - acc: 0.6303 - val_loss: 0.6398 - val_acc: 0.6450\n",
      "Epoch 3/100\n",
      "32/32 [==============================] - 0s 1ms/step - loss: 0.6320 - acc: 0.6484 - val_loss: 0.6366 - val_acc: 0.6525\n",
      "Epoch 4/100\n",
      "32/32 [==============================] - 0s 1ms/step - loss: 0.6242 - acc: 0.6572 - val_loss: 0.6230 - val_acc: 0.6650\n",
      "Epoch 5/100\n",
      "32/32 [==============================] - 0s 1ms/step - loss: 0.6173 - acc: 0.6575 - val_loss: 0.6438 - val_acc: 0.6612\n",
      "Epoch 6/100\n",
      "32/32 [==============================] - 0s 1ms/step - loss: 0.6151 - acc: 0.6656 - val_loss: 0.6222 - val_acc: 0.6637\n",
      "Epoch 7/100\n",
      "32/32 [==============================] - 0s 1ms/step - loss: 0.6078 - acc: 0.6612 - val_loss: 0.6207 - val_acc: 0.6562\n",
      "Epoch 8/100\n",
      "32/32 [==============================] - 0s 1ms/step - loss: 0.5991 - acc: 0.6762 - val_loss: 0.6173 - val_acc: 0.6737\n",
      "Epoch 9/100\n",
      "32/32 [==============================] - 0s 1ms/step - loss: 0.6006 - acc: 0.6722 - val_loss: 0.6208 - val_acc: 0.6787\n",
      "Epoch 10/100\n",
      "32/32 [==============================] - 0s 1ms/step - loss: 0.6005 - acc: 0.6697 - val_loss: 0.6133 - val_acc: 0.6737\n",
      "Epoch 11/100\n",
      "32/32 [==============================] - 0s 1ms/step - loss: 0.5920 - acc: 0.6862 - val_loss: 0.6159 - val_acc: 0.6725\n",
      "Epoch 12/100\n",
      "32/32 [==============================] - 0s 1ms/step - loss: 0.5874 - acc: 0.6881 - val_loss: 0.6033 - val_acc: 0.6800\n",
      "Epoch 13/100\n",
      "32/32 [==============================] - 0s 1ms/step - loss: 0.5875 - acc: 0.6894 - val_loss: 0.6084 - val_acc: 0.6700\n",
      "Epoch 14/100\n",
      "32/32 [==============================] - 0s 1ms/step - loss: 0.5849 - acc: 0.6944 - val_loss: 0.6114 - val_acc: 0.6612\n",
      "Epoch 15/100\n",
      "32/32 [==============================] - 0s 1ms/step - loss: 0.5899 - acc: 0.6712 - val_loss: 0.6167 - val_acc: 0.6825\n",
      "Epoch 16/100\n",
      "32/32 [==============================] - 0s 1ms/step - loss: 0.5881 - acc: 0.6853 - val_loss: 0.6204 - val_acc: 0.6637\n",
      "Epoch 17/100\n",
      "32/32 [==============================] - 0s 1ms/step - loss: 0.5950 - acc: 0.6866 - val_loss: 0.6368 - val_acc: 0.6550\n",
      "Epoch 18/100\n",
      "32/32 [==============================] - 0s 1ms/step - loss: 0.5883 - acc: 0.6978 - val_loss: 0.6072 - val_acc: 0.6812\n",
      "Epoch 19/100\n",
      "32/32 [==============================] - 0s 1ms/step - loss: 0.5796 - acc: 0.6984 - val_loss: 0.6210 - val_acc: 0.6625\n",
      "Epoch 20/100\n",
      "32/32 [==============================] - 0s 1ms/step - loss: 0.5712 - acc: 0.7009 - val_loss: 0.6114 - val_acc: 0.6913\n",
      "Epoch 21/100\n",
      "32/32 [==============================] - 0s 1ms/step - loss: 0.5723 - acc: 0.7019 - val_loss: 0.6086 - val_acc: 0.6712\n",
      "Epoch 22/100\n",
      "32/32 [==============================] - 0s 1ms/step - loss: 0.5676 - acc: 0.7003 - val_loss: 0.6098 - val_acc: 0.6712\n",
      "Epoch 23/100\n",
      "32/32 [==============================] - 0s 1ms/step - loss: 0.5699 - acc: 0.6975 - val_loss: 0.6041 - val_acc: 0.6888\n",
      "Epoch 24/100\n",
      "32/32 [==============================] - 0s 1ms/step - loss: 0.5642 - acc: 0.7028 - val_loss: 0.6107 - val_acc: 0.6850\n",
      "Epoch 25/100\n",
      "32/32 [==============================] - 0s 1ms/step - loss: 0.5628 - acc: 0.7038 - val_loss: 0.6077 - val_acc: 0.6875\n",
      "Epoch 26/100\n",
      "32/32 [==============================] - 0s 1ms/step - loss: 0.5573 - acc: 0.7163 - val_loss: 0.6102 - val_acc: 0.6925\n",
      "Epoch 27/100\n",
      "32/32 [==============================] - 0s 1ms/step - loss: 0.5606 - acc: 0.7109 - val_loss: 0.6242 - val_acc: 0.7050\n",
      "Epoch 28/100\n",
      "32/32 [==============================] - 0s 1ms/step - loss: 0.5585 - acc: 0.7122 - val_loss: 0.6109 - val_acc: 0.6850\n",
      "Epoch 29/100\n",
      "32/32 [==============================] - 0s 1ms/step - loss: 0.5518 - acc: 0.7178 - val_loss: 0.6137 - val_acc: 0.6737\n",
      "Epoch 30/100\n",
      "32/32 [==============================] - 0s 1ms/step - loss: 0.5477 - acc: 0.7244 - val_loss: 0.6165 - val_acc: 0.6737\n",
      "Epoch 31/100\n",
      "32/32 [==============================] - 0s 1ms/step - loss: 0.5557 - acc: 0.7103 - val_loss: 0.6072 - val_acc: 0.6850\n",
      "Epoch 32/100\n",
      "32/32 [==============================] - 0s 1ms/step - loss: 0.5587 - acc: 0.7047 - val_loss: 0.6371 - val_acc: 0.6650\n",
      "Epoch 33/100\n",
      "32/32 [==============================] - 0s 1ms/step - loss: 0.5487 - acc: 0.7156 - val_loss: 0.6133 - val_acc: 0.6775\n",
      "Epoch 34/100\n",
      "32/32 [==============================] - 0s 1ms/step - loss: 0.5488 - acc: 0.7125 - val_loss: 0.6173 - val_acc: 0.6787\n",
      "Epoch 35/100\n",
      "32/32 [==============================] - 0s 1ms/step - loss: 0.5426 - acc: 0.7163 - val_loss: 0.6192 - val_acc: 0.6950\n",
      "Epoch 36/100\n",
      "32/32 [==============================] - 0s 1ms/step - loss: 0.5405 - acc: 0.7231 - val_loss: 0.6319 - val_acc: 0.6550\n",
      "Epoch 37/100\n",
      "32/32 [==============================] - 0s 1ms/step - loss: 0.5456 - acc: 0.7100 - val_loss: 0.6437 - val_acc: 0.6388\n",
      "Epoch 38/100\n",
      "32/32 [==============================] - 0s 1ms/step - loss: 0.5422 - acc: 0.7216 - val_loss: 0.6149 - val_acc: 0.6862\n",
      "Epoch 39/100\n",
      "32/32 [==============================] - 0s 1ms/step - loss: 0.5351 - acc: 0.7297 - val_loss: 0.6143 - val_acc: 0.6650\n",
      "Epoch 40/100\n",
      "32/32 [==============================] - 0s 1ms/step - loss: 0.5393 - acc: 0.7209 - val_loss: 0.6165 - val_acc: 0.6975\n",
      "Epoch 41/100\n",
      "32/32 [==============================] - 0s 1ms/step - loss: 0.5336 - acc: 0.7250 - val_loss: 0.6303 - val_acc: 0.6963\n",
      "Epoch 42/100\n",
      "32/32 [==============================] - 0s 1ms/step - loss: 0.5329 - acc: 0.7334 - val_loss: 0.6156 - val_acc: 0.6587\n",
      "Epoch 43/100\n",
      "32/32 [==============================] - 0s 1ms/step - loss: 0.5293 - acc: 0.7278 - val_loss: 0.6272 - val_acc: 0.6938\n",
      "Epoch 44/100\n",
      "32/32 [==============================] - 0s 1ms/step - loss: 0.5288 - acc: 0.7384 - val_loss: 0.6317 - val_acc: 0.6363\n",
      "Epoch 45/100\n",
      "32/32 [==============================] - 0s 1ms/step - loss: 0.5298 - acc: 0.7278 - val_loss: 0.6267 - val_acc: 0.6875\n",
      "Epoch 46/100\n",
      "32/32 [==============================] - 0s 1ms/step - loss: 0.5208 - acc: 0.7325 - val_loss: 0.6194 - val_acc: 0.6762\n",
      "Epoch 47/100\n",
      "32/32 [==============================] - 0s 1ms/step - loss: 0.5213 - acc: 0.7378 - val_loss: 0.6279 - val_acc: 0.6750\n",
      "Epoch 48/100\n",
      "32/32 [==============================] - 0s 1ms/step - loss: 0.5250 - acc: 0.7272 - val_loss: 0.6518 - val_acc: 0.6737\n",
      "Epoch 49/100\n",
      "32/32 [==============================] - 0s 1ms/step - loss: 0.5200 - acc: 0.7359 - val_loss: 0.6410 - val_acc: 0.6800\n",
      "Epoch 50/100\n",
      "32/32 [==============================] - 0s 1ms/step - loss: 0.5196 - acc: 0.7403 - val_loss: 0.6423 - val_acc: 0.6463\n",
      "Epoch 51/100\n",
      "32/32 [==============================] - 0s 1ms/step - loss: 0.5256 - acc: 0.7247 - val_loss: 0.6107 - val_acc: 0.6737\n",
      "Epoch 52/100\n",
      "32/32 [==============================] - 0s 1ms/step - loss: 0.5283 - acc: 0.7312 - val_loss: 0.6706 - val_acc: 0.6775\n",
      "Epoch 53/100\n",
      "32/32 [==============================] - 0s 2ms/step - loss: 0.5185 - acc: 0.7434 - val_loss: 0.6248 - val_acc: 0.6875\n",
      "Epoch 54/100\n",
      "32/32 [==============================] - 0s 1ms/step - loss: 0.5100 - acc: 0.7491 - val_loss: 0.6290 - val_acc: 0.6862\n",
      "Epoch 55/100\n",
      "32/32 [==============================] - 0s 1ms/step - loss: 0.5122 - acc: 0.7444 - val_loss: 0.6257 - val_acc: 0.6925\n",
      "Epoch 56/100\n",
      "32/32 [==============================] - 0s 1ms/step - loss: 0.5118 - acc: 0.7459 - val_loss: 0.6321 - val_acc: 0.6825\n",
      "Epoch 57/100\n",
      "32/32 [==============================] - 0s 1ms/step - loss: 0.5106 - acc: 0.7347 - val_loss: 0.6262 - val_acc: 0.6862\n",
      "Epoch 58/100\n",
      "32/32 [==============================] - 0s 1ms/step - loss: 0.5037 - acc: 0.7444 - val_loss: 0.6393 - val_acc: 0.6675\n",
      "Epoch 59/100\n",
      "32/32 [==============================] - 0s 1ms/step - loss: 0.5152 - acc: 0.7331 - val_loss: 0.6303 - val_acc: 0.6737\n",
      "Epoch 60/100\n",
      "32/32 [==============================] - 0s 1ms/step - loss: 0.5067 - acc: 0.7431 - val_loss: 0.6277 - val_acc: 0.6875\n",
      "Epoch 61/100\n",
      "32/32 [==============================] - 0s 1ms/step - loss: 0.5002 - acc: 0.7506 - val_loss: 0.6372 - val_acc: 0.6662\n",
      "Epoch 62/100\n",
      "32/32 [==============================] - 0s 1ms/step - loss: 0.4991 - acc: 0.7447 - val_loss: 0.6350 - val_acc: 0.6725\n",
      "Epoch 63/100\n"
     ]
    },
    {
     "name": "stdout",
     "output_type": "stream",
     "text": [
      "32/32 [==============================] - 0s 1ms/step - loss: 0.5033 - acc: 0.7406 - val_loss: 0.6636 - val_acc: 0.6550\n",
      "Epoch 64/100\n",
      "32/32 [==============================] - 0s 1ms/step - loss: 0.5021 - acc: 0.7487 - val_loss: 0.6543 - val_acc: 0.6650\n",
      "Epoch 65/100\n",
      "32/32 [==============================] - 0s 1ms/step - loss: 0.5052 - acc: 0.7425 - val_loss: 0.6488 - val_acc: 0.6587\n",
      "Epoch 66/100\n",
      "32/32 [==============================] - 0s 1ms/step - loss: 0.5049 - acc: 0.7472 - val_loss: 0.6361 - val_acc: 0.6888\n",
      "Epoch 67/100\n",
      "32/32 [==============================] - 0s 1ms/step - loss: 0.4949 - acc: 0.7547 - val_loss: 0.6601 - val_acc: 0.6888\n",
      "Epoch 68/100\n",
      "32/32 [==============================] - 0s 1ms/step - loss: 0.4983 - acc: 0.7469 - val_loss: 0.6359 - val_acc: 0.6750\n",
      "Epoch 69/100\n",
      "32/32 [==============================] - 0s 1ms/step - loss: 0.4904 - acc: 0.7575 - val_loss: 0.6545 - val_acc: 0.6662\n",
      "Epoch 70/100\n",
      "32/32 [==============================] - 0s 1ms/step - loss: 0.4881 - acc: 0.7600 - val_loss: 0.6655 - val_acc: 0.6513\n",
      "Epoch 71/100\n",
      "32/32 [==============================] - 0s 1ms/step - loss: 0.4870 - acc: 0.7563 - val_loss: 0.6612 - val_acc: 0.6612\n",
      "Epoch 72/100\n",
      "32/32 [==============================] - 0s 1ms/step - loss: 0.4926 - acc: 0.7487 - val_loss: 0.6609 - val_acc: 0.6587\n",
      "Epoch 73/100\n",
      "32/32 [==============================] - 0s 1ms/step - loss: 0.4883 - acc: 0.7553 - val_loss: 0.6630 - val_acc: 0.6700\n",
      "Epoch 74/100\n",
      "32/32 [==============================] - 0s 1ms/step - loss: 0.4933 - acc: 0.7481 - val_loss: 0.6647 - val_acc: 0.6825\n",
      "Epoch 75/100\n",
      "32/32 [==============================] - 0s 1ms/step - loss: 0.4855 - acc: 0.7556 - val_loss: 0.6616 - val_acc: 0.6837\n",
      "Epoch 76/100\n",
      "32/32 [==============================] - 0s 1ms/step - loss: 0.4782 - acc: 0.7631 - val_loss: 0.6598 - val_acc: 0.6700\n",
      "Epoch 77/100\n",
      "32/32 [==============================] - 0s 1ms/step - loss: 0.4944 - acc: 0.7469 - val_loss: 0.6597 - val_acc: 0.6775\n",
      "Epoch 78/100\n",
      "32/32 [==============================] - 0s 1ms/step - loss: 0.4940 - acc: 0.7434 - val_loss: 0.6580 - val_acc: 0.6737\n",
      "Epoch 79/100\n",
      "32/32 [==============================] - 0s 1ms/step - loss: 0.4849 - acc: 0.7509 - val_loss: 0.6750 - val_acc: 0.6400\n",
      "Epoch 80/100\n",
      "32/32 [==============================] - 0s 1ms/step - loss: 0.4799 - acc: 0.7563 - val_loss: 0.6594 - val_acc: 0.6825\n",
      "Epoch 81/100\n",
      "32/32 [==============================] - 0s 1ms/step - loss: 0.4754 - acc: 0.7609 - val_loss: 0.6651 - val_acc: 0.6963\n",
      "Epoch 82/100\n",
      "32/32 [==============================] - 0s 1ms/step - loss: 0.4709 - acc: 0.7681 - val_loss: 0.6682 - val_acc: 0.6888\n",
      "Epoch 83/100\n",
      "32/32 [==============================] - 0s 1ms/step - loss: 0.4689 - acc: 0.7713 - val_loss: 0.6880 - val_acc: 0.6700\n",
      "Epoch 84/100\n",
      "32/32 [==============================] - 0s 1ms/step - loss: 0.4725 - acc: 0.7694 - val_loss: 0.6720 - val_acc: 0.6825\n",
      "Epoch 85/100\n",
      "32/32 [==============================] - 0s 1ms/step - loss: 0.4704 - acc: 0.7622 - val_loss: 0.6837 - val_acc: 0.6800\n",
      "Epoch 86/100\n",
      "32/32 [==============================] - 0s 1ms/step - loss: 0.4689 - acc: 0.7656 - val_loss: 0.6848 - val_acc: 0.6762\n",
      "Epoch 87/100\n",
      "32/32 [==============================] - 0s 1ms/step - loss: 0.4740 - acc: 0.7622 - val_loss: 0.6704 - val_acc: 0.6775\n",
      "Epoch 88/100\n",
      "32/32 [==============================] - 0s 1ms/step - loss: 0.4641 - acc: 0.7759 - val_loss: 0.6723 - val_acc: 0.6637\n",
      "Epoch 89/100\n",
      "32/32 [==============================] - 0s 1ms/step - loss: 0.4647 - acc: 0.7641 - val_loss: 0.6738 - val_acc: 0.6938\n",
      "Epoch 90/100\n",
      "32/32 [==============================] - 0s 1ms/step - loss: 0.4654 - acc: 0.7675 - val_loss: 0.6837 - val_acc: 0.6600\n",
      "Epoch 91/100\n",
      "32/32 [==============================] - 0s 1ms/step - loss: 0.4628 - acc: 0.7681 - val_loss: 0.6777 - val_acc: 0.6850\n",
      "Epoch 92/100\n",
      "32/32 [==============================] - 0s 1ms/step - loss: 0.4621 - acc: 0.7709 - val_loss: 0.7030 - val_acc: 0.6350\n",
      "Epoch 93/100\n",
      "32/32 [==============================] - 0s 1ms/step - loss: 0.4610 - acc: 0.7719 - val_loss: 0.6793 - val_acc: 0.6837\n",
      "Epoch 94/100\n",
      "32/32 [==============================] - 0s 1ms/step - loss: 0.4582 - acc: 0.7731 - val_loss: 0.6902 - val_acc: 0.6700\n",
      "Epoch 95/100\n",
      "32/32 [==============================] - 0s 1ms/step - loss: 0.4609 - acc: 0.7734 - val_loss: 0.6869 - val_acc: 0.6787\n",
      "Epoch 96/100\n",
      "32/32 [==============================] - 0s 1ms/step - loss: 0.4570 - acc: 0.7725 - val_loss: 0.7166 - val_acc: 0.6325\n",
      "Epoch 97/100\n",
      "32/32 [==============================] - 0s 1ms/step - loss: 0.4716 - acc: 0.7659 - val_loss: 0.7176 - val_acc: 0.6463\n",
      "Epoch 98/100\n",
      "32/32 [==============================] - 0s 1ms/step - loss: 0.4592 - acc: 0.7722 - val_loss: 0.6927 - val_acc: 0.6737\n",
      "Epoch 99/100\n",
      "32/32 [==============================] - 0s 1ms/step - loss: 0.4572 - acc: 0.7797 - val_loss: 0.6989 - val_acc: 0.6750\n",
      "Epoch 100/100\n",
      "32/32 [==============================] - 0s 1ms/step - loss: 0.4565 - acc: 0.7816 - val_loss: 0.6969 - val_acc: 0.6737\n"
     ]
    },
    {
     "data": {
      "text/plain": [
       "<tensorflow.python.keras.callbacks.History at 0x2c9850280>"
      ]
     },
     "execution_count": 656,
     "metadata": {},
     "output_type": "execute_result"
    }
   ],
   "source": [
    "# train model\n",
    "#dnn.fit(X_train, Y_train,\n",
    "#    epochs=num_epoch,\n",
    "#    batch_size=batch_size,\n",
    "#    validation_data=(X_val, Y_val),\n",
    "#    verbose=1)"
   ]
  },
  {
   "cell_type": "code",
   "execution_count": 657,
   "metadata": {},
   "outputs": [],
   "source": [
    "#Y_predict = dnn.predict(X_test)#,batch_size=1000)"
   ]
  },
  {
   "cell_type": "code",
   "execution_count": 658,
   "metadata": {},
   "outputs": [],
   "source": [
    "#Y_predict"
   ]
  },
  {
   "cell_type": "code",
   "execution_count": 659,
   "metadata": {},
   "outputs": [],
   "source": [
    "#import sklearn\n",
    "#roc_curve = sklearn.metrics.roc_curve(Y_test[:,1], Y_predict[:,1])"
   ]
  },
  {
   "cell_type": "code",
   "execution_count": 660,
   "metadata": {},
   "outputs": [
    {
     "data": {
      "text/plain": [
       "Text(0.5, 1.0, 'ROC curve')"
      ]
     },
     "execution_count": 660,
     "metadata": {},
     "output_type": "execute_result"
    },
    {
     "data": {
      "image/png": "[encoded data removed]",
      "text/plain": [
       "<Figure size 432x288 with 1 Axes>"
      ]
     },
     "metadata": {
      "needs_background": "light"
     },
     "output_type": "display_data"
    }
   ],
   "source": [
    "#plt.plot(roc_curve[0],roc_curve[1])\n",
    "#plt.xlabel('fpr')\n",
    "#plt.ylabel('tpr')\n",
    "#plt.title('ROC curve')"
   ]
  },
  {
   "cell_type": "code",
   "execution_count": 661,
   "metadata": {},
   "outputs": [],
   "source": [
    "#auc = roc_auc_score(Y_test[:,1], Y_predict[:,1])"
   ]
  },
  {
   "cell_type": "code",
   "execution_count": 662,
   "metadata": {},
   "outputs": [
    {
     "data": {
      "text/plain": [
       "0.4809"
      ]
     },
     "execution_count": 662,
     "metadata": {},
     "output_type": "execute_result"
    }
   ],
   "source": [
    "#auc"
   ]
  },
  {
   "cell_type": "markdown",
   "metadata": {},
   "source": [
    "## Do this in a systematic way"
   ]
  },
  {
   "cell_type": "code",
   "execution_count": 671,
   "metadata": {},
   "outputs": [
    {
     "name": "stdout",
     "output_type": "stream",
     "text": [
      "Size of sb:\n",
      "(2000, 40)\n",
      "Size of bgsig:\n",
      "(1980, 40)\n",
      "Size of sig:\n",
      "(20, 40)\n",
      "Training set size, distribution:\n",
      "(3200, 40)\n",
      "(array([0., 1.]), array([1611, 1589]))\n",
      "Validations set size, distribution:\n",
      "(800, 40)\n",
      "(array([0., 1.]), array([389, 411]))\n",
      "Test set size, distribution:\n",
      "(200, 40)\n",
      "(array([0., 1.]), array([100, 100]))\n",
      "Size of sb:\n",
      "(2000, 40)\n",
      "Size of bgsig:\n",
      "(1900, 40)\n",
      "Size of sig:\n",
      "(100, 40)\n",
      "Training set size, distribution:\n",
      "(3200, 40)\n",
      "(array([0., 1.]), array([1608, 1592]))\n",
      "Validations set size, distribution:\n",
      "(800, 40)\n",
      "(array([0., 1.]), array([392, 408]))\n",
      "Test set size, distribution:\n",
      "(200, 40)\n",
      "(array([0., 1.]), array([100, 100]))\n",
      "Size of sb:\n",
      "(2000, 40)\n",
      "Size of bgsig:\n",
      "(1800, 40)\n",
      "Size of sig:\n",
      "(200, 40)\n",
      "Training set size, distribution:\n",
      "(3200, 40)\n",
      "(array([0., 1.]), array([1620, 1580]))\n",
      "Validations set size, distribution:\n",
      "(800, 40)\n",
      "(array([0., 1.]), array([380, 420]))\n",
      "Test set size, distribution:\n",
      "(200, 40)\n",
      "(array([0., 1.]), array([100, 100]))\n",
      "Size of sb:\n",
      "(2000, 40)\n",
      "Size of bgsig:\n",
      "(1700, 40)\n",
      "Size of sig:\n",
      "(300, 40)\n",
      "Training set size, distribution:\n",
      "(3200, 40)\n",
      "(array([0., 1.]), array([1621, 1579]))\n",
      "Validations set size, distribution:\n",
      "(800, 40)\n",
      "(array([0., 1.]), array([379, 421]))\n",
      "Test set size, distribution:\n",
      "(200, 40)\n",
      "(array([0., 1.]), array([100, 100]))\n",
      "Size of sb:\n",
      "(2000, 40)\n",
      "Size of bgsig:\n",
      "(1600, 40)\n",
      "Size of sig:\n",
      "(400, 40)\n",
      "Training set size, distribution:\n",
      "(3200, 40)\n",
      "(array([0., 1.]), array([1598, 1602]))\n",
      "Validations set size, distribution:\n",
      "(800, 40)\n",
      "(array([0., 1.]), array([402, 398]))\n",
      "Test set size, distribution:\n",
      "(200, 40)\n",
      "(array([0., 1.]), array([100, 100]))\n",
      "Size of sb:\n",
      "(2000, 40)\n",
      "Size of bgsig:\n",
      "(1200, 40)\n",
      "Size of sig:\n",
      "(800, 40)\n",
      "Training set size, distribution:\n",
      "(3200, 40)\n",
      "(array([0., 1.]), array([1573, 1627]))\n",
      "Validations set size, distribution:\n",
      "(800, 40)\n",
      "(array([0., 1.]), array([427, 373]))\n",
      "Test set size, distribution:\n",
      "(200, 40)\n",
      "(array([0., 1.]), array([100, 100]))\n"
     ]
    }
   ],
   "source": [
    "import sklearn\n",
    "aucs = []\n",
    "rocs = []\n",
    "anomalyRatios = [0.01, 0.05, 0.1, 0.15, 0.2, 0.4]\n",
    "for r in anomalyRatios:\n",
    "    X_train, X_val, X_test, Y_train,Y_val,Y_test = prep_and_shufflesplit_data(anomaly_ratio=r, size_each = 2000, shuffle_seed = 69,train = 0.8, val = 0.2, test_size_each = 100)\n",
    "    \n",
    "    dnn.fit(X_train, Y_train,\n",
    "    epochs=num_epoch,\n",
    "    batch_size=batch_size,\n",
    "    validation_data=(X_val, Y_val),\n",
    "    verbose=0)\n",
    "    \n",
    "    \n",
    "    Y_predict = dnn.predict(X_test)#,batch_size=1000)\n",
    "    auc = roc_auc_score(Y_test[:,1], Y_predict[:,1])\n",
    "    #roc_curve = sklearn.metrics.roc_curve(Y_test[:,1], Y_predict[:,1])\n",
    "    roc_curve = sklearn.metrics.roc_curve(Y_test[:,1], Y_predict[:,1])\n",
    "    rocs.append(roc_curve)\n",
    "    aucs.append(auc)\n",
    "    \n",
    "    "
   ]
  },
  {
   "cell_type": "code",
   "execution_count": 672,
   "metadata": {},
   "outputs": [
    {
     "name": "stdout",
     "output_type": "stream",
     "text": [
      "[0.6403500000000001, 0.6753, 0.61725, 0.6345500000000002, 0.5123, 0.6500999999999999]\n"
     ]
    }
   ],
   "source": [
    "print(aucs)"
   ]
  },
  {
   "cell_type": "code",
   "execution_count": 673,
   "metadata": {},
   "outputs": [
    {
     "data": {
      "text/plain": [
       "<matplotlib.legend.Legend at 0x2c9b43be0>"
      ]
     },
     "execution_count": 673,
     "metadata": {},
     "output_type": "execute_result"
    },
    {
     "data": {
      "image/png": "[encoded data removed]",
      "text/plain": [
       "<Figure size 432x288 with 1 Axes>"
      ]
     },
     "metadata": {
      "needs_background": "light"
     },
     "output_type": "display_data"
    }
   ],
   "source": [
    "for i,r in enumerate(anomalyRatios):\n",
    "    plt.plot(rocs[i][0],rocs[i][1],label=r)\n",
    "plt.xlabel('fpr')\n",
    "plt.ylabel('tpr')\n",
    "plt.title('ROC curve')\n",
    "plt.legend()"
   ]
  },
  {
   "cell_type": "code",
   "execution_count": null,
   "metadata": {},
   "outputs": [],
   "source": []
  }
 ],
 "metadata": {
  "kernelspec": {
   "display_name": "fullenv",
   "language": "python",
   "name": "fullenv"
  },
  "language_info": {
   "codemirror_mode": {
    "name": "ipython",
    "version": 3
   },
   "file_extension": ".py",
   "mimetype": "text/x-python",
   "name": "python",
   "nbconvert_exporter": "python",
   "pygments_lexer": "ipython3",
   "version": "3.8.5"
  }
 },
 "nbformat": 4,
 "nbformat_minor": 4
}

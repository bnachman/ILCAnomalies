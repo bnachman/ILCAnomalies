{
 "cells": [
  {
   "cell_type": "markdown",
   "metadata": {},
   "source": [
    "#### Import"
   ]
  },
  {
   "cell_type": "code",
   "execution_count": 1,
   "metadata": {
    "ExecuteTime": {
     "end_time": "2020-11-23T22:04:00.215251Z",
     "start_time": "2020-11-23T22:03:59.677104Z"
    }
   },
   "outputs": [],
   "source": [
    "import numpy as np\n",
    "import matplotlib.pyplot as plt"
   ]
  },
  {
   "cell_type": "code",
   "execution_count": 2,
   "metadata": {
    "ExecuteTime": {
     "end_time": "2020-11-23T22:04:03.366896Z",
     "start_time": "2020-11-23T22:04:00.782578Z"
    }
   },
   "outputs": [
    {
     "name": "stderr",
     "output_type": "stream",
     "text": [
      "Using TensorFlow backend.\n",
      "/opt/anaconda3/envs/shared_env/lib/python3.6/site-packages/tensorflow/python/framework/dtypes.py:523: FutureWarning: Passing (type, 1) or '1type' as a synonym of type is deprecated; in a future version of numpy, it will be understood as (type, (1,)) / '(1,)type'.\n",
      "  _np_qint8 = np.dtype([(\"qint8\", np.int8, 1)])\n",
      "/opt/anaconda3/envs/shared_env/lib/python3.6/site-packages/tensorflow/python/framework/dtypes.py:524: FutureWarning: Passing (type, 1) or '1type' as a synonym of type is deprecated; in a future version of numpy, it will be understood as (type, (1,)) / '(1,)type'.\n",
      "  _np_quint8 = np.dtype([(\"quint8\", np.uint8, 1)])\n",
      "/opt/anaconda3/envs/shared_env/lib/python3.6/site-packages/tensorflow/python/framework/dtypes.py:525: FutureWarning: Passing (type, 1) or '1type' as a synonym of type is deprecated; in a future version of numpy, it will be understood as (type, (1,)) / '(1,)type'.\n",
      "  _np_qint16 = np.dtype([(\"qint16\", np.int16, 1)])\n",
      "/opt/anaconda3/envs/shared_env/lib/python3.6/site-packages/tensorflow/python/framework/dtypes.py:526: FutureWarning: Passing (type, 1) or '1type' as a synonym of type is deprecated; in a future version of numpy, it will be understood as (type, (1,)) / '(1,)type'.\n",
      "  _np_quint16 = np.dtype([(\"quint16\", np.uint16, 1)])\n",
      "/opt/anaconda3/envs/shared_env/lib/python3.6/site-packages/tensorflow/python/framework/dtypes.py:527: FutureWarning: Passing (type, 1) or '1type' as a synonym of type is deprecated; in a future version of numpy, it will be understood as (type, (1,)) / '(1,)type'.\n",
      "  _np_qint32 = np.dtype([(\"qint32\", np.int32, 1)])\n",
      "/opt/anaconda3/envs/shared_env/lib/python3.6/site-packages/tensorflow/python/framework/dtypes.py:532: FutureWarning: Passing (type, 1) or '1type' as a synonym of type is deprecated; in a future version of numpy, it will be understood as (type, (1,)) / '(1,)type'.\n",
      "  np_resource = np.dtype([(\"resource\", np.ubyte, 1)])\n"
     ]
    }
   ],
   "source": [
    "import energyflow as ef\n",
    "from energyflow.archs import PFN\n",
    "from energyflow.datasets import qg_jets\n",
    "from energyflow.utils import data_split, remap_pids, to_categorical\n",
    "from sklearn.metrics import roc_auc_score, roc_curve, accuracy_score\n"
   ]
  },
  {
   "cell_type": "code",
   "execution_count": 3,
   "metadata": {
    "ExecuteTime": {
     "end_time": "2020-11-23T22:04:05.703380Z",
     "start_time": "2020-11-23T22:04:05.698978Z"
    }
   },
   "outputs": [],
   "source": [
    "from sklearn.utils import shuffle\n",
    "import math\n",
    "import sklearn"
   ]
  },
  {
   "cell_type": "markdown",
   "metadata": {},
   "source": [
    "#### Data preprocessing and mixing"
   ]
  },
  {
   "cell_type": "code",
   "execution_count": 4,
   "metadata": {
    "ExecuteTime": {
     "end_time": "2020-11-23T22:04:14.030168Z",
     "start_time": "2020-11-23T22:04:07.634562Z"
    }
   },
   "outputs": [],
   "source": [
    "\"\"\"\n",
    "Load Data\n",
    "\"\"\"\n",
    "X_sig_path = \"training_data/X_sig.npy\"\n",
    "y_sig_path = \"training_data/y_sig.npy\"\n",
    "X_sb_path = \"training_data/X_sb.npy\"\n",
    "y_sb_path = \"training_data/y_sb.npy\"\n",
    "X_bgsig_path = \"training_data/X_bgsig.npy\"\n",
    "y_bgsig_path = \"training_data/y_bgsig.npy\"\n",
    "X_sig = np.load(X_sig_path)\n",
    "y_sig = np.load(y_sig_path)\n",
    "X_sb = np.load(X_sb_path)\n",
    "y_sb = np.load(y_sb_path)\n",
    "X_bgsig = np.load(X_bgsig_path)\n",
    "y_bgsig = np.load(y_bgsig_path)"
   ]
  },
  {
   "cell_type": "code",
   "execution_count": 31,
   "metadata": {
    "ExecuteTime": {
     "end_time": "2020-11-23T23:31:12.313993Z",
     "start_time": "2020-11-23T23:31:10.007587Z"
    }
   },
   "outputs": [],
   "source": [
    "sig_nonzeros = np.count_nonzero(np.sum(X_sig,axis=2),axis=1)\n",
    "sb_nonzeros = np.count_nonzero(np.sum(X_sb,axis=2),axis=1)\n",
    "bgsig_nonzeros = np.count_nonzero(np.sum(X_bgsig,axis=2),axis=1)"
   ]
  },
  {
   "cell_type": "code",
   "execution_count": 32,
   "metadata": {
    "ExecuteTime": {
     "end_time": "2020-11-23T23:31:48.196259Z",
     "start_time": "2020-11-23T23:31:48.120746Z"
    }
   },
   "outputs": [
    {
     "name": "stdout",
     "output_type": "stream",
     "text": [
      "36\n",
      "14\n",
      "14\n"
     ]
    }
   ],
   "source": [
    "print(min(sig_nonzeros))\n",
    "print(min(sb_nonzeros))\n",
    "print(min(bgsig_nonzeros))"
   ]
  },
  {
   "cell_type": "code",
   "execution_count": 17,
   "metadata": {
    "ExecuteTime": {
     "end_time": "2020-11-23T23:03:15.439520Z",
     "start_time": "2020-11-23T23:03:15.430231Z"
    }
   },
   "outputs": [
    {
     "data": {
      "text/plain": [
       "array([[[ 1.26945e+00, -3.34614e-01,  9.72006e-01],\n",
       "        [ 3.86484e-01, -3.06462e-01,  6.43719e-01],\n",
       "        [ 1.89127e+00, -2.83125e-01,  8.97308e-01],\n",
       "        ...,\n",
       "        [ 0.00000e+00,  0.00000e+00,  0.00000e+00],\n",
       "        [ 0.00000e+00,  0.00000e+00,  0.00000e+00],\n",
       "        [ 0.00000e+00,  0.00000e+00,  0.00000e+00]],\n",
       "\n",
       "       [[ 1.53836e+02, -1.70761e+00,  2.20815e+00],\n",
       "        [ 7.97745e-01,  1.69359e-01, -4.55910e-01],\n",
       "        [ 5.36531e+00,  2.08073e-01, -6.85767e-01],\n",
       "        ...,\n",
       "        [ 0.00000e+00,  0.00000e+00,  0.00000e+00],\n",
       "        [ 0.00000e+00,  0.00000e+00,  0.00000e+00],\n",
       "        [ 0.00000e+00,  0.00000e+00,  0.00000e+00]],\n",
       "\n",
       "       [[ 1.22140e+02, -1.94521e+00,  1.46355e+00],\n",
       "        [ 5.85577e-01, -1.08852e-01,  2.20590e+00],\n",
       "        [ 2.61609e+00, -2.18327e-02, -2.68673e+00],\n",
       "        ...,\n",
       "        [ 0.00000e+00,  0.00000e+00,  0.00000e+00],\n",
       "        [ 0.00000e+00,  0.00000e+00,  0.00000e+00],\n",
       "        [ 0.00000e+00,  0.00000e+00,  0.00000e+00]],\n",
       "\n",
       "       ...,\n",
       "\n",
       "       [[ 3.62336e-01, -1.62412e+00,  1.68578e+00],\n",
       "        [ 9.66676e-02, -1.56665e+00,  2.07004e+00],\n",
       "        [ 1.77961e+00, -1.45473e+00,  1.74140e+00],\n",
       "        ...,\n",
       "        [ 0.00000e+00,  0.00000e+00,  0.00000e+00],\n",
       "        [ 0.00000e+00,  0.00000e+00,  0.00000e+00],\n",
       "        [ 0.00000e+00,  0.00000e+00,  0.00000e+00]],\n",
       "\n",
       "       [[ 1.77452e+00, -1.52684e+00,  2.04983e-01],\n",
       "        [ 3.55020e+00, -1.49905e+00,  2.57966e-01],\n",
       "        [ 2.13268e+01, -1.46044e+00,  3.08780e-01],\n",
       "        ...,\n",
       "        [ 0.00000e+00,  0.00000e+00,  0.00000e+00],\n",
       "        [ 0.00000e+00,  0.00000e+00,  0.00000e+00],\n",
       "        [ 0.00000e+00,  0.00000e+00,  0.00000e+00]],\n",
       "\n",
       "       [[ 4.11999e-01, -2.03658e+00, -1.34492e+00],\n",
       "        [ 1.39746e+00, -2.01764e+00, -1.13743e+00],\n",
       "        [ 9.42349e-01, -2.00110e+00, -1.08067e+00],\n",
       "        ...,\n",
       "        [ 0.00000e+00,  0.00000e+00,  0.00000e+00],\n",
       "        [ 0.00000e+00,  0.00000e+00,  0.00000e+00],\n",
       "        [ 0.00000e+00,  0.00000e+00,  0.00000e+00]]])"
      ]
     },
     "execution_count": 17,
     "metadata": {},
     "output_type": "execute_result"
    }
   ],
   "source": [
    "X_sig[:,:,:3]"
   ]
  },
  {
   "cell_type": "code",
   "execution_count": 42,
   "metadata": {
    "ExecuteTime": {
     "end_time": "2020-11-23T23:53:08.633536Z",
     "start_time": "2020-11-23T23:53:08.628166Z"
    }
   },
   "outputs": [],
   "source": [
    "a = np.array( [[ 4.11999e-01, -2.03658e+00, -1.34492e+00],\n",
    "        [ 1.39746e+00, -2.01764e+00, -1.13743e+00],\n",
    "        [ 9.42349e-01, -2.00110e+00, -1.08067e+00]])"
   ]
  },
  {
   "cell_type": "code",
   "execution_count": 44,
   "metadata": {
    "ExecuteTime": {
     "end_time": "2020-11-23T23:53:17.468212Z",
     "start_time": "2020-11-23T23:53:17.462054Z"
    }
   },
   "outputs": [
    {
     "data": {
      "text/plain": [
       "-6.866531999999999"
      ]
     },
     "execution_count": 44,
     "metadata": {},
     "output_type": "execute_result"
    }
   ],
   "source": [
    "np.sum(a)"
   ]
  },
  {
   "cell_type": "code",
   "execution_count": 48,
   "metadata": {
    "ExecuteTime": {
     "end_time": "2020-11-23T23:54:18.550284Z",
     "start_time": "2020-11-23T23:54:18.516922Z"
    },
    "code_folding": []
   },
   "outputs": [],
   "source": [
    "def prep_and_shufflesplit_data(anomaly_ratio, size_each = 76000, shuffle_seed = 69,\n",
    "                               train = 0.8, val = 0.2, test_size_each = 5000, special_test = True, use_pid = True, limit_particles = 9999, normalize_all = False):\n",
    "    \n",
    "    \"\"\"\n",
    "    Pre-Data Selection\n",
    "    \"\"\"\n",
    "        \n",
    "    #how much bg and signal data to take?\n",
    "    \n",
    "    anom_size = round(anomaly_ratio * size_each)\n",
    "    bgsig_size = size_each - anom_size\n",
    "    \n",
    "    # make sure we have enough data.\n",
    "    assert (size_each <= X_sb.shape[0])\n",
    "    assert (anom_size + test_size_each <= X_sig.shape[0])\n",
    "    assert (bgsig_size + test_size_each <= X_bgsig.shape[0])\n",
    "    \n",
    "    \"\"\"\n",
    "    Data Selection\n",
    "    \"\"\"\n",
    "    \n",
    "    # select sideband datapoints\n",
    "    this_X_sb = X_sb[:size_each]\n",
    "    this_y_sb = np.zeros(size_each)\n",
    "    \n",
    "    # select bgsig datapoints\n",
    "    this_X_bgsig = X_bgsig[:bgsig_size]\n",
    "    this_y_bgsig = np.ones(bgsig_size)\n",
    "    \n",
    "    # select anomaly datapoints\n",
    "    this_X_sig = X_sig[:anom_size]\n",
    "    this_y_sig = np.ones(anom_size)\n",
    "    \n",
    "    \"\"\"\n",
    "    Shuffle + Train-Val-Test Split (not test set)\n",
    "    \"\"\"\n",
    "    # Combine all 3 data sets\n",
    "    this_X = np.concatenate([this_X_sb, this_X_bgsig, this_X_sig])\n",
    "    this_y = np.concatenate([this_y_sb, this_y_bgsig, this_y_sig])\n",
    "    \n",
    "    # Shuffle before we split\n",
    "    this_X, this_y = shuffle(this_X, this_y, random_state = shuffle_seed)\n",
    "    \n",
    "    \n",
    "    (this_X_tr, this_X_v, _,\n",
    "     this_y_tr, this_y_v, _) = data_split(this_X, this_y, val=val, test=0)\n",
    "        \n",
    "    \n",
    "    print('Size of sb:')\n",
    "    print(this_X_sb.shape)\n",
    "    print('Size of bgsig:')\n",
    "    print(this_X_bgsig.shape)\n",
    "    print('Size of sig:')\n",
    "    print(this_X_sig.shape)\n",
    "        \n",
    "    \n",
    "    \"\"\"\n",
    "    Get the test set\n",
    "    \"\"\"\n",
    "    \n",
    "    # select the data\n",
    "    this_X_test_P = X_sig[anom_size:anom_size+test_size_each]\n",
    "    this_X_test_N = X_bgsig[bgsig_size:bgsig_size+test_size_each]\n",
    "    \n",
    "    this_y_test_P = np.ones(test_size_each)\n",
    "    this_y_test_N = np.zeros(test_size_each)\n",
    "        \n",
    "    # Shuffle the combination    \n",
    "    this_X_te = np.concatenate([this_X_test_P, this_X_test_N])\n",
    "    this_y_te = np.concatenate([this_y_test_P, this_y_test_N])\n",
    "    \n",
    "    this_X_te, this_y_te = shuffle(this_X_te, this_y_te, random_state = shuffle_seed)\n",
    "#     print('Size of test set:')\n",
    "#     print(this_X_te.shape)\n",
    "#     print('Test set distribution:')\n",
    "#     print(np.unique(this_y_te,return_counts = True))\n",
    "    \n",
    "    \n",
    "    X_train, X_val, X_test, y_train, y_val, y_test \\\n",
    "    = this_X_tr, this_X_v, this_X_te, this_y_tr, this_y_v, this_y_te\n",
    "    \n",
    "    \"\"\"\n",
    "    Data processing\n",
    "    \"\"\"\n",
    "    \n",
    "    # chop off \n",
    "    \n",
    "    if limit_particles < X_train.shape[1]:\n",
    "        print('CHOPPED!!!')\n",
    "        X_train = X_train[:,:limit_particles,:]\n",
    "        X_val = X_val[:,:limit_particles,:]\n",
    "        X_test = X_test[:,:limit_particles,:]\n",
    "    \n",
    "    # Centre and normalize all the Xs\n",
    "    for x in X_train:\n",
    "        mask = x[:,0] > 0\n",
    "        yphi_avg = np.average(x[mask,1:3], weights=x[mask,0], axis=0)\n",
    "        x[mask,1:3] -= yphi_avg\n",
    "        x[mask,0] /= x[:,0].sum()\n",
    "        if normalize_all:\n",
    "            x /= np.sum(x)\n",
    "        \n",
    "    for x in X_val:\n",
    "        mask = x[:,0] > 0\n",
    "        yphi_avg = np.average(x[mask,1:3], weights=x[mask,0], axis=0)\n",
    "        x[mask,1:3] -= yphi_avg\n",
    "        x[mask,0] /= x[:,0].sum()\n",
    "        if normalize_all:\n",
    "            x /= np.sum(x)\n",
    "        \n",
    "    for x in X_test:\n",
    "        mask = x[:,0] > 0\n",
    "        yphi_avg = np.average(x[mask,1:3], weights=x[mask,0], axis=0)\n",
    "        x[mask,1:3] -= yphi_avg\n",
    "        x[mask,0] /= x[:,0].sum()\n",
    "        if normalize_all:\n",
    "            x /= np.sum(x)\n",
    "        \n",
    "    \n",
    "    if use_pid:\n",
    "        # remap PIDs for all the Xs\n",
    "        remap_pids(X_train, pid_i=3)\n",
    "        remap_pids(X_val, pid_i=3)\n",
    "        remap_pids(X_test, pid_i=3)\n",
    "    else:\n",
    "        X_train = X_train[:,:,:3]\n",
    "        X_val = X_val[:,:,:3]\n",
    "        X_test = X_test[:,:,:3]\n",
    "    \n",
    "    # change Y to categorical Matrix\n",
    "    Y_train = to_categorical(y_train, num_classes=2)\n",
    "    Y_val = to_categorical(y_val, num_classes=2)\n",
    "    Y_test = to_categorical(y_test, num_classes=2)\n",
    "    \n",
    "    print('Training set size, distribution:')\n",
    "    print(X_train.shape)\n",
    "    print(np.unique(y_train,return_counts = True))\n",
    "    print('Validations set size, distribution:')\n",
    "    print(X_val.shape)\n",
    "    print(np.unique(y_val,return_counts = True))\n",
    "    print('Test set size, distribution:')\n",
    "    print(X_test.shape)\n",
    "    print(np.unique(y_test,return_counts = True))\n",
    "    \n",
    "    return X_train, X_val, X_test, Y_train,Y_val,Y_test"
   ]
  },
  {
   "cell_type": "markdown",
   "metadata": {},
   "source": [
    "#### Model definition"
   ]
  },
  {
   "cell_type": "code",
   "execution_count": 24,
   "metadata": {
    "ExecuteTime": {
     "end_time": "2020-11-06T10:36:52.253723Z",
     "start_time": "2020-11-06T10:36:52.248750Z"
    }
   },
   "outputs": [],
   "source": [
    "Phi_sizes, F_sizes = (20, 20, 20), (20,20,20)\n",
    "num_epoch = 3\n",
    "num_cycles = 3\n",
    "batch_size = 100"
   ]
  },
  {
   "cell_type": "code",
   "execution_count": 6,
   "metadata": {
    "ExecuteTime": {
     "end_time": "2020-11-23T22:07:05.218048Z",
     "start_time": "2020-11-23T22:07:05.207117Z"
    }
   },
   "outputs": [],
   "source": [
    "def train_model(X_train, X_val, X_test, Y_train,Y_val,Y_test):\n",
    "    model = PFN(input_dim=X_train.shape[-1], Phi_sizes=Phi_sizes, F_sizes=F_sizes)\n",
    "    histories = []\n",
    "    Y_predicts = []\n",
    "    for cycle in range(num_cycles):\n",
    "        print('----')\n",
    "        print('Beginning cycle ' + str(cycle))\n",
    "        history = model.fit(X_train, Y_train,\n",
    "              epochs=num_epoch,\n",
    "              batch_size=batch_size,\n",
    "              validation_data=(X_val, Y_val),\n",
    "              verbose=1)\n",
    "        Y_predict = model.predict(X_test)\n",
    "        histories.append(history)\n",
    "        Y_predicts.append(Y_predict)\n",
    "    \n",
    "    return (histories, Y_test, Y_predicts, model)"
   ]
  },
  {
   "cell_type": "code",
   "execution_count": 7,
   "metadata": {
    "ExecuteTime": {
     "end_time": "2020-11-23T22:07:06.704033Z",
     "start_time": "2020-11-23T22:07:06.687792Z"
    },
    "code_folding": []
   },
   "outputs": [],
   "source": [
    "def evaluate_model(histories, Y_test, Y_predicts):\n",
    "    fine_index = list(range(num_epoch * num_cycles))\n",
    "    rough_index = list(range(num_epoch - 1, num_epoch * num_cycles, num_epoch))\n",
    "    train_acc = []\n",
    "    val_acc = []\n",
    "    for h in histories:\n",
    "        curr_train_acc = h.history['acc']\n",
    "        curr_val_acc = h.history['val_acc']\n",
    "        train_acc.extend(curr_train_acc)\n",
    "        val_acc.extend(curr_val_acc)\n",
    "\n",
    "\n",
    "    medians = []\n",
    "    test_acc = []\n",
    "    for Y_pred in Y_predicts:\n",
    "        medians.append(np.median(Y_pred[:,1:]))\n",
    "        curr_acc = accuracy_score(Y_test[:,1:], (Y_pred[:,1:]*2).astype(int))\n",
    "        test_acc.append(curr_acc)\n",
    "\n",
    "    fig = plt.figure(figsize = (8,6))\n",
    "    ax = fig.add_subplot(1, 1, 1)\n",
    "    ax.plot(fine_index, train_acc, label = 'train_acc', color='tab:blue')\n",
    "    ax.plot(fine_index, val_acc, label = 'val_acc', color='tab:orange')\n",
    "    #ax.plot(rough_index, medians, marker = '.', label = 'median', color = 'green')\n",
    "    ax.plot(rough_index, test_acc, marker = '.',linestyle = ':',label = 'test_acc', color = 'red')\n",
    "    ax.legend()\n",
    "    ax.set_xlim([0, num_epoch * num_cycles])\n",
    "\n",
    "    ax.set_title('line plot with data points')\n",
    "\n",
    "    # display the plot\n",
    "    plt.show()"
   ]
  },
  {
   "cell_type": "code",
   "execution_count": 8,
   "metadata": {
    "ExecuteTime": {
     "end_time": "2020-11-23T22:07:11.724782Z",
     "start_time": "2020-11-23T22:07:11.717648Z"
    }
   },
   "outputs": [],
   "source": [
    "def final_evaluation(Y_test, Y_predicts):\n",
    "    Y_predict = Y_predicts[-1]\n",
    "    roc_curve = sklearn.metrics.roc_curve(Y_test[:,1:], Y_predict[:,1:])\n",
    "    plt.plot(roc_curve[0],roc_curve[1])\n",
    "    plt.xlabel('fpr')\n",
    "    plt.ylabel('tpr')\n",
    "    plt.title('ROC curve')\n",
    "    plt.show()"
   ]
  },
  {
   "cell_type": "markdown",
   "metadata": {},
   "source": [
    "### Execution"
   ]
  },
  {
   "cell_type": "markdown",
   "metadata": {},
   "source": [
    "#### Attempt 1: 25 percent signal.\n",
    "\n",
    "Uses standard data processing params"
   ]
  },
  {
   "cell_type": "code",
   "execution_count": 67,
   "metadata": {
    "ExecuteTime": {
     "end_time": "2020-11-06T11:29:06.591600Z",
     "start_time": "2020-11-06T11:29:06.586327Z"
    }
   },
   "outputs": [],
   "source": [
    "Phi_sizes, F_sizes = (40, 20, 12), (40,20)\n",
    "num_epoch = 3\n",
    "num_cycles = 15\n",
    "batch_size = 20"
   ]
  },
  {
   "cell_type": "code",
   "execution_count": 68,
   "metadata": {
    "ExecuteTime": {
     "end_time": "2020-11-06T11:29:38.872683Z",
     "start_time": "2020-11-06T11:29:08.556350Z"
    }
   },
   "outputs": [
    {
     "name": "stdout",
     "output_type": "stream",
     "text": [
      "Size of sb:\n",
      "(76000, 282, 4)\n",
      "Size of bgsig:\n",
      "(57000, 282, 4)\n",
      "Size of sig:\n",
      "(19000, 282, 4)\n",
      "Training set size, distribution:\n",
      "(121600, 282, 4)\n",
      "(array([0., 1.]), array([60746, 60854]))\n",
      "Validations set size, distribution:\n",
      "(30400, 282, 4)\n",
      "(array([0., 1.]), array([15254, 15146]))\n",
      "Test set size, distribution:\n",
      "(10000, 282, 4)\n",
      "(array([0., 1.]), array([5000, 5000]))\n"
     ]
    }
   ],
   "source": [
    "X_train, X_val, X_test, Y_train,Y_val,Y_test = prep_and_shufflesplit_data(0.25)"
   ]
  },
  {
   "cell_type": "code",
   "execution_count": 69,
   "metadata": {
    "ExecuteTime": {
     "end_time": "2020-11-06T12:00:49.740726Z",
     "start_time": "2020-11-06T11:29:38.874316Z"
    }
   },
   "outputs": [
    {
     "name": "stdout",
     "output_type": "stream",
     "text": [
      "__________________________________________________________________________________________________\n",
      "Layer (type)                    Output Shape         Param #     Connected to                     \n",
      "==================================================================================================\n",
      "input (InputLayer)              (None, None, 4)      0                                            \n",
      "__________________________________________________________________________________________________\n",
      "tdist_0 (TimeDistributed)       (None, None, 40)     200         input[0][0]                      \n",
      "__________________________________________________________________________________________________\n",
      "activation_29 (Activation)      (None, None, 40)     0           tdist_0[0][0]                    \n",
      "__________________________________________________________________________________________________\n",
      "tdist_1 (TimeDistributed)       (None, None, 20)     820         activation_29[0][0]              \n",
      "__________________________________________________________________________________________________\n",
      "activation_30 (Activation)      (None, None, 20)     0           tdist_1[0][0]                    \n",
      "__________________________________________________________________________________________________\n",
      "tdist_2 (TimeDistributed)       (None, None, 12)     252         activation_30[0][0]              \n",
      "__________________________________________________________________________________________________\n",
      "mask (Lambda)                   (None, None)         0           input[0][0]                      \n",
      "__________________________________________________________________________________________________\n",
      "activation_31 (Activation)      (None, None, 12)     0           tdist_2[0][0]                    \n",
      "__________________________________________________________________________________________________\n",
      "sum (Dot)                       (None, 12)           0           mask[0][0]                       \n",
      "                                                                 activation_31[0][0]              \n",
      "__________________________________________________________________________________________________\n",
      "dense_0 (Dense)                 (None, 40)           520         sum[0][0]                        \n",
      "__________________________________________________________________________________________________\n",
      "activation_32 (Activation)      (None, 40)           0           dense_0[0][0]                    \n",
      "__________________________________________________________________________________________________\n",
      "dense_1 (Dense)                 (None, 20)           820         activation_32[0][0]              \n",
      "__________________________________________________________________________________________________\n",
      "activation_33 (Activation)      (None, 20)           0           dense_1[0][0]                    \n",
      "__________________________________________________________________________________________________\n",
      "output (Dense)                  (None, 2)            42          activation_33[0][0]              \n",
      "__________________________________________________________________________________________________\n",
      "activation_34 (Activation)      (None, 2)            0           output[0][0]                     \n",
      "==================================================================================================\n",
      "Total params: 2,654\n",
      "Trainable params: 2,654\n",
      "Non-trainable params: 0\n",
      "__________________________________________________________________________________________________\n",
      "----\n",
      "Beginning cycle 0\n",
      "Train on 121600 samples, validate on 30400 samples\n",
      "Epoch 1/3\n",
      "121600/121600 [==============================] - 42s 345us/step - loss: 0.7747 - acc: 0.5456 - val_loss: 0.6787 - val_acc: 0.5809\n",
      "Epoch 2/3\n",
      "121600/121600 [==============================] - 41s 341us/step - loss: 0.6814 - acc: 0.5695 - val_loss: 0.6770 - val_acc: 0.5893\n",
      "Epoch 3/3\n",
      "121600/121600 [==============================] - 41s 340us/step - loss: 0.6735 - acc: 0.5829 - val_loss: 0.6727 - val_acc: 0.5862\n",
      "----\n",
      "Beginning cycle 1\n",
      "Train on 121600 samples, validate on 30400 samples\n",
      "Epoch 1/3\n",
      "121600/121600 [==============================] - 41s 339us/step - loss: 0.6627 - acc: 0.5986 - val_loss: 0.6499 - val_acc: 0.6215\n",
      "Epoch 2/3\n",
      "121600/121600 [==============================] - 41s 340us/step - loss: 0.6437 - acc: 0.6234 - val_loss: 0.6315 - val_acc: 0.6370\n",
      "Epoch 3/3\n",
      "121600/121600 [==============================] - 42s 342us/step - loss: 0.6221 - acc: 0.6428 - val_loss: 0.6118 - val_acc: 0.6482\n",
      "----\n",
      "Beginning cycle 2\n",
      "Train on 121600 samples, validate on 30400 samples\n",
      "Epoch 1/3\n",
      "121600/121600 [==============================] - 41s 341us/step - loss: 0.6028 - acc: 0.6623 - val_loss: 0.5980 - val_acc: 0.6627\n",
      "Epoch 2/3\n",
      "121600/121600 [==============================] - 41s 340us/step - loss: 0.5837 - acc: 0.6809 - val_loss: 0.5840 - val_acc: 0.6829\n",
      "Epoch 3/3\n",
      "121600/121600 [==============================] - 42s 342us/step - loss: 0.5625 - acc: 0.6989 - val_loss: 0.5707 - val_acc: 0.6920\n",
      "----\n",
      "Beginning cycle 3\n",
      "Train on 121600 samples, validate on 30400 samples\n",
      "Epoch 1/3\n",
      "121600/121600 [==============================] - 41s 340us/step - loss: 0.5438 - acc: 0.7139 - val_loss: 0.5338 - val_acc: 0.7176\n",
      "Epoch 2/3\n",
      "121600/121600 [==============================] - 41s 341us/step - loss: 0.5284 - acc: 0.7251 - val_loss: 0.5245 - val_acc: 0.7318\n",
      "Epoch 3/3\n",
      "121600/121600 [==============================] - 41s 341us/step - loss: 0.5122 - acc: 0.7363 - val_loss: 0.5171 - val_acc: 0.7327\n",
      "----\n",
      "Beginning cycle 4\n",
      "Train on 121600 samples, validate on 30400 samples\n",
      "Epoch 1/3\n",
      "121600/121600 [==============================] - 41s 339us/step - loss: 0.4963 - acc: 0.7486 - val_loss: 0.4895 - val_acc: 0.7534\n",
      "Epoch 2/3\n",
      "121600/121600 [==============================] - 41s 339us/step - loss: 0.4823 - acc: 0.7573 - val_loss: 0.4688 - val_acc: 0.7654\n",
      "Epoch 3/3\n",
      "121600/121600 [==============================] - 41s 341us/step - loss: 0.4708 - acc: 0.7656 - val_loss: 0.4788 - val_acc: 0.7601\n",
      "----\n",
      "Beginning cycle 5\n",
      "Train on 121600 samples, validate on 30400 samples\n",
      "Epoch 1/3\n",
      "121600/121600 [==============================] - 41s 339us/step - loss: 0.4616 - acc: 0.7711 - val_loss: 0.4618 - val_acc: 0.7693\n",
      "Epoch 2/3\n",
      "121600/121600 [==============================] - 41s 340us/step - loss: 0.4526 - acc: 0.7757 - val_loss: 0.4492 - val_acc: 0.7793\n",
      "Epoch 3/3\n",
      "121600/121600 [==============================] - 42s 341us/step - loss: 0.4460 - acc: 0.7806 - val_loss: 0.4626 - val_acc: 0.7704\n",
      "----\n",
      "Beginning cycle 6\n",
      "Train on 121600 samples, validate on 30400 samples\n",
      "Epoch 1/3\n",
      "121600/121600 [==============================] - 41s 340us/step - loss: 0.4390 - acc: 0.7851 - val_loss: 0.4735 - val_acc: 0.7658\n",
      "Epoch 2/3\n",
      "121600/121600 [==============================] - 41s 339us/step - loss: 0.4332 - acc: 0.7885 - val_loss: 0.4270 - val_acc: 0.7921\n",
      "Epoch 3/3\n",
      "121600/121600 [==============================] - 41s 340us/step - loss: 0.4260 - acc: 0.7941 - val_loss: 0.4304 - val_acc: 0.7898\n",
      "----\n",
      "Beginning cycle 7\n",
      "Train on 121600 samples, validate on 30400 samples\n",
      "Epoch 1/3\n",
      "121600/121600 [==============================] - 41s 340us/step - loss: 0.4215 - acc: 0.7966 - val_loss: 0.4189 - val_acc: 0.7974\n",
      "Epoch 2/3\n",
      "121600/121600 [==============================] - 41s 341us/step - loss: 0.4158 - acc: 0.7987 - val_loss: 0.4206 - val_acc: 0.7947\n",
      "Epoch 3/3\n",
      "121600/121600 [==============================] - 42s 342us/step - loss: 0.4113 - acc: 0.8026 - val_loss: 0.4194 - val_acc: 0.7977\n",
      "----\n",
      "Beginning cycle 8\n",
      "Train on 121600 samples, validate on 30400 samples\n",
      "Epoch 1/3\n",
      "121600/121600 [==============================] - 41s 340us/step - loss: 0.4063 - acc: 0.8060 - val_loss: 0.4166 - val_acc: 0.7993\n",
      "Epoch 2/3\n",
      "121600/121600 [==============================] - 41s 340us/step - loss: 0.4021 - acc: 0.8069 - val_loss: 0.4100 - val_acc: 0.8015\n",
      "Epoch 3/3\n",
      "121600/121600 [==============================] - 41s 341us/step - loss: 0.3965 - acc: 0.8105 - val_loss: 0.4187 - val_acc: 0.8030\n",
      "----\n",
      "Beginning cycle 9\n",
      "Train on 121600 samples, validate on 30400 samples\n",
      "Epoch 1/3\n",
      "121600/121600 [==============================] - 41s 341us/step - loss: 0.3943 - acc: 0.8129 - val_loss: 0.4169 - val_acc: 0.8033\n"
     ]
    },
    {
     "name": "stdout",
     "output_type": "stream",
     "text": [
      "Epoch 2/3\n",
      "121600/121600 [==============================] - 41s 335us/step - loss: 0.3894 - acc: 0.8157 - val_loss: 0.3759 - val_acc: 0.8292\n",
      "Epoch 3/3\n",
      "121600/121600 [==============================] - 41s 340us/step - loss: 0.3870 - acc: 0.8171 - val_loss: 0.3831 - val_acc: 0.8222\n",
      "----\n",
      "Beginning cycle 10\n",
      "Train on 121600 samples, validate on 30400 samples\n",
      "Epoch 1/3\n",
      "121600/121600 [==============================] - 41s 340us/step - loss: 0.3825 - acc: 0.8198 - val_loss: 0.4071 - val_acc: 0.8075\n",
      "Epoch 2/3\n",
      "121600/121600 [==============================] - 41s 339us/step - loss: 0.3791 - acc: 0.8225 - val_loss: 0.3911 - val_acc: 0.8156\n",
      "Epoch 3/3\n",
      "121600/121600 [==============================] - 42s 341us/step - loss: 0.3750 - acc: 0.8246 - val_loss: 0.3702 - val_acc: 0.8315\n",
      "----\n",
      "Beginning cycle 11\n",
      "Train on 121600 samples, validate on 30400 samples\n",
      "Epoch 1/3\n",
      "121600/121600 [==============================] - 42s 343us/step - loss: 0.3736 - acc: 0.8253 - val_loss: 0.3735 - val_acc: 0.8289\n",
      "Epoch 2/3\n",
      "121600/121600 [==============================] - 41s 340us/step - loss: 0.3709 - acc: 0.8278 - val_loss: 0.3905 - val_acc: 0.8207\n",
      "Epoch 3/3\n",
      "121600/121600 [==============================] - 41s 340us/step - loss: 0.3688 - acc: 0.8294 - val_loss: 0.3947 - val_acc: 0.8162\n",
      "----\n",
      "Beginning cycle 12\n",
      "Train on 121600 samples, validate on 30400 samples\n",
      "Epoch 1/3\n",
      "121600/121600 [==============================] - 41s 340us/step - loss: 0.3655 - acc: 0.8305 - val_loss: 0.3781 - val_acc: 0.8226\n",
      "Epoch 2/3\n",
      "121600/121600 [==============================] - 41s 341us/step - loss: 0.3636 - acc: 0.8320 - val_loss: 0.3754 - val_acc: 0.8293\n",
      "Epoch 3/3\n",
      "121600/121600 [==============================] - 41s 339us/step - loss: 0.3614 - acc: 0.8328 - val_loss: 0.3582 - val_acc: 0.8378\n",
      "----\n",
      "Beginning cycle 13\n",
      "Train on 121600 samples, validate on 30400 samples\n",
      "Epoch 1/3\n",
      "121600/121600 [==============================] - 41s 339us/step - loss: 0.3588 - acc: 0.8349 - val_loss: 0.3729 - val_acc: 0.8279\n",
      "Epoch 2/3\n",
      "121600/121600 [==============================] - 41s 341us/step - loss: 0.3565 - acc: 0.8355 - val_loss: 0.3603 - val_acc: 0.8370\n",
      "Epoch 3/3\n",
      "121600/121600 [==============================] - 42s 342us/step - loss: 0.3554 - acc: 0.8376 - val_loss: 0.3653 - val_acc: 0.8336\n",
      "----\n",
      "Beginning cycle 14\n",
      "Train on 121600 samples, validate on 30400 samples\n",
      "Epoch 1/3\n",
      "121600/121600 [==============================] - 42s 342us/step - loss: 0.3543 - acc: 0.8366 - val_loss: 0.3562 - val_acc: 0.8372\n",
      "Epoch 2/3\n",
      "121600/121600 [==============================] - 41s 339us/step - loss: 0.3510 - acc: 0.8399 - val_loss: 0.3614 - val_acc: 0.8347\n",
      "Epoch 3/3\n",
      "121600/121600 [==============================] - 41s 340us/step - loss: 0.3483 - acc: 0.8405 - val_loss: 0.3516 - val_acc: 0.8406\n"
     ]
    }
   ],
   "source": [
    "histories, Y_test, Y_predicts, model = train_model(X_train, X_val, X_test, Y_train,Y_val,Y_test)"
   ]
  },
  {
   "cell_type": "code",
   "execution_count": 70,
   "metadata": {
    "ExecuteTime": {
     "end_time": "2020-11-06T12:00:50.014926Z",
     "start_time": "2020-11-06T12:00:49.744013Z"
    }
   },
   "outputs": [
    {
     "data": {
      "image/png": "[encoded data removed]",
      "text/plain": [
       "<Figure size 576x432 with 1 Axes>"
      ]
     },
     "metadata": {
      "needs_background": "light"
     },
     "output_type": "display_data"
    }
   ],
   "source": [
    "evaluate_model(histories, Y_test, Y_predicts)"
   ]
  },
  {
   "cell_type": "markdown",
   "metadata": {
    "heading_collapsed": true
   },
   "source": [
    "#### Attempt 2: 5 percent signal"
   ]
  },
  {
   "cell_type": "code",
   "execution_count": 71,
   "metadata": {
    "ExecuteTime": {
     "end_time": "2020-11-06T12:01:21.245859Z",
     "start_time": "2020-11-06T12:00:50.016895Z"
    },
    "hidden": true
   },
   "outputs": [
    {
     "name": "stdout",
     "output_type": "stream",
     "text": [
      "Size of sb:\n",
      "(76000, 282, 4)\n",
      "Size of bgsig:\n",
      "(72200, 282, 4)\n",
      "Size of sig:\n",
      "(3800, 282, 4)\n",
      "Training set size, distribution:\n",
      "(121600, 282, 4)\n",
      "(array([0., 1.]), array([60825, 60775]))\n",
      "Validations set size, distribution:\n",
      "(30400, 282, 4)\n",
      "(array([0., 1.]), array([15175, 15225]))\n",
      "Test set size, distribution:\n",
      "(10000, 282, 4)\n",
      "(array([0., 1.]), array([5000, 5000]))\n"
     ]
    }
   ],
   "source": [
    "X_train, X_val, X_test, Y_train,Y_val,Y_test = prep_and_shufflesplit_data(0.05)"
   ]
  },
  {
   "cell_type": "code",
   "execution_count": 72,
   "metadata": {
    "ExecuteTime": {
     "end_time": "2020-11-06T12:32:45.417541Z",
     "start_time": "2020-11-06T12:01:21.247379Z"
    },
    "hidden": true
   },
   "outputs": [
    {
     "name": "stdout",
     "output_type": "stream",
     "text": [
      "__________________________________________________________________________________________________\n",
      "Layer (type)                    Output Shape         Param #     Connected to                     \n",
      "==================================================================================================\n",
      "input (InputLayer)              (None, None, 4)      0                                            \n",
      "__________________________________________________________________________________________________\n",
      "tdist_0 (TimeDistributed)       (None, None, 40)     200         input[0][0]                      \n",
      "__________________________________________________________________________________________________\n",
      "activation_35 (Activation)      (None, None, 40)     0           tdist_0[0][0]                    \n",
      "__________________________________________________________________________________________________\n",
      "tdist_1 (TimeDistributed)       (None, None, 20)     820         activation_35[0][0]              \n",
      "__________________________________________________________________________________________________\n",
      "activation_36 (Activation)      (None, None, 20)     0           tdist_1[0][0]                    \n",
      "__________________________________________________________________________________________________\n",
      "tdist_2 (TimeDistributed)       (None, None, 12)     252         activation_36[0][0]              \n",
      "__________________________________________________________________________________________________\n",
      "mask (Lambda)                   (None, None)         0           input[0][0]                      \n",
      "__________________________________________________________________________________________________\n",
      "activation_37 (Activation)      (None, None, 12)     0           tdist_2[0][0]                    \n",
      "__________________________________________________________________________________________________\n",
      "sum (Dot)                       (None, 12)           0           mask[0][0]                       \n",
      "                                                                 activation_37[0][0]              \n",
      "__________________________________________________________________________________________________\n",
      "dense_0 (Dense)                 (None, 40)           520         sum[0][0]                        \n",
      "__________________________________________________________________________________________________\n",
      "activation_38 (Activation)      (None, 40)           0           dense_0[0][0]                    \n",
      "__________________________________________________________________________________________________\n",
      "dense_1 (Dense)                 (None, 20)           820         activation_38[0][0]              \n",
      "__________________________________________________________________________________________________\n",
      "activation_39 (Activation)      (None, 20)           0           dense_1[0][0]                    \n",
      "__________________________________________________________________________________________________\n",
      "output (Dense)                  (None, 2)            42          activation_39[0][0]              \n",
      "__________________________________________________________________________________________________\n",
      "activation_40 (Activation)      (None, 2)            0           output[0][0]                     \n",
      "==================================================================================================\n",
      "Total params: 2,654\n",
      "Trainable params: 2,654\n",
      "Non-trainable params: 0\n",
      "__________________________________________________________________________________________________\n",
      "----\n",
      "Beginning cycle 0\n",
      "Train on 121600 samples, validate on 30400 samples\n",
      "Epoch 1/3\n",
      "121600/121600 [==============================] - 42s 347us/step - loss: 0.7235 - acc: 0.5379 - val_loss: 0.6880 - val_acc: 0.5485\n",
      "Epoch 2/3\n",
      "121600/121600 [==============================] - 42s 343us/step - loss: 0.6855 - acc: 0.5513 - val_loss: 0.6830 - val_acc: 0.5597\n",
      "Epoch 3/3\n",
      "121600/121600 [==============================] - 42s 342us/step - loss: 0.6801 - acc: 0.5612 - val_loss: 0.6735 - val_acc: 0.5740\n",
      "----\n",
      "Beginning cycle 1\n",
      "Train on 121600 samples, validate on 30400 samples\n",
      "Epoch 1/3\n",
      "121600/121600 [==============================] - 41s 340us/step - loss: 0.6706 - acc: 0.5774 - val_loss: 0.6647 - val_acc: 0.5902\n",
      "Epoch 2/3\n",
      "121600/121600 [==============================] - 42s 345us/step - loss: 0.6609 - acc: 0.5921 - val_loss: 0.6620 - val_acc: 0.5926\n",
      "Epoch 3/3\n",
      "121600/121600 [==============================] - 42s 344us/step - loss: 0.6540 - acc: 0.6040 - val_loss: 0.6530 - val_acc: 0.6027\n",
      "----\n",
      "Beginning cycle 2\n",
      "Train on 121600 samples, validate on 30400 samples\n",
      "Epoch 1/3\n",
      "121600/121600 [==============================] - 42s 342us/step - loss: 0.6467 - acc: 0.6126 - val_loss: 0.6416 - val_acc: 0.6163\n",
      "Epoch 2/3\n",
      "121600/121600 [==============================] - 42s 342us/step - loss: 0.6398 - acc: 0.6173 - val_loss: 0.6394 - val_acc: 0.6187\n",
      "Epoch 3/3\n",
      "121600/121600 [==============================] - 42s 344us/step - loss: 0.6338 - acc: 0.6256 - val_loss: 0.6353 - val_acc: 0.6261\n",
      "----\n",
      "Beginning cycle 3\n",
      "Train on 121600 samples, validate on 30400 samples\n",
      "Epoch 1/3\n",
      "121600/121600 [==============================] - 42s 344us/step - loss: 0.6279 - acc: 0.6305 - val_loss: 0.6256 - val_acc: 0.6337\n",
      "Epoch 2/3\n",
      "121600/121600 [==============================] - 42s 343us/step - loss: 0.6205 - acc: 0.6399 - val_loss: 0.6240 - val_acc: 0.6368\n",
      "Epoch 3/3\n",
      "121600/121600 [==============================] - 42s 342us/step - loss: 0.6151 - acc: 0.6468 - val_loss: 0.6128 - val_acc: 0.6485\n",
      "----\n",
      "Beginning cycle 4\n",
      "Train on 121600 samples, validate on 30400 samples\n",
      "Epoch 1/3\n",
      "121600/121600 [==============================] - 42s 342us/step - loss: 0.6087 - acc: 0.6531 - val_loss: 0.6085 - val_acc: 0.6518\n",
      "Epoch 2/3\n",
      "121600/121600 [==============================] - 42s 344us/step - loss: 0.6033 - acc: 0.6588 - val_loss: 0.6019 - val_acc: 0.6567\n",
      "Epoch 3/3\n",
      "121600/121600 [==============================] - 42s 345us/step - loss: 0.5986 - acc: 0.6623 - val_loss: 0.5930 - val_acc: 0.6689\n",
      "----\n",
      "Beginning cycle 5\n",
      "Train on 121600 samples, validate on 30400 samples\n",
      "Epoch 1/3\n",
      "121600/121600 [==============================] - 42s 342us/step - loss: 0.5949 - acc: 0.6674 - val_loss: 0.6022 - val_acc: 0.6600\n",
      "Epoch 2/3\n",
      "121600/121600 [==============================] - 42s 344us/step - loss: 0.5913 - acc: 0.6707 - val_loss: 0.5966 - val_acc: 0.6686\n",
      "Epoch 3/3\n",
      "121600/121600 [==============================] - 42s 343us/step - loss: 0.5859 - acc: 0.6743 - val_loss: 0.5840 - val_acc: 0.6763\n",
      "----\n",
      "Beginning cycle 6\n",
      "Train on 121600 samples, validate on 30400 samples\n",
      "Epoch 1/3\n",
      "121600/121600 [==============================] - 42s 343us/step - loss: 0.5836 - acc: 0.6780 - val_loss: 0.5835 - val_acc: 0.6788\n",
      "Epoch 2/3\n",
      "121600/121600 [==============================] - 42s 342us/step - loss: 0.5794 - acc: 0.6826 - val_loss: 0.5800 - val_acc: 0.6825\n",
      "Epoch 3/3\n",
      "121600/121600 [==============================] - 41s 341us/step - loss: 0.5760 - acc: 0.6860 - val_loss: 0.5774 - val_acc: 0.6849\n",
      "----\n",
      "Beginning cycle 7\n",
      "Train on 121600 samples, validate on 30400 samples\n",
      "Epoch 1/3\n",
      "121600/121600 [==============================] - 42s 344us/step - loss: 0.5718 - acc: 0.6889 - val_loss: 0.5824 - val_acc: 0.6810\n",
      "Epoch 2/3\n",
      "121600/121600 [==============================] - 42s 342us/step - loss: 0.5682 - acc: 0.6922 - val_loss: 0.5739 - val_acc: 0.6905\n",
      "Epoch 3/3\n",
      "121600/121600 [==============================] - 42s 343us/step - loss: 0.5654 - acc: 0.6942 - val_loss: 0.5687 - val_acc: 0.6958\n",
      "----\n",
      "Beginning cycle 8\n",
      "Train on 121600 samples, validate on 30400 samples\n",
      "Epoch 1/3\n",
      "121600/121600 [==============================] - 42s 343us/step - loss: 0.5618 - acc: 0.6981 - val_loss: 0.5690 - val_acc: 0.6934\n",
      "Epoch 2/3\n",
      "121600/121600 [==============================] - 42s 342us/step - loss: 0.5595 - acc: 0.6996 - val_loss: 0.5725 - val_acc: 0.6864\n",
      "Epoch 3/3\n",
      "121600/121600 [==============================] - 42s 342us/step - loss: 0.5567 - acc: 0.7015 - val_loss: 0.5592 - val_acc: 0.7072\n",
      "----\n",
      "Beginning cycle 9\n",
      "Train on 121600 samples, validate on 30400 samples\n",
      "Epoch 1/3\n",
      "121600/121600 [==============================] - 41s 340us/step - loss: 0.5539 - acc: 0.7053 - val_loss: 0.5621 - val_acc: 0.7005\n"
     ]
    },
    {
     "name": "stdout",
     "output_type": "stream",
     "text": [
      "Epoch 2/3\n",
      "121600/121600 [==============================] - 41s 340us/step - loss: 0.5502 - acc: 0.7085 - val_loss: 0.5618 - val_acc: 0.7006\n",
      "Epoch 3/3\n",
      "121600/121600 [==============================] - 42s 341us/step - loss: 0.5476 - acc: 0.7105 - val_loss: 0.5562 - val_acc: 0.7037\n",
      "----\n",
      "Beginning cycle 10\n",
      "Train on 121600 samples, validate on 30400 samples\n",
      "Epoch 1/3\n",
      "121600/121600 [==============================] - 41s 341us/step - loss: 0.5455 - acc: 0.7121 - val_loss: 0.5586 - val_acc: 0.7001\n",
      "Epoch 2/3\n",
      "121600/121600 [==============================] - 42s 343us/step - loss: 0.5442 - acc: 0.7130 - val_loss: 0.5434 - val_acc: 0.7166\n",
      "Epoch 3/3\n",
      "121600/121600 [==============================] - 42s 343us/step - loss: 0.5427 - acc: 0.7141 - val_loss: 0.5472 - val_acc: 0.7118\n",
      "----\n",
      "Beginning cycle 11\n",
      "Train on 121600 samples, validate on 30400 samples\n",
      "Epoch 1/3\n",
      "121600/121600 [==============================] - 42s 343us/step - loss: 0.5396 - acc: 0.7157 - val_loss: 0.5469 - val_acc: 0.7092\n",
      "Epoch 2/3\n",
      "121600/121600 [==============================] - 42s 343us/step - loss: 0.5376 - acc: 0.7176 - val_loss: 0.5404 - val_acc: 0.7181\n",
      "Epoch 3/3\n",
      "121600/121600 [==============================] - 41s 341us/step - loss: 0.5339 - acc: 0.7204 - val_loss: 0.5411 - val_acc: 0.7179\n",
      "----\n",
      "Beginning cycle 12\n",
      "Train on 121600 samples, validate on 30400 samples\n",
      "Epoch 1/3\n",
      "121600/121600 [==============================] - 42s 343us/step - loss: 0.5340 - acc: 0.7214 - val_loss: 0.5360 - val_acc: 0.7256\n",
      "Epoch 2/3\n",
      "121600/121600 [==============================] - 42s 346us/step - loss: 0.5318 - acc: 0.7233 - val_loss: 0.5423 - val_acc: 0.7192\n",
      "Epoch 3/3\n",
      "121600/121600 [==============================] - 41s 341us/step - loss: 0.5287 - acc: 0.7249 - val_loss: 0.5323 - val_acc: 0.7231\n",
      "----\n",
      "Beginning cycle 13\n",
      "Train on 121600 samples, validate on 30400 samples\n",
      "Epoch 1/3\n",
      "121600/121600 [==============================] - 42s 342us/step - loss: 0.5286 - acc: 0.7247 - val_loss: 0.5608 - val_acc: 0.7062\n",
      "Epoch 2/3\n",
      "121600/121600 [==============================] - 42s 342us/step - loss: 0.5272 - acc: 0.7247 - val_loss: 0.5296 - val_acc: 0.7280\n",
      "Epoch 3/3\n",
      "121600/121600 [==============================] - 42s 345us/step - loss: 0.5258 - acc: 0.7258 - val_loss: 0.5337 - val_acc: 0.7184\n",
      "----\n",
      "Beginning cycle 14\n",
      "Train on 121600 samples, validate on 30400 samples\n",
      "Epoch 1/3\n",
      "121600/121600 [==============================] - 42s 343us/step - loss: 0.5234 - acc: 0.7283 - val_loss: 0.5332 - val_acc: 0.7244\n",
      "Epoch 2/3\n",
      "121600/121600 [==============================] - 42s 344us/step - loss: 0.5224 - acc: 0.7289 - val_loss: 0.5295 - val_acc: 0.7255\n",
      "Epoch 3/3\n",
      "121600/121600 [==============================] - 42s 343us/step - loss: 0.5202 - acc: 0.7296 - val_loss: 0.5226 - val_acc: 0.7286\n"
     ]
    }
   ],
   "source": [
    "histories, Y_test, Y_predicts, model = train_model(X_train, X_val, X_test, Y_train,Y_val,Y_test)"
   ]
  },
  {
   "cell_type": "code",
   "execution_count": 73,
   "metadata": {
    "ExecuteTime": {
     "end_time": "2020-11-06T12:32:45.701006Z",
     "start_time": "2020-11-06T12:32:45.420076Z"
    },
    "hidden": true
   },
   "outputs": [
    {
     "data": {
      "image/png": "[encoded data removed]",
      "text/plain": [
       "<Figure size 576x432 with 1 Axes>"
      ]
     },
     "metadata": {
      "needs_background": "light"
     },
     "output_type": "display_data"
    }
   ],
   "source": [
    "evaluate_model(histories, Y_test, Y_predicts)"
   ]
  },
  {
   "cell_type": "code",
   "execution_count": 76,
   "metadata": {
    "ExecuteTime": {
     "end_time": "2020-11-06T18:19:17.079391Z",
     "start_time": "2020-11-06T18:19:16.935354Z"
    },
    "hidden": true
   },
   "outputs": [
    {
     "data": {
      "image/png": "[encoded data removed]",
      "text/plain": [
       "<Figure size 432x288 with 1 Axes>"
      ]
     },
     "metadata": {
      "needs_background": "light"
     },
     "output_type": "display_data"
    }
   ],
   "source": [
    "final_evaluation(Y_test, Y_predicts)"
   ]
  },
  {
   "cell_type": "markdown",
   "metadata": {},
   "source": [
    "#### Attempt 3: 0% signal"
   ]
  },
  {
   "cell_type": "code",
   "execution_count": 49,
   "metadata": {
    "ExecuteTime": {
     "end_time": "2020-11-23T23:54:28.429679Z",
     "start_time": "2020-11-23T23:54:28.424703Z"
    }
   },
   "outputs": [],
   "source": [
    "Phi_sizes, F_sizes = (40, 20, 12), (40,20)\n",
    "num_epoch = 3\n",
    "num_cycles = 3\n",
    "batch_size = 20"
   ]
  },
  {
   "cell_type": "code",
   "execution_count": 50,
   "metadata": {
    "ExecuteTime": {
     "end_time": "2020-11-23T23:54:46.446120Z",
     "start_time": "2020-11-23T23:54:31.191135Z"
    }
   },
   "outputs": [
    {
     "name": "stdout",
     "output_type": "stream",
     "text": [
      "Size of sb:\n",
      "(76000, 282, 4)\n",
      "Size of bgsig:\n",
      "(76000, 282, 4)\n",
      "Size of sig:\n",
      "(0, 282, 4)\n",
      "Training set size, distribution:\n",
      "(121600, 282, 3)\n",
      "(array([0., 1.]), array([60685, 60915]))\n",
      "Validations set size, distribution:\n",
      "(30400, 282, 3)\n",
      "(array([0., 1.]), array([15315, 15085]))\n",
      "Test set size, distribution:\n",
      "(10000, 282, 3)\n",
      "(array([0., 1.]), array([5000, 5000]))\n"
     ]
    }
   ],
   "source": [
    "X_train, X_val, X_test, Y_train,Y_val,Y_test = prep_and_shufflesplit_data(0,use_pid = False)"
   ]
  },
  {
   "cell_type": "code",
   "execution_count": 51,
   "metadata": {
    "ExecuteTime": {
     "end_time": "2020-11-24T00:01:31.268479Z",
     "start_time": "2020-11-23T23:55:25.418171Z"
    }
   },
   "outputs": [
    {
     "name": "stdout",
     "output_type": "stream",
     "text": [
      "__________________________________________________________________________________________________\n",
      "Layer (type)                    Output Shape         Param #     Connected to                     \n",
      "==================================================================================================\n",
      "input (InputLayer)              (None, None, 3)      0                                            \n",
      "__________________________________________________________________________________________________\n",
      "tdist_0 (TimeDistributed)       (None, None, 40)     160         input[0][0]                      \n",
      "__________________________________________________________________________________________________\n",
      "activation_19 (Activation)      (None, None, 40)     0           tdist_0[0][0]                    \n",
      "__________________________________________________________________________________________________\n",
      "tdist_1 (TimeDistributed)       (None, None, 20)     820         activation_19[0][0]              \n",
      "__________________________________________________________________________________________________\n",
      "activation_20 (Activation)      (None, None, 20)     0           tdist_1[0][0]                    \n",
      "__________________________________________________________________________________________________\n",
      "tdist_2 (TimeDistributed)       (None, None, 12)     252         activation_20[0][0]              \n",
      "__________________________________________________________________________________________________\n",
      "mask (Lambda)                   (None, None)         0           input[0][0]                      \n",
      "__________________________________________________________________________________________________\n",
      "activation_21 (Activation)      (None, None, 12)     0           tdist_2[0][0]                    \n",
      "__________________________________________________________________________________________________\n",
      "sum (Dot)                       (None, 12)           0           mask[0][0]                       \n",
      "                                                                 activation_21[0][0]              \n",
      "__________________________________________________________________________________________________\n",
      "dense_0 (Dense)                 (None, 40)           520         sum[0][0]                        \n",
      "__________________________________________________________________________________________________\n",
      "activation_22 (Activation)      (None, 40)           0           dense_0[0][0]                    \n",
      "__________________________________________________________________________________________________\n",
      "dense_1 (Dense)                 (None, 20)           820         activation_22[0][0]              \n",
      "__________________________________________________________________________________________________\n",
      "activation_23 (Activation)      (None, 20)           0           dense_1[0][0]                    \n",
      "__________________________________________________________________________________________________\n",
      "output (Dense)                  (None, 2)            42          activation_23[0][0]              \n",
      "__________________________________________________________________________________________________\n",
      "activation_24 (Activation)      (None, 2)            0           output[0][0]                     \n",
      "==================================================================================================\n",
      "Total params: 2,614\n",
      "Trainable params: 2,614\n",
      "Non-trainable params: 0\n",
      "__________________________________________________________________________________________________\n",
      "----\n",
      "Beginning cycle 0\n",
      "Train on 121600 samples, validate on 30400 samples\n",
      "Epoch 1/3\n",
      "121600/121600 [==============================] - 42s 345us/step - loss: 0.6933 - acc: 0.4989 - val_loss: 0.6932 - val_acc: 0.4963\n",
      "Epoch 2/3\n",
      "121600/121600 [==============================] - 41s 340us/step - loss: 0.6932 - acc: 0.4992 - val_loss: 0.6936 - val_acc: 0.4963\n",
      "Epoch 3/3\n",
      "121600/121600 [==============================] - 41s 340us/step - loss: 0.6932 - acc: 0.4998 - val_loss: 0.6931 - val_acc: 0.4963\n",
      "----\n",
      "Beginning cycle 1\n",
      "Train on 121600 samples, validate on 30400 samples\n",
      "Epoch 1/3\n",
      "121600/121600 [==============================] - 42s 342us/step - loss: 0.6932 - acc: 0.4989 - val_loss: 0.6931 - val_acc: 0.5038\n",
      "Epoch 2/3\n",
      "121600/121600 [==============================] - 41s 339us/step - loss: 0.6932 - acc: 0.4984 - val_loss: 0.6932 - val_acc: 0.4963\n",
      "Epoch 3/3\n",
      "121600/121600 [==============================] - 40s 328us/step - loss: 0.6932 - acc: 0.4993 - val_loss: 0.6936 - val_acc: 0.4963\n",
      "----\n",
      "Beginning cycle 2\n",
      "Train on 121600 samples, validate on 30400 samples\n",
      "Epoch 1/3\n",
      "121600/121600 [==============================] - 38s 315us/step - loss: 0.6932 - acc: 0.4987 - val_loss: 0.6931 - val_acc: 0.5038\n",
      "Epoch 2/3\n",
      "121600/121600 [==============================] - 39s 319us/step - loss: 0.6932 - acc: 0.4991 - val_loss: 0.6933 - val_acc: 0.4963\n",
      "Epoch 3/3\n",
      "121600/121600 [==============================] - 39s 320us/step - loss: 0.6932 - acc: 0.4992 - val_loss: 0.6934 - val_acc: 0.4963\n"
     ]
    }
   ],
   "source": [
    "histories_3, Y_test_3, Y_predicts_3, model_3 = train_model(X_train, X_val, X_test, Y_train,Y_val,Y_test)"
   ]
  },
  {
   "cell_type": "code",
   "execution_count": 52,
   "metadata": {
    "ExecuteTime": {
     "end_time": "2020-11-24T00:01:31.523976Z",
     "start_time": "2020-11-24T00:01:31.270960Z"
    }
   },
   "outputs": [
    {
     "data": {
      "image/png": "[encoded data removed]",
      "text/plain": [
       "<Figure size 576x432 with 1 Axes>"
      ]
     },
     "metadata": {
      "needs_background": "light"
     },
     "output_type": "display_data"
    }
   ],
   "source": [
    "evaluate_model(histories_3, Y_test_3, Y_predicts_3)"
   ]
  },
  {
   "cell_type": "markdown",
   "metadata": {
    "heading_collapsed": true
   },
   "source": [
    "#### Attempt 4: negligible signal (5/76000)"
   ]
  },
  {
   "cell_type": "code",
   "execution_count": 86,
   "metadata": {
    "ExecuteTime": {
     "end_time": "2020-11-06T21:48:16.121814Z",
     "start_time": "2020-11-06T21:47:45.128143Z"
    },
    "hidden": true
   },
   "outputs": [
    {
     "name": "stdout",
     "output_type": "stream",
     "text": [
      "Size of sb:\n",
      "(76000, 282, 4)\n",
      "Size of bgsig:\n",
      "(75995, 282, 4)\n",
      "Size of sig:\n",
      "(5, 282, 4)\n",
      "Training set size, distribution:\n",
      "(121600, 282, 4)\n",
      "(array([0., 1.]), array([60812, 60788]))\n",
      "Validations set size, distribution:\n",
      "(30400, 282, 4)\n",
      "(array([0., 1.]), array([15188, 15212]))\n",
      "Test set size, distribution:\n",
      "(10000, 282, 4)\n",
      "(array([0., 1.]), array([5000, 5000]))\n"
     ]
    }
   ],
   "source": [
    "X_train, X_val, X_test, Y_train,Y_val,Y_test = prep_and_shufflesplit_data(6.6e-5)"
   ]
  },
  {
   "cell_type": "code",
   "execution_count": 87,
   "metadata": {
    "ExecuteTime": {
     "end_time": "2020-11-06T22:19:33.992103Z",
     "start_time": "2020-11-06T21:48:16.123465Z"
    },
    "hidden": true
   },
   "outputs": [
    {
     "name": "stdout",
     "output_type": "stream",
     "text": [
      "__________________________________________________________________________________________________\n",
      "Layer (type)                    Output Shape         Param #     Connected to                     \n",
      "==================================================================================================\n",
      "input (InputLayer)              (None, None, 4)      0                                            \n",
      "__________________________________________________________________________________________________\n",
      "tdist_0 (TimeDistributed)       (None, None, 40)     200         input[0][0]                      \n",
      "__________________________________________________________________________________________________\n",
      "activation_53 (Activation)      (None, None, 40)     0           tdist_0[0][0]                    \n",
      "__________________________________________________________________________________________________\n",
      "tdist_1 (TimeDistributed)       (None, None, 20)     820         activation_53[0][0]              \n",
      "__________________________________________________________________________________________________\n",
      "activation_54 (Activation)      (None, None, 20)     0           tdist_1[0][0]                    \n",
      "__________________________________________________________________________________________________\n",
      "tdist_2 (TimeDistributed)       (None, None, 12)     252         activation_54[0][0]              \n",
      "__________________________________________________________________________________________________\n",
      "mask (Lambda)                   (None, None)         0           input[0][0]                      \n",
      "__________________________________________________________________________________________________\n",
      "activation_55 (Activation)      (None, None, 12)     0           tdist_2[0][0]                    \n",
      "__________________________________________________________________________________________________\n",
      "sum (Dot)                       (None, 12)           0           mask[0][0]                       \n",
      "                                                                 activation_55[0][0]              \n",
      "__________________________________________________________________________________________________\n",
      "dense_0 (Dense)                 (None, 40)           520         sum[0][0]                        \n",
      "__________________________________________________________________________________________________\n",
      "activation_56 (Activation)      (None, 40)           0           dense_0[0][0]                    \n",
      "__________________________________________________________________________________________________\n",
      "dense_1 (Dense)                 (None, 20)           820         activation_56[0][0]              \n",
      "__________________________________________________________________________________________________\n",
      "activation_57 (Activation)      (None, 20)           0           dense_1[0][0]                    \n",
      "__________________________________________________________________________________________________\n",
      "output (Dense)                  (None, 2)            42          activation_57[0][0]              \n",
      "__________________________________________________________________________________________________\n",
      "activation_58 (Activation)      (None, 2)            0           output[0][0]                     \n",
      "==================================================================================================\n",
      "Total params: 2,654\n",
      "Trainable params: 2,654\n",
      "Non-trainable params: 0\n",
      "__________________________________________________________________________________________________\n",
      "----\n",
      "Beginning cycle 0\n",
      "Train on 121600 samples, validate on 30400 samples\n",
      "Epoch 1/3\n",
      "121600/121600 [==============================] - 41s 338us/step - loss: 0.7159 - acc: 0.5248 - val_loss: 0.6884 - val_acc: 0.5436\n",
      "Epoch 2/3\n",
      "121600/121600 [==============================] - 40s 327us/step - loss: 0.6887 - acc: 0.5418 - val_loss: 0.6841 - val_acc: 0.5587\n",
      "Epoch 3/3\n",
      "121600/121600 [==============================] - 40s 327us/step - loss: 0.6834 - acc: 0.5565 - val_loss: 0.6803 - val_acc: 0.5599\n",
      "----\n",
      "Beginning cycle 1\n",
      "Train on 121600 samples, validate on 30400 samples\n",
      "Epoch 1/3\n",
      "121600/121600 [==============================] - 40s 326us/step - loss: 0.6763 - acc: 0.5704 - val_loss: 0.6773 - val_acc: 0.5669\n",
      "Epoch 2/3\n",
      "121600/121600 [==============================] - 39s 324us/step - loss: 0.6700 - acc: 0.5772 - val_loss: 0.6708 - val_acc: 0.5677\n",
      "Epoch 3/3\n",
      "121600/121600 [==============================] - 39s 321us/step - loss: 0.6623 - acc: 0.5860 - val_loss: 0.6617 - val_acc: 0.5878\n",
      "----\n",
      "Beginning cycle 2\n",
      "Train on 121600 samples, validate on 30400 samples\n",
      "Epoch 1/3\n",
      "121600/121600 [==============================] - 40s 326us/step - loss: 0.6555 - acc: 0.5921 - val_loss: 0.6582 - val_acc: 0.5854\n",
      "Epoch 2/3\n",
      "121600/121600 [==============================] - 40s 325us/step - loss: 0.6480 - acc: 0.6027 - val_loss: 0.6446 - val_acc: 0.6021\n",
      "Epoch 3/3\n",
      "121600/121600 [==============================] - 40s 326us/step - loss: 0.6412 - acc: 0.6089 - val_loss: 0.6344 - val_acc: 0.6150\n",
      "----\n",
      "Beginning cycle 3\n",
      "Train on 121600 samples, validate on 30400 samples\n",
      "Epoch 1/3\n",
      "121600/121600 [==============================] - 40s 327us/step - loss: 0.6336 - acc: 0.6180 - val_loss: 0.6354 - val_acc: 0.6093\n",
      "Epoch 2/3\n",
      "121600/121600 [==============================] - 40s 325us/step - loss: 0.6263 - acc: 0.6249 - val_loss: 0.6261 - val_acc: 0.6255\n",
      "Epoch 3/3\n",
      "121600/121600 [==============================] - 39s 320us/step - loss: 0.6181 - acc: 0.6342 - val_loss: 0.6263 - val_acc: 0.6253\n",
      "----\n",
      "Beginning cycle 4\n",
      "Train on 121600 samples, validate on 30400 samples\n",
      "Epoch 1/3\n",
      "121600/121600 [==============================] - 39s 325us/step - loss: 0.6119 - acc: 0.6399 - val_loss: 0.6149 - val_acc: 0.6361\n",
      "Epoch 2/3\n",
      "121600/121600 [==============================] - 40s 326us/step - loss: 0.6049 - acc: 0.6464 - val_loss: 0.6056 - val_acc: 0.6433\n",
      "Epoch 3/3\n",
      "121600/121600 [==============================] - 40s 326us/step - loss: 0.6004 - acc: 0.6512 - val_loss: 0.6030 - val_acc: 0.6461\n",
      "----\n",
      "Beginning cycle 5\n",
      "Train on 121600 samples, validate on 30400 samples\n",
      "Epoch 1/3\n",
      "121600/121600 [==============================] - 40s 327us/step - loss: 0.5956 - acc: 0.6559 - val_loss: 0.5986 - val_acc: 0.6510\n",
      "Epoch 2/3\n",
      "121600/121600 [==============================] - 40s 325us/step - loss: 0.5910 - acc: 0.6595 - val_loss: 0.5936 - val_acc: 0.6558\n",
      "Epoch 3/3\n",
      "121600/121600 [==============================] - 41s 340us/step - loss: 0.5864 - acc: 0.6641 - val_loss: 0.5937 - val_acc: 0.6532\n",
      "----\n",
      "Beginning cycle 6\n",
      "Train on 121600 samples, validate on 30400 samples\n",
      "Epoch 1/3\n",
      "121600/121600 [==============================] - 43s 352us/step - loss: 0.5823 - acc: 0.6665 - val_loss: 0.5984 - val_acc: 0.6541\n",
      "Epoch 2/3\n",
      "121600/121600 [==============================] - 42s 349us/step - loss: 0.5777 - acc: 0.6704 - val_loss: 0.5900 - val_acc: 0.6599\n",
      "Epoch 3/3\n",
      "121600/121600 [==============================] - 43s 351us/step - loss: 0.5741 - acc: 0.6720 - val_loss: 0.5884 - val_acc: 0.6642\n",
      "----\n",
      "Beginning cycle 7\n",
      "Train on 121600 samples, validate on 30400 samples\n",
      "Epoch 1/3\n",
      "121600/121600 [==============================] - 43s 351us/step - loss: 0.5729 - acc: 0.6735 - val_loss: 0.5716 - val_acc: 0.6733\n",
      "Epoch 2/3\n",
      "121600/121600 [==============================] - 43s 352us/step - loss: 0.5687 - acc: 0.6755 - val_loss: 0.5700 - val_acc: 0.6712\n",
      "Epoch 3/3\n",
      "121600/121600 [==============================] - 43s 352us/step - loss: 0.5674 - acc: 0.6770 - val_loss: 0.5721 - val_acc: 0.6721\n",
      "----\n",
      "Beginning cycle 8\n",
      "Train on 121600 samples, validate on 30400 samples\n",
      "Epoch 1/3\n",
      "121600/121600 [==============================] - 43s 351us/step - loss: 0.5662 - acc: 0.6780 - val_loss: 0.5702 - val_acc: 0.6698\n",
      "Epoch 2/3\n",
      "121600/121600 [==============================] - 43s 351us/step - loss: 0.5635 - acc: 0.6810 - val_loss: 0.5637 - val_acc: 0.6762\n",
      "Epoch 3/3\n",
      "121600/121600 [==============================] - 43s 351us/step - loss: 0.5604 - acc: 0.6823 - val_loss: 0.5660 - val_acc: 0.6764\n",
      "----\n",
      "Beginning cycle 9\n",
      "Train on 121600 samples, validate on 30400 samples\n",
      "Epoch 1/3\n",
      "121600/121600 [==============================] - 43s 352us/step - loss: 0.5580 - acc: 0.6856 - val_loss: 0.5625 - val_acc: 0.6787\n"
     ]
    },
    {
     "name": "stdout",
     "output_type": "stream",
     "text": [
      "Epoch 2/3\n",
      "121600/121600 [==============================] - 43s 350us/step - loss: 0.5534 - acc: 0.6876 - val_loss: 0.5578 - val_acc: 0.6804\n",
      "Epoch 3/3\n",
      "121600/121600 [==============================] - 43s 355us/step - loss: 0.5528 - acc: 0.6887 - val_loss: 0.5528 - val_acc: 0.6886\n",
      "----\n",
      "Beginning cycle 10\n",
      "Train on 121600 samples, validate on 30400 samples\n",
      "Epoch 1/3\n",
      "121600/121600 [==============================] - 43s 355us/step - loss: 0.5501 - acc: 0.6906 - val_loss: 0.5595 - val_acc: 0.6858\n",
      "Epoch 2/3\n",
      "121600/121600 [==============================] - 43s 352us/step - loss: 0.5484 - acc: 0.6917 - val_loss: 0.5793 - val_acc: 0.6710\n",
      "Epoch 3/3\n",
      "121600/121600 [==============================] - 43s 350us/step - loss: 0.5468 - acc: 0.6925 - val_loss: 0.5470 - val_acc: 0.6902\n",
      "----\n",
      "Beginning cycle 11\n",
      "Train on 121600 samples, validate on 30400 samples\n",
      "Epoch 1/3\n",
      "121600/121600 [==============================] - 43s 351us/step - loss: 0.5445 - acc: 0.6930 - val_loss: 0.5529 - val_acc: 0.6897\n",
      "Epoch 2/3\n",
      "121600/121600 [==============================] - 43s 350us/step - loss: 0.5422 - acc: 0.6945 - val_loss: 0.5494 - val_acc: 0.6859\n",
      "Epoch 3/3\n",
      "121600/121600 [==============================] - 43s 351us/step - loss: 0.5416 - acc: 0.6964 - val_loss: 0.5525 - val_acc: 0.6902\n",
      "----\n",
      "Beginning cycle 12\n",
      "Train on 121600 samples, validate on 30400 samples\n",
      "Epoch 1/3\n",
      "121600/121600 [==============================] - 43s 351us/step - loss: 0.5392 - acc: 0.6975 - val_loss: 0.5479 - val_acc: 0.6903\n",
      "Epoch 2/3\n",
      "121600/121600 [==============================] - 43s 350us/step - loss: 0.5371 - acc: 0.6994 - val_loss: 0.5458 - val_acc: 0.6980\n",
      "Epoch 3/3\n",
      "121600/121600 [==============================] - 43s 351us/step - loss: 0.5362 - acc: 0.7004 - val_loss: 0.5342 - val_acc: 0.6988\n",
      "----\n",
      "Beginning cycle 13\n",
      "Train on 121600 samples, validate on 30400 samples\n",
      "Epoch 1/3\n",
      "121600/121600 [==============================] - 43s 350us/step - loss: 0.5338 - acc: 0.7022 - val_loss: 0.5409 - val_acc: 0.6961\n",
      "Epoch 2/3\n",
      "121600/121600 [==============================] - 43s 352us/step - loss: 0.5336 - acc: 0.7032 - val_loss: 0.5363 - val_acc: 0.7004\n",
      "Epoch 3/3\n",
      "121600/121600 [==============================] - 43s 352us/step - loss: 0.5327 - acc: 0.7024 - val_loss: 0.5535 - val_acc: 0.6899\n",
      "----\n",
      "Beginning cycle 14\n",
      "Train on 121600 samples, validate on 30400 samples\n",
      "Epoch 1/3\n",
      "121600/121600 [==============================] - 43s 354us/step - loss: 0.5298 - acc: 0.7056 - val_loss: 0.5444 - val_acc: 0.6969\n",
      "Epoch 2/3\n",
      "121600/121600 [==============================] - 43s 352us/step - loss: 0.5290 - acc: 0.7056 - val_loss: 0.5615 - val_acc: 0.6899\n",
      "Epoch 3/3\n",
      "121600/121600 [==============================] - 43s 351us/step - loss: 0.5276 - acc: 0.7059 - val_loss: 0.5340 - val_acc: 0.7048\n"
     ]
    }
   ],
   "source": [
    "histories_4, Y_test_4, Y_predicts_4, model_4 = train_model(X_train, X_val, X_test, Y_train,Y_val,Y_test)"
   ]
  },
  {
   "cell_type": "code",
   "execution_count": 88,
   "metadata": {
    "ExecuteTime": {
     "end_time": "2020-11-06T22:19:34.264290Z",
     "start_time": "2020-11-06T22:19:33.995160Z"
    },
    "hidden": true
   },
   "outputs": [
    {
     "data": {
      "image/png": "[encoded data removed]",
      "text/plain": [
       "<Figure size 576x432 with 1 Axes>"
      ]
     },
     "metadata": {
      "needs_background": "light"
     },
     "output_type": "display_data"
    }
   ],
   "source": [
    "evaluate_model(histories_4, Y_test_4, Y_predicts_4)"
   ]
  },
  {
   "cell_type": "code",
   "execution_count": null,
   "metadata": {
    "hidden": true
   },
   "outputs": [],
   "source": []
  },
  {
   "cell_type": "markdown",
   "metadata": {},
   "source": [
    "#### Attempt 5: 90 signal"
   ]
  },
  {
   "cell_type": "code",
   "execution_count": 54,
   "metadata": {
    "ExecuteTime": {
     "end_time": "2020-11-24T00:02:10.250490Z",
     "start_time": "2020-11-24T00:01:52.736301Z"
    }
   },
   "outputs": [
    {
     "name": "stdout",
     "output_type": "stream",
     "text": [
      "Size of sb:\n",
      "(76000, 282, 4)\n",
      "Size of bgsig:\n",
      "(7600, 282, 4)\n",
      "Size of sig:\n",
      "(68400, 282, 4)\n",
      "Training set size, distribution:\n",
      "(121600, 282, 3)\n",
      "(array([0., 1.]), array([60741, 60859]))\n",
      "Validations set size, distribution:\n",
      "(30400, 282, 3)\n",
      "(array([0., 1.]), array([15259, 15141]))\n",
      "Test set size, distribution:\n",
      "(10000, 282, 3)\n",
      "(array([0., 1.]), array([5000, 5000]))\n"
     ]
    }
   ],
   "source": [
    "X_train, X_val, X_test, Y_train,Y_val,Y_test = prep_and_shufflesplit_data(0.9, use_pid = False)"
   ]
  },
  {
   "cell_type": "code",
   "execution_count": 55,
   "metadata": {
    "ExecuteTime": {
     "end_time": "2020-11-24T00:08:05.730434Z",
     "start_time": "2020-11-24T00:02:10.252547Z"
    }
   },
   "outputs": [
    {
     "name": "stdout",
     "output_type": "stream",
     "text": [
      "__________________________________________________________________________________________________\n",
      "Layer (type)                    Output Shape         Param #     Connected to                     \n",
      "==================================================================================================\n",
      "input (InputLayer)              (None, None, 3)      0                                            \n",
      "__________________________________________________________________________________________________\n",
      "tdist_0 (TimeDistributed)       (None, None, 40)     160         input[0][0]                      \n",
      "__________________________________________________________________________________________________\n",
      "activation_25 (Activation)      (None, None, 40)     0           tdist_0[0][0]                    \n",
      "__________________________________________________________________________________________________\n",
      "tdist_1 (TimeDistributed)       (None, None, 20)     820         activation_25[0][0]              \n",
      "__________________________________________________________________________________________________\n",
      "activation_26 (Activation)      (None, None, 20)     0           tdist_1[0][0]                    \n",
      "__________________________________________________________________________________________________\n",
      "tdist_2 (TimeDistributed)       (None, None, 12)     252         activation_26[0][0]              \n",
      "__________________________________________________________________________________________________\n",
      "mask (Lambda)                   (None, None)         0           input[0][0]                      \n",
      "__________________________________________________________________________________________________\n",
      "activation_27 (Activation)      (None, None, 12)     0           tdist_2[0][0]                    \n",
      "__________________________________________________________________________________________________\n",
      "sum (Dot)                       (None, 12)           0           mask[0][0]                       \n",
      "                                                                 activation_27[0][0]              \n",
      "__________________________________________________________________________________________________\n",
      "dense_0 (Dense)                 (None, 40)           520         sum[0][0]                        \n",
      "__________________________________________________________________________________________________\n",
      "activation_28 (Activation)      (None, 40)           0           dense_0[0][0]                    \n",
      "__________________________________________________________________________________________________\n",
      "dense_1 (Dense)                 (None, 20)           820         activation_28[0][0]              \n",
      "__________________________________________________________________________________________________\n",
      "activation_29 (Activation)      (None, 20)           0           dense_1[0][0]                    \n",
      "__________________________________________________________________________________________________\n",
      "output (Dense)                  (None, 2)            42          activation_29[0][0]              \n",
      "__________________________________________________________________________________________________\n",
      "activation_30 (Activation)      (None, 2)            0           output[0][0]                     \n",
      "==================================================================================================\n",
      "Total params: 2,614\n",
      "Trainable params: 2,614\n",
      "Non-trainable params: 0\n",
      "__________________________________________________________________________________________________\n",
      "----\n",
      "Beginning cycle 0\n",
      "Train on 121600 samples, validate on 30400 samples\n",
      "Epoch 1/3\n",
      "121600/121600 [==============================] - 40s 329us/step - loss: 0.5997 - acc: 0.6874 - val_loss: 0.5770 - val_acc: 0.7033\n",
      "Epoch 2/3\n",
      "121600/121600 [==============================] - 40s 326us/step - loss: 0.5789 - acc: 0.7019 - val_loss: 0.5773 - val_acc: 0.7028\n",
      "Epoch 3/3\n",
      "121600/121600 [==============================] - 39s 324us/step - loss: 0.5778 - acc: 0.7014 - val_loss: 0.5781 - val_acc: 0.6999\n",
      "----\n",
      "Beginning cycle 1\n",
      "Train on 121600 samples, validate on 30400 samples\n",
      "Epoch 1/3\n",
      "121600/121600 [==============================] - 39s 323us/step - loss: 0.5758 - acc: 0.7037 - val_loss: 0.5778 - val_acc: 0.6992\n",
      "Epoch 2/3\n",
      "121600/121600 [==============================] - 39s 323us/step - loss: 0.5755 - acc: 0.7040 - val_loss: 0.5763 - val_acc: 0.7037\n",
      "Epoch 3/3\n",
      "121600/121600 [==============================] - 39s 322us/step - loss: 0.5758 - acc: 0.7039 - val_loss: 0.5793 - val_acc: 0.7028\n",
      "----\n",
      "Beginning cycle 2\n",
      "Train on 121600 samples, validate on 30400 samples\n",
      "Epoch 1/3\n",
      "121600/121600 [==============================] - 38s 315us/step - loss: 0.5748 - acc: 0.7044 - val_loss: 0.5766 - val_acc: 0.7030\n",
      "Epoch 2/3\n",
      "121600/121600 [==============================] - 39s 318us/step - loss: 0.5748 - acc: 0.7039 - val_loss: 0.5758 - val_acc: 0.7037\n",
      "Epoch 3/3\n",
      "121600/121600 [==============================] - 39s 322us/step - loss: 0.5742 - acc: 0.7051 - val_loss: 0.5827 - val_acc: 0.6975\n"
     ]
    }
   ],
   "source": [
    "histories_5, Y_test_5, Y_predicts_5, model_5 = train_model(X_train, X_val, X_test, Y_train,Y_val,Y_test)"
   ]
  },
  {
   "cell_type": "code",
   "execution_count": 56,
   "metadata": {
    "ExecuteTime": {
     "end_time": "2020-11-24T00:58:32.886937Z",
     "start_time": "2020-11-24T00:58:32.627920Z"
    }
   },
   "outputs": [
    {
     "data": {
      "image/png": "[encoded data removed]",
      "text/plain": [
       "<Figure size 576x432 with 1 Axes>"
      ]
     },
     "metadata": {
      "needs_background": "light"
     },
     "output_type": "display_data"
    }
   ],
   "source": [
    "evaluate_model(histories_5, Y_test_5, Y_predicts_5)"
   ]
  },
  {
   "cell_type": "code",
   "execution_count": null,
   "metadata": {},
   "outputs": [],
   "source": []
  }
 ],
 "metadata": {
  "kernelspec": {
   "display_name": "Python 3",
   "language": "python",
   "name": "python3"
  },
  "language_info": {
   "codemirror_mode": {
    "name": "ipython",
    "version": 3
   },
   "file_extension": ".py",
   "mimetype": "text/x-python",
   "name": "python",
   "nbconvert_exporter": "python",
   "pygments_lexer": "ipython3",
   "version": "3.6.5"
  }
 },
 "nbformat": 4,
 "nbformat_minor": 4
}

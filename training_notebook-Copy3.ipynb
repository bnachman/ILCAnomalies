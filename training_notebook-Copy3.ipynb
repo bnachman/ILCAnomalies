{
 "cells": [
  {
   "cell_type": "markdown",
   "metadata": {},
   "source": [
    "#### Import"
   ]
  },
  {
   "cell_type": "code",
   "execution_count": 2,
   "metadata": {
    "ExecuteTime": {
     "end_time": "2021-04-08T07:36:36.971655Z",
     "start_time": "2021-04-08T07:36:36.530503Z"
    }
   },
   "outputs": [],
   "source": [
    "import numpy as np\n",
    "import matplotlib.pyplot as plt"
   ]
  },
  {
   "cell_type": "code",
   "execution_count": 3,
   "metadata": {
    "ExecuteTime": {
     "end_time": "2021-04-08T07:36:39.096240Z",
     "start_time": "2021-04-08T07:36:36.973530Z"
    }
   },
   "outputs": [
    {
     "name": "stderr",
     "output_type": "stream",
     "text": [
      "Using TensorFlow backend.\n",
      "/opt/anaconda3/envs/shared_env/lib/python3.6/site-packages/tensorflow/python/framework/dtypes.py:523: FutureWarning: Passing (type, 1) or '1type' as a synonym of type is deprecated; in a future version of numpy, it will be understood as (type, (1,)) / '(1,)type'.\n",
      "  _np_qint8 = np.dtype([(\"qint8\", np.int8, 1)])\n",
      "/opt/anaconda3/envs/shared_env/lib/python3.6/site-packages/tensorflow/python/framework/dtypes.py:524: FutureWarning: Passing (type, 1) or '1type' as a synonym of type is deprecated; in a future version of numpy, it will be understood as (type, (1,)) / '(1,)type'.\n",
      "  _np_quint8 = np.dtype([(\"quint8\", np.uint8, 1)])\n",
      "/opt/anaconda3/envs/shared_env/lib/python3.6/site-packages/tensorflow/python/framework/dtypes.py:525: FutureWarning: Passing (type, 1) or '1type' as a synonym of type is deprecated; in a future version of numpy, it will be understood as (type, (1,)) / '(1,)type'.\n",
      "  _np_qint16 = np.dtype([(\"qint16\", np.int16, 1)])\n",
      "/opt/anaconda3/envs/shared_env/lib/python3.6/site-packages/tensorflow/python/framework/dtypes.py:526: FutureWarning: Passing (type, 1) or '1type' as a synonym of type is deprecated; in a future version of numpy, it will be understood as (type, (1,)) / '(1,)type'.\n",
      "  _np_quint16 = np.dtype([(\"quint16\", np.uint16, 1)])\n",
      "/opt/anaconda3/envs/shared_env/lib/python3.6/site-packages/tensorflow/python/framework/dtypes.py:527: FutureWarning: Passing (type, 1) or '1type' as a synonym of type is deprecated; in a future version of numpy, it will be understood as (type, (1,)) / '(1,)type'.\n",
      "  _np_qint32 = np.dtype([(\"qint32\", np.int32, 1)])\n",
      "/opt/anaconda3/envs/shared_env/lib/python3.6/site-packages/tensorflow/python/framework/dtypes.py:532: FutureWarning: Passing (type, 1) or '1type' as a synonym of type is deprecated; in a future version of numpy, it will be understood as (type, (1,)) / '(1,)type'.\n",
      "  np_resource = np.dtype([(\"resource\", np.ubyte, 1)])\n"
     ]
    }
   ],
   "source": [
    "import energyflow as ef\n",
    "from energyflow.archs import PFN\n",
    "from energyflow.datasets import qg_jets\n",
    "from energyflow.utils import data_split, remap_pids, to_categorical\n",
    "from sklearn.metrics import roc_auc_score, roc_curve, accuracy_score\n"
   ]
  },
  {
   "cell_type": "code",
   "execution_count": 4,
   "metadata": {
    "ExecuteTime": {
     "end_time": "2021-04-08T07:36:39.101041Z",
     "start_time": "2021-04-08T07:36:39.098243Z"
    }
   },
   "outputs": [],
   "source": [
    "from sklearn.utils import shuffle\n",
    "import math\n",
    "import sklearn"
   ]
  },
  {
   "cell_type": "markdown",
   "metadata": {},
   "source": [
    "#### Data preprocessing and mixing"
   ]
  },
  {
   "cell_type": "code",
   "execution_count": 5,
   "metadata": {
    "ExecuteTime": {
     "end_time": "2021-01-29T18:03:41.961543Z",
     "start_time": "2021-01-29T18:03:35.531579Z"
    }
   },
   "outputs": [],
   "source": [
    "\"\"\"\n",
    "Load Data\n",
    "\"\"\"\n",
    "X_sig_path = \"training_data/X_sig.npy\"\n",
    "y_sig_path = \"training_data/y_sig.npy\"\n",
    "X_sb_path = \"training_data/X_sb.npy\"\n",
    "y_sb_path = \"training_data/y_sb.npy\"\n",
    "X_bgsig_path = \"training_data/X_bgsig.npy\"\n",
    "y_bgsig_path = \"training_data/y_bgsig.npy\"\n",
    "X_sig = np.load(X_sig_path)\n",
    "y_sig = np.load(y_sig_path)\n",
    "X_sb = np.load(X_sb_path)\n",
    "y_sb = np.load(y_sb_path)\n",
    "X_bgsig = np.load(X_bgsig_path)\n",
    "y_bgsig = np.load(y_bgsig_path)"
   ]
  },
  {
   "cell_type": "code",
   "execution_count": 6,
   "metadata": {
    "ExecuteTime": {
     "end_time": "2021-01-29T18:03:44.898415Z",
     "start_time": "2021-01-29T18:03:41.964635Z"
    }
   },
   "outputs": [],
   "source": [
    "sig_nonzeros = np.count_nonzero(np.sum(X_sig,axis=2),axis=1)\n",
    "sb_nonzeros = np.count_nonzero(np.sum(X_sb,axis=2),axis=1)\n",
    "bgsig_nonzeros = np.count_nonzero(np.sum(X_bgsig,axis=2),axis=1)"
   ]
  },
  {
   "cell_type": "code",
   "execution_count": 1,
   "metadata": {
    "ExecuteTime": {
     "end_time": "2021-04-08T07:36:29.453075Z",
     "start_time": "2021-04-08T07:36:29.421092Z"
    }
   },
   "outputs": [],
   "source": [
    "def prep_and_shufflesplit_data_modified(anomaly_ratio, size_each = 76000, shuffle_seed = 69,\n",
    "                               train = 0.8, val = 0.2, test_size_each = 5000, special_test = True,\n",
    "                               use_pid = True, limit_particles = 9999, normalize_all = True):\n",
    "    \n",
    "    \"\"\"\n",
    "    Pre-Data Selection\n",
    "    \"\"\"\n",
    "        \n",
    "    #how much bg and signal data to take?\n",
    "    \n",
    "    anom_size = round(anomaly_ratio * size_each)\n",
    "    bgsig_size = size_each - anom_size\n",
    "    \n",
    "    # make sure we have enough data.\n",
    "    assert (size_each <= X_sb.shape[0])\n",
    "    assert (anom_size + test_size_each <= X_sig.shape[0])\n",
    "    assert (bgsig_size + test_size_each <= X_bgsig.shape[0])\n",
    "    \n",
    "    \"\"\"\n",
    "    Data Selection\n",
    "    \"\"\"\n",
    "    \n",
    "    # select sideband datapoints\n",
    "    this_X_sb = X_sb[:size_each]\n",
    "    this_y_sb = np.zeros(size_each)\n",
    "    \n",
    "    # select bgsig datapoints\n",
    "    this_X_bgsig = X_bgsig[:bgsig_size]\n",
    "    this_y_bgsig = np.ones(bgsig_size)\n",
    "    \n",
    "    # select anomaly datapoints\n",
    "    this_X_sig = X_sig[:anom_size]\n",
    "    this_y_sig = np.ones(anom_size)\n",
    "    \n",
    "    \"\"\"\n",
    "    Shuffle + Train-Val-Test Split (not test set)\n",
    "    \"\"\"\n",
    "    # Combine all 3 data sets\n",
    "    this_X = np.concatenate([this_X_sb, this_X_bgsig, this_X_sig])\n",
    "    this_y = np.concatenate([this_y_sb, this_y_bgsig, this_y_sig])\n",
    "    \n",
    "    # Shuffle before we split\n",
    "    this_X, this_y = shuffle(this_X, this_y, random_state = shuffle_seed)\n",
    "    \n",
    "    \n",
    "    (this_X_tr, this_X_v, _,\n",
    "     this_y_tr, this_y_v, _) = data_split(this_X, this_y, val=val, test=0)\n",
    "        \n",
    "    \n",
    "    print('Size of sb:')\n",
    "    print(this_X_sb.shape)\n",
    "    print('Size of bgsig:')\n",
    "    print(this_X_bgsig.shape)\n",
    "    print('Size of sig:')\n",
    "    print(this_X_sig.shape)\n",
    "        \n",
    "    \n",
    "    \"\"\"\n",
    "    Get the test set\n",
    "    \"\"\"\n",
    "    \n",
    "    # select the data\n",
    "    this_X_test_P = X_sig[anom_size:anom_size+test_size_each]\n",
    "    this_X_test_N = X_bgsig[bgsig_size:bgsig_size+test_size_each]\n",
    "    \n",
    "    this_y_test_P = np.ones(test_size_each)\n",
    "    this_y_test_N = np.zeros(test_size_each)\n",
    "        \n",
    "    # Shuffle the combination    \n",
    "    this_X_te = np.concatenate([this_X_test_P, this_X_test_N])\n",
    "    this_y_te = np.concatenate([this_y_test_P, this_y_test_N])\n",
    "    \n",
    "    this_X_te, this_y_te = shuffle(this_X_te, this_y_te, random_state = shuffle_seed)\n",
    "#     print('Size of test set:')\n",
    "#     print(this_X_te.shape)\n",
    "#     print('Test set distribution:')\n",
    "#     print(np.unique(this_y_te,return_counts = True))\n",
    "    \n",
    "    \n",
    "    X_train, X_val, X_test, y_train, y_val, y_test \\\n",
    "    = this_X_tr, this_X_v, this_X_te, this_y_tr, this_y_v, this_y_te\n",
    "    \n",
    "    \"\"\"\n",
    "    Data processing\n",
    "    \"\"\"\n",
    "    \n",
    "    # Centre and normalize all the Xs\n",
    "    for x in X_train:\n",
    "        mask = x[:,0] > 0\n",
    "        yphi_avg = np.average(x[mask,1:3], weights=x[mask,0], axis=0)\n",
    "        x[mask,1:3] -= yphi_avg\n",
    "        x[mask,0] /= x[:,0].sum()\n",
    "        if normalize_all:\n",
    "            x /= np.sum(x)\n",
    "        \n",
    "    for x in X_val:\n",
    "        mask = x[:,0] > 0\n",
    "        yphi_avg = np.average(x[mask,1:3], weights=x[mask,0], axis=0)\n",
    "        x[mask,1:3] -= yphi_avg\n",
    "        x[mask,0] /= x[:,0].sum()\n",
    "        if normalize_all:\n",
    "            x /= np.sum(x)\n",
    "        \n",
    "    for x in X_test:\n",
    "        mask = x[:,0] > 0\n",
    "        yphi_avg = np.average(x[mask,1:3], weights=x[mask,0], axis=0)\n",
    "        x[mask,1:3] -= yphi_avg\n",
    "        x[mask,0] /= x[:,0].sum()\n",
    "        if normalize_all:\n",
    "            x /= np.sum(x)\n",
    "        \n",
    "    \n",
    "    if use_pid:\n",
    "        # remap PIDs for all the Xs\n",
    "        remap_pids(X_train, pid_i=3)\n",
    "        remap_pids(X_val, pid_i=3)\n",
    "        remap_pids(X_test, pid_i=3)\n",
    "    else:\n",
    "        X_train = X_train[:,:,:3]\n",
    "        X_val = X_val[:,:,:3]\n",
    "        X_test = X_test[:,:,:3]\n",
    "    \n",
    "    # change Y to categorical Matrix\n",
    "    Y_train = to_categorical(y_train, num_classes=2)\n",
    "    Y_val = to_categorical(y_val, num_classes=2)\n",
    "    Y_test = to_categorical(y_test, num_classes=2)\n",
    "    \n",
    "    print('Training set size, distribution:')\n",
    "    print(X_train.shape)\n",
    "    print(np.unique(y_train,return_counts = True))\n",
    "    print('Validations set size, distribution:')\n",
    "    print(X_val.shape)\n",
    "    print(np.unique(y_val,return_counts = True))\n",
    "    print('Test set size, distribution:')\n",
    "    print(X_test.shape)\n",
    "    print(np.unique(y_test,return_counts = True))\n",
    "    \n",
    "    return X_train, X_val, X_test, Y_train,Y_val,Y_test"
   ]
  },
  {
   "cell_type": "code",
   "execution_count": 13,
   "metadata": {
    "ExecuteTime": {
     "end_time": "2021-01-29T18:06:44.779859Z",
     "start_time": "2021-01-29T18:06:44.748367Z"
    },
    "code_folding": []
   },
   "outputs": [],
   "source": [
    "def prep_and_shufflesplit_data(anomaly_ratio, size_each = 76000, shuffle_seed = 69,\n",
    "                               train = 0.8, val = 0.2, test_size_each = 5000, special_test = True,\n",
    "                               use_pid = True, limit_particles = 9999, normalize_all = True):\n",
    "    \n",
    "    \"\"\"\n",
    "    Pre-Data Selection\n",
    "    \"\"\"\n",
    "        \n",
    "    #how much bg and signal data to take?\n",
    "    \n",
    "    anom_size = round(anomaly_ratio * size_each)\n",
    "    bgsig_size = size_each - anom_size\n",
    "    \n",
    "    # make sure we have enough data.\n",
    "    assert (size_each <= X_sb.shape[0])\n",
    "    assert (anom_size + test_size_each <= X_sig.shape[0])\n",
    "    assert (bgsig_size + test_size_each <= X_bgsig.shape[0])\n",
    "    \n",
    "    \"\"\"\n",
    "    Data Selection\n",
    "    \"\"\"\n",
    "    \n",
    "    # select sideband datapoints\n",
    "    this_X_sb = X_sb[:size_each]\n",
    "    this_y_sb = np.zeros(size_each)\n",
    "    \n",
    "    # select bgsig datapoints\n",
    "    this_X_bgsig = X_bgsig[:bgsig_size]\n",
    "    this_y_bgsig = np.ones(bgsig_size)\n",
    "    \n",
    "    # select anomaly datapoints\n",
    "    this_X_sig = X_sig[:anom_size]\n",
    "    this_y_sig = np.ones(anom_size)\n",
    "    \n",
    "    \"\"\"\n",
    "    Shuffle + Train-Val-Test Split (not test set)\n",
    "    \"\"\"\n",
    "    # Combine all 3 data sets\n",
    "    this_X = np.concatenate([this_X_sb, this_X_bgsig, this_X_sig])\n",
    "    this_y = np.concatenate([this_y_sb, this_y_bgsig, this_y_sig])\n",
    "    \n",
    "    # Shuffle before we split\n",
    "    this_X, this_y = shuffle(this_X, this_y, random_state = shuffle_seed)\n",
    "    \n",
    "    \n",
    "    (this_X_tr, this_X_v, _,\n",
    "     this_y_tr, this_y_v, _) = data_split(this_X, this_y, val=val, test=0)\n",
    "        \n",
    "    \n",
    "    print('Size of sb:')\n",
    "    print(this_X_sb.shape)\n",
    "    print('Size of bgsig:')\n",
    "    print(this_X_bgsig.shape)\n",
    "    print('Size of sig:')\n",
    "    print(this_X_sig.shape)\n",
    "        \n",
    "    \n",
    "    \"\"\"\n",
    "    Get the test set\n",
    "    \"\"\"\n",
    "    \n",
    "    # select the data\n",
    "    this_X_test_P = X_sig[anom_size:anom_size+test_size_each]\n",
    "    this_X_test_N = X_bgsig[bgsig_size:bgsig_size+test_size_each]\n",
    "    \n",
    "    this_y_test_P = np.ones(test_size_each)\n",
    "    this_y_test_N = np.zeros(test_size_each)\n",
    "        \n",
    "    # Shuffle the combination    \n",
    "    this_X_te = np.concatenate([this_X_test_P, this_X_test_N])\n",
    "    this_y_te = np.concatenate([this_y_test_P, this_y_test_N])\n",
    "    \n",
    "    this_X_te, this_y_te = shuffle(this_X_te, this_y_te, random_state = shuffle_seed)\n",
    "#     print('Size of test set:')\n",
    "#     print(this_X_te.shape)\n",
    "#     print('Test set distribution:')\n",
    "#     print(np.unique(this_y_te,return_counts = True))\n",
    "    \n",
    "    \n",
    "    X_train, X_val, X_test, y_train, y_val, y_test \\\n",
    "    = this_X_tr, this_X_v, this_X_te, this_y_tr, this_y_v, this_y_te\n",
    "    \n",
    "    \"\"\"\n",
    "    Data processing\n",
    "    \"\"\"\n",
    "    \n",
    "    # chop off \n",
    "    \n",
    "    if limit_particles < X_train.shape[1]:\n",
    "        print('CHOPPED!!!')\n",
    "        X_train = X_train[:,:limit_particles,:]\n",
    "        X_val = X_val[:,:limit_particles,:]\n",
    "        X_test = X_test[:,:limit_particles,:]\n",
    "    \n",
    "    # Centre and normalize all the Xs\n",
    "    for x in X_train:\n",
    "        mask = x[:,0] > 0\n",
    "        yphi_avg = np.average(x[mask,1:3], weights=x[mask,0], axis=0)\n",
    "        x[mask,1:3] -= yphi_avg\n",
    "        x[mask,0] /= x[:,0].sum()\n",
    "        if normalize_all:\n",
    "            x /= np.sum(x)\n",
    "        \n",
    "    for x in X_val:\n",
    "        mask = x[:,0] > 0\n",
    "        yphi_avg = np.average(x[mask,1:3], weights=x[mask,0], axis=0)\n",
    "        x[mask,1:3] -= yphi_avg\n",
    "        x[mask,0] /= x[:,0].sum()\n",
    "        if normalize_all:\n",
    "            x /= np.sum(x)\n",
    "        \n",
    "    for x in X_test:\n",
    "        mask = x[:,0] > 0\n",
    "        yphi_avg = np.average(x[mask,1:3], weights=x[mask,0], axis=0)\n",
    "        x[mask,1:3] -= yphi_avg\n",
    "        x[mask,0] /= x[:,0].sum()\n",
    "        if normalize_all:\n",
    "            x /= np.sum(x)\n",
    "        \n",
    "    \n",
    "    if use_pid:\n",
    "        # remap PIDs for all the Xs\n",
    "        remap_pids(X_train, pid_i=3)\n",
    "        remap_pids(X_val, pid_i=3)\n",
    "        remap_pids(X_test, pid_i=3)\n",
    "    else:\n",
    "        X_train = X_train[:,:,:3]\n",
    "        X_val = X_val[:,:,:3]\n",
    "        X_test = X_test[:,:,:3]\n",
    "    \n",
    "    # change Y to categorical Matrix\n",
    "    Y_train = to_categorical(y_train, num_classes=2)\n",
    "    Y_val = to_categorical(y_val, num_classes=2)\n",
    "    Y_test = to_categorical(y_test, num_classes=2)\n",
    "    \n",
    "    print('Training set size, distribution:')\n",
    "    print(X_train.shape)\n",
    "    print(np.unique(y_train,return_counts = True))\n",
    "    print('Validations set size, distribution:')\n",
    "    print(X_val.shape)\n",
    "    print(np.unique(y_val,return_counts = True))\n",
    "    print('Test set size, distribution:')\n",
    "    print(X_test.shape)\n",
    "    print(np.unique(y_test,return_counts = True))\n",
    "    \n",
    "    return X_train, X_val, X_test, Y_train,Y_val,Y_test"
   ]
  },
  {
   "cell_type": "markdown",
   "metadata": {},
   "source": [
    "#### Model definition"
   ]
  },
  {
   "cell_type": "code",
   "execution_count": 14,
   "metadata": {
    "ExecuteTime": {
     "end_time": "2021-01-29T18:06:46.195402Z",
     "start_time": "2021-01-29T18:06:46.191319Z"
    }
   },
   "outputs": [],
   "source": [
    "Phi_sizes, F_sizes = (20, 20, 20), (20,20,20)\n",
    "num_epoch = 3\n",
    "num_cycles = 3\n",
    "batch_size = 100"
   ]
  },
  {
   "cell_type": "code",
   "execution_count": 15,
   "metadata": {
    "ExecuteTime": {
     "end_time": "2021-01-29T18:06:46.498298Z",
     "start_time": "2021-01-29T18:06:46.490790Z"
    }
   },
   "outputs": [],
   "source": [
    "def train_model(X_train, X_val, X_test, Y_train,Y_val,Y_test):\n",
    "    model = PFN(input_dim=X_train.shape[-1], Phi_sizes=Phi_sizes, F_sizes=F_sizes)\n",
    "    histories = []\n",
    "    Y_predicts = []\n",
    "    for cycle in range(num_cycles):\n",
    "        print('----')\n",
    "        print('Beginning cycle ' + str(cycle))\n",
    "        history = model.fit(X_train, Y_train,\n",
    "              epochs=num_epoch,\n",
    "              batch_size=batch_size,\n",
    "              validation_data=(X_val, Y_val),\n",
    "              verbose=1)\n",
    "        Y_predict = model.predict(X_test)\n",
    "        histories.append(history)\n",
    "        Y_predicts.append(Y_predict)\n",
    "    \n",
    "    return (histories, Y_test, Y_predicts, model)"
   ]
  },
  {
   "cell_type": "code",
   "execution_count": 16,
   "metadata": {
    "ExecuteTime": {
     "end_time": "2021-01-29T18:06:47.676912Z",
     "start_time": "2021-01-29T18:06:47.664314Z"
    },
    "code_folding": []
   },
   "outputs": [],
   "source": [
    "def evaluate_model(histories, Y_test, Y_predicts):\n",
    "    fine_index = list(range(num_epoch * num_cycles))\n",
    "    rough_index = list(range(num_epoch - 1, num_epoch * num_cycles, num_epoch))\n",
    "    train_acc = []\n",
    "    val_acc = []\n",
    "    for h in histories:\n",
    "        curr_train_acc = h.history['acc']\n",
    "        curr_val_acc = h.history['val_acc']\n",
    "        train_acc.extend(curr_train_acc)\n",
    "        val_acc.extend(curr_val_acc)\n",
    "\n",
    "\n",
    "    medians = []\n",
    "    test_acc = []\n",
    "    for Y_pred in Y_predicts:\n",
    "        medians.append(np.median(Y_pred[:,1:]))\n",
    "        curr_acc = accuracy_score(Y_test[:,1:], (Y_pred[:,1:]*2).astype(int))\n",
    "        test_acc.append(curr_acc)\n",
    "\n",
    "    fig = plt.figure(figsize = (8,6))\n",
    "    ax = fig.add_subplot(1, 1, 1)\n",
    "    ax.plot(fine_index, train_acc, label = 'train_acc', color='tab:blue')\n",
    "    ax.plot(fine_index, val_acc, label = 'val_acc', color='tab:orange')\n",
    "    #ax.plot(rough_index, medians, marker = '.', label = 'median', color = 'green')\n",
    "    ax.plot(rough_index, test_acc, marker = '.',linestyle = ':',label = 'test_acc', color = 'red')\n",
    "    ax.legend()\n",
    "    ax.set_xlim([0, num_epoch * num_cycles])\n",
    "\n",
    "    ax.set_title('line plot with data points')\n",
    "\n",
    "    # display the plot\n",
    "    plt.show()"
   ]
  },
  {
   "cell_type": "code",
   "execution_count": 17,
   "metadata": {
    "ExecuteTime": {
     "end_time": "2021-01-29T18:06:49.307082Z",
     "start_time": "2021-01-29T18:06:49.301412Z"
    }
   },
   "outputs": [],
   "source": [
    "def final_evaluation(Y_test, Y_predicts):\n",
    "    Y_predict = Y_predicts[-1]\n",
    "    roc_curve = sklearn.metrics.roc_curve(Y_test[:,1:], Y_predict[:,1:])\n",
    "    plt.plot(roc_curve[0],roc_curve[1])\n",
    "    plt.xlabel('fpr')\n",
    "    plt.ylabel('tpr')\n",
    "    plt.title('ROC curve')\n",
    "    plt.show()"
   ]
  },
  {
   "cell_type": "markdown",
   "metadata": {},
   "source": [
    "### Execution"
   ]
  },
  {
   "cell_type": "markdown",
   "metadata": {},
   "source": [
    "zero sig"
   ]
  },
  {
   "cell_type": "code",
   "execution_count": 21,
   "metadata": {
    "ExecuteTime": {
     "end_time": "2021-01-22T18:12:33.466240Z",
     "start_time": "2021-01-22T18:12:00.087294Z"
    }
   },
   "outputs": [
    {
     "name": "stdout",
     "output_type": "stream",
     "text": [
      "Size of sb:\n",
      "(76000, 282, 4)\n",
      "Size of bgsig:\n",
      "(76000, 282, 4)\n",
      "Size of sig:\n",
      "(0, 282, 4)\n",
      "Training set size, distribution:\n",
      "(121600, 282, 4)\n",
      "(array([0., 1.]), array([60748, 60852]))\n",
      "Validations set size, distribution:\n",
      "(30400, 282, 4)\n",
      "(array([0., 1.]), array([15252, 15148]))\n",
      "Test set size, distribution:\n",
      "(10000, 282, 4)\n",
      "(array([0., 1.]), array([5000, 5000]))\n"
     ]
    }
   ],
   "source": [
    "X_train, X_val, X_test, Y_train,Y_val,Y_test = prep_and_shufflesplit_data(0)"
   ]
  },
  {
   "cell_type": "code",
   "execution_count": null,
   "metadata": {},
   "outputs": [],
   "source": []
  },
  {
   "cell_type": "markdown",
   "metadata": {},
   "source": [
    "#### Attempt 1:50 percent signal.\n",
    "\n",
    "Uses standard data processing params"
   ]
  },
  {
   "cell_type": "code",
   "execution_count": 21,
   "metadata": {
    "ExecuteTime": {
     "end_time": "2021-01-29T18:08:44.775598Z",
     "start_time": "2021-01-29T18:08:44.770414Z"
    }
   },
   "outputs": [],
   "source": [
    "Phi_sizes, F_sizes = (40, 20, 20), (20,20,20)\n",
    "num_epoch = 3\n",
    "num_cycles = 3\n",
    "batch_size = 10"
   ]
  },
  {
   "cell_type": "code",
   "execution_count": 22,
   "metadata": {
    "ExecuteTime": {
     "end_time": "2021-01-29T18:09:21.995164Z",
     "start_time": "2021-01-29T18:08:45.939616Z"
    }
   },
   "outputs": [
    {
     "name": "stdout",
     "output_type": "stream",
     "text": [
      "Size of sb:\n",
      "(76000, 282, 4)\n",
      "Size of bgsig:\n",
      "(38000, 282, 4)\n",
      "Size of sig:\n",
      "(38000, 282, 4)\n",
      "Training set size, distribution:\n",
      "(121600, 282, 4)\n",
      "(array([0., 1.]), array([60599, 61001]))\n",
      "Validations set size, distribution:\n",
      "(30400, 282, 4)\n",
      "(array([0., 1.]), array([15401, 14999]))\n",
      "Test set size, distribution:\n",
      "(10000, 282, 4)\n",
      "(array([0., 1.]), array([5000, 5000]))\n"
     ]
    }
   ],
   "source": [
    "X_train, X_val, X_test, Y_train,Y_val,Y_test = prep_and_shufflesplit_data(0.5)"
   ]
  },
  {
   "cell_type": "code",
   "execution_count": 23,
   "metadata": {
    "ExecuteTime": {
     "end_time": "2021-01-29T18:20:30.487374Z",
     "start_time": "2021-01-29T18:09:21.997079Z"
    }
   },
   "outputs": [
    {
     "name": "stdout",
     "output_type": "stream",
     "text": [
      "__________________________________________________________________________________________________\n",
      "Layer (type)                    Output Shape         Param #     Connected to                     \n",
      "==================================================================================================\n",
      "input (InputLayer)              (None, None, 4)      0                                            \n",
      "__________________________________________________________________________________________________\n",
      "tdist_0 (TimeDistributed)       (None, None, 40)     200         input[0][0]                      \n",
      "__________________________________________________________________________________________________\n",
      "activation_7 (Activation)       (None, None, 40)     0           tdist_0[0][0]                    \n",
      "__________________________________________________________________________________________________\n",
      "tdist_1 (TimeDistributed)       (None, None, 20)     820         activation_7[0][0]               \n",
      "__________________________________________________________________________________________________\n",
      "activation_8 (Activation)       (None, None, 20)     0           tdist_1[0][0]                    \n",
      "__________________________________________________________________________________________________\n",
      "tdist_2 (TimeDistributed)       (None, None, 20)     420         activation_8[0][0]               \n",
      "__________________________________________________________________________________________________\n",
      "mask (Lambda)                   (None, None)         0           input[0][0]                      \n",
      "__________________________________________________________________________________________________\n",
      "activation_9 (Activation)       (None, None, 20)     0           tdist_2[0][0]                    \n",
      "__________________________________________________________________________________________________\n",
      "sum (Dot)                       (None, 20)           0           mask[0][0]                       \n",
      "                                                                 activation_9[0][0]               \n",
      "__________________________________________________________________________________________________\n",
      "dense_0 (Dense)                 (None, 20)           420         sum[0][0]                        \n",
      "__________________________________________________________________________________________________\n",
      "activation_10 (Activation)      (None, 20)           0           dense_0[0][0]                    \n",
      "__________________________________________________________________________________________________\n",
      "dense_1 (Dense)                 (None, 20)           420         activation_10[0][0]              \n",
      "__________________________________________________________________________________________________\n",
      "activation_11 (Activation)      (None, 20)           0           dense_1[0][0]                    \n",
      "__________________________________________________________________________________________________\n",
      "dense_2 (Dense)                 (None, 20)           420         activation_11[0][0]              \n",
      "__________________________________________________________________________________________________\n",
      "activation_12 (Activation)      (None, 20)           0           dense_2[0][0]                    \n",
      "__________________________________________________________________________________________________\n",
      "output (Dense)                  (None, 2)            42          activation_12[0][0]              \n",
      "__________________________________________________________________________________________________\n",
      "activation_13 (Activation)      (None, 2)            0           output[0][0]                     \n",
      "==================================================================================================\n",
      "Total params: 2,742\n",
      "Trainable params: 2,742\n",
      "Non-trainable params: 0\n",
      "__________________________________________________________________________________________________\n",
      "----\n",
      "Beginning cycle 0\n",
      "Train on 121600 samples, validate on 30400 samples\n",
      "Epoch 1/3\n",
      "121600/121600 [==============================] - 74s 607us/step - loss: 0.6617 - acc: 0.6149 - val_loss: 0.6718 - val_acc: 0.5978\n",
      "Epoch 2/3\n",
      "121600/121600 [==============================] - 74s 609us/step - loss: 0.6549 - acc: 0.6247 - val_loss: 0.6545 - val_acc: 0.6225\n",
      "Epoch 3/3\n",
      "121600/121600 [==============================] - 74s 610us/step - loss: 0.6531 - acc: 0.6259 - val_loss: 0.6557 - val_acc: 0.6201\n",
      "----\n",
      "Beginning cycle 1\n",
      "Train on 121600 samples, validate on 30400 samples\n",
      "Epoch 1/3\n",
      "121600/121600 [==============================] - 74s 609us/step - loss: 0.6523 - acc: 0.6280 - val_loss: 0.6540 - val_acc: 0.6220\n",
      "Epoch 2/3\n",
      "121600/121600 [==============================] - 74s 605us/step - loss: 0.6523 - acc: 0.6275 - val_loss: 0.6525 - val_acc: 0.6250\n",
      "Epoch 3/3\n",
      "121600/121600 [==============================] - 74s 606us/step - loss: 0.6518 - acc: 0.6277 - val_loss: 0.6550 - val_acc: 0.6233\n",
      "----\n",
      "Beginning cycle 2\n",
      "Train on 121600 samples, validate on 30400 samples\n",
      "Epoch 1/3\n",
      "121600/121600 [==============================] - 74s 610us/step - loss: 0.6518 - acc: 0.6285 - val_loss: 0.6523 - val_acc: 0.6252\n",
      "Epoch 2/3\n",
      "121600/121600 [==============================] - 74s 611us/step - loss: 0.6516 - acc: 0.6292 - val_loss: 0.6533 - val_acc: 0.6252\n",
      "Epoch 3/3\n",
      "121600/121600 [==============================] - 74s 612us/step - loss: 0.6517 - acc: 0.6288 - val_loss: 0.6549 - val_acc: 0.6201\n"
     ]
    }
   ],
   "source": [
    "histories, Y_test, Y_predicts, model = train_model(X_train, X_val, X_test, Y_train,Y_val,Y_test)"
   ]
  },
  {
   "cell_type": "code",
   "execution_count": 24,
   "metadata": {
    "ExecuteTime": {
     "end_time": "2021-01-29T18:20:30.773551Z",
     "start_time": "2021-01-29T18:20:30.491364Z"
    }
   },
   "outputs": [
    {
     "data": {
      "image/png": "[encoded data removed]",
      "text/plain": [
       "<Figure size 576x432 with 1 Axes>"
      ]
     },
     "metadata": {
      "needs_background": "light"
     },
     "output_type": "display_data"
    }
   ],
   "source": [
    "evaluate_model(histories, Y_test, Y_predicts)"
   ]
  },
  {
   "cell_type": "code",
   "execution_count": 31,
   "metadata": {
    "ExecuteTime": {
     "end_time": "2021-01-29T18:22:02.678476Z",
     "start_time": "2021-01-29T18:22:02.666181Z"
    }
   },
   "outputs": [],
   "source": [
    "def final_evaluation(Y_test, Y_predicts):\n",
    "    cyc = 0\n",
    "    for Y_predict in Y_predicts:\n",
    "#         print('cycle: ' + str(cyc))\n",
    "        roc_curve = sklearn.metrics.roc_curve(Y_test[:,1:], Y_predict[:,1:])\n",
    "        plt.figure(figsize=(6,4))\n",
    "        plt.plot(roc_curve[0],roc_curve[1])\n",
    "#         print(roc_curve)\n",
    "\n",
    "        plt.xlabel('fpr')\n",
    "        plt.ylabel('tpr')\n",
    "        plt.title('ROC curve')\n",
    "        plt.show()\n",
    "        \n",
    "        plt.figure(figsize=(6,4))\n",
    "        plt.plot(roc_curve[1],roc_curve[1]/roc_curve[0]**0.5)\n",
    "#         print(roc_curve[1])\n",
    "        plt.xlabel('tpr')\n",
    "        plt.ylabel('tpr/fpr**0.5')\n",
    "        plt.title('Other curve thing')\n",
    "        plt.show()\n",
    "        cyc += 1"
   ]
  },
  {
   "cell_type": "code",
   "execution_count": 32,
   "metadata": {
    "ExecuteTime": {
     "end_time": "2021-01-29T18:22:03.243443Z",
     "start_time": "2021-01-29T18:22:02.932561Z"
    }
   },
   "outputs": [
    {
     "data": {
      "image/png": "[encoded data removed]",
      "text/plain": [
       "<Figure size 432x288 with 1 Axes>"
      ]
     },
     "metadata": {
      "needs_background": "light"
     },
     "output_type": "display_data"
    },
    {
     "name": "stderr",
     "output_type": "stream",
     "text": [
      "/opt/anaconda3/envs/shared_env/lib/python3.6/site-packages/ipykernel_launcher.py:16: RuntimeWarning: invalid value encountered in true_divide\n",
      "  app.launch_new_instance()\n"
     ]
    },
    {
     "data": {
      "image/png": "[encoded data removed]",
      "text/plain": [
       "<Figure size 432x288 with 1 Axes>"
      ]
     },
     "metadata": {
      "needs_background": "light"
     },
     "output_type": "display_data"
    }
   ],
   "source": [
    "final_evaluation(Y_test, Y_predicts[-1:])"
   ]
  },
  {
   "cell_type": "markdown",
   "metadata": {},
   "source": [
    "#### Attempt 3: 0% signal"
   ]
  },
  {
   "cell_type": "code",
   "execution_count": 22,
   "metadata": {
    "ExecuteTime": {
     "end_time": "2021-01-22T18:12:33.470497Z",
     "start_time": "2021-01-22T18:12:33.467760Z"
    }
   },
   "outputs": [],
   "source": [
    "Phi_sizes, F_sizes = (40, 20, 12), (40,20)\n",
    "num_epoch = 3\n",
    "num_cycles = 3\n",
    "batch_size = 20"
   ]
  },
  {
   "cell_type": "code",
   "execution_count": 13,
   "metadata": {
    "ExecuteTime": {
     "end_time": "2020-11-30T22:59:12.640012Z",
     "start_time": "2020-11-30T22:58:42.817613Z"
    }
   },
   "outputs": [
    {
     "name": "stdout",
     "output_type": "stream",
     "text": [
      "Size of sb:\n",
      "(76000, 282, 4)\n",
      "Size of bgsig:\n",
      "(76000, 282, 4)\n",
      "Size of sig:\n",
      "(0, 282, 4)\n",
      "Training set size, distribution:\n",
      "(121600, 282, 4)\n",
      "(array([0., 1.]), array([60838, 60762]))\n",
      "Validations set size, distribution:\n",
      "(30400, 282, 4)\n",
      "(array([0., 1.]), array([15162, 15238]))\n",
      "Test set size, distribution:\n",
      "(10000, 282, 4)\n",
      "(array([0., 1.]), array([5000, 5000]))\n"
     ]
    }
   ],
   "source": [
    "X_train, X_val, X_test, Y_train,Y_val,Y_test = prep_and_shufflesplit_data(0,use_pid = True, normalize_all=True)"
   ]
  },
  {
   "cell_type": "code",
   "execution_count": 14,
   "metadata": {
    "ExecuteTime": {
     "end_time": "2020-11-30T23:05:17.736279Z",
     "start_time": "2020-11-30T22:59:12.641598Z"
    }
   },
   "outputs": [
    {
     "name": "stdout",
     "output_type": "stream",
     "text": [
      "__________________________________________________________________________________________________\n",
      "Layer (type)                    Output Shape         Param #     Connected to                     \n",
      "==================================================================================================\n",
      "input (InputLayer)              (None, None, 4)      0                                            \n",
      "__________________________________________________________________________________________________\n",
      "tdist_0 (TimeDistributed)       (None, None, 40)     200         input[0][0]                      \n",
      "__________________________________________________________________________________________________\n",
      "activation_1 (Activation)       (None, None, 40)     0           tdist_0[0][0]                    \n",
      "__________________________________________________________________________________________________\n",
      "tdist_1 (TimeDistributed)       (None, None, 20)     820         activation_1[0][0]               \n",
      "__________________________________________________________________________________________________\n",
      "activation_2 (Activation)       (None, None, 20)     0           tdist_1[0][0]                    \n",
      "__________________________________________________________________________________________________\n",
      "tdist_2 (TimeDistributed)       (None, None, 12)     252         activation_2[0][0]               \n",
      "__________________________________________________________________________________________________\n",
      "mask (Lambda)                   (None, None)         0           input[0][0]                      \n",
      "__________________________________________________________________________________________________\n",
      "activation_3 (Activation)       (None, None, 12)     0           tdist_2[0][0]                    \n",
      "__________________________________________________________________________________________________\n",
      "sum (Dot)                       (None, 12)           0           mask[0][0]                       \n",
      "                                                                 activation_3[0][0]               \n",
      "__________________________________________________________________________________________________\n",
      "dense_0 (Dense)                 (None, 40)           520         sum[0][0]                        \n",
      "__________________________________________________________________________________________________\n",
      "activation_4 (Activation)       (None, 40)           0           dense_0[0][0]                    \n",
      "__________________________________________________________________________________________________\n",
      "dense_1 (Dense)                 (None, 20)           820         activation_4[0][0]               \n",
      "__________________________________________________________________________________________________\n",
      "activation_5 (Activation)       (None, 20)           0           dense_1[0][0]                    \n",
      "__________________________________________________________________________________________________\n",
      "output (Dense)                  (None, 2)            42          activation_5[0][0]               \n",
      "__________________________________________________________________________________________________\n",
      "activation_6 (Activation)       (None, 2)            0           output[0][0]                     \n",
      "==================================================================================================\n",
      "Total params: 2,654\n",
      "Trainable params: 2,654\n",
      "Non-trainable params: 0\n",
      "__________________________________________________________________________________________________\n",
      "----\n",
      "Beginning cycle 0\n",
      "Train on 121600 samples, validate on 30400 samples\n",
      "Epoch 1/3\n",
      "121600/121600 [==============================] - 42s 347us/step - loss: 0.6934 - acc: 0.5027 - val_loss: 0.6934 - val_acc: 0.4988\n",
      "Epoch 2/3\n",
      "121600/121600 [==============================] - 40s 331us/step - loss: 0.6932 - acc: 0.4995 - val_loss: 0.6936 - val_acc: 0.4988\n",
      "Epoch 3/3\n",
      "121600/121600 [==============================] - 40s 330us/step - loss: 0.6932 - acc: 0.4994 - val_loss: 0.6932 - val_acc: 0.5013\n",
      "----\n",
      "Beginning cycle 1\n",
      "Train on 121600 samples, validate on 30400 samples\n",
      "Epoch 1/3\n",
      "121600/121600 [==============================] - 40s 330us/step - loss: 0.6932 - acc: 0.4986 - val_loss: 0.6931 - val_acc: 0.5013\n",
      "Epoch 2/3\n",
      "121600/121600 [==============================] - 40s 329us/step - loss: 0.6932 - acc: 0.4983 - val_loss: 0.6934 - val_acc: 0.4988\n",
      "Epoch 3/3\n",
      "121600/121600 [==============================] - 40s 329us/step - loss: 0.6932 - acc: 0.4995 - val_loss: 0.6931 - val_acc: 0.5013\n",
      "----\n",
      "Beginning cycle 2\n",
      "Train on 121600 samples, validate on 30400 samples\n",
      "Epoch 1/3\n",
      "121600/121600 [==============================] - 40s 329us/step - loss: 0.6932 - acc: 0.5008 - val_loss: 0.6934 - val_acc: 0.4988\n",
      "Epoch 2/3\n",
      "121600/121600 [==============================] - 40s 329us/step - loss: 0.6934 - acc: 0.5005 - val_loss: 0.6932 - val_acc: 0.4988\n",
      "Epoch 3/3\n",
      "121600/121600 [==============================] - 40s 330us/step - loss: 0.6932 - acc: 0.5010 - val_loss: 0.6932 - val_acc: 0.4988\n"
     ]
    }
   ],
   "source": [
    "histories_3, Y_test_3, Y_predicts_3, model_3 = train_model(X_train, X_val, X_test, Y_train,Y_val,Y_test)"
   ]
  },
  {
   "cell_type": "code",
   "execution_count": 15,
   "metadata": {
    "ExecuteTime": {
     "end_time": "2020-11-30T23:05:18.019613Z",
     "start_time": "2020-11-30T23:05:17.739221Z"
    }
   },
   "outputs": [
    {
     "data": {
      "image/png": "[encoded data removed]",
      "text/plain": [
       "<Figure size 576x432 with 1 Axes>"
      ]
     },
     "metadata": {
      "needs_background": "light"
     },
     "output_type": "display_data"
    }
   ],
   "source": [
    "evaluate_model(histories_3, Y_test_3, Y_predicts_3)"
   ]
  },
  {
   "cell_type": "markdown",
   "metadata": {},
   "source": [
    "#### Attempt 4: 5 percent signal\n",
    "\n",
    "normalizes all\n"
   ]
  },
  {
   "cell_type": "code",
   "execution_count": 13,
   "metadata": {
    "ExecuteTime": {
     "end_time": "2021-01-22T18:00:28.691071Z",
     "start_time": "2021-01-22T18:00:28.686045Z"
    }
   },
   "outputs": [],
   "source": [
    "Phi_sizes, F_sizes = (80, 40, 40), (80,40,40)\n",
    "num_epoch = 3\n",
    "num_cycles = 3\n",
    "batch_size = 100"
   ]
  },
  {
   "cell_type": "code",
   "execution_count": 14,
   "metadata": {
    "ExecuteTime": {
     "end_time": "2021-01-22T18:01:00.587600Z",
     "start_time": "2021-01-22T18:00:29.055751Z"
    }
   },
   "outputs": [
    {
     "name": "stdout",
     "output_type": "stream",
     "text": [
      "Size of sb:\n",
      "(76000, 282, 4)\n",
      "Size of bgsig:\n",
      "(72200, 282, 4)\n",
      "Size of sig:\n",
      "(3800, 282, 4)\n",
      "Training set size, distribution:\n",
      "(121600, 282, 4)\n",
      "(array([0., 1.]), array([60827, 60773]))\n",
      "Validations set size, distribution:\n",
      "(30400, 282, 4)\n",
      "(array([0., 1.]), array([15173, 15227]))\n",
      "Test set size, distribution:\n",
      "(10000, 282, 4)\n",
      "(array([0., 1.]), array([5000, 5000]))\n"
     ]
    }
   ],
   "source": [
    "X_train, X_val, X_test, Y_train,Y_val,Y_test = prep_and_shufflesplit_data(0.05, use_pid=True, normalize_all=True)"
   ]
  },
  {
   "cell_type": "code",
   "execution_count": 26,
   "metadata": {
    "ExecuteTime": {
     "end_time": "2020-11-30T23:41:23.709111Z",
     "start_time": "2020-11-30T23:39:59.597333Z"
    }
   },
   "outputs": [
    {
     "name": "stdout",
     "output_type": "stream",
     "text": [
      "__________________________________________________________________________________________________\n",
      "Layer (type)                    Output Shape         Param #     Connected to                     \n",
      "==================================================================================================\n",
      "input (InputLayer)              (None, None, 4)      0                                            \n",
      "__________________________________________________________________________________________________\n",
      "tdist_0 (TimeDistributed)       (None, None, 80)     400         input[0][0]                      \n",
      "__________________________________________________________________________________________________\n",
      "activation_28 (Activation)      (None, None, 80)     0           tdist_0[0][0]                    \n",
      "__________________________________________________________________________________________________\n",
      "tdist_1 (TimeDistributed)       (None, None, 40)     3240        activation_28[0][0]              \n",
      "__________________________________________________________________________________________________\n",
      "activation_29 (Activation)      (None, None, 40)     0           tdist_1[0][0]                    \n",
      "__________________________________________________________________________________________________\n",
      "tdist_2 (TimeDistributed)       (None, None, 40)     1640        activation_29[0][0]              \n",
      "__________________________________________________________________________________________________\n",
      "mask (Lambda)                   (None, None)         0           input[0][0]                      \n",
      "__________________________________________________________________________________________________\n",
      "activation_30 (Activation)      (None, None, 40)     0           tdist_2[0][0]                    \n",
      "__________________________________________________________________________________________________\n",
      "sum (Dot)                       (None, 40)           0           mask[0][0]                       \n",
      "                                                                 activation_30[0][0]              \n",
      "__________________________________________________________________________________________________\n",
      "dense_0 (Dense)                 (None, 80)           3280        sum[0][0]                        \n",
      "__________________________________________________________________________________________________\n",
      "activation_31 (Activation)      (None, 80)           0           dense_0[0][0]                    \n",
      "__________________________________________________________________________________________________\n",
      "dense_1 (Dense)                 (None, 40)           3240        activation_31[0][0]              \n",
      "__________________________________________________________________________________________________\n",
      "activation_32 (Activation)      (None, 40)           0           dense_1[0][0]                    \n",
      "__________________________________________________________________________________________________\n",
      "dense_2 (Dense)                 (None, 40)           1640        activation_32[0][0]              \n",
      "__________________________________________________________________________________________________\n",
      "activation_33 (Activation)      (None, 40)           0           dense_2[0][0]                    \n",
      "__________________________________________________________________________________________________\n",
      "output (Dense)                  (None, 2)            82          activation_33[0][0]              \n",
      "__________________________________________________________________________________________________\n",
      "activation_34 (Activation)      (None, 2)            0           output[0][0]                     \n",
      "==================================================================================================\n",
      "Total params: 13,522\n",
      "Trainable params: 13,522\n",
      "Non-trainable params: 0\n",
      "__________________________________________________________________________________________________\n",
      "----\n",
      "Beginning cycle 0\n",
      "Train on 121600 samples, validate on 30400 samples\n",
      "Epoch 1/3\n",
      "121600/121600 [==============================] - 10s 81us/step - loss: 0.6914 - acc: 0.5293 - val_loss: 0.6894 - val_acc: 0.5487\n",
      "Epoch 2/3\n",
      "121600/121600 [==============================] - 9s 74us/step - loss: 0.6901 - acc: 0.5359 - val_loss: 0.6891 - val_acc: 0.5465\n",
      "Epoch 3/3\n",
      "121600/121600 [==============================] - 9s 74us/step - loss: 0.6893 - acc: 0.5408 - val_loss: 0.6884 - val_acc: 0.5412\n",
      "----\n",
      "Beginning cycle 1\n",
      "Train on 121600 samples, validate on 30400 samples\n",
      "Epoch 1/3\n",
      "121600/121600 [==============================] - 9s 73us/step - loss: 0.6885 - acc: 0.5422 - val_loss: 0.6876 - val_acc: 0.5489\n",
      "Epoch 2/3\n",
      "121600/121600 [==============================] - 9s 74us/step - loss: 0.6884 - acc: 0.5403 - val_loss: 0.6919 - val_acc: 0.5278\n",
      "Epoch 3/3\n",
      "121600/121600 [==============================] - 9s 74us/step - loss: 0.6882 - acc: 0.5415 - val_loss: 0.6896 - val_acc: 0.5353\n",
      "----\n",
      "Beginning cycle 2\n",
      "Train on 121600 samples, validate on 30400 samples\n",
      "Epoch 1/3\n",
      "121600/121600 [==============================] - 9s 74us/step - loss: 0.6882 - acc: 0.5428 - val_loss: 0.6869 - val_acc: 0.5493\n",
      "Epoch 2/3\n",
      "121600/121600 [==============================] - 9s 74us/step - loss: 0.6879 - acc: 0.5431 - val_loss: 0.6875 - val_acc: 0.5474\n",
      "Epoch 3/3\n",
      "121600/121600 [==============================] - 9s 74us/step - loss: 0.6878 - acc: 0.5448 - val_loss: 0.6868 - val_acc: 0.5492\n"
     ]
    }
   ],
   "source": [
    "histories_4, Y_test_4, Y_predicts_4, model_4 = train_model(X_train, X_val, X_test, Y_train,Y_val,Y_test)"
   ]
  },
  {
   "cell_type": "code",
   "execution_count": 27,
   "metadata": {
    "ExecuteTime": {
     "end_time": "2020-11-30T23:41:23.940769Z",
     "start_time": "2020-11-30T23:41:23.711535Z"
    }
   },
   "outputs": [
    {
     "data": {
      "image/png": "[encoded data removed]",
      "text/plain": [
       "<Figure size 576x432 with 1 Axes>"
      ]
     },
     "metadata": {
      "needs_background": "light"
     },
     "output_type": "display_data"
    }
   ],
   "source": [
    "evaluate_model(histories_4, Y_test_4, Y_predicts_4)"
   ]
  },
  {
   "cell_type": "markdown",
   "metadata": {},
   "source": [
    "#### 4.1"
   ]
  },
  {
   "cell_type": "code",
   "execution_count": 17,
   "metadata": {
    "ExecuteTime": {
     "end_time": "2021-01-22T18:11:13.156486Z",
     "start_time": "2021-01-22T18:09:42.195765Z"
    }
   },
   "outputs": [
    {
     "name": "stdout",
     "output_type": "stream",
     "text": [
      "__________________________________________________________________________________________________\n",
      "Layer (type)                    Output Shape         Param #     Connected to                     \n",
      "==================================================================================================\n",
      "input (InputLayer)              (None, None, 4)      0                                            \n",
      "__________________________________________________________________________________________________\n",
      "tdist_0 (TimeDistributed)       (None, None, 80)     400         input[0][0]                      \n",
      "__________________________________________________________________________________________________\n",
      "activation_15 (Activation)      (None, None, 80)     0           tdist_0[0][0]                    \n",
      "__________________________________________________________________________________________________\n",
      "tdist_1 (TimeDistributed)       (None, None, 40)     3240        activation_15[0][0]              \n",
      "__________________________________________________________________________________________________\n",
      "activation_16 (Activation)      (None, None, 40)     0           tdist_1[0][0]                    \n",
      "__________________________________________________________________________________________________\n",
      "tdist_2 (TimeDistributed)       (None, None, 20)     820         activation_16[0][0]              \n",
      "__________________________________________________________________________________________________\n",
      "mask (Lambda)                   (None, None)         0           input[0][0]                      \n",
      "__________________________________________________________________________________________________\n",
      "activation_17 (Activation)      (None, None, 20)     0           tdist_2[0][0]                    \n",
      "__________________________________________________________________________________________________\n",
      "sum (Dot)                       (None, 20)           0           mask[0][0]                       \n",
      "                                                                 activation_17[0][0]              \n",
      "__________________________________________________________________________________________________\n",
      "dense_0 (Dense)                 (None, 50)           1050        sum[0][0]                        \n",
      "__________________________________________________________________________________________________\n",
      "activation_18 (Activation)      (None, 50)           0           dense_0[0][0]                    \n",
      "__________________________________________________________________________________________________\n",
      "dense_1 (Dense)                 (None, 40)           2040        activation_18[0][0]              \n",
      "__________________________________________________________________________________________________\n",
      "activation_19 (Activation)      (None, 40)           0           dense_1[0][0]                    \n",
      "__________________________________________________________________________________________________\n",
      "dense_2 (Dense)                 (None, 40)           1640        activation_19[0][0]              \n",
      "__________________________________________________________________________________________________\n",
      "activation_20 (Activation)      (None, 40)           0           dense_2[0][0]                    \n",
      "__________________________________________________________________________________________________\n",
      "output (Dense)                  (None, 2)            82          activation_20[0][0]              \n",
      "__________________________________________________________________________________________________\n",
      "activation_21 (Activation)      (None, 2)            0           output[0][0]                     \n",
      "==================================================================================================\n",
      "Total params: 9,272\n",
      "Trainable params: 9,272\n",
      "Non-trainable params: 0\n",
      "__________________________________________________________________________________________________\n",
      "----\n",
      "Beginning cycle 0\n",
      "Train on 121600 samples, validate on 30400 samples\n",
      "Epoch 1/3\n",
      "121600/121600 [==============================] - 10s 84us/step - loss: 0.6908 - acc: 0.5299 - val_loss: 0.6884 - val_acc: 0.5479\n",
      "Epoch 2/3\n",
      "121600/121600 [==============================] - 10s 80us/step - loss: 0.6890 - acc: 0.5397 - val_loss: 0.6887 - val_acc: 0.5409\n",
      "Epoch 3/3\n",
      "121600/121600 [==============================] - 10s 81us/step - loss: 0.6886 - acc: 0.5396 - val_loss: 0.6894 - val_acc: 0.5393\n",
      "----\n",
      "Beginning cycle 1\n",
      "Train on 121600 samples, validate on 30400 samples\n",
      "Epoch 1/3\n",
      "121600/121600 [==============================] - 10s 80us/step - loss: 0.6883 - acc: 0.5402 - val_loss: 0.6877 - val_acc: 0.5454\n",
      "Epoch 2/3\n",
      "121600/121600 [==============================] - 10s 81us/step - loss: 0.6880 - acc: 0.5425 - val_loss: 0.6897 - val_acc: 0.5387\n",
      "Epoch 3/3\n",
      "121600/121600 [==============================] - 10s 80us/step - loss: 0.6879 - acc: 0.5417 - val_loss: 0.6874 - val_acc: 0.5458\n",
      "----\n",
      "Beginning cycle 2\n",
      "Train on 121600 samples, validate on 30400 samples\n",
      "Epoch 1/3\n",
      "121600/121600 [==============================] - 10s 80us/step - loss: 0.6878 - acc: 0.5426 - val_loss: 0.6886 - val_acc: 0.5376\n",
      "Epoch 2/3\n",
      "121600/121600 [==============================] - 10s 80us/step - loss: 0.6876 - acc: 0.5443 - val_loss: 0.6892 - val_acc: 0.5386\n",
      "Epoch 3/3\n",
      "121600/121600 [==============================] - 10s 81us/step - loss: 0.6875 - acc: 0.5450 - val_loss: 0.6929 - val_acc: 0.5292\n"
     ]
    }
   ],
   "source": [
    "Phi_sizes, F_sizes = (80, 40, 20), (50,40,40)\n",
    "num_epoch = 3\n",
    "num_cycles = 3\n",
    "batch_size = 100\n",
    "histories_42, Y_test_42, Y_predicts_42, model_42 = train_model(X_train, X_val, X_test, Y_train,Y_val,Y_test)"
   ]
  },
  {
   "cell_type": "code",
   "execution_count": 18,
   "metadata": {
    "ExecuteTime": {
     "end_time": "2021-01-22T18:11:17.796550Z",
     "start_time": "2021-01-22T18:11:17.536928Z"
    }
   },
   "outputs": [
    {
     "data": {
      "image/png": "[encoded data removed]",
      "text/plain": [
       "<Figure size 576x432 with 1 Axes>"
      ]
     },
     "metadata": {
      "needs_background": "light"
     },
     "output_type": "display_data"
    }
   ],
   "source": [
    "evaluate_model(histories_42, Y_test_42, Y_predicts_42)"
   ]
  },
  {
   "cell_type": "code",
   "execution_count": 19,
   "metadata": {
    "ExecuteTime": {
     "end_time": "2021-01-22T18:11:21.950536Z",
     "start_time": "2021-01-22T18:11:21.754527Z"
    }
   },
   "outputs": [
    {
     "data": {
      "text/plain": [
       "Text(0.5, 1.0, 'ROC curve')"
      ]
     },
     "execution_count": 19,
     "metadata": {},
     "output_type": "execute_result"
    },
    {
     "data": {
      "image/png": "[encoded data removed]",
      "text/plain": [
       "<Figure size 432x288 with 1 Axes>"
      ]
     },
     "metadata": {
      "needs_background": "light"
     },
     "output_type": "display_data"
    }
   ],
   "source": [
    "import sklearn\n",
    "roc_curve = sklearn.metrics.roc_curve(Y_test_42[:,1:], Y_predicts_42[-1][:,1:])\n",
    "\n",
    "plt.plot(roc_curve[0],roc_curve[1])\n",
    "plt.xlabel('fpr')\n",
    "plt.ylabel('tpr')\n",
    "plt.title('ROC curve')"
   ]
  },
  {
   "cell_type": "code",
   "execution_count": 20,
   "metadata": {
    "ExecuteTime": {
     "end_time": "2021-01-22T18:11:25.291524Z",
     "start_time": "2021-01-22T18:11:25.118616Z"
    }
   },
   "outputs": [
    {
     "name": "stderr",
     "output_type": "stream",
     "text": [
      "/opt/anaconda3/envs/shared_env/lib/python3.6/site-packages/ipykernel_launcher.py:1: RuntimeWarning: divide by zero encountered in true_divide\n",
      "  \"\"\"Entry point for launching an IPython kernel.\n",
      "/opt/anaconda3/envs/shared_env/lib/python3.6/site-packages/ipykernel_launcher.py:1: RuntimeWarning: invalid value encountered in true_divide\n",
      "  \"\"\"Entry point for launching an IPython kernel.\n"
     ]
    },
    {
     "data": {
      "text/plain": [
       "Text(0.5, 1.0, 'ROC curve')"
      ]
     },
     "execution_count": 20,
     "metadata": {},
     "output_type": "execute_result"
    },
    {
     "data": {
      "image/png": "[encoded data removed]",
      "text/plain": [
       "<Figure size 432x288 with 1 Axes>"
      ]
     },
     "metadata": {
      "needs_background": "light"
     },
     "output_type": "display_data"
    }
   ],
   "source": [
    "plt.plot(roc_curve[1],roc_curve[1]/roc_curve[0]**0.5)\n",
    "plt.xlabel('tpr')\n",
    "plt.ylabel('tpr/fpr**0.5')\n",
    "plt.title('ROC curve')"
   ]
  },
  {
   "cell_type": "code",
   "execution_count": null,
   "metadata": {},
   "outputs": [],
   "source": [
    "Phi_sizes, F_sizes = (120, 60, 60), (120,60,60)\n",
    "num_epoch = 8\n",
    "num_cycles = 3\n",
    "batch_size = 100\n",
    "histories_42, Y_test_42, Y_predicts_42, model_42 = train_model(X_train, X_val, X_test, Y_train,Y_val,Y_test)"
   ]
  },
  {
   "cell_type": "markdown",
   "metadata": {},
   "source": [
    "#### Attempt 6: 1 percent siggggg"
   ]
  },
  {
   "cell_type": "code",
   "execution_count": 20,
   "metadata": {
    "ExecuteTime": {
     "end_time": "2020-12-04T09:18:36.020101Z",
     "start_time": "2020-12-04T09:17:48.433480Z"
    }
   },
   "outputs": [
    {
     "name": "stdout",
     "output_type": "stream",
     "text": [
      "Size of sb:\n",
      "(76000, 282, 4)\n",
      "Size of bgsig:\n",
      "(72200, 282, 4)\n",
      "Size of sig:\n",
      "(3800, 282, 4)\n",
      "Training set size, distribution:\n",
      "(121600, 282, 4)\n",
      "(array([0., 1.]), array([60706, 60894]))\n",
      "Validations set size, distribution:\n",
      "(30400, 282, 4)\n",
      "(array([0., 1.]), array([15294, 15106]))\n",
      "Test set size, distribution:\n",
      "(10000, 282, 4)\n",
      "(array([0., 1.]), array([5000, 5000]))\n"
     ]
    }
   ],
   "source": [
    "X_train, X_val, X_test, Y_train,Y_val,Y_test = prep_and_shufflesplit_data(0.05, use_pid=True, normalize_all=True)"
   ]
  },
  {
   "cell_type": "code",
   "execution_count": 21,
   "metadata": {
    "ExecuteTime": {
     "end_time": "2020-12-04T09:30:21.969663Z",
     "start_time": "2020-12-04T09:18:36.021892Z"
    }
   },
   "outputs": [
    {
     "name": "stdout",
     "output_type": "stream",
     "text": [
      "__________________________________________________________________________________________________\n",
      "Layer (type)                    Output Shape         Param #     Connected to                     \n",
      "==================================================================================================\n",
      "input (InputLayer)              (None, None, 4)      0                                            \n",
      "__________________________________________________________________________________________________\n",
      "tdist_0 (TimeDistributed)       (None, None, 80)     400         input[0][0]                      \n",
      "__________________________________________________________________________________________________\n",
      "activation_15 (Activation)      (None, None, 80)     0           tdist_0[0][0]                    \n",
      "__________________________________________________________________________________________________\n",
      "tdist_1 (TimeDistributed)       (None, None, 40)     3240        activation_15[0][0]              \n",
      "__________________________________________________________________________________________________\n",
      "activation_16 (Activation)      (None, None, 40)     0           tdist_1[0][0]                    \n",
      "__________________________________________________________________________________________________\n",
      "tdist_2 (TimeDistributed)       (None, None, 40)     1640        activation_16[0][0]              \n",
      "__________________________________________________________________________________________________\n",
      "mask (Lambda)                   (None, None)         0           input[0][0]                      \n",
      "__________________________________________________________________________________________________\n",
      "activation_17 (Activation)      (None, None, 40)     0           tdist_2[0][0]                    \n",
      "__________________________________________________________________________________________________\n",
      "sum (Dot)                       (None, 40)           0           mask[0][0]                       \n",
      "                                                                 activation_17[0][0]              \n",
      "__________________________________________________________________________________________________\n",
      "dense_0 (Dense)                 (None, 80)           3280        sum[0][0]                        \n",
      "__________________________________________________________________________________________________\n",
      "activation_18 (Activation)      (None, 80)           0           dense_0[0][0]                    \n",
      "__________________________________________________________________________________________________\n",
      "dense_1 (Dense)                 (None, 60)           4860        activation_18[0][0]              \n",
      "__________________________________________________________________________________________________\n",
      "activation_19 (Activation)      (None, 60)           0           dense_1[0][0]                    \n",
      "__________________________________________________________________________________________________\n",
      "dense_2 (Dense)                 (None, 60)           3660        activation_19[0][0]              \n",
      "__________________________________________________________________________________________________\n",
      "activation_20 (Activation)      (None, 60)           0           dense_2[0][0]                    \n",
      "__________________________________________________________________________________________________\n",
      "output (Dense)                  (None, 2)            122         activation_20[0][0]              \n",
      "__________________________________________________________________________________________________\n",
      "activation_21 (Activation)      (None, 2)            0           output[0][0]                     \n",
      "==================================================================================================\n",
      "Total params: 17,202\n",
      "Trainable params: 17,202\n",
      "Non-trainable params: 0\n",
      "__________________________________________________________________________________________________\n",
      "----\n",
      "Beginning cycle 0\n",
      "Train on 121600 samples, validate on 30400 samples\n",
      "Epoch 1/3\n",
      "121600/121600 [==============================] - 79s 649us/step - loss: 0.6905 - acc: 0.5334 - val_loss: 0.6885 - val_acc: 0.5398\n",
      "Epoch 2/3\n",
      "121600/121600 [==============================] - 78s 641us/step - loss: 0.6884 - acc: 0.5419 - val_loss: 0.6906 - val_acc: 0.5364\n",
      "Epoch 3/3\n",
      "121600/121600 [==============================] - 78s 641us/step - loss: 0.6880 - acc: 0.5436 - val_loss: 0.6885 - val_acc: 0.5438\n",
      "----\n",
      "Beginning cycle 1\n",
      "Train on 121600 samples, validate on 30400 samples\n",
      "Epoch 1/3\n",
      "121600/121600 [==============================] - 78s 642us/step - loss: 0.6878 - acc: 0.5439 - val_loss: 0.6876 - val_acc: 0.5432\n",
      "Epoch 2/3\n",
      "121600/121600 [==============================] - 78s 642us/step - loss: 0.6878 - acc: 0.5441 - val_loss: 0.6926 - val_acc: 0.5266\n",
      "Epoch 3/3\n",
      "121600/121600 [==============================] - 78s 643us/step - loss: 0.6875 - acc: 0.5445 - val_loss: 0.6887 - val_acc: 0.5422\n",
      "----\n",
      "Beginning cycle 2\n",
      "Train on 121600 samples, validate on 30400 samples\n",
      "Epoch 1/3\n",
      "121600/121600 [==============================] - 78s 641us/step - loss: 0.6876 - acc: 0.5446 - val_loss: 0.6877 - val_acc: 0.5412\n",
      "Epoch 2/3\n",
      "121600/121600 [==============================] - 78s 641us/step - loss: 0.6875 - acc: 0.5455 - val_loss: 0.6881 - val_acc: 0.5428\n",
      "Epoch 3/3\n",
      "121600/121600 [==============================] - 78s 643us/step - loss: 0.6873 - acc: 0.5459 - val_loss: 0.6875 - val_acc: 0.5455\n"
     ]
    }
   ],
   "source": [
    "Phi_sizes, F_sizes = (80, 40, 40), (80,60,60)\n",
    "num_epoch = 3\n",
    "num_cycles = 3\n",
    "batch_size = 10\n",
    "histories_61, Y_test_61, Y_predicts_61, model_61 = train_model(X_train, X_val, X_test, Y_train,Y_val,Y_test)"
   ]
  },
  {
   "cell_type": "code",
   "execution_count": 23,
   "metadata": {
    "ExecuteTime": {
     "end_time": "2020-12-04T09:49:16.986606Z",
     "start_time": "2020-12-04T09:49:16.686209Z"
    }
   },
   "outputs": [
    {
     "data": {
      "image/png": "[encoded data removed]",
      "text/plain": [
       "<Figure size 576x432 with 1 Axes>"
      ]
     },
     "metadata": {
      "needs_background": "light"
     },
     "output_type": "display_data"
    }
   ],
   "source": [
    "evaluate_model(histories_61, Y_test_61, Y_predicts_61)"
   ]
  },
  {
   "cell_type": "code",
   "execution_count": 24,
   "metadata": {
    "ExecuteTime": {
     "end_time": "2020-12-04T18:07:44.567712Z",
     "start_time": "2020-12-04T18:07:44.412316Z"
    }
   },
   "outputs": [
    {
     "data": {
      "text/plain": [
       "Text(0.5, 1.0, 'ROC curve')"
      ]
     },
     "execution_count": 24,
     "metadata": {},
     "output_type": "execute_result"
    },
    {
     "data": {
      "image/png": "[encoded data removed]",
      "text/plain": [
       "<Figure size 432x288 with 1 Axes>"
      ]
     },
     "metadata": {
      "needs_background": "light"
     },
     "output_type": "display_data"
    }
   ],
   "source": [
    "roc_curve = sklearn.metrics.roc_curve(Y_test_61[:,1:], Y_predicts_61[-1][:,1:])\n",
    "\n",
    "plt.plot(roc_curve[0],roc_curve[1])\n",
    "plt.xlabel('fpr')\n",
    "plt.ylabel('tpr')\n",
    "plt.title('ROC curve')"
   ]
  },
  {
   "cell_type": "code",
   "execution_count": 25,
   "metadata": {
    "ExecuteTime": {
     "end_time": "2020-12-04T18:07:45.782537Z",
     "start_time": "2020-12-04T18:07:45.636672Z"
    }
   },
   "outputs": [
    {
     "name": "stderr",
     "output_type": "stream",
     "text": [
      "/opt/anaconda3/envs/shared_env/lib/python3.6/site-packages/ipykernel_launcher.py:1: RuntimeWarning: invalid value encountered in true_divide\n",
      "  \"\"\"Entry point for launching an IPython kernel.\n"
     ]
    },
    {
     "data": {
      "text/plain": [
       "Text(0.5, 1.0, 'ROC curve')"
      ]
     },
     "execution_count": 25,
     "metadata": {},
     "output_type": "execute_result"
    },
    {
     "data": {
      "image/png": "[encoded data removed]",
      "text/plain": [
       "<Figure size 432x288 with 1 Axes>"
      ]
     },
     "metadata": {
      "needs_background": "light"
     },
     "output_type": "display_data"
    }
   ],
   "source": [
    "plt.plot(roc_curve[1],roc_curve[1]/roc_curve[0]**0.5)\n",
    "plt.xlabel('tpr')\n",
    "plt.ylabel('tpr/fpr**0.5')\n",
    "plt.title('ROC curve')"
   ]
  },
  {
   "cell_type": "markdown",
   "metadata": {},
   "source": [
    "#### Attempt 5: 90 signal"
   ]
  },
  {
   "cell_type": "code",
   "execution_count": 16,
   "metadata": {
    "ExecuteTime": {
     "end_time": "2020-11-30T23:08:53.738089Z",
     "start_time": "2020-11-30T23:08:17.364261Z"
    }
   },
   "outputs": [
    {
     "name": "stdout",
     "output_type": "stream",
     "text": [
      "Size of sb:\n",
      "(76000, 282, 4)\n",
      "Size of bgsig:\n",
      "(7600, 282, 4)\n",
      "Size of sig:\n",
      "(68400, 282, 4)\n",
      "Training set size, distribution:\n",
      "(121600, 282, 4)\n",
      "(array([0., 1.]), array([60931, 60669]))\n",
      "Validations set size, distribution:\n",
      "(30400, 282, 4)\n",
      "(array([0., 1.]), array([15069, 15331]))\n",
      "Test set size, distribution:\n",
      "(10000, 282, 4)\n",
      "(array([0., 1.]), array([5000, 5000]))\n"
     ]
    }
   ],
   "source": [
    "X_train, X_val, X_test, Y_train,Y_val,Y_test = prep_and_shufflesplit_data(0.9, use_pid = True, normalize_all=True)"
   ]
  },
  {
   "cell_type": "code",
   "execution_count": 17,
   "metadata": {
    "ExecuteTime": {
     "end_time": "2020-11-30T23:14:26.174201Z",
     "start_time": "2020-11-30T23:08:53.740045Z"
    }
   },
   "outputs": [
    {
     "name": "stdout",
     "output_type": "stream",
     "text": [
      "__________________________________________________________________________________________________\n",
      "Layer (type)                    Output Shape         Param #     Connected to                     \n",
      "==================================================================================================\n",
      "input (InputLayer)              (None, None, 4)      0                                            \n",
      "__________________________________________________________________________________________________\n",
      "tdist_0 (TimeDistributed)       (None, None, 40)     200         input[0][0]                      \n",
      "__________________________________________________________________________________________________\n",
      "activation_7 (Activation)       (None, None, 40)     0           tdist_0[0][0]                    \n",
      "__________________________________________________________________________________________________\n",
      "tdist_1 (TimeDistributed)       (None, None, 20)     820         activation_7[0][0]               \n",
      "__________________________________________________________________________________________________\n",
      "activation_8 (Activation)       (None, None, 20)     0           tdist_1[0][0]                    \n",
      "__________________________________________________________________________________________________\n",
      "tdist_2 (TimeDistributed)       (None, None, 12)     252         activation_8[0][0]               \n",
      "__________________________________________________________________________________________________\n",
      "mask (Lambda)                   (None, None)         0           input[0][0]                      \n",
      "__________________________________________________________________________________________________\n",
      "activation_9 (Activation)       (None, None, 12)     0           tdist_2[0][0]                    \n",
      "__________________________________________________________________________________________________\n",
      "sum (Dot)                       (None, 12)           0           mask[0][0]                       \n",
      "                                                                 activation_9[0][0]               \n",
      "__________________________________________________________________________________________________\n",
      "dense_0 (Dense)                 (None, 40)           520         sum[0][0]                        \n",
      "__________________________________________________________________________________________________\n",
      "activation_10 (Activation)      (None, 40)           0           dense_0[0][0]                    \n",
      "__________________________________________________________________________________________________\n",
      "dense_1 (Dense)                 (None, 20)           820         activation_10[0][0]              \n",
      "__________________________________________________________________________________________________\n",
      "activation_11 (Activation)      (None, 20)           0           dense_1[0][0]                    \n",
      "__________________________________________________________________________________________________\n",
      "output (Dense)                  (None, 2)            42          activation_11[0][0]              \n",
      "__________________________________________________________________________________________________\n",
      "activation_12 (Activation)      (None, 2)            0           output[0][0]                     \n",
      "==================================================================================================\n",
      "Total params: 2,654\n",
      "Trainable params: 2,654\n",
      "Non-trainable params: 0\n",
      "__________________________________________________________________________________________________\n",
      "----\n",
      "Beginning cycle 0\n",
      "Train on 121600 samples, validate on 30400 samples\n",
      "Epoch 1/3\n",
      "121600/121600 [==============================] - 37s 306us/step - loss: 0.6058 - acc: 0.6856 - val_loss: 0.5835 - val_acc: 0.7052\n",
      "Epoch 2/3\n",
      "121600/121600 [==============================] - 37s 302us/step - loss: 0.5802 - acc: 0.7013 - val_loss: 0.5840 - val_acc: 0.6912\n",
      "Epoch 3/3\n",
      "121600/121600 [==============================] - 37s 302us/step - loss: 0.5773 - acc: 0.7016 - val_loss: 0.5725 - val_acc: 0.7060\n",
      "----\n",
      "Beginning cycle 1\n",
      "Train on 121600 samples, validate on 30400 samples\n",
      "Epoch 1/3\n",
      "121600/121600 [==============================] - 37s 301us/step - loss: 0.5766 - acc: 0.7030 - val_loss: 0.5745 - val_acc: 0.7058\n",
      "Epoch 2/3\n",
      "121600/121600 [==============================] - 37s 302us/step - loss: 0.5765 - acc: 0.7031 - val_loss: 0.5729 - val_acc: 0.7070\n",
      "Epoch 3/3\n",
      "121600/121600 [==============================] - 36s 300us/step - loss: 0.5763 - acc: 0.7028 - val_loss: 0.5744 - val_acc: 0.7057\n",
      "----\n",
      "Beginning cycle 2\n",
      "Train on 121600 samples, validate on 30400 samples\n",
      "Epoch 1/3\n",
      "121600/121600 [==============================] - 36s 300us/step - loss: 0.5760 - acc: 0.7043 - val_loss: 0.5714 - val_acc: 0.7081\n",
      "Epoch 2/3\n",
      "121600/121600 [==============================] - 37s 301us/step - loss: 0.5761 - acc: 0.7042 - val_loss: 0.5719 - val_acc: 0.7072\n",
      "Epoch 3/3\n",
      "121600/121600 [==============================] - 37s 301us/step - loss: 0.5757 - acc: 0.7032 - val_loss: 0.5720 - val_acc: 0.7072\n"
     ]
    }
   ],
   "source": [
    "histories_5, Y_test_5, Y_predicts_5, model_5 = train_model(X_train, X_val, X_test, Y_train,Y_val,Y_test)"
   ]
  },
  {
   "cell_type": "code",
   "execution_count": 18,
   "metadata": {
    "ExecuteTime": {
     "end_time": "2020-11-30T23:14:26.403964Z",
     "start_time": "2020-11-30T23:14:26.176954Z"
    }
   },
   "outputs": [
    {
     "data": {
      "image/png": "[encoded data removed]",
      "text/plain": [
       "<Figure size 576x432 with 1 Axes>"
      ]
     },
     "metadata": {
      "needs_background": "light"
     },
     "output_type": "display_data"
    }
   ],
   "source": [
    "evaluate_model(histories_5, Y_test_5, Y_predicts_5)"
   ]
  },
  {
   "cell_type": "code",
   "execution_count": null,
   "metadata": {},
   "outputs": [],
   "source": []
  }
 ],
 "metadata": {
  "kernelspec": {
   "display_name": "Python 3",
   "language": "python",
   "name": "python3"
  },
  "language_info": {
   "codemirror_mode": {
    "name": "ipython",
    "version": 3
   },
   "file_extension": ".py",
   "mimetype": "text/x-python",
   "name": "python",
   "nbconvert_exporter": "python",
   "pygments_lexer": "ipython3",
   "version": "3.6.5"
  }
 },
 "nbformat": 4,
 "nbformat_minor": 4
}
